{
 "cells": [
  {
   "cell_type": "code",
   "execution_count": 66,
   "id": "2d17ea9e",
   "metadata": {},
   "outputs": [],
   "source": [
    "import pandas as pd\n",
    "import numpy as np\n",
    "import torch \n",
    "import matplotlib.pyplot as plt\n",
    "import seaborn as sns\n",
    "from datetime import datetime\n",
    "from torch.utils.data import DataLoader\n",
    "import torch.nn as nn\n",
    "import torch.optim as optim\n",
    "import numpy as np\n",
    "from sklearn.model_selection import TimeSeriesSplit\n",
    "import prelim_process_df\n",
    "from datetime import timedelta, datetime\n",
    "from tqdm.notebook import tqdm\n",
    "from torch.utils.data import Dataset, DataLoader\n",
    "import torch.nn.functional as F"
   ]
  },
  {
   "cell_type": "code",
   "execution_count": 11,
   "id": "e5b653dc",
   "metadata": {},
   "outputs": [],
   "source": [
    "df_abes_cls = pd.read_csv('../../../data/data_for_models/lstm_30m.csv',parse_dates = True,index_col = 'datetime')"
   ]
  },
  {
   "cell_type": "code",
   "execution_count": 12,
   "id": "ded2dcde",
   "metadata": {},
   "outputs": [
    {
     "data": {
      "text/html": [
       "<div>\n",
       "<style scoped>\n",
       "    .dataframe tbody tr th:only-of-type {\n",
       "        vertical-align: middle;\n",
       "    }\n",
       "\n",
       "    .dataframe tbody tr th {\n",
       "        vertical-align: top;\n",
       "    }\n",
       "\n",
       "    .dataframe thead th {\n",
       "        text-align: right;\n",
       "    }\n",
       "</style>\n",
       "<table border=\"1\" class=\"dataframe\">\n",
       "  <thead>\n",
       "    <tr style=\"text-align: right;\">\n",
       "      <th></th>\n",
       "      <th>close_avax</th>\n",
       "      <th>volume_avax</th>\n",
       "      <th>vol_usdt_K_avax</th>\n",
       "      <th>close_eth</th>\n",
       "      <th>volume_eth</th>\n",
       "      <th>vol_usdt_K_eth</th>\n",
       "      <th>close_btc</th>\n",
       "      <th>volume_btc</th>\n",
       "      <th>vol_usdt_K_btc</th>\n",
       "      <th>close_sol</th>\n",
       "      <th>volume_sol</th>\n",
       "      <th>vol_usdt_K_sol</th>\n",
       "    </tr>\n",
       "    <tr>\n",
       "      <th>datetime</th>\n",
       "      <th></th>\n",
       "      <th></th>\n",
       "      <th></th>\n",
       "      <th></th>\n",
       "      <th></th>\n",
       "      <th></th>\n",
       "      <th></th>\n",
       "      <th></th>\n",
       "      <th></th>\n",
       "      <th></th>\n",
       "      <th></th>\n",
       "      <th></th>\n",
       "    </tr>\n",
       "  </thead>\n",
       "  <tbody>\n",
       "    <tr>\n",
       "      <th>2020-09-22 15:30:00</th>\n",
       "      <td>4.8811</td>\n",
       "      <td>2808316.25</td>\n",
       "      <td>13498.099902</td>\n",
       "      <td>342.05</td>\n",
       "      <td>20140.99740</td>\n",
       "      <td>6886.245163</td>\n",
       "      <td>10423.27</td>\n",
       "      <td>1305.659365</td>\n",
       "      <td>13609.113154</td>\n",
       "      <td>2.8000</td>\n",
       "      <td>61420.44</td>\n",
       "      <td>172.465165</td>\n",
       "    </tr>\n",
       "    <tr>\n",
       "      <th>2020-09-22 16:00:00</th>\n",
       "      <td>4.9312</td>\n",
       "      <td>1914636.29</td>\n",
       "      <td>9136.249619</td>\n",
       "      <td>339.99</td>\n",
       "      <td>23133.33317</td>\n",
       "      <td>7898.110882</td>\n",
       "      <td>10412.11</td>\n",
       "      <td>1147.850269</td>\n",
       "      <td>11969.341525</td>\n",
       "      <td>2.7540</td>\n",
       "      <td>53219.28</td>\n",
       "      <td>148.122713</td>\n",
       "    </tr>\n",
       "    <tr>\n",
       "      <th>2020-09-22 16:30:00</th>\n",
       "      <td>4.9096</td>\n",
       "      <td>1256377.31</td>\n",
       "      <td>6213.493286</td>\n",
       "      <td>336.12</td>\n",
       "      <td>48515.72194</td>\n",
       "      <td>16362.884815</td>\n",
       "      <td>10372.90</td>\n",
       "      <td>1801.381449</td>\n",
       "      <td>18703.921799</td>\n",
       "      <td>2.6728</td>\n",
       "      <td>158269.17</td>\n",
       "      <td>425.511003</td>\n",
       "    </tr>\n",
       "    <tr>\n",
       "      <th>2020-09-22 17:00:00</th>\n",
       "      <td>5.3951</td>\n",
       "      <td>1100528.85</td>\n",
       "      <td>5757.581164</td>\n",
       "      <td>339.58</td>\n",
       "      <td>32510.29604</td>\n",
       "      <td>11019.057797</td>\n",
       "      <td>10429.77</td>\n",
       "      <td>1388.738454</td>\n",
       "      <td>14468.525827</td>\n",
       "      <td>2.8134</td>\n",
       "      <td>267098.29</td>\n",
       "      <td>742.661738</td>\n",
       "    </tr>\n",
       "    <tr>\n",
       "      <th>2020-09-22 17:30:00</th>\n",
       "      <td>6.8219</td>\n",
       "      <td>2783452.58</td>\n",
       "      <td>17595.535036</td>\n",
       "      <td>342.11</td>\n",
       "      <td>23494.62347</td>\n",
       "      <td>8002.336092</td>\n",
       "      <td>10463.18</td>\n",
       "      <td>1288.599265</td>\n",
       "      <td>13468.384675</td>\n",
       "      <td>2.7602</td>\n",
       "      <td>95408.49</td>\n",
       "      <td>263.655611</td>\n",
       "    </tr>\n",
       "  </tbody>\n",
       "</table>\n",
       "</div>"
      ],
      "text/plain": [
       "                     close_avax  volume_avax  vol_usdt_K_avax  close_eth  \\\n",
       "datetime                                                                   \n",
       "2020-09-22 15:30:00      4.8811   2808316.25     13498.099902     342.05   \n",
       "2020-09-22 16:00:00      4.9312   1914636.29      9136.249619     339.99   \n",
       "2020-09-22 16:30:00      4.9096   1256377.31      6213.493286     336.12   \n",
       "2020-09-22 17:00:00      5.3951   1100528.85      5757.581164     339.58   \n",
       "2020-09-22 17:30:00      6.8219   2783452.58     17595.535036     342.11   \n",
       "\n",
       "                      volume_eth  vol_usdt_K_eth  close_btc   volume_btc  \\\n",
       "datetime                                                                   \n",
       "2020-09-22 15:30:00  20140.99740     6886.245163   10423.27  1305.659365   \n",
       "2020-09-22 16:00:00  23133.33317     7898.110882   10412.11  1147.850269   \n",
       "2020-09-22 16:30:00  48515.72194    16362.884815   10372.90  1801.381449   \n",
       "2020-09-22 17:00:00  32510.29604    11019.057797   10429.77  1388.738454   \n",
       "2020-09-22 17:30:00  23494.62347     8002.336092   10463.18  1288.599265   \n",
       "\n",
       "                     vol_usdt_K_btc  close_sol  volume_sol  vol_usdt_K_sol  \n",
       "datetime                                                                    \n",
       "2020-09-22 15:30:00    13609.113154     2.8000    61420.44      172.465165  \n",
       "2020-09-22 16:00:00    11969.341525     2.7540    53219.28      148.122713  \n",
       "2020-09-22 16:30:00    18703.921799     2.6728   158269.17      425.511003  \n",
       "2020-09-22 17:00:00    14468.525827     2.8134   267098.29      742.661738  \n",
       "2020-09-22 17:30:00    13468.384675     2.7602    95408.49      263.655611  "
      ]
     },
     "execution_count": 12,
     "metadata": {},
     "output_type": "execute_result"
    }
   ],
   "source": [
    "df_abes_cls.head()"
   ]
  },
  {
   "cell_type": "code",
   "execution_count": 13,
   "id": "d981e352",
   "metadata": {},
   "outputs": [],
   "source": [
    "def get_labels(df,c,days): \n",
    "    \n",
    "    l = df.index\n",
    "    final_id = l[-1]\n",
    "    \n",
    "    labels = {}\n",
    "   \n",
    "    for x in l:\n",
    "        tmp1 = x + timedelta(days = days)\n",
    "        if tmp1 < final_id:\n",
    "            if (df.loc[tmp1][c] - df.loc[x][c])/(df.loc[x][c] + 0.00001) > 0.05:\n",
    "                labels[x] = 1\n",
    "            else:\n",
    "                labels[x] = 0\n",
    "        else:\n",
    "            labels[x] = -1\n",
    "    return(labels)        "
   ]
  },
  {
   "cell_type": "code",
   "execution_count": 14,
   "id": "8941a459",
   "metadata": {},
   "outputs": [],
   "source": [
    "df_abes_cls_labels = df_abes_cls.copy()"
   ]
  },
  {
   "cell_type": "code",
   "execution_count": 16,
   "id": "8f7ac056",
   "metadata": {},
   "outputs": [
    {
     "data": {
      "application/vnd.jupyter.widget-view+json": {
       "model_id": "5107135f5de4439aa49f333fd9b68b76",
       "version_major": 2,
       "version_minor": 0
      },
      "text/plain": [
       "  0%|          | 0/12 [00:00<?, ?it/s]"
      ]
     },
     "metadata": {},
     "output_type": "display_data"
    }
   ],
   "source": [
    "for c in tqdm(df_abes_cls_labels.columns):\n",
    "    if c[:3] == 'clo':\n",
    "        for i in [1,2,3]:\n",
    "            a_tmp = pd.Series(get_labels(df_abes_cls_labels,c,i))\n",
    "            c_tmp = c.split('close_')[1] + '_label_' + str(i)\n",
    "            df_abes_cls_labels[c_tmp] = a_tmp "
   ]
  },
  {
   "cell_type": "code",
   "execution_count": 45,
   "id": "1a12857e",
   "metadata": {},
   "outputs": [],
   "source": [
    "t = df_abes_cls.iloc[0:60,:].values.astype(float)"
   ]
  },
  {
   "cell_type": "code",
   "execution_count": 46,
   "id": "d146e94e",
   "metadata": {},
   "outputs": [
    {
     "data": {
      "text/plain": [
       "(60, 12)"
      ]
     },
     "execution_count": 46,
     "metadata": {},
     "output_type": "execute_result"
    }
   ],
   "source": [
    "t.shape"
   ]
  },
  {
   "cell_type": "code",
   "execution_count": 47,
   "id": "8e06f13a",
   "metadata": {},
   "outputs": [],
   "source": [
    "m = nn.Linear(12,16)"
   ]
  },
  {
   "cell_type": "code",
   "execution_count": 48,
   "id": "80d3f9df",
   "metadata": {},
   "outputs": [],
   "source": [
    "t1 = (torch.tensor(t))"
   ]
  },
  {
   "cell_type": "code",
   "execution_count": 49,
   "id": "d723793a",
   "metadata": {},
   "outputs": [],
   "source": [
    "x = m(t1.float())"
   ]
  },
  {
   "cell_type": "code",
   "execution_count": 52,
   "id": "1844fbc6",
   "metadata": {},
   "outputs": [
    {
     "data": {
      "text/plain": [
       "torch.Size([60, 16])"
      ]
     },
     "execution_count": 52,
     "metadata": {},
     "output_type": "execute_result"
    }
   ],
   "source": [
    "x.size()"
   ]
  },
  {
   "cell_type": "code",
   "execution_count": 50,
   "id": "b955186f",
   "metadata": {},
   "outputs": [
    {
     "data": {
      "text/plain": [
       "torch.Size([60, 1, 16])"
      ]
     },
     "execution_count": 50,
     "metadata": {},
     "output_type": "execute_result"
    }
   ],
   "source": [
    "x.view(-1,1,16).size()"
   ]
  },
  {
   "cell_type": "code",
   "execution_count": null,
   "id": "cca39b8d",
   "metadata": {},
   "outputs": [],
   "source": []
  },
  {
   "cell_type": "code",
   "execution_count": null,
   "id": "d1a9c34c",
   "metadata": {},
   "outputs": [],
   "source": []
  },
  {
   "cell_type": "code",
   "execution_count": null,
   "id": "e4d5d32f",
   "metadata": {},
   "outputs": [],
   "source": []
  },
  {
   "cell_type": "code",
   "execution_count": null,
   "id": "99694a12",
   "metadata": {},
   "outputs": [],
   "source": [
    "\"\"\"\n",
    "df - dataframe with input variables,\n",
    "labels - dataframe with output labels\n",
    "\n",
    "\n",
    "\"\"\"\n",
    "\n",
    "class lstm_dataset(Dataset):\n",
    "    \n",
    "    def __init__(self,df,labels):\n",
    "        self.X = df.values\n",
    "        self.labels = labels.values\n",
    "        \n",
    "    def __len__(self):\n",
    "        return(len(self.X))\n",
    "        \n",
    "    def __getitem__(self,idx):    \n",
    "        return(torch.tensor(self.X[idx]),torch.tensor(self.labels[idx]))"
   ]
  },
  {
   "cell_type": "code",
   "execution_count": null,
   "id": "60a007db",
   "metadata": {},
   "outputs": [],
   "source": [
    "train_dataloader = DataLoader(dset, batch_size=64, shuffle= False)"
   ]
  },
  {
   "cell_type": "code",
   "execution_count": null,
   "id": "ab33d8b2",
   "metadata": {},
   "outputs": [],
   "source": []
  },
  {
   "cell_type": "code",
   "execution_count": 120,
   "id": "a9831167",
   "metadata": {},
   "outputs": [],
   "source": [
    "class LSTMpricepred(nn.Module):\n",
    "\n",
    "    def __init__(self,input_dim, embedding_dim, hidden_dim, look_back):\n",
    "        super(LSTMpricepred, self).__init__()\n",
    "        self.hidden_dim = hidden_dim\n",
    "        self.look_back = look_back\n",
    "        self.linear_layer = nn.Linear(input_dim, embedding_dim)\n",
    "\n",
    "        # The LSTM takes linear representations of each element of the input sequence, and outputs hidden states\n",
    "        # with dimensionality hidden_dim.\n",
    "        self.lstm = nn.LSTM(embedding_dim, hidden_dim)\n",
    "\n",
    "        # The linear layer that maps from hidden state space to tag space\n",
    "        self.hidden2out = nn.Linear(hidden_dim,4)\n",
    "        self.sigmoid = nn.Sigmoid()\n",
    "\n",
    "    def forward(self, seq):\n",
    "        embeds = self.linear_layer(seq)\n",
    "        lstm_out = self.lstm(embeds.view(self.look_back, 1, -1))\n",
    "        rep_space = self.hidden2out(lstm_out[1][0].view(hidden_dim))\n",
    "        scores = self.sigmoid(rep_space)\n",
    "        return scores"
   ]
  },
  {
   "cell_type": "code",
   "execution_count": 121,
   "id": "ec3e05ac",
   "metadata": {},
   "outputs": [],
   "source": [
    "input_dim = 12\n",
    "embedding_dim = 16\n",
    "hidden_dim = 32\n",
    "look_back = 60\n",
    "\n",
    "\n",
    "\n",
    "model = LSTMpricepred(input_dim, embedding_dim, hidden_dim, look_back)"
   ]
  },
  {
   "cell_type": "code",
   "execution_count": 122,
   "id": "ebd9424b",
   "metadata": {},
   "outputs": [
    {
     "data": {
      "text/plain": [
       "tensor([0.4167, 0.6128, 0.4551, 0.4443], grad_fn=<SigmoidBackward0>)"
      ]
     },
     "execution_count": 122,
     "metadata": {},
     "output_type": "execute_result"
    }
   ],
   "source": [
    "model(t1.float())"
   ]
  },
  {
   "cell_type": "code",
   "execution_count": null,
   "id": "2372d4ff",
   "metadata": {},
   "outputs": [],
   "source": []
  },
  {
   "cell_type": "code",
   "execution_count": null,
   "id": "6ad8a1f6",
   "metadata": {},
   "outputs": [],
   "source": []
  },
  {
   "cell_type": "code",
   "execution_count": 87,
   "id": "7975c7e7",
   "metadata": {},
   "outputs": [],
   "source": [
    "ll = nn.Linear(input_dim,embedding_dim)\n",
    "lstm = nn.LSTM(embedding_dim,hidden_dim)"
   ]
  },
  {
   "cell_type": "code",
   "execution_count": 88,
   "id": "27c18dc5",
   "metadata": {},
   "outputs": [],
   "source": [
    "t2 = ll(t1)"
   ]
  },
  {
   "cell_type": "code",
   "execution_count": 89,
   "id": "7c6f2a3b",
   "metadata": {},
   "outputs": [
    {
     "data": {
      "text/plain": [
       "torch.Size([60, 16])"
      ]
     },
     "execution_count": 89,
     "metadata": {},
     "output_type": "execute_result"
    }
   ],
   "source": [
    "t2.shape"
   ]
  },
  {
   "cell_type": "code",
   "execution_count": 90,
   "id": "d54c1d4a",
   "metadata": {},
   "outputs": [],
   "source": [
    "t22 = t2.view(60,1,-1)"
   ]
  },
  {
   "cell_type": "code",
   "execution_count": 92,
   "id": "39c43f29",
   "metadata": {},
   "outputs": [],
   "source": [
    "t3 = lstm(t22)"
   ]
  },
  {
   "cell_type": "code",
   "execution_count": 93,
   "id": "bbe3247c",
   "metadata": {},
   "outputs": [
    {
     "data": {
      "text/plain": [
       "torch.Size([60, 1, 32])"
      ]
     },
     "execution_count": 93,
     "metadata": {},
     "output_type": "execute_result"
    }
   ],
   "source": [
    "t3[0].size()"
   ]
  },
  {
   "cell_type": "code",
   "execution_count": 97,
   "id": "3b0c78e5",
   "metadata": {},
   "outputs": [
    {
     "data": {
      "text/plain": [
       "tensor([[ 0.7616,  1.0000,  0.0000,  0.0000,  0.0000,  0.0000, -0.7616,  0.0000,\n",
       "          0.0000,  0.0000,  1.0000,  1.0000,  0.0000,  0.0000, -0.7616, -1.0000,\n",
       "         -0.0000, -0.0000, -0.0000,  0.0000,  0.0000,  0.0000,  0.0000,  0.0000,\n",
       "         -0.7616, -0.0000,  0.0000,  0.0000,  0.0000, -0.0000,  0.0000,  1.0000]],\n",
       "       grad_fn=<SelectBackward0>)"
      ]
     },
     "execution_count": 97,
     "metadata": {},
     "output_type": "execute_result"
    }
   ],
   "source": [
    "t3[0][-1]"
   ]
  },
  {
   "cell_type": "code",
   "execution_count": 102,
   "id": "d9bec2c1",
   "metadata": {},
   "outputs": [
    {
     "data": {
      "text/plain": [
       "torch.Size([32])"
      ]
     },
     "execution_count": 102,
     "metadata": {},
     "output_type": "execute_result"
    }
   ],
   "source": [
    "t3[1][0].view(32).size()"
   ]
  },
  {
   "cell_type": "code",
   "execution_count": 103,
   "id": "ca9da029",
   "metadata": {},
   "outputs": [],
   "source": [
    "ll2 = nn.Linear(32,4)"
   ]
  },
  {
   "cell_type": "code",
   "execution_count": 105,
   "id": "550cce8b",
   "metadata": {},
   "outputs": [],
   "source": [
    "t4 = ll2(t3[1][0].view(32))"
   ]
  },
  {
   "cell_type": "code",
   "execution_count": 111,
   "id": "d6ae79db",
   "metadata": {},
   "outputs": [],
   "source": [
    "s = nn.Sigmoid()"
   ]
  },
  {
   "cell_type": "code",
   "execution_count": 112,
   "id": "6316d3d5",
   "metadata": {},
   "outputs": [
    {
     "data": {
      "text/plain": [
       "tensor([0.5540, 0.4644, 0.5421, 0.4023], grad_fn=<SigmoidBackward0>)"
      ]
     },
     "execution_count": 112,
     "metadata": {},
     "output_type": "execute_result"
    }
   ],
   "source": [
    "s(t4)"
   ]
  },
  {
   "cell_type": "code",
   "execution_count": 69,
   "id": "16aacbe7",
   "metadata": {},
   "outputs": [],
   "source": [
    "t1 = torch.tensor(t).float()"
   ]
  },
  {
   "cell_type": "code",
   "execution_count": 71,
   "id": "7d805387",
   "metadata": {},
   "outputs": [
    {
     "data": {
      "text/plain": [
       "torch.Size([60, 4])"
      ]
     },
     "execution_count": 71,
     "metadata": {},
     "output_type": "execute_result"
    }
   ],
   "source": [
    "model(t1).shape"
   ]
  },
  {
   "cell_type": "code",
   "execution_count": null,
   "id": "38760e18",
   "metadata": {},
   "outputs": [],
   "source": []
  },
  {
   "cell_type": "code",
   "execution_count": null,
   "id": "90f6a22c",
   "metadata": {},
   "outputs": [],
   "source": []
  },
  {
   "cell_type": "code",
   "execution_count": null,
   "id": "0438f384",
   "metadata": {},
   "outputs": [],
   "source": []
  },
  {
   "cell_type": "code",
   "execution_count": null,
   "id": "2c790ed7",
   "metadata": {},
   "outputs": [],
   "source": []
  },
  {
   "cell_type": "code",
   "execution_count": null,
   "id": "e7eaef56",
   "metadata": {},
   "outputs": [],
   "source": []
  }
 ],
 "metadata": {
  "kernelspec": {
   "display_name": "Python 3 (ipykernel)",
   "language": "python",
   "name": "python3"
  },
  "language_info": {
   "codemirror_mode": {
    "name": "ipython",
    "version": 3
   },
   "file_extension": ".py",
   "mimetype": "text/x-python",
   "name": "python",
   "nbconvert_exporter": "python",
   "pygments_lexer": "ipython3",
   "version": "3.9.7"
  }
 },
 "nbformat": 4,
 "nbformat_minor": 5
}
