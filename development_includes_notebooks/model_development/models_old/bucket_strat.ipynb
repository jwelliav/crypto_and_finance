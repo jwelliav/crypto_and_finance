{
 "cells": [
  {
   "cell_type": "code",
   "execution_count": 1,
   "id": "105193df",
   "metadata": {},
   "outputs": [],
   "source": [
    "import pandas as pd\n",
    "import numpy as np\n",
    "import torch \n",
    "import matplotlib.pyplot as plt\n",
    "import seaborn as sns\n",
    "from datetime import datetime\n",
    "from torch.utils.data import DataLoader\n",
    "import torch.nn as nn\n",
    "import torch.optim as optim\n",
    "import numpy as np\n",
    "from sklearn.model_selection import TimeSeriesSplit\n",
    "import prelim_process_df\n",
    "from datetime import timedelta\n",
    "from tqdm.notebook import tqdm\n",
    "import pickle"
   ]
  },
  {
   "cell_type": "code",
   "execution_count": 2,
   "id": "e233dd24",
   "metadata": {},
   "outputs": [],
   "source": [
    "def save_list(d,file_name):\n",
    "    with open(file_name,\"wb\") as fp:\n",
    "        pickle.dump(d,fp)\n",
    "        \n",
    "        \n",
    "def load_list(file_name):\n",
    "    with open(file_name,\"rb\") as fp:\n",
    "        b = pickle.load(fp)\n",
    "    return(b)  "
   ]
  },
  {
   "cell_type": "code",
   "execution_count": 3,
   "id": "a700574c",
   "metadata": {},
   "outputs": [],
   "source": [
    "data_path = '/home/jwelliav/Documents/Crypto/data/Binance/'\n",
    "\n",
    "path_avax = data_path + 'AVAX_USDT.csv'\n",
    "\n",
    "path_eth = data_path + 'ETH_USDT.csv'\n",
    "\n",
    "path_btc = data_path + 'BTC_USDT.csv'\n",
    "\n",
    "path_luna = data_path + 'LUNA_USDT.csv'\n",
    "\n",
    "path_sol = data_path + 'SOL_USDT.csv'"
   ]
  },
  {
   "cell_type": "code",
   "execution_count": 4,
   "id": "375446af",
   "metadata": {},
   "outputs": [],
   "source": [
    "df_avax = prelim_process_df.read_process_df(path_avax,'avax')\n",
    "\n",
    "df_eth = prelim_process_df.read_process_df(path_eth,'eth')\n",
    "\n",
    "df_btc = prelim_process_df.read_process_df(path_btc,'btc')\n",
    "\n",
    "df_luna = prelim_process_df.read_process_df(path_luna,'luna')\n",
    "\n",
    "df_sol = prelim_process_df.read_process_df(path_sol,'sol')"
   ]
  },
  {
   "cell_type": "code",
   "execution_count": 5,
   "id": "3b7b8465",
   "metadata": {},
   "outputs": [
    {
     "data": {
      "text/html": [
       "<div>\n",
       "<style scoped>\n",
       "    .dataframe tbody tr th:only-of-type {\n",
       "        vertical-align: middle;\n",
       "    }\n",
       "\n",
       "    .dataframe tbody tr th {\n",
       "        vertical-align: top;\n",
       "    }\n",
       "\n",
       "    .dataframe thead th {\n",
       "        text-align: right;\n",
       "    }\n",
       "</style>\n",
       "<table border=\"1\" class=\"dataframe\">\n",
       "  <thead>\n",
       "    <tr style=\"text-align: right;\">\n",
       "      <th></th>\n",
       "      <th>open_avax</th>\n",
       "      <th>high_avax</th>\n",
       "      <th>low_avax</th>\n",
       "      <th>close_avax</th>\n",
       "      <th>volume_avax</th>\n",
       "      <th>returns_avax</th>\n",
       "      <th>log_returns_avax</th>\n",
       "      <th>vol_usdt_K_avax</th>\n",
       "    </tr>\n",
       "    <tr>\n",
       "      <th>datetime</th>\n",
       "      <th></th>\n",
       "      <th></th>\n",
       "      <th></th>\n",
       "      <th></th>\n",
       "      <th></th>\n",
       "      <th></th>\n",
       "      <th></th>\n",
       "      <th></th>\n",
       "    </tr>\n",
       "  </thead>\n",
       "  <tbody>\n",
       "    <tr>\n",
       "      <th>2022-02-24 10:18:00</th>\n",
       "      <td>73.42</td>\n",
       "      <td>73.51</td>\n",
       "      <td>73.28</td>\n",
       "      <td>73.31</td>\n",
       "      <td>3989.40</td>\n",
       "      <td>-0.002042</td>\n",
       "      <td>-0.002044</td>\n",
       "      <td>292.682331</td>\n",
       "    </tr>\n",
       "    <tr>\n",
       "      <th>2022-02-24 10:19:00</th>\n",
       "      <td>73.32</td>\n",
       "      <td>73.45</td>\n",
       "      <td>73.32</td>\n",
       "      <td>73.37</td>\n",
       "      <td>2912.04</td>\n",
       "      <td>0.000818</td>\n",
       "      <td>0.000818</td>\n",
       "      <td>213.583574</td>\n",
       "    </tr>\n",
       "    <tr>\n",
       "      <th>2022-02-24 10:20:00</th>\n",
       "      <td>73.37</td>\n",
       "      <td>73.46</td>\n",
       "      <td>73.32</td>\n",
       "      <td>73.45</td>\n",
       "      <td>1861.34</td>\n",
       "      <td>0.001090</td>\n",
       "      <td>0.001090</td>\n",
       "      <td>136.640969</td>\n",
       "    </tr>\n",
       "    <tr>\n",
       "      <th>2022-02-24 10:21:00</th>\n",
       "      <td>73.46</td>\n",
       "      <td>73.46</td>\n",
       "      <td>73.25</td>\n",
       "      <td>73.30</td>\n",
       "      <td>1973.18</td>\n",
       "      <td>-0.002042</td>\n",
       "      <td>-0.002044</td>\n",
       "      <td>144.791948</td>\n",
       "    </tr>\n",
       "    <tr>\n",
       "      <th>2022-02-24 10:22:00</th>\n",
       "      <td>73.26</td>\n",
       "      <td>73.36</td>\n",
       "      <td>73.21</td>\n",
       "      <td>73.35</td>\n",
       "      <td>3548.68</td>\n",
       "      <td>0.000682</td>\n",
       "      <td>0.000682</td>\n",
       "      <td>260.135987</td>\n",
       "    </tr>\n",
       "    <tr>\n",
       "      <th>...</th>\n",
       "      <td>...</td>\n",
       "      <td>...</td>\n",
       "      <td>...</td>\n",
       "      <td>...</td>\n",
       "      <td>...</td>\n",
       "      <td>...</td>\n",
       "      <td>...</td>\n",
       "      <td>...</td>\n",
       "    </tr>\n",
       "    <tr>\n",
       "      <th>2022-02-24 11:53:00</th>\n",
       "      <td>73.58</td>\n",
       "      <td>73.58</td>\n",
       "      <td>73.23</td>\n",
       "      <td>73.25</td>\n",
       "      <td>3375.96</td>\n",
       "      <td>-0.004350</td>\n",
       "      <td>-0.004359</td>\n",
       "      <td>247.846103</td>\n",
       "    </tr>\n",
       "    <tr>\n",
       "      <th>2022-02-24 11:54:00</th>\n",
       "      <td>73.27</td>\n",
       "      <td>73.46</td>\n",
       "      <td>73.25</td>\n",
       "      <td>73.32</td>\n",
       "      <td>2462.53</td>\n",
       "      <td>0.000956</td>\n",
       "      <td>0.000955</td>\n",
       "      <td>180.491136</td>\n",
       "    </tr>\n",
       "    <tr>\n",
       "      <th>2022-02-24 11:55:00</th>\n",
       "      <td>73.32</td>\n",
       "      <td>73.51</td>\n",
       "      <td>72.99</td>\n",
       "      <td>73.05</td>\n",
       "      <td>9885.66</td>\n",
       "      <td>-0.003682</td>\n",
       "      <td>-0.003689</td>\n",
       "      <td>723.482027</td>\n",
       "    </tr>\n",
       "    <tr>\n",
       "      <th>2022-02-24 11:56:00</th>\n",
       "      <td>73.07</td>\n",
       "      <td>73.15</td>\n",
       "      <td>72.21</td>\n",
       "      <td>72.23</td>\n",
       "      <td>30540.95</td>\n",
       "      <td>-0.011225</td>\n",
       "      <td>-0.011289</td>\n",
       "      <td>2218.800018</td>\n",
       "    </tr>\n",
       "    <tr>\n",
       "      <th>2022-02-24 11:57:00</th>\n",
       "      <td>72.24</td>\n",
       "      <td>72.36</td>\n",
       "      <td>71.92</td>\n",
       "      <td>72.03</td>\n",
       "      <td>15874.74</td>\n",
       "      <td>-0.002769</td>\n",
       "      <td>-0.002773</td>\n",
       "      <td>1145.124370</td>\n",
       "    </tr>\n",
       "  </tbody>\n",
       "</table>\n",
       "<p>100 rows × 8 columns</p>\n",
       "</div>"
      ],
      "text/plain": [
       "                     open_avax  high_avax  low_avax  close_avax  volume_avax  \\\n",
       "datetime                                                                       \n",
       "2022-02-24 10:18:00      73.42      73.51     73.28       73.31      3989.40   \n",
       "2022-02-24 10:19:00      73.32      73.45     73.32       73.37      2912.04   \n",
       "2022-02-24 10:20:00      73.37      73.46     73.32       73.45      1861.34   \n",
       "2022-02-24 10:21:00      73.46      73.46     73.25       73.30      1973.18   \n",
       "2022-02-24 10:22:00      73.26      73.36     73.21       73.35      3548.68   \n",
       "...                        ...        ...       ...         ...          ...   \n",
       "2022-02-24 11:53:00      73.58      73.58     73.23       73.25      3375.96   \n",
       "2022-02-24 11:54:00      73.27      73.46     73.25       73.32      2462.53   \n",
       "2022-02-24 11:55:00      73.32      73.51     72.99       73.05      9885.66   \n",
       "2022-02-24 11:56:00      73.07      73.15     72.21       72.23     30540.95   \n",
       "2022-02-24 11:57:00      72.24      72.36     71.92       72.03     15874.74   \n",
       "\n",
       "                     returns_avax  log_returns_avax  vol_usdt_K_avax  \n",
       "datetime                                                              \n",
       "2022-02-24 10:18:00     -0.002042         -0.002044       292.682331  \n",
       "2022-02-24 10:19:00      0.000818          0.000818       213.583574  \n",
       "2022-02-24 10:20:00      0.001090          0.001090       136.640969  \n",
       "2022-02-24 10:21:00     -0.002042         -0.002044       144.791948  \n",
       "2022-02-24 10:22:00      0.000682          0.000682       260.135987  \n",
       "...                           ...               ...              ...  \n",
       "2022-02-24 11:53:00     -0.004350         -0.004359       247.846103  \n",
       "2022-02-24 11:54:00      0.000956          0.000955       180.491136  \n",
       "2022-02-24 11:55:00     -0.003682         -0.003689       723.482027  \n",
       "2022-02-24 11:56:00     -0.011225         -0.011289      2218.800018  \n",
       "2022-02-24 11:57:00     -0.002769         -0.002773      1145.124370  \n",
       "\n",
       "[100 rows x 8 columns]"
      ]
     },
     "execution_count": 5,
     "metadata": {},
     "output_type": "execute_result"
    }
   ],
   "source": [
    " df_avax.tail(100)"
   ]
  },
  {
   "cell_type": "code",
   "execution_count": 6,
   "id": "d9644d32",
   "metadata": {},
   "outputs": [],
   "source": [
    "\"\"\"\n",
    "\n",
    "resample the data and also delete the first and last entries incase they cause us issues. \n",
    "\n",
    "\"\"\"\n",
    "\n",
    "df_avax_d = prelim_process_df.resample(df_avax,'1D')[1:-1]"
   ]
  },
  {
   "cell_type": "code",
   "execution_count": 7,
   "id": "1bfba4b7",
   "metadata": {},
   "outputs": [],
   "source": [
    "df_avax_h = prelim_process_df.resample(df_avax,'1H')[1:-1]"
   ]
  },
  {
   "cell_type": "code",
   "execution_count": 13,
   "id": "4a27611a",
   "metadata": {},
   "outputs": [],
   "source": [
    "tmp = {}\n",
    "\n"
   ]
  },
  {
   "cell_type": "code",
   "execution_count": 14,
   "id": "90143779",
   "metadata": {},
   "outputs": [],
   "source": [
    "d = timedelta(days = 3456)"
   ]
  },
  {
   "cell_type": "code",
   "execution_count": 15,
   "id": "9962eb09",
   "metadata": {},
   "outputs": [],
   "source": [
    "a = df_avax_d.index[-1]\n",
    "b = df_avax_d.index[-1] - d "
   ]
  },
  {
   "cell_type": "code",
   "execution_count": 16,
   "id": "7dc6ef09",
   "metadata": {},
   "outputs": [
    {
     "data": {
      "text/plain": [
       "Timestamp('2012-09-07 00:00:00', freq='D')"
      ]
     },
     "execution_count": 16,
     "metadata": {},
     "output_type": "execute_result"
    }
   ],
   "source": [
    "b"
   ]
  },
  {
   "cell_type": "code",
   "execution_count": 17,
   "id": "9351e756",
   "metadata": {},
   "outputs": [
    {
     "data": {
      "text/plain": [
       "28.425849999999997"
      ]
     },
     "execution_count": 17,
     "metadata": {},
     "output_type": "execute_result"
    }
   ],
   "source": [
    "np.median(df_avax.loc[b:a]['close_avax'].values)"
   ]
  },
  {
   "cell_type": "code",
   "execution_count": 18,
   "id": "ddd2c91b",
   "metadata": {},
   "outputs": [
    {
     "data": {
      "text/plain": [
       "(array([1.55966e+05, 8.01500e+03, 3.00100e+04, 7.47600e+04, 2.69160e+04,\n",
       "        2.50780e+04, 8.13200e+03, 1.38410e+04, 3.18710e+04, 3.25820e+04,\n",
       "        2.52010e+04, 2.21610e+04, 1.62080e+04, 8.65200e+03, 8.81500e+03,\n",
       "        1.19600e+04, 7.89100e+03, 5.47800e+03, 1.17470e+04, 8.54700e+03,\n",
       "        1.46220e+04, 2.06190e+04, 1.70560e+04, 1.30170e+04, 7.05500e+03,\n",
       "        6.38300e+03, 8.09000e+03, 7.63300e+03, 1.48940e+04, 1.29810e+04,\n",
       "        1.67690e+04, 1.05660e+04, 5.73000e+03, 2.40000e+03, 3.30600e+03,\n",
       "        6.29600e+03, 7.71200e+03, 6.18100e+03, 6.29400e+03, 7.25200e+03,\n",
       "        5.36200e+03, 3.70600e+03, 2.58700e+03, 1.18300e+03, 8.66000e+02,\n",
       "        1.08900e+03, 1.02300e+03, 3.40000e+02, 1.53000e+02, 9.00000e+01]),\n",
       " array([  2.7505 ,   5.61809,   8.48568,  11.35327,  14.22086,  17.08845,\n",
       "         19.95604,  22.82363,  25.69122,  28.55881,  31.4264 ,  34.29399,\n",
       "         37.16158,  40.02917,  42.89676,  45.76435,  48.63194,  51.49953,\n",
       "         54.36712,  57.23471,  60.1023 ,  62.96989,  65.83748,  68.70507,\n",
       "         71.57266,  74.44025,  77.30784,  80.17543,  83.04302,  85.91061,\n",
       "         88.7782 ,  91.64579,  94.51338,  97.38097, 100.24856, 103.11615,\n",
       "        105.98374, 108.85133, 111.71892, 114.58651, 117.4541 , 120.32169,\n",
       "        123.18928, 126.05687, 128.92446, 131.79205, 134.65964, 137.52723,\n",
       "        140.39482, 143.26241, 146.13   ]),\n",
       " <BarContainer object of 50 artists>)"
      ]
     },
     "execution_count": 18,
     "metadata": {},
     "output_type": "execute_result"
    },
    {
     "data": {
      "image/png": "[encoded data removed]",
      "text/plain": [
       "<Figure size 432x288 with 1 Axes>"
      ]
     },
     "metadata": {
      "needs_background": "light"
     },
     "output_type": "display_data"
    }
   ],
   "source": [
    "plt.hist(df_avax.loc[b:a]['close_avax'].values, bins = 50)"
   ]
  },
  {
   "cell_type": "code",
   "execution_count": 19,
   "id": "b390eb28",
   "metadata": {},
   "outputs": [
    {
     "data": {
      "text/plain": [
       "Timestamp('2021-05-16 00:00:00', freq='D')"
      ]
     },
     "execution_count": 19,
     "metadata": {},
     "output_type": "execute_result"
    }
   ],
   "source": [
    "df_avax_d.index[235]"
   ]
  },
  {
   "cell_type": "code",
   "execution_count": 20,
   "id": "e446d832",
   "metadata": {},
   "outputs": [],
   "source": [
    "s = df_avax_d.index[235]"
   ]
  },
  {
   "cell_type": "code",
   "execution_count": 21,
   "id": "9b70b2ee",
   "metadata": {},
   "outputs": [
    {
     "data": {
      "text/plain": [
       "Timestamp('2021-05-16 00:00:00', freq='D')"
      ]
     },
     "execution_count": 21,
     "metadata": {},
     "output_type": "execute_result"
    }
   ],
   "source": [
    "s"
   ]
  },
  {
   "cell_type": "code",
   "execution_count": null,
   "id": "0d0b53b5",
   "metadata": {},
   "outputs": [],
   "source": []
  },
  {
   "cell_type": "markdown",
   "id": "c8ffc2b6",
   "metadata": {},
   "source": [
    "### fluke bucket strat"
   ]
  },
  {
   "cell_type": "code",
   "execution_count": 115,
   "id": "2ac9381e",
   "metadata": {},
   "outputs": [],
   "source": [
    "def bucket_strat_decision(df,s,price_col = 'close',timedelta_days = 30,comfort_perc = 0.05):\n",
    "    \"\"\"\n",
    "    df - dataframe with minute data\n",
    "    s : trade date + time\n",
    "    \"\"\"\n",
    "    delta = timedelta(days = timedelta_days)\n",
    "    a = s - timedelta(days = 1)\n",
    "    b = a - delta  \n",
    "    med = np.median(df.loc[b:a][price_col].values)\n",
    "    \n",
    "    #daily_prices = df.loc[a:s][price_col].rolling(30).median().dropna()\n",
    "    #\n",
    "    #daily_decisions = {}\n",
    "    #\n",
    "    #for x in daily_prices():\n",
    "    #    if x > 1.05 * med:\n",
    "    #        daily_decisions[x] >\n",
    "        \n",
    "    if df.loc[s][price_col] > (1 + comfort_perc) * med:\n",
    "        return(2)\n",
    "    elif df.loc[s][price_col] < (1 - comfort_perc) * med:\n",
    "        return(0)\n",
    "    else:\n",
    "        return(1)\n",
    "    \n",
    "    "
   ]
  },
  {
   "cell_type": "code",
   "execution_count": 116,
   "id": "f4696233",
   "metadata": {},
   "outputs": [],
   "source": [
    "def back_test_bucket_strat(df,start_datetime,price_col = 'close',timedelta_days = 30,trade_time = (12,0,0),comfort_perc = 0.05, p_in = [100,100]):\n",
    "    p = p_in.copy()\n",
    "    print(p)\n",
    "    portfolio_value_through_time = {}\n",
    "    portfolio_through_time = {}\n",
    "    decision_dict = {}\n",
    "    df_d = prelim_process_df.resample(df,'1D')[1:-1]\n",
    "    delta = timedelta(days = timedelta_days)\n",
    "    for s in (df.index):\n",
    "        if (s.hour,s.minute,s.second) == trade_time:\n",
    "            decision = bucket_strat_decision(df,s,price_col,timedelta_days,comfort_perc)\n",
    "            if decision == 0:\n",
    "                \"\"\" buy at this price \"\"\"\n",
    "                budget = 0.05*p[0]\n",
    "                amt = budget/(df.loc[s][price_col])\n",
    "                p[1] = p[1] + amt\n",
    "                p[0] = 0.95*p[0]\n",
    "                \n",
    "            if decision == 1:\n",
    "                \"\"\" \"\"\"\n",
    "                sell_amount = .05*p[1]\n",
    "                usd_sale = sell_amount*(df.loc[s][price_col])\n",
    "                p[0] = p[0] + usd_sale\n",
    "                p[1] = 0.95*p[1] \n",
    "                       \n",
    "            decision_dict[s] = decision\n",
    "        \n",
    "            portfolio_value_through_time[s] = p[0] + df.loc[s][price_col]*p[1]\n",
    "            portfolio_through_time[s] = (p[0],p[1])    \n",
    "       \n",
    "    return(p,decision_dict,portfolio_value_through_time,portfolio_through_time)"
   ]
  },
  {
   "cell_type": "code",
   "execution_count": 73,
   "id": "69ea330c",
   "metadata": {},
   "outputs": [],
   "source": [
    "df_d = prelim_process_df.resample(df_avax,'1D')[1:-1]\n",
    "\n",
    "str_dt = df_d.index[100]\n",
    "\n",
    "\n",
    "p_avax,dd, p_t,p_tt = back_test_bucket_strat(df_avax,str_dt,price_col = 'close_avax',timedelta_days = 10,comfort_perc = 0.15)\n",
    "\n",
    "\n"
   ]
  },
  {
   "cell_type": "code",
   "execution_count": 74,
   "id": "1923067a",
   "metadata": {},
   "outputs": [
    {
     "data": {
      "text/plain": [
       "[836.5134673405237, 2.3587021832147226]"
      ]
     },
     "execution_count": 74,
     "metadata": {},
     "output_type": "execute_result"
    }
   ],
   "source": [
    "p_avax"
   ]
  },
  {
   "cell_type": "code",
   "execution_count": 51,
   "id": "ba92a8d1",
   "metadata": {},
   "outputs": [
    {
     "data": {
      "text/plain": [
       "<AxesSubplot:>"
      ]
     },
     "execution_count": 51,
     "metadata": {},
     "output_type": "execute_result"
    },
    {
     "data": {
      "image/png": "[encoded data removed]",
      "text/plain": [
       "<Figure size 432x288 with 1 Axes>"
      ]
     },
     "metadata": {
      "needs_background": "light"
     },
     "output_type": "display_data"
    }
   ],
   "source": [
    "pd.Series(p_t).plot()"
   ]
  },
  {
   "cell_type": "code",
   "execution_count": 123,
   "id": "0618d4e5",
   "metadata": {},
   "outputs": [],
   "source": [
    "def grid_search(df,start_datetime,price_col = 'close',trade_time = (12,0,0), p_in = [100,100]):\n",
    "    timedelta_vals = [10,20,30,40,50,60,70,80,90]\n",
    "    comfort_percs = [0.1,0.05,0.01,0.15,0.2]\n",
    "    grid_results = {}\n",
    "    for t in tqdm(timedelta_vals):\n",
    "        for c in tqdm(comfort_percs):\n",
    "            port_final,decision_dict,p_t,p_tt = back_test_bucket_strat(df,str_dt,price_col = price_col,timedelta_days = t,trade_time = (12,0,0),comfort_perc = c,p_in = p_in)\n",
    "            grid_results[(t,c)] = (port_final,decision_dict,p_t,p_tt)\n",
    "            print((t,c),port_final)\n",
    "    return(grid_results)"
   ]
  },
  {
   "cell_type": "code",
   "execution_count": 124,
   "id": "e853f992",
   "metadata": {},
   "outputs": [
    {
     "data": {
      "application/vnd.jupyter.widget-view+json": {
       "model_id": "e0fbdf2581c841ada173dfda9a82bac1",
       "version_major": 2,
       "version_minor": 0
      },
      "text/plain": [
       "  0%|          | 0/9 [00:00<?, ?it/s]"
      ]
     },
     "metadata": {},
     "output_type": "display_data"
    },
    {
     "data": {
      "application/vnd.jupyter.widget-view+json": {
       "model_id": "4d642aea81ec45919e7957e5ce6af062",
       "version_major": 2,
       "version_minor": 0
      },
      "text/plain": [
       "  0%|          | 0/5 [00:00<?, ?it/s]"
      ]
     },
     "metadata": {},
     "output_type": "display_data"
    },
    {
     "name": "stdout",
     "output_type": "stream",
     "text": [
      "[100, 100]\n",
      "(10, 0.1) [1233.519519340013, 5.718406175285741]\n",
      "[100, 100]\n",
      "(10, 0.05) [2697.4368956928565, 36.2657337188998]\n",
      "[100, 100]\n",
      "(10, 0.01) [1828.2690240538795, 99.52001748217235]\n",
      "[100, 100]\n"
     ]
    },
    {
     "ename": "KeyboardInterrupt",
     "evalue": "",
     "output_type": "error",
     "traceback": [
      "\u001b[0;31m---------------------------------------------------------------------------\u001b[0m",
      "\u001b[0;31mKeyboardInterrupt\u001b[0m                         Traceback (most recent call last)",
      "Input \u001b[0;32mIn [124]\u001b[0m, in \u001b[0;36m<cell line: 5>\u001b[0;34m()\u001b[0m\n\u001b[1;32m      1\u001b[0m df_d \u001b[38;5;241m=\u001b[39m prelim_process_df\u001b[38;5;241m.\u001b[39mresample(df_avax,\u001b[38;5;124m'\u001b[39m\u001b[38;5;124m1D\u001b[39m\u001b[38;5;124m'\u001b[39m)[\u001b[38;5;241m1\u001b[39m:\u001b[38;5;241m-\u001b[39m\u001b[38;5;241m1\u001b[39m]\n\u001b[1;32m      3\u001b[0m str_dt \u001b[38;5;241m=\u001b[39m df_d\u001b[38;5;241m.\u001b[39mindex[\u001b[38;5;241m100\u001b[39m]\n\u001b[0;32m----> 5\u001b[0m grid_results \u001b[38;5;241m=\u001b[39m \u001b[43mgrid_search\u001b[49m\u001b[43m(\u001b[49m\u001b[43mdf_avax\u001b[49m\u001b[43m,\u001b[49m\u001b[43mstr_dt\u001b[49m\u001b[43m,\u001b[49m\u001b[43mprice_col\u001b[49m\u001b[43m \u001b[49m\u001b[38;5;241;43m=\u001b[39;49m\u001b[43m \u001b[49m\u001b[38;5;124;43m'\u001b[39;49m\u001b[38;5;124;43mclose_avax\u001b[39;49m\u001b[38;5;124;43m'\u001b[39;49m\u001b[43m)\u001b[49m\n",
      "Input \u001b[0;32mIn [123]\u001b[0m, in \u001b[0;36mgrid_search\u001b[0;34m(df, start_datetime, price_col, trade_time, p_in)\u001b[0m\n\u001b[1;32m      5\u001b[0m \u001b[38;5;28;01mfor\u001b[39;00m t \u001b[38;5;129;01min\u001b[39;00m tqdm(timedelta_vals):\n\u001b[1;32m      6\u001b[0m     \u001b[38;5;28;01mfor\u001b[39;00m c \u001b[38;5;129;01min\u001b[39;00m tqdm(comfort_percs):\n\u001b[0;32m----> 7\u001b[0m         port_final,decision_dict,p_t,p_tt \u001b[38;5;241m=\u001b[39m \u001b[43mback_test_bucket_strat\u001b[49m\u001b[43m(\u001b[49m\u001b[43mdf\u001b[49m\u001b[43m,\u001b[49m\u001b[43mstr_dt\u001b[49m\u001b[43m,\u001b[49m\u001b[43mprice_col\u001b[49m\u001b[43m \u001b[49m\u001b[38;5;241;43m=\u001b[39;49m\u001b[43m \u001b[49m\u001b[43mprice_col\u001b[49m\u001b[43m,\u001b[49m\u001b[43mtimedelta_days\u001b[49m\u001b[43m \u001b[49m\u001b[38;5;241;43m=\u001b[39;49m\u001b[43m \u001b[49m\u001b[43mt\u001b[49m\u001b[43m,\u001b[49m\u001b[43mtrade_time\u001b[49m\u001b[43m \u001b[49m\u001b[38;5;241;43m=\u001b[39;49m\u001b[43m \u001b[49m\u001b[43m(\u001b[49m\u001b[38;5;241;43m12\u001b[39;49m\u001b[43m,\u001b[49m\u001b[38;5;241;43m0\u001b[39;49m\u001b[43m,\u001b[49m\u001b[38;5;241;43m0\u001b[39;49m\u001b[43m)\u001b[49m\u001b[43m,\u001b[49m\u001b[43mcomfort_perc\u001b[49m\u001b[43m \u001b[49m\u001b[38;5;241;43m=\u001b[39;49m\u001b[43m \u001b[49m\u001b[43mc\u001b[49m\u001b[43m,\u001b[49m\u001b[43mp_in\u001b[49m\u001b[43m \u001b[49m\u001b[38;5;241;43m=\u001b[39;49m\u001b[43m \u001b[49m\u001b[43mp_in\u001b[49m\u001b[43m)\u001b[49m\n\u001b[1;32m      8\u001b[0m         grid_results[(t,c)] \u001b[38;5;241m=\u001b[39m (port_final,decision_dict,p_t,p_tt)\n\u001b[1;32m      9\u001b[0m         \u001b[38;5;28mprint\u001b[39m((t,c),port_final)\n",
      "Input \u001b[0;32mIn [116]\u001b[0m, in \u001b[0;36mback_test_bucket_strat\u001b[0;34m(df, start_datetime, price_col, timedelta_days, trade_time, comfort_perc, p_in)\u001b[0m\n\u001b[1;32m      7\u001b[0m df_d \u001b[38;5;241m=\u001b[39m prelim_process_df\u001b[38;5;241m.\u001b[39mresample(df,\u001b[38;5;124m'\u001b[39m\u001b[38;5;124m1D\u001b[39m\u001b[38;5;124m'\u001b[39m)[\u001b[38;5;241m1\u001b[39m:\u001b[38;5;241m-\u001b[39m\u001b[38;5;241m1\u001b[39m]\n\u001b[1;32m      8\u001b[0m delta \u001b[38;5;241m=\u001b[39m timedelta(days \u001b[38;5;241m=\u001b[39m timedelta_days)\n\u001b[0;32m----> 9\u001b[0m \u001b[38;5;28;01mfor\u001b[39;00m s \u001b[38;5;129;01min\u001b[39;00m (df\u001b[38;5;241m.\u001b[39mindex):\n\u001b[1;32m     10\u001b[0m     \u001b[38;5;28;01mif\u001b[39;00m (s\u001b[38;5;241m.\u001b[39mhour,s\u001b[38;5;241m.\u001b[39mminute,s\u001b[38;5;241m.\u001b[39msecond) \u001b[38;5;241m==\u001b[39m trade_time:\n\u001b[1;32m     11\u001b[0m         decision \u001b[38;5;241m=\u001b[39m bucket_strat_decision(df,s,price_col,timedelta_days,comfort_perc)\n",
      "File \u001b[0;32m~/anaconda3/lib/python3.8/site-packages/pandas/core/arrays/datetimes.py:578\u001b[0m, in \u001b[0;36mDatetimeArray.__iter__\u001b[0;34m(self)\u001b[0m\n\u001b[1;32m    576\u001b[0m start_i \u001b[38;5;241m=\u001b[39m i \u001b[38;5;241m*\u001b[39m chunksize\n\u001b[1;32m    577\u001b[0m end_i \u001b[38;5;241m=\u001b[39m \u001b[38;5;28mmin\u001b[39m((i \u001b[38;5;241m+\u001b[39m \u001b[38;5;241m1\u001b[39m) \u001b[38;5;241m*\u001b[39m chunksize, length)\n\u001b[0;32m--> 578\u001b[0m converted \u001b[38;5;241m=\u001b[39m \u001b[43mints_to_pydatetime\u001b[49m\u001b[43m(\u001b[49m\n\u001b[1;32m    579\u001b[0m \u001b[43m    \u001b[49m\u001b[43mdata\u001b[49m\u001b[43m[\u001b[49m\u001b[43mstart_i\u001b[49m\u001b[43m:\u001b[49m\u001b[43mend_i\u001b[49m\u001b[43m]\u001b[49m\u001b[43m,\u001b[49m\u001b[43m \u001b[49m\u001b[43mtz\u001b[49m\u001b[38;5;241;43m=\u001b[39;49m\u001b[38;5;28;43mself\u001b[39;49m\u001b[38;5;241;43m.\u001b[39;49m\u001b[43mtz\u001b[49m\u001b[43m,\u001b[49m\u001b[43m \u001b[49m\u001b[43mfreq\u001b[49m\u001b[38;5;241;43m=\u001b[39;49m\u001b[38;5;28;43mself\u001b[39;49m\u001b[38;5;241;43m.\u001b[39;49m\u001b[43mfreq\u001b[49m\u001b[43m,\u001b[49m\u001b[43m \u001b[49m\u001b[43mbox\u001b[49m\u001b[38;5;241;43m=\u001b[39;49m\u001b[38;5;124;43m\"\u001b[39;49m\u001b[38;5;124;43mtimestamp\u001b[39;49m\u001b[38;5;124;43m\"\u001b[39;49m\n\u001b[1;32m    580\u001b[0m \u001b[43m\u001b[49m\u001b[43m)\u001b[49m\n\u001b[1;32m    581\u001b[0m \u001b[38;5;28;01myield from\u001b[39;00m converted\n",
      "\u001b[0;31mKeyboardInterrupt\u001b[0m: "
     ]
    }
   ],
   "source": [
    "df_d = prelim_process_df.resample(df_avax,'1D')[1:-1]\n",
    "\n",
    "str_dt = df_d.index[100]\n",
    "\n",
    "grid_results = grid_search(df_avax,str_dt,price_col = 'close_avax')"
   ]
  },
  {
   "cell_type": "code",
   "execution_count": 119,
   "id": "c872a0e1",
   "metadata": {},
   "outputs": [
    {
     "data": {
      "text/plain": [
       "open_eth            711.000000\n",
       "high_eth            729.880000\n",
       "low_eth             695.510000\n",
       "close_eth           698.820000\n",
       "volume_eth        97104.714650\n",
       "vol_usdt_K_eth    69329.562522\n",
       "Name: 2018-05-21 00:00:00, dtype: float64"
      ]
     },
     "execution_count": 119,
     "metadata": {},
     "output_type": "execute_result"
    }
   ],
   "source": [
    "df_d.loc[str_dt]"
   ]
  },
  {
   "cell_type": "code",
   "execution_count": 125,
   "id": "061dee2d",
   "metadata": {},
   "outputs": [
    {
     "data": {
      "application/vnd.jupyter.widget-view+json": {
       "model_id": "2ae387afa34c4171a5dce44b7c0570a6",
       "version_major": 2,
       "version_minor": 0
      },
      "text/plain": [
       "  0%|          | 0/9 [00:00<?, ?it/s]"
      ]
     },
     "metadata": {},
     "output_type": "display_data"
    },
    {
     "data": {
      "application/vnd.jupyter.widget-view+json": {
       "model_id": "809cba729ff2466083cc4cd2158ae7c5",
       "version_major": 2,
       "version_minor": 0
      },
      "text/plain": [
       "  0%|          | 0/5 [00:00<?, ?it/s]"
      ]
     },
     "metadata": {},
     "output_type": "display_data"
    },
    {
     "name": "stdout",
     "output_type": "stream",
     "text": [
      "[698.82, 1]\n",
      "(10, 0.1) [1264.7539123723175, 0.14387918649414105]\n",
      "[698.82, 1]\n",
      "(10, 0.05) [1275.286411665584, 0.5386734432658844]\n",
      "[698.82, 1]\n",
      "(10, 0.01) [830.2213095602368, 1.6650154495792417]\n",
      "[698.82, 1]\n",
      "(10, 0.15) [1546.3852104123437, 0.06553334113386275]\n",
      "[698.82, 1]\n",
      "(10, 0.2) [1553.20976100445, 0.028978047221462785]\n"
     ]
    },
    {
     "data": {
      "application/vnd.jupyter.widget-view+json": {
       "model_id": "9083f9a6e5174246aaca3177f8934cca",
       "version_major": 2,
       "version_minor": 0
      },
      "text/plain": [
       "  0%|          | 0/5 [00:00<?, ?it/s]"
      ]
     },
     "metadata": {},
     "output_type": "display_data"
    },
    {
     "name": "stdout",
     "output_type": "stream",
     "text": [
      "[698.82, 1]\n",
      "(20, 0.1) [1086.9983899715933, 0.24982363003946176]\n",
      "[698.82, 1]\n",
      "(20, 0.05) [1029.915070409012, 0.70515703772859]\n",
      "[698.82, 1]\n",
      "(20, 0.01) [705.0153511668652, 1.6110960437916795]\n",
      "[698.82, 1]\n",
      "(20, 0.15) [1673.5098240986415, 0.1517240899337843]\n",
      "[698.82, 1]\n",
      "(20, 0.2) [1790.0272968132585, 0.06451020759345805]\n"
     ]
    },
    {
     "data": {
      "application/vnd.jupyter.widget-view+json": {
       "model_id": "196621f2c08040b4b56171eeb14bd071",
       "version_major": 2,
       "version_minor": 0
      },
      "text/plain": [
       "  0%|          | 0/5 [00:00<?, ?it/s]"
      ]
     },
     "metadata": {},
     "output_type": "display_data"
    },
    {
     "name": "stdout",
     "output_type": "stream",
     "text": [
      "[698.82, 1]\n",
      "(30, 0.1) [1552.863414034991, 0.22273540073283]\n",
      "[698.82, 1]\n",
      "(30, 0.05) [1229.8921051915966, 0.5212332284415846]\n",
      "[698.82, 1]\n",
      "(30, 0.01) [540.7598260698768, 1.750799988196967]\n",
      "[698.82, 1]\n",
      "(30, 0.15) [1526.9181894515407, 0.11810524599228296]\n",
      "[698.82, 1]\n",
      "(30, 0.2) [1789.8074813607786, 0.09107582246038629]\n"
     ]
    },
    {
     "data": {
      "application/vnd.jupyter.widget-view+json": {
       "model_id": "f9207d3b988445d78c42c33129469a16",
       "version_major": 2,
       "version_minor": 0
      },
      "text/plain": [
       "  0%|          | 0/5 [00:00<?, ?it/s]"
      ]
     },
     "metadata": {},
     "output_type": "display_data"
    },
    {
     "name": "stdout",
     "output_type": "stream",
     "text": [
      "[698.82, 1]\n",
      "(40, 0.1) [1363.877645418499, 0.3118824492653019]\n",
      "[698.82, 1]\n",
      "(40, 0.05) [1330.89783551809, 0.8262248670249128]\n",
      "[698.82, 1]\n",
      "(40, 0.01) [478.4122531419997, 2.071171570624631]\n",
      "[698.82, 1]\n",
      "(40, 0.15) [1526.9756476052814, 0.17750118727943157]\n",
      "[698.82, 1]\n",
      "(40, 0.2) [1841.1766442054493, 0.12104212053072026]\n"
     ]
    },
    {
     "data": {
      "application/vnd.jupyter.widget-view+json": {
       "model_id": "156b455157ba4b988d940d3a36af7ba7",
       "version_major": 2,
       "version_minor": 0
      },
      "text/plain": [
       "  0%|          | 0/5 [00:00<?, ?it/s]"
      ]
     },
     "metadata": {},
     "output_type": "display_data"
    },
    {
     "name": "stdout",
     "output_type": "stream",
     "text": [
      "[698.82, 1]\n",
      "(50, 0.1) [1075.9819377071976, 0.35591210247197363]\n",
      "[698.82, 1]\n",
      "(50, 0.05) [706.1754398141003, 0.7606109087008305]\n",
      "[698.82, 1]\n",
      "(50, 0.01) [466.74121146118546, 2.003597675983839]\n",
      "[698.82, 1]\n",
      "(50, 0.15) [1236.8260416103442, 0.21692963981422733]\n",
      "[698.82, 1]\n",
      "(50, 0.2) [1746.4774446629958, 0.12882961400492396]\n"
     ]
    },
    {
     "data": {
      "application/vnd.jupyter.widget-view+json": {
       "model_id": "65e9b73227dd4d52b6722a518e36d67e",
       "version_major": 2,
       "version_minor": 0
      },
      "text/plain": [
       "  0%|          | 0/5 [00:00<?, ?it/s]"
      ]
     },
     "metadata": {},
     "output_type": "display_data"
    },
    {
     "name": "stdout",
     "output_type": "stream",
     "text": [
      "[698.82, 1]\n",
      "(60, 0.1) [839.7493701133519, 0.4986882724673056]\n",
      "[698.82, 1]\n",
      "(60, 0.05) [474.8448151953147, 1.0879915085164662]\n",
      "[698.82, 1]\n",
      "(60, 0.01) [9.014027715839878, 1.7824671997659545]\n",
      "[698.82, 1]\n",
      "(60, 0.15) [1137.3180789914693, 0.2704305597170483]\n",
      "[698.82, 1]\n",
      "(60, 0.2) [1772.2651535557025, 0.20121709546912703]\n"
     ]
    },
    {
     "data": {
      "application/vnd.jupyter.widget-view+json": {
       "model_id": "9ec2eecc310e42e1a808ac8c3a624770",
       "version_major": 2,
       "version_minor": 0
      },
      "text/plain": [
       "  0%|          | 0/5 [00:00<?, ?it/s]"
      ]
     },
     "metadata": {},
     "output_type": "display_data"
    },
    {
     "name": "stdout",
     "output_type": "stream",
     "text": [
      "[698.82, 1]\n",
      "(70, 0.1) [368.44066371508694, 0.5939959372964239]\n",
      "[698.82, 1]\n",
      "(70, 0.05) [421.8366598507107, 1.2109623194557775]\n",
      "[698.82, 1]\n",
      "(70, 0.01) [38.1439187498462, 2.1294645640641487]\n",
      "[698.82, 1]\n",
      "(70, 0.15) [958.5732573479191, 0.3952335578248426]\n",
      "[698.82, 1]\n",
      "(70, 0.2) [1968.409490537214, 0.25617657661777155]\n"
     ]
    },
    {
     "data": {
      "application/vnd.jupyter.widget-view+json": {
       "model_id": "9c3c2fc8013b4b14bc864ea1a4844c3e",
       "version_major": 2,
       "version_minor": 0
      },
      "text/plain": [
       "  0%|          | 0/5 [00:00<?, ?it/s]"
      ]
     },
     "metadata": {},
     "output_type": "display_data"
    },
    {
     "name": "stdout",
     "output_type": "stream",
     "text": [
      "[698.82, 1]\n",
      "(80, 0.1) [229.21107102848634, 0.4449506909395896]\n",
      "[698.82, 1]\n",
      "(80, 0.05) [138.54124117023207, 1.1368059659606238]\n",
      "[698.82, 1]\n",
      "(80, 0.01) [26.054103986810656, 1.9098573088918818]\n",
      "[698.82, 1]\n",
      "(80, 0.15) [373.10137107885265, 0.5268167508667534]\n",
      "[698.82, 1]\n",
      "(80, 0.2) [1392.1470521632393, 0.41064007482444775]\n"
     ]
    },
    {
     "data": {
      "application/vnd.jupyter.widget-view+json": {
       "model_id": "cccba8c2f5604821bd203b891120b884",
       "version_major": 2,
       "version_minor": 0
      },
      "text/plain": [
       "  0%|          | 0/5 [00:00<?, ?it/s]"
      ]
     },
     "metadata": {},
     "output_type": "display_data"
    },
    {
     "name": "stdout",
     "output_type": "stream",
     "text": [
      "[698.82, 1]\n",
      "(90, 0.1) [109.64337023793423, 0.45192146204725214]\n",
      "[698.82, 1]\n",
      "(90, 0.05) [121.61269699161008, 0.893883669444167]\n",
      "[698.82, 1]\n",
      "(90, 0.01) [68.99075412746971, 1.9062827339861108]\n",
      "[698.82, 1]\n",
      "(90, 0.15) [139.02039988934962, 0.5089766413019229]\n",
      "[698.82, 1]\n",
      "(90, 0.2) [620.2814374394083, 0.5706422049856553]\n"
     ]
    }
   ],
   "source": [
    "df_d = prelim_process_df.resample(df_eth,'1D')[1:-1]\n",
    "\n",
    "str_dt = df_d.index[100]\n",
    "\n",
    "price_col = 'close_eth'\n",
    "\n",
    "p_input = [df_d.loc[str_dt]['close_eth'],1]\n",
    "\n",
    "grid_results = grid_search(df_eth,str_dt,'close_eth',p_in = p_input)"
   ]
  },
  {
   "cell_type": "code",
   "execution_count": null,
   "id": "a5f28bf2",
   "metadata": {},
   "outputs": [],
   "source": [
    "for k in grid_results.keys():\n",
    "    print(k,grid_results[k][0])"
   ]
  },
  {
   "cell_type": "code",
   "execution_count": 30,
   "id": "c48b5986",
   "metadata": {},
   "outputs": [
    {
     "data": {
      "text/plain": [
       "1.5720551025814022e+21"
      ]
     },
     "execution_count": 30,
     "metadata": {},
     "output_type": "execute_result"
    }
   ],
   "source": [
    "1.5720551025814022e+21"
   ]
  },
  {
   "cell_type": "code",
   "execution_count": 29,
   "id": "73939efd",
   "metadata": {},
   "outputs": [
    {
     "data": {
      "text/plain": [
       "<AxesSubplot:>"
      ]
     },
     "execution_count": 29,
     "metadata": {},
     "output_type": "execute_result"
    },
    {
     "data": {
      "image/png": "[encoded data removed]",
      "text/plain": [
       "<Figure size 432x288 with 1 Axes>"
      ]
     },
     "metadata": {
      "needs_background": "light"
     },
     "output_type": "display_data"
    }
   ],
   "source": [
    "pd.Series(grid_results[(10,0.05)][2]).plot()"
   ]
  },
  {
   "cell_type": "code",
   "execution_count": 50,
   "id": "041d47c7",
   "metadata": {},
   "outputs": [],
   "source": [
    "p,dd,p_t = grid_results[(90,0.01)]"
   ]
  },
  {
   "cell_type": "code",
   "execution_count": null,
   "id": "876c50ff",
   "metadata": {},
   "outputs": [],
   "source": []
  },
  {
   "cell_type": "code",
   "execution_count": 51,
   "id": "cfb5860e",
   "metadata": {},
   "outputs": [
    {
     "data": {
      "text/plain": [
       "<AxesSubplot:>"
      ]
     },
     "execution_count": 51,
     "metadata": {},
     "output_type": "execute_result"
    },
    {
     "data": {
      "image/png": "[encoded data removed]",
      "text/plain": [
       "<Figure size 432x288 with 1 Axes>"
      ]
     },
     "metadata": {
      "needs_background": "light"
     },
     "output_type": "display_data"
    }
   ],
   "source": [
    "pd.Series(p_t).plot()"
   ]
  },
  {
   "cell_type": "code",
   "execution_count": 53,
   "id": "ae396faf",
   "metadata": {},
   "outputs": [
    {
     "data": {
      "text/plain": [
       "2    292\n",
       "0    214\n",
       "1     10\n",
       "dtype: int64"
      ]
     },
     "execution_count": 53,
     "metadata": {},
     "output_type": "execute_result"
    }
   ],
   "source": [
    "pd.Series(dd.values()).value_counts()"
   ]
  },
  {
   "cell_type": "code",
   "execution_count": null,
   "id": "412edd51",
   "metadata": {},
   "outputs": [],
   "source": []
  },
  {
   "cell_type": "code",
   "execution_count": 55,
   "id": "84a3376a",
   "metadata": {},
   "outputs": [
    {
     "data": {
      "application/vnd.jupyter.widget-view+json": {
       "model_id": "3b65f269019949e1bd6a286eb7ade5fe",
       "version_major": 2,
       "version_minor": 0
      },
      "text/plain": [
       "  0%|          | 0/2119146 [00:00<?, ?it/s]"
      ]
     },
     "metadata": {},
     "output_type": "display_data"
    }
   ],
   "source": [
    "df_btc_D = prelim_process_df.resample(df_btc,'1D')[1:-1]\n",
    "\n",
    "str_dt_btc = df_btc_D.index[100]\n",
    "\n",
    "\n",
    "p,decision_dict,p_t = back_test_bucket_strat(df_btc,str_dt,price_col = 'close_btc',timedelta_days = 90,trade_time = (12,0,0),comfort_perc = 0.01)\n",
    "\n",
    "\n"
   ]
  },
  {
   "cell_type": "code",
   "execution_count": 56,
   "id": "82ae5887",
   "metadata": {},
   "outputs": [
    {
     "data": {
      "text/plain": [
       "[33569.8183553674, 767.4093928063263]"
      ]
     },
     "execution_count": 56,
     "metadata": {},
     "output_type": "execute_result"
    }
   ],
   "source": [
    "p"
   ]
  },
  {
   "cell_type": "code",
   "execution_count": 57,
   "id": "adb9cff3",
   "metadata": {},
   "outputs": [
    {
     "data": {
      "text/plain": [
       "2    769\n",
       "0    611\n",
       "1     81\n",
       "dtype: int64"
      ]
     },
     "execution_count": 57,
     "metadata": {},
     "output_type": "execute_result"
    }
   ],
   "source": [
    "pd.Series(decision_dict.values()).value_counts()"
   ]
  },
  {
   "cell_type": "code",
   "execution_count": 60,
   "id": "8adcfcbb",
   "metadata": {},
   "outputs": [
    {
     "data": {
      "text/plain": [
       "<AxesSubplot:>"
      ]
     },
     "execution_count": 60,
     "metadata": {},
     "output_type": "execute_result"
    },
    {
     "data": {
      "image/png": "[encoded data removed]",
      "text/plain": [
       "<Figure size 432x288 with 1 Axes>"
      ]
     },
     "metadata": {
      "needs_background": "light"
     },
     "output_type": "display_data"
    }
   ],
   "source": [
    "pd.Series(p_t).plot()"
   ]
  },
  {
   "cell_type": "code",
   "execution_count": null,
   "id": "fd779ce5",
   "metadata": {},
   "outputs": [],
   "source": []
  },
  {
   "cell_type": "code",
   "execution_count": 64,
   "id": "6b490eed",
   "metadata": {},
   "outputs": [
    {
     "data": {
      "application/vnd.jupyter.widget-view+json": {
       "model_id": "85e20c89b608403981af9852e5905afb",
       "version_major": 2,
       "version_minor": 0
      },
      "text/plain": [
       "  0%|          | 0/2119149 [00:00<?, ?it/s]"
      ]
     },
     "metadata": {},
     "output_type": "display_data"
    }
   ],
   "source": [
    "df_eth_D = prelim_process_df.resample(df_eth,'1D')[1:-1]\n",
    "\n",
    "str_dt_eth = df_eth_D.index[100]\n",
    "\n",
    "\n",
    "p,decision_dict,p_t,p_tt = back_test_bucket_strat(df_eth,str_dt,price_col = 'close_eth',timedelta_days = 90,trade_time = (12,0,0),comfort_perc = 0.01)"
   ]
  },
  {
   "cell_type": "code",
   "execution_count": 65,
   "id": "8033ef5f",
   "metadata": {},
   "outputs": [
    {
     "data": {
      "text/plain": [
       "[77107.46998890788, 1696.9844574994058]"
      ]
     },
     "execution_count": 65,
     "metadata": {},
     "output_type": "execute_result"
    }
   ],
   "source": [
    "p"
   ]
  },
  {
   "cell_type": "code",
   "execution_count": null,
   "id": "0c18d107",
   "metadata": {},
   "outputs": [],
   "source": [
    "pd.Series(p_t).plot()"
   ]
  },
  {
   "cell_type": "code",
   "execution_count": 70,
   "id": "30eb896f",
   "metadata": {},
   "outputs": [],
   "source": [
    "z = p_tt.values()"
   ]
  },
  {
   "cell_type": "code",
   "execution_count": 82,
   "id": "0ff5f17b",
   "metadata": {},
   "outputs": [
    {
     "data": {
      "text/plain": [
       "10.792756251607932"
      ]
     },
     "execution_count": 82,
     "metadata": {},
     "output_type": "execute_result"
    }
   ],
   "source": [
    "min([x[0] for x in set(z)])"
   ]
  },
  {
   "cell_type": "code",
   "execution_count": null,
   "id": "abaad0c7",
   "metadata": {},
   "outputs": [],
   "source": [
    "for x in set(z):\n",
    "    if z "
   ]
  },
  {
   "cell_type": "code",
   "execution_count": null,
   "id": "bc6a5c22",
   "metadata": {},
   "outputs": [],
   "source": []
  },
  {
   "cell_type": "code",
   "execution_count": 100,
   "id": "685304a0",
   "metadata": {},
   "outputs": [],
   "source": [
    "def bucket_strat_decision(df,s,price_col = 'close',timedelta_days = 30,comfort_perc = 0.05):\n",
    "    \"\"\"\n",
    "    df - dataframe with minute data\n",
    "    s : trade date + time\n",
    "    \"\"\"\n",
    "    delta = timedelta(days = timedelta_days)\n",
    "    a = s - timedelta(days = 1)\n",
    "    b = a - delta  \n",
    "    med = np.median(df.loc[b:a][price_col].values)\n",
    "    \n",
    "    #daily_prices = df.loc[a:s][price_col].rolling(30).median().dropna()\n",
    "    #\n",
    "    #daily_decisions = {}\n",
    "    #\n",
    "    #for x in daily_prices():\n",
    "    #    if x > 1.05 * med:\n",
    "    #        daily_decisions[x] >\n",
    "        \n",
    "    if df.loc[s][price_col] > (1 + comfort_perc) * med:\n",
    "        return('sell')\n",
    "    elif df.loc[s][price_col] < (1-comfort_perc) * med:\n",
    "        return('buy')\n",
    "    else:\n",
    "        return('do_nothing')\n",
    "    \n",
    "    "
   ]
  },
  {
   "cell_type": "code",
   "execution_count": 15,
   "id": "9c409ac9",
   "metadata": {},
   "outputs": [
    {
     "data": {
      "text/plain": [
       "4.2775"
      ]
     },
     "execution_count": 15,
     "metadata": {},
     "output_type": "execute_result"
    }
   ],
   "source": [
    "e = df_avax.index[0]\n",
    "df_avax.loc[e]['close_avax']"
   ]
  },
  {
   "cell_type": "code",
   "execution_count": 19,
   "id": "23a4d51d",
   "metadata": {},
   "outputs": [],
   "source": [
    "s1 = s + timedelta(days = 1)\n",
    "\n",
    "df_price = df_avax.loc[s:s1]['close_avax'].rolling(30).median().dropna()\n",
    "\n"
   ]
  },
  {
   "cell_type": "code",
   "execution_count": 101,
   "id": "5fd2c387",
   "metadata": {},
   "outputs": [],
   "source": [
    "def back_test_bucket_strat(df,start_datetime,price_col = 'close',timedelta_days = 30,trade_time = (12,0,0),comfort_perc = 0.05,p_in = [100,100]):\n",
    "    p = p_in.copy()\n",
    "    portfolio_value_through_time = {}\n",
    "    decision_dict = {}\n",
    "    portfolio_through_time = {}\n",
    "    df_d = prelim_process_df.resample(df,'1D')[1:-1]\n",
    "    delta = timedelta(days = timedelta_days)\n",
    "    for s in (df.index):\n",
    "        if (s.hour,s.minute,s.second) == trade_time:\n",
    "            decision = bucket_strat_decision(df,s,price_col,timedelta_days,comfort_perc)\n",
    "            if decision == 'buy':\n",
    "                \"\"\" buy at this price \"\"\"\n",
    "                budget = 0.05*p[0]\n",
    "                avax_amt = budget/(df.loc[s][price_col])\n",
    "                p[1] = p[1] + avax_amt\n",
    "                p[0] = 0.95*p[0]\n",
    "                \n",
    "            if decision == 'sell':\n",
    "                \"\"\" sell at this price \"\"\"\n",
    "                sell_amount = .05*p[1]\n",
    "                usd_sale = sell_amount*(df.loc[s][price_col])\n",
    "                p[0] = p[0] + usd_sale\n",
    "                p[1] = 0.95*p[1] \n",
    "                \n",
    "            decision_dict[s] = decision\n",
    "            \n",
    "            portfolio_value_through_time[s] = p[0] + df.loc[s][price_col]*p[1]\n",
    "            \n",
    "            portfolio_through_time[s] = (p[0],p[1])    \n",
    "       \n",
    "    return(p,decision_dict,portfolio_value_through_time,portfolio_through_time)\n",
    "               \n",
    "    "
   ]
  },
  {
   "cell_type": "code",
   "execution_count": 181,
   "id": "3909ac1d",
   "metadata": {},
   "outputs": [],
   "source": [
    "    \n",
    "#    \n",
    "#    "
   ]
  },
  {
   "cell_type": "code",
   "execution_count": 102,
   "id": "9eea8863",
   "metadata": {},
   "outputs": [],
   "source": [
    "df_d = prelim_process_df.resample(df_avax,'1D')[1:-1]\n",
    "\n",
    "str_dt = df_d.index[100]"
   ]
  },
  {
   "cell_type": "code",
   "execution_count": 103,
   "id": "ec85bd63",
   "metadata": {},
   "outputs": [],
   "source": [
    "p_avax,decision_dict,p_t,p_tt = back_test_bucket_strat(df_avax,str_dt,price_col = 'close_avax',timedelta_days = 30,trade_time = (12,0,0),comfort_perc = 0.35)"
   ]
  },
  {
   "cell_type": "code",
   "execution_count": 104,
   "id": "ee0c963c",
   "metadata": {},
   "outputs": [
    {
     "data": {
      "text/plain": [
       "[2543.6594874156735, 6.100789136509109]"
      ]
     },
     "execution_count": 104,
     "metadata": {},
     "output_type": "execute_result"
    }
   ],
   "source": [
    "p_avax"
   ]
  },
  {
   "cell_type": "code",
   "execution_count": 188,
   "id": "a2867f5f",
   "metadata": {},
   "outputs": [
    {
     "data": {
      "text/plain": [
       "<AxesSubplot:>"
      ]
     },
     "execution_count": 188,
     "metadata": {},
     "output_type": "execute_result"
    },
    {
     "data": {
      "image/png": "[encoded data removed]",
      "text/plain": [
       "<Figure size 432x288 with 1 Axes>"
      ]
     },
     "metadata": {
      "needs_background": "light"
     },
     "output_type": "display_data"
    }
   ],
   "source": [
    "pd.Series(p_t).plot()"
   ]
  },
  {
   "cell_type": "code",
   "execution_count": 189,
   "id": "49336acc",
   "metadata": {},
   "outputs": [
    {
     "data": {
      "text/plain": [
       "[1276.445116332838, 2.1900811999039913]"
      ]
     },
     "execution_count": 189,
     "metadata": {},
     "output_type": "execute_result"
    }
   ],
   "source": [
    "p_avax"
   ]
  },
  {
   "cell_type": "code",
   "execution_count": 190,
   "id": "388177ea",
   "metadata": {},
   "outputs": [
    {
     "data": {
      "text/plain": [
       "do_nothing    409\n",
       "sell           92\n",
       "buy            15\n",
       "dtype: int64"
      ]
     },
     "execution_count": 190,
     "metadata": {},
     "output_type": "execute_result"
    }
   ],
   "source": [
    "pd.Series(decision_dict.values()).value_counts()"
   ]
  },
  {
   "cell_type": "code",
   "execution_count": null,
   "id": "f5a51959",
   "metadata": {},
   "outputs": [],
   "source": []
  },
  {
   "cell_type": "code",
   "execution_count": null,
   "id": "de16becb",
   "metadata": {},
   "outputs": [],
   "source": []
  },
  {
   "cell_type": "code",
   "execution_count": 136,
   "id": "41f58e84",
   "metadata": {},
   "outputs": [
    {
     "data": {
      "text/plain": [
       "do_nothing    255\n",
       "sell          185\n",
       "buy            76\n",
       "dtype: int64"
      ]
     },
     "execution_count": 136,
     "metadata": {},
     "output_type": "execute_result"
    }
   ],
   "source": []
  },
  {
   "cell_type": "code",
   "execution_count": 109,
   "id": "9a935327",
   "metadata": {},
   "outputs": [],
   "source": [
    "def grid_search(df,start_datetime,price_col = 'close',trade_time = (12,0,0)):\n",
    "    timedelta_vals = [10,20,30,40,50,60,70,80,90]\n",
    "    comfort_percs = [0.01,0.05,0.1,0.15,0.2]\n",
    "    grid_results = {}\n",
    "    for t in tqdm(timedelta_vals):\n",
    "        for c in tqdm(comfort_percs):\n",
    "            p,decision_dict,p_t,p_tt = back_test_bucket_strat(df,str_dt,price_col = 'close_avax',timedelta_days = t,trade_time = (12,0,0),comfort_perc = c,p_in = [300,100])\n",
    "            grid_results[(t,c)] = (p,decision_dict,p_t)\n",
    "            print((t,c),p)\n",
    "    return(grid_results)\n",
    "    "
   ]
  },
  {
   "cell_type": "code",
   "execution_count": 110,
   "id": "56ad8702",
   "metadata": {},
   "outputs": [
    {
     "data": {
      "application/vnd.jupyter.widget-view+json": {
       "model_id": "be1ed358cd664836860c4d3305213529",
       "version_major": 2,
       "version_minor": 0
      },
      "text/plain": [
       "  0%|          | 0/9 [00:00<?, ?it/s]"
      ]
     },
     "metadata": {},
     "output_type": "display_data"
    },
    {
     "data": {
      "application/vnd.jupyter.widget-view+json": {
       "model_id": "0ff68b2365284f2eaf7b87343381500f",
       "version_major": 2,
       "version_minor": 0
      },
      "text/plain": [
       "  0%|          | 0/5 [00:00<?, ?it/s]"
      ]
     },
     "metadata": {},
     "output_type": "display_data"
    },
    {
     "name": "stdout",
     "output_type": "stream",
     "text": [
      "(10, 0.01) [2235.486220589644, 26.114698542493826]\n",
      "(10, 0.05) [2319.1426688471233, 29.15543084747186]\n",
      "(10, 0.1) [2557.9862747855127, 23.281757841062525]\n",
      "(10, 0.15) [2859.225698939955, 27.99782109318955]\n",
      "(10, 0.2) [2387.652850568048, 20.081440145921587]\n"
     ]
    },
    {
     "data": {
      "application/vnd.jupyter.widget-view+json": {
       "model_id": "5fac805f063740cd8edb4a871a2e3ed1",
       "version_major": 2,
       "version_minor": 0
      },
      "text/plain": [
       "  0%|          | 0/5 [00:00<?, ?it/s]"
      ]
     },
     "metadata": {},
     "output_type": "display_data"
    },
    {
     "name": "stdout",
     "output_type": "stream",
     "text": [
      "(20, 0.01) [3023.686177819647, 30.100903467742416]\n",
      "(20, 0.05) [2921.6168827915303, 28.45694739721189]\n",
      "(20, 0.1) [3148.245120179722, 28.175660018128614]\n",
      "(20, 0.15) [2439.558586800546, 28.016855499362862]\n",
      "(20, 0.2) [2619.2321438918534, 24.05715206176929]\n"
     ]
    },
    {
     "data": {
      "application/vnd.jupyter.widget-view+json": {
       "model_id": "96057b08775c42b8b7e28e4cb65ccfb0",
       "version_major": 2,
       "version_minor": 0
      },
      "text/plain": [
       "  0%|          | 0/5 [00:00<?, ?it/s]"
      ]
     },
     "metadata": {},
     "output_type": "display_data"
    },
    {
     "name": "stdout",
     "output_type": "stream",
     "text": [
      "(30, 0.01) [3168.8415005033307, 31.91137342896614]\n",
      "(30, 0.05) [3107.2261764268687, 32.617275824010946]\n",
      "(30, 0.1) [2641.94801494385, 40.614218369888825]\n",
      "(30, 0.15) [1837.9561824870166, 34.01152751818497]\n",
      "(30, 0.2) [2161.125828543642, 25.333702197688307]\n"
     ]
    },
    {
     "data": {
      "application/vnd.jupyter.widget-view+json": {
       "model_id": "b6ac7b5d837042a1b2219204ff3d1778",
       "version_major": 2,
       "version_minor": 0
      },
      "text/plain": [
       "  0%|          | 0/5 [00:00<?, ?it/s]"
      ]
     },
     "metadata": {},
     "output_type": "display_data"
    },
    {
     "name": "stdout",
     "output_type": "stream",
     "text": [
      "(40, 0.01) [2124.959891666841, 39.56598739009913]\n",
      "(40, 0.05) [1638.9384888753696, 45.495391432256596]\n",
      "(40, 0.1) [1271.7545972551716, 42.413989044262486]\n",
      "(40, 0.15) [1622.9376525322016, 41.06934615589048]\n",
      "(40, 0.2) [1788.407645530206, 29.47385466949453]\n"
     ]
    },
    {
     "data": {
      "application/vnd.jupyter.widget-view+json": {
       "model_id": "c25fd5427b9e4540a953d41fa5d42b0f",
       "version_major": 2,
       "version_minor": 0
      },
      "text/plain": [
       "  0%|          | 0/5 [00:00<?, ?it/s]"
      ]
     },
     "metadata": {},
     "output_type": "display_data"
    },
    {
     "name": "stdout",
     "output_type": "stream",
     "text": [
      "(50, 0.01) [1272.677094346316, 47.13094297697067]\n",
      "(50, 0.05) [1235.3164419786003, 47.176159398409716]\n",
      "(50, 0.1) [1244.5953258507363, 50.202078449327225]\n",
      "(50, 0.15) [1526.4234049507688, 46.123687093149044]\n",
      "(50, 0.2) [1770.1009174788787, 30.84820596356986]\n"
     ]
    },
    {
     "data": {
      "application/vnd.jupyter.widget-view+json": {
       "model_id": "c8c9a9c234fd4fe2ba6e55af4b2d1b06",
       "version_major": 2,
       "version_minor": 0
      },
      "text/plain": [
       "  0%|          | 0/5 [00:00<?, ?it/s]"
      ]
     },
     "metadata": {},
     "output_type": "display_data"
    },
    {
     "name": "stdout",
     "output_type": "stream",
     "text": [
      "(60, 0.01) [779.2070163304437, 45.599295361315335]\n",
      "(60, 0.05) [982.4075451078392, 48.925407776071154]\n",
      "(60, 0.1) [1079.074018101471, 53.50480823671492]\n",
      "(60, 0.15) [1441.672854683657, 49.96616893085]\n",
      "(60, 0.2) [1970.558434014428, 34.26620373703467]\n"
     ]
    },
    {
     "data": {
      "application/vnd.jupyter.widget-view+json": {
       "model_id": "a2634c86eb9940cb9f0ca86af940c67c",
       "version_major": 2,
       "version_minor": 0
      },
      "text/plain": [
       "  0%|          | 0/5 [00:00<?, ?it/s]"
      ]
     },
     "metadata": {},
     "output_type": "display_data"
    },
    {
     "name": "stdout",
     "output_type": "stream",
     "text": [
      "(70, 0.01) [799.6960280711277, 47.26620652054882]\n",
      "(70, 0.05) [950.9646073108478, 49.10518053404962]\n",
      "(70, 0.1) [1207.893449156707, 55.10494738104432]\n",
      "(70, 0.15) [1615.3721800358524, 50.504641152227165]\n",
      "(70, 0.2) [1982.2601817211796, 38.09560665547678]\n"
     ]
    },
    {
     "data": {
      "application/vnd.jupyter.widget-view+json": {
       "model_id": "cd7d2c37fd024d4aa9f4ef16968b302c",
       "version_major": 2,
       "version_minor": 0
      },
      "text/plain": [
       "  0%|          | 0/5 [00:00<?, ?it/s]"
      ]
     },
     "metadata": {},
     "output_type": "display_data"
    },
    {
     "name": "stdout",
     "output_type": "stream",
     "text": [
      "(80, 0.01) [897.287203853825, 52.73655378056877]\n",
      "(80, 0.05) [1198.8514476807022, 58.78368308592623]\n",
      "(80, 0.1) [1529.7631186067124, 59.37807890484909]\n",
      "(80, 0.15) [1977.9918419384408, 52.17592560813483]\n",
      "(80, 0.2) [2284.103423146581, 43.7479443620889]\n"
     ]
    },
    {
     "data": {
      "application/vnd.jupyter.widget-view+json": {
       "model_id": "c912cedded1845a8bc95f575084316a4",
       "version_major": 2,
       "version_minor": 0
      },
      "text/plain": [
       "  0%|          | 0/5 [00:00<?, ?it/s]"
      ]
     },
     "metadata": {},
     "output_type": "display_data"
    },
    {
     "name": "stdout",
     "output_type": "stream",
     "text": [
      "(90, 0.01) [1068.8708495286364, 60.944680010966]\n",
      "(90, 0.05) [1291.547176101652, 64.92707847479656]\n",
      "(90, 0.1) [1756.635687808168, 61.214746913114546]\n",
      "(90, 0.15) [1932.1712023272262, 54.949002413477245]\n",
      "(90, 0.2) [2481.970554991526, 43.773525767494235]\n"
     ]
    }
   ],
   "source": [
    "df_d = prelim_process_df.resample(df_avax,'1D')[1:-1]\n",
    "\n",
    "str_dt = df_d.index[100]\n",
    "\n",
    "\n",
    "grid_results_avax = grid_search(df_avax,str_dt,price_col = 'close_avax',trade_time = (12,0,0))"
   ]
  },
  {
   "cell_type": "code",
   "execution_count": 166,
   "id": "0909b9a3",
   "metadata": {},
   "outputs": [],
   "source": [
    "save_list(grid_results_avax,\"grid_results_avax\")"
   ]
  },
  {
   "cell_type": "code",
   "execution_count": 169,
   "id": "d686a8b0",
   "metadata": {},
   "outputs": [],
   "source": [
    "res = [grid_results_avax[k][0] for k in grid_results_avax.keys()]"
   ]
  },
  {
   "cell_type": "code",
   "execution_count": 174,
   "id": "d24194e7",
   "metadata": {},
   "outputs": [
    {
     "data": {
      "text/plain": [
       "2736"
      ]
     },
     "execution_count": 174,
     "metadata": {},
     "output_type": "execute_result"
    }
   ],
   "source": [
    "38*72"
   ]
  },
  {
   "cell_type": "code",
   "execution_count": 170,
   "id": "b483b0d6",
   "metadata": {},
   "outputs": [
    {
     "data": {
      "text/plain": [
       "[[1973.9656942122876, 25.101873386041817],\n",
       " [1924.975350420987, 18.713541715814312],\n",
       " [1177.5162038474016, 15.258958123388316],\n",
       " [1122.5034613288433, 9.83964691296151],\n",
       " [2807.5850574917167, 28.25098696632527],\n",
       " [2854.156903921951, 26.77814725796997],\n",
       " [1839.0895757922854, 27.41037914765607],\n",
       " [1249.951272767595, 17.18425329034154],\n",
       " [3309.4582219872023, 38.46184590192014],\n",
       " [3127.2718841932906, 31.9184997234129],\n",
       " [1489.4365989212497, 38.90627680742624],\n",
       " [905.4541987138882, 16.129785116393705],\n",
       " [1556.774828704276, 54.10974877602252],\n",
       " [2621.988938033616, 53.77903025707537],\n",
       " [736.0287786078942, 31.428062979983626],\n",
       " [837.0362349901835, 16.030768640327583],\n",
       " [1066.6912497596736, 46.612401241018446],\n",
       " [1352.763996840378, 60.174868209066],\n",
       " [747.463473399137, 32.12396969202388],\n",
       " [850.1476811655269, 16.708862024846677],\n",
       " [855.9535103906545, 63.506128785299296],\n",
       " [776.0337454462268, 46.93980752342905],\n",
       " [938.6207723516757, 21.317427252692184],\n",
       " [979.5385846211825, 14.283113283825267],\n",
       " [791.6633349707123, 56.97071534106515],\n",
       " [765.1936089787034, 52.2721147479165],\n",
       " [1227.7114486201829, 15.40582640276894],\n",
       " [1514.7196305549862, 9.708424572927653],\n",
       " [774.0368677027587, 41.64125609442714],\n",
       " [801.1343192699312, 43.210445590086515],\n",
       " [1424.4083780594071, 12.141602695406734],\n",
       " [1729.5568247225758, 8.449304661428997],\n",
       " [879.4984403310934, 28.2296206581305],\n",
       " [890.522840499348, 32.52765010747523],\n",
       " [1531.4336218609585, 11.641744546260064],\n",
       " [1857.2290336755336, 7.462381756376776]]"
      ]
     },
     "execution_count": 170,
     "metadata": {},
     "output_type": "execute_result"
    }
   ],
   "source": [
    "res"
   ]
  },
  {
   "cell_type": "code",
   "execution_count": 173,
   "id": "ec5739c4",
   "metadata": {},
   "outputs": [
    {
     "data": {
      "text/plain": [
       "[sell          193\n",
       " buy           162\n",
       " do_nothing    161\n",
       " dtype: int64,\n",
       " sell          251\n",
       " buy           224\n",
       " do_nothing     41\n",
       " dtype: int64,\n",
       " do_nothing    342\n",
       " sell          111\n",
       " buy            63\n",
       " dtype: int64,\n",
       " do_nothing    403\n",
       " sell           81\n",
       " buy            32\n",
       " dtype: int64,\n",
       " sell          231\n",
       " buy           189\n",
       " do_nothing     96\n",
       " dtype: int64,\n",
       " sell          267\n",
       " buy           235\n",
       " do_nothing     14\n",
       " dtype: int64,\n",
       " do_nothing    277\n",
       " sell          149\n",
       " buy            90\n",
       " dtype: int64,\n",
       " do_nothing    340\n",
       " sell          120\n",
       " buy            56\n",
       " dtype: int64,\n",
       " sell          220\n",
       " buy           191\n",
       " do_nothing    105\n",
       " dtype: int64,\n",
       " sell          266\n",
       " buy           231\n",
       " do_nothing     19\n",
       " dtype: int64,\n",
       " do_nothing    273\n",
       " sell          149\n",
       " buy            94\n",
       " dtype: int64,\n",
       " do_nothing    334\n",
       " sell          127\n",
       " buy            55\n",
       " dtype: int64,\n",
       " sell          230\n",
       " buy           188\n",
       " do_nothing     98\n",
       " dtype: int64,\n",
       " sell          262\n",
       " buy           236\n",
       " do_nothing     18\n",
       " dtype: int64,\n",
       " do_nothing    260\n",
       " sell          162\n",
       " buy            94\n",
       " dtype: int64,\n",
       " do_nothing    301\n",
       " sell          150\n",
       " buy            65\n",
       " dtype: int64,\n",
       " sell          239\n",
       " buy           187\n",
       " do_nothing     90\n",
       " dtype: int64,\n",
       " sell          270\n",
       " buy           232\n",
       " do_nothing     14\n",
       " dtype: int64,\n",
       " do_nothing    227\n",
       " sell          184\n",
       " buy           105\n",
       " dtype: int64,\n",
       " do_nothing    283\n",
       " sell          164\n",
       " buy            69\n",
       " dtype: int64,\n",
       " sell          253\n",
       " buy           185\n",
       " do_nothing     78\n",
       " dtype: int64,\n",
       " sell          281\n",
       " buy           217\n",
       " do_nothing     18\n",
       " dtype: int64,\n",
       " do_nothing    204\n",
       " sell          199\n",
       " buy           113\n",
       " dtype: int64,\n",
       " do_nothing    255\n",
       " sell          185\n",
       " buy            76\n",
       " dtype: int64,\n",
       " sell          272\n",
       " buy           188\n",
       " do_nothing     56\n",
       " dtype: int64,\n",
       " sell          293\n",
       " buy           213\n",
       " do_nothing     10\n",
       " dtype: int64,\n",
       " sell          215\n",
       " do_nothing    185\n",
       " buy           116\n",
       " dtype: int64,\n",
       " do_nothing    229\n",
       " sell          200\n",
       " buy            87\n",
       " dtype: int64,\n",
       " sell          276\n",
       " buy           188\n",
       " do_nothing     52\n",
       " dtype: int64,\n",
       " sell          292\n",
       " buy           216\n",
       " do_nothing      8\n",
       " dtype: int64,\n",
       " sell          231\n",
       " do_nothing    170\n",
       " buy           115\n",
       " dtype: int64,\n",
       " sell          214\n",
       " do_nothing    207\n",
       " buy            95\n",
       " dtype: int64,\n",
       " sell          278\n",
       " buy           185\n",
       " do_nothing     53\n",
       " dtype: int64,\n",
       " sell          292\n",
       " buy           214\n",
       " do_nothing     10\n",
       " dtype: int64,\n",
       " sell          249\n",
       " do_nothing    149\n",
       " buy           118\n",
       " dtype: int64,\n",
       " sell          224\n",
       " do_nothing    197\n",
       " buy            95\n",
       " dtype: int64]"
      ]
     },
     "execution_count": 173,
     "metadata": {},
     "output_type": "execute_result"
    }
   ],
   "source": [
    "[pd.Series(grid_results_avax[k][1]).value_counts() for k in grid_results_avax.keys()]"
   ]
  },
  {
   "cell_type": "code",
   "execution_count": null,
   "id": "67ece763",
   "metadata": {},
   "outputs": [],
   "source": []
  },
  {
   "cell_type": "code",
   "execution_count": 122,
   "id": "cd6c7f0d",
   "metadata": {},
   "outputs": [
    {
     "data": {
      "text/plain": [
       "3773.4565441843456"
      ]
     },
     "execution_count": 122,
     "metadata": {},
     "output_type": "execute_result"
    }
   ],
   "source": [
    "grid_results_btc = grid_search(df_btc,str_dt,price_col = 'close_btc',trade_time = (12,0,0))"
   ]
  },
  {
   "cell_type": "code",
   "execution_count": null,
   "id": "e5a8337f",
   "metadata": {},
   "outputs": [],
   "source": [
    "grid_results_eth = grid_search(df_eth,str_dt,price_col = 'close_eth',trade_time = (12,0,0))"
   ]
  },
  {
   "cell_type": "code",
   "execution_count": null,
   "id": "73067059",
   "metadata": {},
   "outputs": [],
   "source": []
  },
  {
   "cell_type": "code",
   "execution_count": null,
   "id": "1a3c020a",
   "metadata": {},
   "outputs": [],
   "source": []
  },
  {
   "cell_type": "code",
   "execution_count": 73,
   "id": "6074ef93",
   "metadata": {},
   "outputs": [
    {
     "data": {
      "text/plain": [
       "382.12"
      ]
     },
     "execution_count": 73,
     "metadata": {},
     "output_type": "execute_result"
    }
   ],
   "source": [
    "df_avax.loc[str_dt]['close_avax']*100 + 100"
   ]
  },
  {
   "cell_type": "code",
   "execution_count": 74,
   "id": "475acbdc",
   "metadata": {},
   "outputs": [
    {
     "data": {
      "text/plain": [
       "29485.576426907173"
      ]
     },
     "execution_count": 74,
     "metadata": {},
     "output_type": "execute_result"
    }
   ],
   "source": [
    "(df_avax.iloc[-1]['close_avax']*p[1]) + (p[0])"
   ]
  },
  {
   "cell_type": "code",
   "execution_count": 64,
   "id": "20bb90f5",
   "metadata": {},
   "outputs": [
    {
     "data": {
      "text/plain": [
       "72.03"
      ]
     },
     "execution_count": 64,
     "metadata": {},
     "output_type": "execute_result"
    }
   ],
   "source": [
    "df_avax.iloc[-1]['close_avax']"
   ]
  },
  {
   "cell_type": "code",
   "execution_count": 23,
   "id": "ad379e53",
   "metadata": {},
   "outputs": [
    {
     "data": {
      "text/plain": [
       "Timestamp('2020-10-23 00:00:00', freq='D')"
      ]
     },
     "execution_count": 23,
     "metadata": {},
     "output_type": "execute_result"
    }
   ],
   "source": []
  },
  {
   "cell_type": "code",
   "execution_count": 86,
   "id": "2cf632b0",
   "metadata": {},
   "outputs": [
    {
     "data": {
      "text/plain": [
       "open_avax             39.571000\n",
       "high_avax             39.780000\n",
       "low_avax              39.549000\n",
       "close_avax            39.676000\n",
       "volume_avax         9963.432000\n",
       "returns_avax           0.002653\n",
       "log_returns_avax       0.002650\n",
       "vol_usdt_K_avax      394.786048\n",
       "Name: 2021-05-16 00:00:00, dtype: float64"
      ]
     },
     "execution_count": 86,
     "metadata": {},
     "output_type": "execute_result"
    }
   ],
   "source": [
    "df_avax.loc[s]"
   ]
  },
  {
   "cell_type": "code",
   "execution_count": null,
   "id": "2c9901e0",
   "metadata": {},
   "outputs": [],
   "source": []
  }
 ],
 "metadata": {
  "kernelspec": {
   "display_name": "Python 3 (ipykernel)",
   "language": "python",
   "name": "python3"
  },
  "language_info": {
   "codemirror_mode": {
    "name": "ipython",
    "version": 3
   },
   "file_extension": ".py",
   "mimetype": "text/x-python",
   "name": "python",
   "nbconvert_exporter": "python",
   "pygments_lexer": "ipython3",
   "version": "3.8.8"
  }
 },
 "nbformat": 4,
 "nbformat_minor": 5
}
