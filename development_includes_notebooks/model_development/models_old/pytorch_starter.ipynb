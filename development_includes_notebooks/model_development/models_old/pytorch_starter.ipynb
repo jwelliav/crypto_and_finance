{
 "cells": [
  {
   "cell_type": "code",
   "execution_count": 1,
   "id": "86f0de94",
   "metadata": {},
   "outputs": [],
   "source": [
    "import pandas as pd\n",
    "import numpy as np\n",
    "import torch \n",
    "import matplotlib.pyplot as plt\n",
    "import seaborn as sns\n",
    "from datetime import datetime\n",
    "from torch.utils.data import DataLoader\n",
    "import torch.nn as nn\n",
    "import torch.optim as optim\n",
    "import numpy as np\n",
    "from sklearn.model_selection import TimeSeriesSplit"
   ]
  },
  {
   "cell_type": "code",
   "execution_count": 2,
   "id": "28f92d4e",
   "metadata": {},
   "outputs": [],
   "source": [
    "device = torch.device('cuda:0')"
   ]
  },
  {
   "cell_type": "code",
   "execution_count": 3,
   "id": "48f00c2c",
   "metadata": {},
   "outputs": [],
   "source": [
    "path = '/home/jwelliav/Documents/Crypto/data/Binance/AVAX_USDT.csv'\n",
    "\n",
    "df = pd.read_csv(path, names = ['timestamp','open','high','low','close','volume'])\n",
    "df = df.set_index('timestamp')"
   ]
  },
  {
   "cell_type": "code",
   "execution_count": 4,
   "id": "b6caa173",
   "metadata": {},
   "outputs": [],
   "source": [
    "df['pct_change'] = df.close.pct_change()\n",
    "df['log_ret'] = np.log(df.close) - np.log(df.close.shift(1))\n",
    "df['vol_usdt_K'] = (((df['open'] + df['close'])/2)*df['volume'])/1000\n",
    "df = df.iloc[1:-1]\n",
    "\n",
    "tmp = [x/1000 for x in (df.index)]\n",
    "l = list(map(datetime.fromtimestamp,tmp))\n",
    "\n",
    "df['datetime'] = l"
   ]
  },
  {
   "cell_type": "code",
   "execution_count": 6,
   "id": "b255915e",
   "metadata": {},
   "outputs": [],
   "source": [
    "df.columns = [x + '_avax' for x in df.columns]"
   ]
  },
  {
   "cell_type": "code",
   "execution_count": null,
   "id": "2f233a65",
   "metadata": {},
   "outputs": [],
   "source": []
  },
  {
   "cell_type": "code",
   "execution_count": null,
   "id": "a701ae39",
   "metadata": {},
   "outputs": [],
   "source": []
  },
  {
   "cell_type": "code",
   "execution_count": 8,
   "id": "82ea1a0d",
   "metadata": {},
   "outputs": [
    {
     "data": {
      "text/html": [
       "<div>\n",
       "<style scoped>\n",
       "    .dataframe tbody tr th:only-of-type {\n",
       "        vertical-align: middle;\n",
       "    }\n",
       "\n",
       "    .dataframe tbody tr th {\n",
       "        vertical-align: top;\n",
       "    }\n",
       "\n",
       "    .dataframe thead th {\n",
       "        text-align: right;\n",
       "    }\n",
       "</style>\n",
       "<table border=\"1\" class=\"dataframe\">\n",
       "  <thead>\n",
       "    <tr style=\"text-align: right;\">\n",
       "      <th></th>\n",
       "      <th>open</th>\n",
       "      <th>high</th>\n",
       "      <th>low</th>\n",
       "      <th>close</th>\n",
       "      <th>volume</th>\n",
       "      <th>pct_change</th>\n",
       "      <th>log_ret</th>\n",
       "      <th>vol_usdt_K</th>\n",
       "      <th>datetime</th>\n",
       "    </tr>\n",
       "    <tr>\n",
       "      <th>timestamp</th>\n",
       "      <th></th>\n",
       "      <th></th>\n",
       "      <th></th>\n",
       "      <th></th>\n",
       "      <th></th>\n",
       "      <th></th>\n",
       "      <th></th>\n",
       "      <th></th>\n",
       "      <th></th>\n",
       "    </tr>\n",
       "  </thead>\n",
       "  <tbody>\n",
       "    <tr>\n",
       "      <th>1600756320000</th>\n",
       "      <td>4.2500</td>\n",
       "      <td>4.4351</td>\n",
       "      <td>4.0611</td>\n",
       "      <td>4.1021</td>\n",
       "      <td>137106.97</td>\n",
       "      <td>-0.041005</td>\n",
       "      <td>-0.041870</td>\n",
       "      <td>572.565562</td>\n",
       "      <td>2020-09-22 15:32:00</td>\n",
       "    </tr>\n",
       "    <tr>\n",
       "      <th>1600756380000</th>\n",
       "      <td>4.1027</td>\n",
       "      <td>4.2000</td>\n",
       "      <td>4.0061</td>\n",
       "      <td>4.1699</td>\n",
       "      <td>117775.14</td>\n",
       "      <td>0.016528</td>\n",
       "      <td>0.016393</td>\n",
       "      <td>487.153312</td>\n",
       "      <td>2020-09-22 15:33:00</td>\n",
       "    </tr>\n",
       "    <tr>\n",
       "      <th>1600756440000</th>\n",
       "      <td>4.1699</td>\n",
       "      <td>4.1990</td>\n",
       "      <td>4.1076</td>\n",
       "      <td>4.1800</td>\n",
       "      <td>72788.25</td>\n",
       "      <td>0.002422</td>\n",
       "      <td>0.002419</td>\n",
       "      <td>303.887304</td>\n",
       "      <td>2020-09-22 15:34:00</td>\n",
       "    </tr>\n",
       "    <tr>\n",
       "      <th>1600756500000</th>\n",
       "      <td>4.1704</td>\n",
       "      <td>4.3879</td>\n",
       "      <td>4.0487</td>\n",
       "      <td>4.3350</td>\n",
       "      <td>115621.12</td>\n",
       "      <td>0.037081</td>\n",
       "      <td>0.036410</td>\n",
       "      <td>491.701937</td>\n",
       "      <td>2020-09-22 15:35:00</td>\n",
       "    </tr>\n",
       "    <tr>\n",
       "      <th>1600756560000</th>\n",
       "      <td>4.3350</td>\n",
       "      <td>4.3351</td>\n",
       "      <td>4.2000</td>\n",
       "      <td>4.2900</td>\n",
       "      <td>67848.12</td>\n",
       "      <td>-0.010381</td>\n",
       "      <td>-0.010435</td>\n",
       "      <td>292.595017</td>\n",
       "      <td>2020-09-22 15:36:00</td>\n",
       "    </tr>\n",
       "  </tbody>\n",
       "</table>\n",
       "</div>"
      ],
      "text/plain": [
       "                 open    high     low   close     volume  pct_change  \\\n",
       "timestamp                                                              \n",
       "1600756320000  4.2500  4.4351  4.0611  4.1021  137106.97   -0.041005   \n",
       "1600756380000  4.1027  4.2000  4.0061  4.1699  117775.14    0.016528   \n",
       "1600756440000  4.1699  4.1990  4.1076  4.1800   72788.25    0.002422   \n",
       "1600756500000  4.1704  4.3879  4.0487  4.3350  115621.12    0.037081   \n",
       "1600756560000  4.3350  4.3351  4.2000  4.2900   67848.12   -0.010381   \n",
       "\n",
       "                log_ret  vol_usdt_K            datetime  \n",
       "timestamp                                                \n",
       "1600756320000 -0.041870  572.565562 2020-09-22 15:32:00  \n",
       "1600756380000  0.016393  487.153312 2020-09-22 15:33:00  \n",
       "1600756440000  0.002419  303.887304 2020-09-22 15:34:00  \n",
       "1600756500000  0.036410  491.701937 2020-09-22 15:35:00  \n",
       "1600756560000 -0.010435  292.595017 2020-09-22 15:36:00  "
      ]
     },
     "execution_count": 8,
     "metadata": {},
     "output_type": "execute_result"
    }
   ],
   "source": [
    "df.head()"
   ]
  },
  {
   "cell_type": "code",
   "execution_count": null,
   "id": "d71f44e6",
   "metadata": {},
   "outputs": [],
   "source": [
    "tmp = df[['datetime','close']].set_index('datetime')\n",
    "\n",
    "plt.figure(figsize=(12,6))\n",
    "sns.lineplot(data= tmp.close[::60*24].pct_change())\n",
    "plt.title('Daily pct change of AVAX in USDT')\n",
    "plt.ylabel('Price in USDT')"
   ]
  },
  {
   "cell_type": "code",
   "execution_count": 9,
   "id": "30972e3b",
   "metadata": {},
   "outputs": [
    {
     "data": {
      "text/plain": [
       "Text(0, 0.5, 'Price in USDT')"
      ]
     },
     "execution_count": 9,
     "metadata": {},
     "output_type": "execute_result"
    },
    {
     "data": {
      "image/png": "[encoded data removed]",
      "text/plain": [
       "<Figure size 864x432 with 1 Axes>"
      ]
     },
     "metadata": {
      "needs_background": "light"
     },
     "output_type": "display_data"
    }
   ],
   "source": [
    "tmp = df[['datetime','close']].set_index('datetime')\n",
    "\n",
    "plt.figure(figsize=(12,6))\n",
    "sns.lineplot(data= tmp.close[::60*24].pct_change())\n",
    "plt.title('Daily pct change of AVAX in USDT')\n",
    "plt.ylabel('Price in USDT')"
   ]
  },
  {
   "cell_type": "code",
   "execution_count": 68,
   "id": "2f3bc9d5",
   "metadata": {},
   "outputs": [],
   "source": [
    "class avax_usdt_dataset(torch.utils.data.Dataset):\n",
    "    \n",
    "    def __init__(self,df,lag):\n",
    "        \n",
    "        self.lag = lag\n",
    "        y = df['close'][1:]\n",
    "        self.df = df.iloc[:-1,:]\n",
    "        self.X = self.df[['open','high','low','close','vol_usdt_K']].values\n",
    "        \n",
    "        self.y = y.values\n",
    "    \n",
    "    def __getitem__(self,idx):\n",
    "        \n",
    "        m = self.X.shape[1]\n",
    "        if idx < self.lag:\n",
    "            r = self.lag - idx - 1\n",
    "            tmp1 = np.zeros((r,m))\n",
    "            tmp2 = self.X[:idx + 1]\n",
    "            x = np.concatenate((tmp1,tmp2))\n",
    "            \n",
    "        if idx >= self.lag:\n",
    "            x = self.X[idx-self.lag+1 : idx+1] \n",
    "            \n",
    "        x = x.flatten()\n",
    "            \n",
    "        x = torch.tensor(x)  \n",
    "        \n",
    "        y = torch.tensor(self.y[idx])\n",
    "        \n",
    "        return(x.float().to(device),y.float().to(device))\n",
    "        \n",
    "    def __len__(self):\n",
    "        \n",
    "        return(len(self.df))\n",
    "    "
   ]
  },
  {
   "cell_type": "code",
   "execution_count": 69,
   "id": "ec3ac842",
   "metadata": {},
   "outputs": [],
   "source": [
    "class simple_model(nn.Module):\n",
    "    \n",
    "    def __init__(self,hidden_size):\n",
    "        super().__init__()\n",
    "        self.fc1 = nn.LazyLinear(hidden_size)\n",
    "        self.bn1 = nn.BatchNorm1d(hidden_size)\n",
    "        self.relu1 = nn.ReLU()\n",
    "        self.fc2 = nn.LazyLinear(1)\n",
    "        self.relu2 = nn.ReLU()\n",
    "        \n",
    "    def forward(self,x):\n",
    "        x = self.relu1(self.fc1(x))\n",
    "        y = self.relu2(self.fc2(x))\n",
    "        return(y)"
   ]
  },
  {
   "cell_type": "code",
   "execution_count": 79,
   "id": "ce8d752b",
   "metadata": {},
   "outputs": [],
   "source": [
    "class baseline_model(nn.Module):\n",
    "    \n",
    "    def __init__(self):\n",
    "        super().__init__()\n",
    "        \n",
    "    def forward(self,x):\n",
    "        z = torch.tensor([t[-2] for t in x])\n",
    "        return(z)"
   ]
  },
  {
   "cell_type": "code",
   "execution_count": 86,
   "id": "3fd4e2a1",
   "metadata": {},
   "outputs": [],
   "source": [
    "base_model = baseline_model()"
   ]
  },
  {
   "cell_type": "code",
   "execution_count": 87,
   "id": "bcd9afbe",
   "metadata": {},
   "outputs": [],
   "source": [
    "num_epochs = 10"
   ]
  },
  {
   "cell_type": "code",
   "execution_count": 88,
   "id": "9a8c9831",
   "metadata": {},
   "outputs": [],
   "source": [
    "f = simple_model(10).cuda()"
   ]
  },
  {
   "cell_type": "code",
   "execution_count": 89,
   "id": "e6e09233",
   "metadata": {},
   "outputs": [],
   "source": [
    "criterion = nn.MSELoss()\n",
    "optimizer = optim.Adam(f.parameters(),lr = 0.001)"
   ]
  },
  {
   "cell_type": "code",
   "execution_count": 90,
   "id": "980d7ba1",
   "metadata": {},
   "outputs": [
    {
     "name": "stdout",
     "output_type": "stream",
     "text": [
      "[1] loss: 0.63504\n",
      "[2] loss: 0.23860\n",
      "[3] loss: 0.06861\n",
      "[4] loss: 0.04673\n",
      "[5] loss: 0.03573\n",
      "[6] loss: 0.03168\n",
      "[7] loss: 0.02115\n",
      "[8] loss: 0.02797\n",
      "[9] loss: 0.01364\n",
      "[10] loss: 0.02198\n",
      "Finished Training for split 1\n"
     ]
    },
    {
     "name": "stderr",
     "output_type": "stream",
     "text": [
      "/home/jwelliav/anaconda3/lib/python3.8/site-packages/torch/nn/modules/loss.py:528: UserWarning: Using a target size (torch.Size([31, 1])) that is different to the input size (torch.Size([31])). This will likely lead to incorrect results due to broadcasting. Please ensure they have the same size.\n",
      "  return F.mse_loss(input, target, reduction=self.reduction)\n"
     ]
    },
    {
     "name": "stdout",
     "output_type": "stream",
     "text": [
      "Model Testing loss: 5.39244\n",
      "Baseline Testing loss: 0.00835\n",
      "Finished Testing for split 1\n",
      "[1] loss: 0.09795\n",
      "[2] loss: 0.08009\n",
      "[3] loss: 0.06895\n",
      "[4] loss: 0.06653\n",
      "[5] loss: 0.06847\n",
      "[6] loss: 0.06869\n",
      "[7] loss: 0.06852\n",
      "[8] loss: 0.06817\n",
      "[9] loss: 0.06770\n",
      "[10] loss: 0.06723\n",
      "Finished Training for split 2\n",
      "Model Testing loss: 0.18187\n",
      "Baseline Testing loss: 0.00739\n",
      "Finished Testing for split 2\n",
      "[1] loss: 0.06595\n",
      "[2] loss: 0.06160\n",
      "[3] loss: 0.04870\n",
      "[4] loss: 0.04928\n",
      "[5] loss: 0.04736\n",
      "[6] loss: 0.04947\n",
      "[7] loss: 0.04595\n",
      "[8] loss: 0.05049\n",
      "[9] loss: 0.04394\n",
      "[10] loss: 0.05114\n",
      "Finished Training for split 3\n",
      "Model Testing loss: 0.17003\n",
      "Baseline Testing loss: 0.00433\n",
      "Finished Testing for split 3\n",
      "[1] loss: 0.05140\n",
      "[2] loss: 0.04905\n",
      "[3] loss: 0.05305\n",
      "[4] loss: 0.07143\n",
      "[5] loss: 0.04117\n",
      "[6] loss: 0.04309\n",
      "[7] loss: 0.03941\n",
      "[8] loss: 0.04423\n",
      "[9] loss: 0.05096\n",
      "[10] loss: 0.04593\n",
      "Finished Training for split 4\n",
      "Model Testing loss: 1.33254\n",
      "Baseline Testing loss: 0.02878\n",
      "Finished Testing for split 4\n",
      "[1] loss: 0.08436\n",
      "[2] loss: 0.07399\n",
      "[3] loss: 0.07378\n",
      "[4] loss: 0.07137\n",
      "[5] loss: 0.07062\n",
      "[6] loss: 0.07034\n",
      "[7] loss: 0.06962\n",
      "[8] loss: 0.06827\n",
      "[9] loss: 0.06749\n",
      "[10] loss: 0.06629\n",
      "Finished Training for split 5\n",
      "Model Testing loss: 0.83097\n",
      "Baseline Testing loss: 0.02649\n",
      "Finished Testing for split 5\n"
     ]
    }
   ],
   "source": [
    "## training step \n",
    "\n",
    "tscv = TimeSeriesSplit(gap = 72*60, n_splits = 5)\n",
    "\n",
    "results = {}\n",
    "\n",
    "for r,(trainidx,testidx) in enumerate(tscv.split(df)): \n",
    "    \n",
    "    ds = avax_usdt_dataset(df.iloc[trainidx],10)\n",
    "    trainloader = DataLoader(ds, batch_size = 64, shuffle= False)\n",
    "    \n",
    "    #f.train()\n",
    "    \n",
    "    for i in range(num_epochs):\n",
    "        \n",
    "        running_loss = 0.0\n",
    "        \n",
    "        for j,batch in enumerate(trainloader):\n",
    "            \n",
    "            inputs,labels = batch\n",
    "            outputs = f(inputs)\n",
    "            \n",
    "            optimizer.zero_grad()\n",
    "            \n",
    "            loss = criterion(labels,torch.squeeze(outputs))\n",
    "            \n",
    "            loss.backward()\n",
    "            optimizer.step()\n",
    "            \n",
    "            # print statistics\n",
    "            running_loss += loss.item()\n",
    "        print(f'[{i + 1}] loss: {running_loss / len(trainloader):.5f}')\n",
    "        running_loss = 0.0\n",
    "    \n",
    "    print(f'Finished Training for split {r+1}')\n",
    "    \n",
    "    ds = avax_usdt_dataset(df.iloc[testidx],10)\n",
    "    testloader = DataLoader(ds, batch_size = 64, shuffle= False)\n",
    "    \n",
    "    #f.eval()\n",
    "    \n",
    "    results[r] = []\n",
    "    \n",
    "    with torch.no_grad():\n",
    "        \n",
    "        running_loss = 0.0\n",
    "        baseline_running_loss = 0.0\n",
    "        \n",
    "        for batch in (testloader):\n",
    "                \n",
    "                inputs,labels = batch\n",
    "                outputs = f(inputs)\n",
    "                \n",
    "                results[r].append((inputs,labels,outputs))\n",
    "                \n",
    "                baseline_pred = base_model(inputs)\n",
    "                baseline_loss = criterion(labels,baseline_pred.to(device))\n",
    "                \n",
    "                loss = criterion(labels,outputs)\n",
    "                \n",
    "                # print statistics\n",
    "                running_loss += loss.item()\n",
    "                baseline_running_loss += baseline_loss.item()\n",
    "                \n",
    "        print(f'Model Testing loss: {running_loss / len(testloader):.5f}')  \n",
    "        print(f'Baseline Testing loss: {baseline_running_loss / len(testloader):.5f}')\n",
    "        print(f'Finished Testing for split {r+1}')"
   ]
  },
  {
   "cell_type": "code",
   "execution_count": null,
   "id": "1044e987",
   "metadata": {},
   "outputs": [],
   "source": []
  },
  {
   "cell_type": "code",
   "execution_count": 19,
   "id": "1b02a751",
   "metadata": {},
   "outputs": [],
   "source": [
    "#torch.save(f.state_dict(),'f_attempt_1')"
   ]
  },
  {
   "cell_type": "code",
   "execution_count": 37,
   "id": "38fd3c9f",
   "metadata": {},
   "outputs": [
    {
     "data": {
      "text/plain": [
       "<All keys matched successfully>"
      ]
     },
     "execution_count": 37,
     "metadata": {},
     "output_type": "execute_result"
    }
   ],
   "source": [
    "f.load_state_dict(torch.load('/home/jwelliav/Documents/Crypto/models/pytorch_starter/f_attempt_1'))"
   ]
  },
  {
   "cell_type": "code",
   "execution_count": 22,
   "id": "1fc6435d",
   "metadata": {},
   "outputs": [],
   "source": [
    "ds = avax_usdt_dataset(df,10)\n",
    "trainloader = DataLoader(ds, batch_size = 64, shuffle= False) "
   ]
  },
  {
   "cell_type": "code",
   "execution_count": 23,
   "id": "9a532f91",
   "metadata": {},
   "outputs": [],
   "source": [
    "batch = next(iter(trainloader))"
   ]
  },
  {
   "cell_type": "code",
   "execution_count": 30,
   "id": "d52aea69",
   "metadata": {},
   "outputs": [
    {
     "data": {
      "text/plain": [
       "tensor(4.1021, device='cuda:0')"
      ]
     },
     "execution_count": 30,
     "metadata": {},
     "output_type": "execute_result"
    }
   ],
   "source": [
    "batch[0][0][-2]"
   ]
  },
  {
   "cell_type": "code",
   "execution_count": 41,
   "id": "dc95395c",
   "metadata": {},
   "outputs": [
    {
     "data": {
      "text/plain": [
       "tensor([  5.2102,   5.2132,   5.0600,   5.0918, 187.6034,   5.0918,   5.0996,\n",
       "          4.8300,   4.8900, 422.7390,   4.8898,   4.8900,   4.6938,   4.7801,\n",
       "        290.0742,   4.7981,   4.8390,   4.6666,   4.8250, 300.3293,   4.8140,\n",
       "          4.9900,   4.8121,   4.9312, 337.5367,   4.9141,   5.1500,   4.9140,\n",
       "          5.0992, 455.5319,   5.0992,   5.1000,   4.9375,   5.0642, 238.6149,\n",
       "          5.0642,   5.0642,   4.9801,   4.9916, 143.6602,   4.9915,   4.9915,\n",
       "          4.8443,   4.8803, 106.4969,   4.8803,   5.0204,   4.8801,   4.9791,\n",
       "        106.7847], device='cuda:0')"
      ]
     },
     "execution_count": 41,
     "metadata": {},
     "output_type": "execute_result"
    }
   ],
   "source": [
    "base_model(batch[0])"
   ]
  },
  {
   "cell_type": "code",
   "execution_count": 42,
   "id": "16c23e25",
   "metadata": {},
   "outputs": [
    {
     "data": {
      "text/plain": [
       "tensor([[  0.0000,   0.0000,   0.0000,  ...,   4.0611,   4.1021, 572.5656],\n",
       "        [  0.0000,   0.0000,   0.0000,  ...,   4.0061,   4.1699, 487.1533],\n",
       "        [  0.0000,   0.0000,   0.0000,  ...,   4.1076,   4.1800, 303.8873],\n",
       "        ...,\n",
       "        [  5.1976,   5.2366,   5.1415,  ...,   4.8443,   4.8803, 106.4969],\n",
       "        [  5.2102,   5.2132,   5.0600,  ...,   4.8801,   4.9791, 106.7847],\n",
       "        [  5.0918,   5.0996,   4.8300,  ...,   4.8085,   4.9250, 100.7028]],\n",
       "       device='cuda:0')"
      ]
     },
     "execution_count": 42,
     "metadata": {},
     "output_type": "execute_result"
    }
   ],
   "source": [
    "batch[0]"
   ]
  },
  {
   "cell_type": "code",
   "execution_count": 45,
   "id": "01b4de33",
   "metadata": {},
   "outputs": [
    {
     "data": {
      "text/plain": [
       "tensor([4.1021, 4.1699, 4.1800, 4.3350, 4.2900, 4.5602, 4.8480, 4.8342, 4.8090,\n",
       "        4.9600, 5.1257, 5.2046, 5.4000, 5.5274, 5.2291, 5.4563, 5.4073, 5.5494,\n",
       "        5.3270, 5.4249, 5.3851, 5.2499, 5.2000, 4.9737, 4.8244, 4.7714, 4.9016,\n",
       "        4.8811, 4.9283, 4.8017, 4.7175, 4.5268, 4.3388, 4.5086, 4.6105, 4.6906,\n",
       "        4.4816, 4.4200, 4.3890, 4.3800, 4.4306, 4.4523, 4.4593, 4.5642, 5.0000,\n",
       "        4.9435, 5.2050, 5.0713, 5.1462, 5.1419, 5.3040, 5.1950, 5.2102, 5.0918,\n",
       "        4.8900, 4.7801, 4.8250, 4.9312, 5.0992, 5.0642, 4.9916, 4.8803, 4.9791,\n",
       "        4.9250])"
      ]
     },
     "execution_count": 45,
     "metadata": {},
     "output_type": "execute_result"
    }
   ],
   "source": [
    "torch.tensor([x[-2] for x in batch[0]])"
   ]
  },
  {
   "cell_type": "code",
   "execution_count": 52,
   "id": "06d55517",
   "metadata": {},
   "outputs": [
    {
     "data": {
      "text/plain": [
       "tensor([4.1021, 4.1699, 4.1800, 4.3350, 4.2900, 4.5602, 4.8480, 4.8342, 4.8090,\n",
       "        4.9600, 5.1257, 5.2046, 5.4000, 5.5274, 5.2291, 5.4563, 5.4073, 5.5494,\n",
       "        5.3270, 5.4249, 5.3851, 5.2499, 5.2000, 4.9737, 4.8244, 4.7714, 4.9016,\n",
       "        4.8811, 4.9283, 4.8017, 4.7175, 4.5268, 4.3388, 4.5086, 4.6105, 4.6906,\n",
       "        4.4816, 4.4200, 4.3890, 4.3800, 4.4306, 4.4523, 4.4593, 4.5642, 5.0000,\n",
       "        4.9435, 5.2050, 5.0713, 5.1462, 5.1419, 5.3040, 5.1950, 5.2102, 5.0918,\n",
       "        4.8900, 4.7801, 4.8250, 4.9312, 5.0992, 5.0642, 4.9916, 4.8803, 4.9791,\n",
       "        4.9250])"
      ]
     },
     "execution_count": 52,
     "metadata": {},
     "output_type": "execute_result"
    }
   ],
   "source": [
    "base_model(batch[0])"
   ]
  },
  {
   "cell_type": "code",
   "execution_count": 58,
   "id": "299022c6",
   "metadata": {},
   "outputs": [
    {
     "data": {
      "text/plain": [
       "torch.Size([64])"
      ]
     },
     "execution_count": 58,
     "metadata": {},
     "output_type": "execute_result"
    }
   ],
   "source": [
    "batch[1].shape"
   ]
  },
  {
   "cell_type": "code",
   "execution_count": null,
   "id": "5078207e",
   "metadata": {},
   "outputs": [],
   "source": [
    "#torch.unsqueeze(batch[1],1)"
   ]
  },
  {
   "cell_type": "code",
   "execution_count": 77,
   "id": "7af8585e",
   "metadata": {},
   "outputs": [
    {
     "data": {
      "text/plain": [
       "tensor([3.5632, 3.5642, 3.5764, 3.5671, 3.5741, 3.5733, 3.5837, 3.5798, 3.5749,\n",
       "        3.5811, 3.5839, 3.6073, 3.6100, 3.6013, 3.5586, 3.5900, 3.6200, 3.6051,\n",
       "        3.5645, 3.5674, 3.5991, 3.6140, 3.5867, 3.5912, 3.5861, 3.6500, 3.5920,\n",
       "        3.5895, 3.5996, 3.6242, 3.5929, 3.5769, 3.6028, 3.5898, 3.5892, 3.5877,\n",
       "        3.5899, 3.5903, 3.5900, 3.6139, 3.6003, 3.5893, 3.5850, 3.5990, 3.5905,\n",
       "        3.5750, 3.5725, 3.5695, 3.5705, 3.6055, 3.5572, 3.5712, 3.6018, 3.6052,\n",
       "        3.5799, 3.5734, 3.6193, 3.5916, 3.5890, 3.5969, 3.5979, 3.5998, 3.5998,\n",
       "        3.5995], device='cuda:0', grad_fn=<SqueezeBackward0>)"
      ]
     },
     "execution_count": 77,
     "metadata": {},
     "output_type": "execute_result"
    }
   ],
   "source": [
    "torch.squeeze(f(batch[0]))"
   ]
  },
  {
   "cell_type": "code",
   "execution_count": 82,
   "id": "062dd5a0",
   "metadata": {},
   "outputs": [
    {
     "data": {
      "text/plain": [
       "tensor(0.0075, device='cuda:0')"
      ]
     },
     "execution_count": 82,
     "metadata": {},
     "output_type": "execute_result"
    }
   ],
   "source": [
    "criterion(batch[1],baseline_pred.to(device))"
   ]
  },
  {
   "cell_type": "code",
   "execution_count": 84,
   "id": "9bb98d20",
   "metadata": {},
   "outputs": [
    {
     "data": {
      "text/plain": [
       "1884"
      ]
     },
     "execution_count": 84,
     "metadata": {},
     "output_type": "execute_result"
    }
   ],
   "source": [
    "len(trainloader)"
   ]
  },
  {
   "cell_type": "code",
   "execution_count": null,
   "id": "68c6af90",
   "metadata": {},
   "outputs": [],
   "source": []
  }
 ],
 "metadata": {
  "kernelspec": {
   "display_name": "Python 3 (ipykernel)",
   "language": "python",
   "name": "python3"
  },
  "language_info": {
   "codemirror_mode": {
    "name": "ipython",
    "version": 3
   },
   "file_extension": ".py",
   "mimetype": "text/x-python",
   "name": "python",
   "nbconvert_exporter": "python",
   "pygments_lexer": "ipython3",
   "version": "3.9.7"
  }
 },
 "nbformat": 4,
 "nbformat_minor": 5
}
