{
 "cells": [
  {
   "cell_type": "code",
   "execution_count": 1,
   "id": "e9136132",
   "metadata": {},
   "outputs": [],
   "source": [
    "import pandas as pd\n",
    "import numpy as np\n",
    "import torch \n",
    "import matplotlib.pyplot as plt\n",
    "import seaborn as sns\n",
    "from datetime import datetime\n",
    "from torch.utils.data import DataLoader\n",
    "import torch.nn as nn\n",
    "import torch.optim as optim\n",
    "import numpy as np\n",
    "from sklearn.model_selection import TimeSeriesSplit"
   ]
  },
  {
   "cell_type": "code",
   "execution_count": 2,
   "id": "0dcd9184",
   "metadata": {},
   "outputs": [],
   "source": [
    "\"\"\"\n",
    "\n",
    "Input is a path to a csv file of data. Output will be a dataframe with\n",
    "columns - 'open', 'high', 'low', 'close', 'volume', 'pct_change', 'log_ret', 'vol_usdt_K', 'datetime'\n",
    "\n",
    "\"\"\"\n",
    "\n",
    "\n",
    "def read_process_df(path):\n",
    "    df = pd.read_csv(path, names = ['timestamp','open','high','low','close','volume'])\n",
    "    df = df.set_index('timestamp')\n",
    "    df['pct_change'] = df.close.pct_change()\n",
    "    df['log_ret'] = np.log(df.close) - np.log(df.close.shift(1))\n",
    "    df['vol_usdt_K'] = (((df['open'] + df['close'])/2)*df['volume'])/1000\n",
    "    df = df.iloc[1:-1]\n",
    "    \n",
    "    tmp = [x/1000 for x in (df.index)]\n",
    "    l = list(map(datetime.fromtimestamp,tmp))\n",
    "\n",
    "    df['datetime'] = l\n",
    "    \n",
    "    return(df)\n",
    "    \n",
    "    "
   ]
  }
 ],
 "metadata": {
  "kernelspec": {
   "display_name": "Python 3 (ipykernel)",
   "language": "python",
   "name": "python3"
  },
  "language_info": {
   "codemirror_mode": {
    "name": "ipython",
    "version": 3
   },
   "file_extension": ".py",
   "mimetype": "text/x-python",
   "name": "python",
   "nbconvert_exporter": "python",
   "pygments_lexer": "ipython3",
   "version": "3.8.8"
  }
 },
 "nbformat": 4,
 "nbformat_minor": 5
}
