{
 "cells": [
  {
   "cell_type": "code",
   "execution_count": 101,
   "id": "23ff19bc",
   "metadata": {},
   "outputs": [],
   "source": [
    "import os\n",
    "import os.path as osp\n",
    "import sys\n",
    "\n",
    "import pandas as pd\n",
    "import numpy as np\n",
    "\n",
    "sys.path.append('../../scripts')\n",
    "import featurizer\n",
    "sys.path.append('../../../../../scripts/preprocessing')\n",
    "import preprocessing\n",
    "\n",
    "import warnings\n",
    "\n",
    "import torch\n",
    "\n",
    "import lightning.pytorch as pl\n",
    "from lightning.pytorch.callbacks import Callback\n",
    "from lightning.pytorch.callbacks.early_stopping import EarlyStopping\n",
    "from lightning.pytorch.callbacks import ModelCheckpoint\n",
    "import torchmetrics as tm\n",
    "\n",
    "sys.path.append('../../scripts')\n",
    "import dataset_dataloader as dd\n",
    "import MLP_binary_classifier as mlp_bc"
   ]
  },
  {
   "cell_type": "code",
   "execution_count": 2,
   "id": "c5862928",
   "metadata": {},
   "outputs": [
    {
     "name": "stdout",
     "output_type": "stream",
     "text": [
      "Total NaN : \n",
      "\n",
      "timestamp    0\n",
      "open         0\n",
      "high         0\n",
      "low          0\n",
      "close        0\n",
      "volume       0\n",
      "returns      1\n",
      "dtype: int64\n",
      "\n",
      "Total NaN : \n",
      "\n",
      "timestamp    0\n",
      "open         0\n",
      "high         0\n",
      "low          0\n",
      "close        0\n",
      "volume       0\n",
      "returns      1\n",
      "dtype: int64\n",
      "\n"
     ]
    },
    {
     "data": {
      "application/vnd.jupyter.widget-view+json": {
       "model_id": "203dab25bea84b1181dd09149dbc7bb3",
       "version_major": 2,
       "version_minor": 0
      },
      "text/plain": [
       "  0%|          | 0/1811 [00:00<?, ?it/s]"
      ]
     },
     "metadata": {},
     "output_type": "display_data"
    },
    {
     "name": "stdout",
     "output_type": "stream",
     "text": [
      "We make use of 90.44726670347875% of the data\n"
     ]
    },
    {
     "data": {
      "application/vnd.jupyter.widget-view+json": {
       "model_id": "9e50a62916324257941bee8ae30318b0",
       "version_major": 2,
       "version_minor": 0
      },
      "text/plain": [
       "0it [00:00, ?it/s]"
      ]
     },
     "metadata": {},
     "output_type": "display_data"
    }
   ],
   "source": [
    "df_btc = preprocessing.load_df('../../../../../../data/Binance/BTC_USDT.csv')\n",
    "\n",
    "warnings.filterwarnings('ignore')\n",
    "\n",
    "path_btc = '../../../../../../data/data_new/raw/Binance/BTC_USDT/BTC_USDT.csv'\n",
    "\n",
    "df_btc_feat = featurizer.load_and_featurize(path_btc)"
   ]
  },
  {
   "cell_type": "code",
   "execution_count": 3,
   "id": "cfd67280",
   "metadata": {},
   "outputs": [],
   "source": [
    "train_df = df_btc_feat[:int(0.6*len(df_btc_feat))]\n",
    "val_df = df_btc_feat[int(0.62*len(df_btc_feat)):int(0.75*len(df_btc_feat))]\n",
    "test_df = df_btc_feat[int(0.75*len(df_btc_feat)):]\n",
    "\n",
    "train_loader = dd.get_dloader(train_df,16,64,True)\n",
    "val_loader =  dd.get_dloader(val_df,1024,64,True)\n",
    "test_loader = dd.get_dloader(test_df,256,64,True)"
   ]
  },
  {
   "cell_type": "code",
   "execution_count": 124,
   "id": "7f4754b4",
   "metadata": {},
   "outputs": [],
   "source": [
    "model = mlp_bc.MLP_binary_classifier([124,64,16])\n",
    "\n",
    "early_stop_callback = EarlyStopping(monitor=\"val/p@r=0.25\", min_delta=0.01, patience=5, verbose=False, mode=\"max\")\n",
    "\n",
    "checkpoint_callback = ModelCheckpoint(save_top_k=1, monitor=\"val/average_precision\",mode = 'max')\n"
   ]
  },
  {
   "cell_type": "code",
   "execution_count": 125,
   "id": "9f024c90",
   "metadata": {},
   "outputs": [
    {
     "name": "stderr",
     "output_type": "stream",
     "text": [
      "GPU available: True (cuda), used: True\n",
      "TPU available: False, using: 0 TPU cores\n",
      "IPU available: False, using: 0 IPUs\n",
      "HPU available: False, using: 0 HPUs\n",
      "LOCAL_RANK: 0 - CUDA_VISIBLE_DEVICES: [0]\n",
      "\n",
      "  | Name              | Type                       | Params\n",
      "-----------------------------------------------------------------\n",
      "0 | mlp               | MLP                        | 9.2 K \n",
      "1 | Classifier_head   | Linear                     | 17    \n",
      "2 | s                 | Sigmoid                    | 0     \n",
      "3 | average_precision | BinaryAveragePrecision     | 0     \n",
      "4 | pr_curve          | BinaryPrecisionRecallCurve | 0     \n",
      "-----------------------------------------------------------------\n",
      "9.2 K     Trainable params\n",
      "0         Non-trainable params\n",
      "9.2 K     Total params\n",
      "0.037     Total estimated model params size (MB)\n"
     ]
    },
    {
     "data": {
      "application/vnd.jupyter.widget-view+json": {
       "model_id": "",
       "version_major": 2,
       "version_minor": 0
      },
      "text/plain": [
       "Sanity Checking: 0it [00:00, ?it/s]"
      ]
     },
     "metadata": {},
     "output_type": "display_data"
    },
    {
     "data": {
      "application/vnd.jupyter.widget-view+json": {
       "model_id": "83b472332f0a40078d03753bb20ed900",
       "version_major": 2,
       "version_minor": 0
      },
      "text/plain": [
       "Training: 0it [00:00, ?it/s]"
      ]
     },
     "metadata": {},
     "output_type": "display_data"
    },
    {
     "data": {
      "application/vnd.jupyter.widget-view+json": {
       "model_id": "",
       "version_major": 2,
       "version_minor": 0
      },
      "text/plain": [
       "Validation: 0it [00:00, ?it/s]"
      ]
     },
     "metadata": {},
     "output_type": "display_data"
    },
    {
     "data": {
      "application/vnd.jupyter.widget-view+json": {
       "model_id": "",
       "version_major": 2,
       "version_minor": 0
      },
      "text/plain": [
       "Validation: 0it [00:00, ?it/s]"
      ]
     },
     "metadata": {},
     "output_type": "display_data"
    },
    {
     "data": {
      "application/vnd.jupyter.widget-view+json": {
       "model_id": "",
       "version_major": 2,
       "version_minor": 0
      },
      "text/plain": [
       "Validation: 0it [00:00, ?it/s]"
      ]
     },
     "metadata": {},
     "output_type": "display_data"
    },
    {
     "data": {
      "application/vnd.jupyter.widget-view+json": {
       "model_id": "",
       "version_major": 2,
       "version_minor": 0
      },
      "text/plain": [
       "Validation: 0it [00:00, ?it/s]"
      ]
     },
     "metadata": {},
     "output_type": "display_data"
    },
    {
     "data": {
      "application/vnd.jupyter.widget-view+json": {
       "model_id": "",
       "version_major": 2,
       "version_minor": 0
      },
      "text/plain": [
       "Validation: 0it [00:00, ?it/s]"
      ]
     },
     "metadata": {},
     "output_type": "display_data"
    },
    {
     "data": {
      "application/vnd.jupyter.widget-view+json": {
       "model_id": "",
       "version_major": 2,
       "version_minor": 0
      },
      "text/plain": [
       "Validation: 0it [00:00, ?it/s]"
      ]
     },
     "metadata": {},
     "output_type": "display_data"
    },
    {
     "data": {
      "application/vnd.jupyter.widget-view+json": {
       "model_id": "",
       "version_major": 2,
       "version_minor": 0
      },
      "text/plain": [
       "Validation: 0it [00:00, ?it/s]"
      ]
     },
     "metadata": {},
     "output_type": "display_data"
    },
    {
     "data": {
      "application/vnd.jupyter.widget-view+json": {
       "model_id": "",
       "version_major": 2,
       "version_minor": 0
      },
      "text/plain": [
       "Validation: 0it [00:00, ?it/s]"
      ]
     },
     "metadata": {},
     "output_type": "display_data"
    }
   ],
   "source": [
    "trainer = pl.Trainer(accelerator=\"gpu\",callbacks = [early_stop_callback,checkpoint_callback])\n",
    "trainer.fit(model,train_loader,val_loader)"
   ]
  },
  {
   "cell_type": "code",
   "execution_count": 126,
   "id": "6916188e",
   "metadata": {},
   "outputs": [],
   "source": [
    "metrics = pd.read_csv('./lightning_logs/version_21/metrics.csv')"
   ]
  },
  {
   "cell_type": "code",
   "execution_count": 127,
   "id": "c83ed3d3",
   "metadata": {},
   "outputs": [
    {
     "data": {
      "text/html": [
       "<div>\n",
       "<style scoped>\n",
       "    .dataframe tbody tr th:only-of-type {\n",
       "        vertical-align: middle;\n",
       "    }\n",
       "\n",
       "    .dataframe tbody tr th {\n",
       "        vertical-align: top;\n",
       "    }\n",
       "\n",
       "    .dataframe thead th {\n",
       "        text-align: right;\n",
       "    }\n",
       "</style>\n",
       "<table border=\"1\" class=\"dataframe\">\n",
       "  <thead>\n",
       "    <tr style=\"text-align: right;\">\n",
       "      <th></th>\n",
       "      <th>epoch</th>\n",
       "      <th>step</th>\n",
       "      <th>val/loss</th>\n",
       "      <th>val/average_precision</th>\n",
       "      <th>val/p@r=0.25</th>\n",
       "      <th>val/p@r=0.5</th>\n",
       "      <th>val/p@r=0.75</th>\n",
       "    </tr>\n",
       "  </thead>\n",
       "  <tbody>\n",
       "    <tr>\n",
       "      <th>1</th>\n",
       "      <td>0</td>\n",
       "      <td>61</td>\n",
       "      <td>0.640065</td>\n",
       "      <td>0.862230</td>\n",
       "      <td>0.823741</td>\n",
       "      <td>0.787931</td>\n",
       "      <td>0.775141</td>\n",
       "    </tr>\n",
       "    <tr>\n",
       "      <th>4</th>\n",
       "      <td>1</td>\n",
       "      <td>123</td>\n",
       "      <td>0.557191</td>\n",
       "      <td>0.865223</td>\n",
       "      <td>0.829710</td>\n",
       "      <td>0.811723</td>\n",
       "      <td>0.791234</td>\n",
       "    </tr>\n",
       "    <tr>\n",
       "      <th>7</th>\n",
       "      <td>2</td>\n",
       "      <td>185</td>\n",
       "      <td>0.599517</td>\n",
       "      <td>0.850618</td>\n",
       "      <td>0.874046</td>\n",
       "      <td>0.818996</td>\n",
       "      <td>0.790323</td>\n",
       "    </tr>\n",
       "    <tr>\n",
       "      <th>10</th>\n",
       "      <td>3</td>\n",
       "      <td>247</td>\n",
       "      <td>0.507226</td>\n",
       "      <td>0.829605</td>\n",
       "      <td>0.838828</td>\n",
       "      <td>0.804577</td>\n",
       "      <td>0.801402</td>\n",
       "    </tr>\n",
       "    <tr>\n",
       "      <th>14</th>\n",
       "      <td>4</td>\n",
       "      <td>309</td>\n",
       "      <td>0.516015</td>\n",
       "      <td>0.839786</td>\n",
       "      <td>0.854478</td>\n",
       "      <td>0.821942</td>\n",
       "      <td>0.790323</td>\n",
       "    </tr>\n",
       "    <tr>\n",
       "      <th>17</th>\n",
       "      <td>5</td>\n",
       "      <td>371</td>\n",
       "      <td>0.536695</td>\n",
       "      <td>0.850351</td>\n",
       "      <td>0.874046</td>\n",
       "      <td>0.844732</td>\n",
       "      <td>0.795824</td>\n",
       "    </tr>\n",
       "    <tr>\n",
       "      <th>20</th>\n",
       "      <td>6</td>\n",
       "      <td>433</td>\n",
       "      <td>0.603712</td>\n",
       "      <td>0.811884</td>\n",
       "      <td>0.851301</td>\n",
       "      <td>0.840074</td>\n",
       "      <td>0.809917</td>\n",
       "    </tr>\n",
       "    <tr>\n",
       "      <th>23</th>\n",
       "      <td>7</td>\n",
       "      <td>495</td>\n",
       "      <td>0.629152</td>\n",
       "      <td>0.804422</td>\n",
       "      <td>0.870722</td>\n",
       "      <td>0.849442</td>\n",
       "      <td>0.802339</td>\n",
       "    </tr>\n",
       "  </tbody>\n",
       "</table>\n",
       "</div>"
      ],
      "text/plain": [
       "    epoch  step  val/loss  val/average_precision  val/p@r=0.25  val/p@r=0.5  \\\n",
       "1       0    61  0.640065               0.862230      0.823741     0.787931   \n",
       "4       1   123  0.557191               0.865223      0.829710     0.811723   \n",
       "7       2   185  0.599517               0.850618      0.874046     0.818996   \n",
       "10      3   247  0.507226               0.829605      0.838828     0.804577   \n",
       "14      4   309  0.516015               0.839786      0.854478     0.821942   \n",
       "17      5   371  0.536695               0.850351      0.874046     0.844732   \n",
       "20      6   433  0.603712               0.811884      0.851301     0.840074   \n",
       "23      7   495  0.629152               0.804422      0.870722     0.849442   \n",
       "\n",
       "    val/p@r=0.75  \n",
       "1       0.775141  \n",
       "4       0.791234  \n",
       "7       0.790323  \n",
       "10      0.801402  \n",
       "14      0.790323  \n",
       "17      0.795824  \n",
       "20      0.809917  \n",
       "23      0.802339  "
      ]
     },
     "execution_count": 127,
     "metadata": {},
     "output_type": "execute_result"
    }
   ],
   "source": [
    "metrics.dropna(subset = ['val/average_precision']).drop(['train/loss_step','train/loss_epoch'],axis = 1)\n",
    "\n"
   ]
  },
  {
   "cell_type": "code",
   "execution_count": 128,
   "id": "78aa2358",
   "metadata": {},
   "outputs": [
    {
     "data": {
      "text/plain": [
       "59"
      ]
     },
     "execution_count": 128,
     "metadata": {},
     "output_type": "execute_result"
    }
   ],
   "source": [
    "(test_df.timestamp.apply(lambda x : x.day_of_week) == 4).sum()"
   ]
  },
  {
   "cell_type": "code",
   "execution_count": 129,
   "id": "69e146ca",
   "metadata": {},
   "outputs": [
    {
     "data": {
      "text/plain": [
       "['epoch=1-step=124.ckpt']"
      ]
     },
     "execution_count": 129,
     "metadata": {},
     "output_type": "execute_result"
    }
   ],
   "source": [
    "os.listdir('./lightning_logs/version_21/checkpoints')"
   ]
  },
  {
   "cell_type": "code",
   "execution_count": 130,
   "id": "4f94410d",
   "metadata": {},
   "outputs": [],
   "source": [
    "m = mlp_bc.MLP_binary_classifier([34,64,16])\n",
    "\n",
    "m1 = m.load_from_checkpoint('./lightning_logs/version_21/checkpoints/epoch=1-step=124.ckpt')\n"
   ]
  },
  {
   "cell_type": "code",
   "execution_count": 131,
   "id": "8d64226d",
   "metadata": {},
   "outputs": [],
   "source": [
    "test_df_wk = test_df[test_df.timestamp.apply(lambda x : x.day_of_week) == 4]\n",
    "\n",
    "test_loader = dd.get_dloader(test_df_wk,256,64,False)"
   ]
  },
  {
   "cell_type": "code",
   "execution_count": 132,
   "id": "9a556e5b",
   "metadata": {},
   "outputs": [],
   "source": [
    "device = torch.device('cuda' if torch.cuda.is_available() else 'cpu')\n",
    "\n",
    "m1 = m1.eval()\n",
    "\n",
    "average_precision = tm.AveragePrecision(task = 'binary')\n",
    "pr_curve = tm.PrecisionRecallCurve(task=\"binary\")\n",
    "\n",
    "all_preds = []\n",
    "all_targets = []\n",
    "\n",
    "for batch in test_loader:\n",
    "    \n",
    "    [batch[0],batch[1]] = batch[0].to(device),batch[1].to(device)\n",
    "    m1 = m1.to(device)\n",
    "    \n",
    "    preds = m1(batch)\n",
    "    target = batch[1]\n",
    "    \n",
    "    all_preds.append(preds)\n",
    "    all_targets.append(target)\n",
    "    \n",
    "ap = torch.hstack(all_preds).flatten()\n",
    "at = torch.hstack(all_targets).flatten().type(torch.int)"
   ]
  },
  {
   "cell_type": "code",
   "execution_count": 133,
   "id": "5cb0f21a",
   "metadata": {},
   "outputs": [
    {
     "data": {
      "text/plain": [
       "tensor(0.6788, device='cuda:0')"
      ]
     },
     "execution_count": 133,
     "metadata": {},
     "output_type": "execute_result"
    }
   ],
   "source": [
    "average_precision(ap,at)"
   ]
  },
  {
   "cell_type": "code",
   "execution_count": 141,
   "id": "c88df766",
   "metadata": {},
   "outputs": [
    {
     "data": {
      "text/plain": [
       "(tensor(0.8333, device='cuda:0'),\n",
       " tensor(0.6875, device='cuda:0'),\n",
       " tensor(0.6364, device='cuda:0'),\n",
       " tensor(0.6739, device='cuda:0'))"
      ]
     },
     "execution_count": 141,
     "metadata": {},
     "output_type": "execute_result"
    }
   ],
   "source": [
    "precision,recall,thresh = pr_curve(ap,at)\n",
    "\n",
    "a0 = precision[recall >= 0.1][-1]\n",
    "a1 = precision[recall >= 0.25][-1]\n",
    "a2 = precision[recall >= 0.5][-1]\n",
    "a3 = precision[recall >= 0.75][-1]\n",
    "\n",
    "a0,a1,a2,a3"
   ]
  },
  {
   "cell_type": "code",
   "execution_count": 139,
   "id": "706fa278",
   "metadata": {},
   "outputs": [
    {
     "data": {
      "text/plain": [
       "0.6949152542372882"
      ]
     },
     "execution_count": 139,
     "metadata": {},
     "output_type": "execute_result"
    }
   ],
   "source": [
    "test_df_wk['y'].sum()/len(test_df_wk)"
   ]
  },
  {
   "cell_type": "code",
   "execution_count": 143,
   "id": "1e845405",
   "metadata": {},
   "outputs": [
    {
     "data": {
      "text/plain": [
       "tensor([0.6949, 0.6897, 0.6842, 0.6964, 0.6909, 0.7037, 0.6981, 0.6923, 0.6863,\n",
       "        0.6800, 0.6735, 0.6875, 0.6809, 0.6739, 0.6667, 0.6591, 0.6512, 0.6429,\n",
       "        0.6341, 0.6500, 0.6667, 0.6842, 0.6757, 0.6667, 0.6571, 0.6471, 0.6364,\n",
       "        0.6250, 0.6129, 0.6000, 0.5862, 0.5714, 0.5926, 0.6154, 0.6400, 0.6667,\n",
       "        0.6522, 0.6364, 0.6190, 0.6000, 0.6316, 0.6667, 0.6471, 0.6875, 0.6667,\n",
       "        0.6429, 0.6154, 0.5833, 0.5455, 0.6000, 0.6667, 0.7500, 0.7143, 0.8333],\n",
       "       device='cuda:0')"
      ]
     },
     "execution_count": 143,
     "metadata": {},
     "output_type": "execute_result"
    }
   ],
   "source": [
    "precision[recall >= 0.1]"
   ]
  },
  {
   "cell_type": "code",
   "execution_count": null,
   "id": "c3d04fca",
   "metadata": {},
   "outputs": [],
   "source": []
  },
  {
   "cell_type": "code",
   "execution_count": null,
   "id": "1559820b",
   "metadata": {},
   "outputs": [],
   "source": []
  },
  {
   "cell_type": "code",
   "execution_count": null,
   "id": "77bfd762",
   "metadata": {},
   "outputs": [],
   "source": []
  },
  {
   "cell_type": "code",
   "execution_count": null,
   "id": "87b49dd0",
   "metadata": {},
   "outputs": [],
   "source": []
  },
  {
   "cell_type": "code",
   "execution_count": null,
   "id": "a72a8210",
   "metadata": {},
   "outputs": [],
   "source": []
  }
 ],
 "metadata": {
  "kernelspec": {
   "display_name": "Python 3 (ipykernel)",
   "language": "python",
   "name": "python3"
  },
  "language_info": {
   "codemirror_mode": {
    "name": "ipython",
    "version": 3
   },
   "file_extension": ".py",
   "mimetype": "text/x-python",
   "name": "python",
   "nbconvert_exporter": "python",
   "pygments_lexer": "ipython3",
   "version": "3.9.7"
  }
 },
 "nbformat": 4,
 "nbformat_minor": 5
}
