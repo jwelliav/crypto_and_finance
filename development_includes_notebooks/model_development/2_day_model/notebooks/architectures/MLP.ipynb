{
 "cells": [
  {
   "cell_type": "code",
   "execution_count": 1,
   "id": "28c55724",
   "metadata": {},
   "outputs": [],
   "source": [
    "import pandas as pd\n",
    "import numpy as np\n",
    "import os\n",
    "import os.path as osp\n",
    "import sys\n",
    "sys.path.append('../../scripts')\n",
    "import featurizer\n",
    "sys.path.append('../../../../../scripts/preprocessing')\n",
    "import preprocessing\n",
    "import torch\n",
    "from tqdm.notebook import tqdm\n",
    "import warnings\n",
    "from torch import nn\n",
    "from typing import Union,Optional\n",
    "from torch import Tensor\n",
    "from torch.utils.data import DataLoader\n",
    "from typing import List"
   ]
  },
  {
   "cell_type": "code",
   "execution_count": 2,
   "id": "c26768ce",
   "metadata": {},
   "outputs": [
    {
     "name": "stdout",
     "output_type": "stream",
     "text": [
      "Total NaN : \n",
      "\n",
      "timestamp    0\n",
      "open         0\n",
      "high         0\n",
      "low          0\n",
      "close        0\n",
      "volume       0\n",
      "returns      1\n",
      "dtype: int64\n",
      "\n"
     ]
    }
   ],
   "source": [
    "df_btc = preprocessing.load_df('../../../../../../data/Binance/BTC_USDT.csv')"
   ]
  },
  {
   "cell_type": "code",
   "execution_count": 3,
   "id": "f673cdb9",
   "metadata": {},
   "outputs": [
    {
     "data": {
      "text/html": [
       "<div>\n",
       "<style scoped>\n",
       "    .dataframe tbody tr th:only-of-type {\n",
       "        vertical-align: middle;\n",
       "    }\n",
       "\n",
       "    .dataframe tbody tr th {\n",
       "        vertical-align: top;\n",
       "    }\n",
       "\n",
       "    .dataframe thead th {\n",
       "        text-align: right;\n",
       "    }\n",
       "</style>\n",
       "<table border=\"1\" class=\"dataframe\">\n",
       "  <thead>\n",
       "    <tr style=\"text-align: right;\">\n",
       "      <th></th>\n",
       "      <th>timestamp</th>\n",
       "      <th>open</th>\n",
       "      <th>high</th>\n",
       "      <th>low</th>\n",
       "      <th>close</th>\n",
       "      <th>volume</th>\n",
       "      <th>returns</th>\n",
       "    </tr>\n",
       "    <tr>\n",
       "      <th>date</th>\n",
       "      <th></th>\n",
       "      <th></th>\n",
       "      <th></th>\n",
       "      <th></th>\n",
       "      <th></th>\n",
       "      <th></th>\n",
       "      <th></th>\n",
       "    </tr>\n",
       "  </thead>\n",
       "  <tbody>\n",
       "    <tr>\n",
       "      <th>2018-02-09 10:00:14.789</th>\n",
       "      <td>1518170414789</td>\n",
       "      <td>8230.46</td>\n",
       "      <td>8317.74</td>\n",
       "      <td>8230.45</td>\n",
       "      <td>8317.74</td>\n",
       "      <td>91.494282</td>\n",
       "      <td>NaN</td>\n",
       "    </tr>\n",
       "    <tr>\n",
       "      <th>2018-02-09 10:01:14.789</th>\n",
       "      <td>1518170474789</td>\n",
       "      <td>8304.00</td>\n",
       "      <td>8369.00</td>\n",
       "      <td>8304.00</td>\n",
       "      <td>8350.00</td>\n",
       "      <td>131.872916</td>\n",
       "      <td>0.003878</td>\n",
       "    </tr>\n",
       "    <tr>\n",
       "      <th>2018-02-09 10:02:14.789</th>\n",
       "      <td>1518170534789</td>\n",
       "      <td>8346.50</td>\n",
       "      <td>8380.00</td>\n",
       "      <td>8330.00</td>\n",
       "      <td>8380.00</td>\n",
       "      <td>84.544616</td>\n",
       "      <td>0.003593</td>\n",
       "    </tr>\n",
       "    <tr>\n",
       "      <th>2018-02-09 10:03:14.789</th>\n",
       "      <td>1518170594789</td>\n",
       "      <td>8379.00</td>\n",
       "      <td>8390.00</td>\n",
       "      <td>8348.00</td>\n",
       "      <td>8360.02</td>\n",
       "      <td>112.940304</td>\n",
       "      <td>-0.002384</td>\n",
       "    </tr>\n",
       "    <tr>\n",
       "      <th>2018-02-09 10:04:14.789</th>\n",
       "      <td>1518170654789</td>\n",
       "      <td>8350.04</td>\n",
       "      <td>8389.00</td>\n",
       "      <td>8348.00</td>\n",
       "      <td>8348.13</td>\n",
       "      <td>88.138218</td>\n",
       "      <td>-0.001422</td>\n",
       "    </tr>\n",
       "  </tbody>\n",
       "</table>\n",
       "</div>"
      ],
      "text/plain": [
       "                             timestamp     open     high      low    close  \\\n",
       "date                                                                         \n",
       "2018-02-09 10:00:14.789  1518170414789  8230.46  8317.74  8230.45  8317.74   \n",
       "2018-02-09 10:01:14.789  1518170474789  8304.00  8369.00  8304.00  8350.00   \n",
       "2018-02-09 10:02:14.789  1518170534789  8346.50  8380.00  8330.00  8380.00   \n",
       "2018-02-09 10:03:14.789  1518170594789  8379.00  8390.00  8348.00  8360.02   \n",
       "2018-02-09 10:04:14.789  1518170654789  8350.04  8389.00  8348.00  8348.13   \n",
       "\n",
       "                             volume   returns  \n",
       "date                                           \n",
       "2018-02-09 10:00:14.789   91.494282       NaN  \n",
       "2018-02-09 10:01:14.789  131.872916  0.003878  \n",
       "2018-02-09 10:02:14.789   84.544616  0.003593  \n",
       "2018-02-09 10:03:14.789  112.940304 -0.002384  \n",
       "2018-02-09 10:04:14.789   88.138218 -0.001422  "
      ]
     },
     "execution_count": 3,
     "metadata": {},
     "output_type": "execute_result"
    }
   ],
   "source": [
    "df_btc.head()"
   ]
  },
  {
   "cell_type": "code",
   "execution_count": 4,
   "id": "aa6d0898",
   "metadata": {},
   "outputs": [
    {
     "name": "stdout",
     "output_type": "stream",
     "text": [
      "Total NaN : \n",
      "\n",
      "timestamp    0\n",
      "open         0\n",
      "high         0\n",
      "low          0\n",
      "close        0\n",
      "volume       0\n",
      "returns      1\n",
      "dtype: int64\n",
      "\n"
     ]
    },
    {
     "data": {
      "application/vnd.jupyter.widget-view+json": {
       "model_id": "ed3b77142322495f8136d551531166b6",
       "version_major": 2,
       "version_minor": 0
      },
      "text/plain": [
       "  0%|          | 0/1811 [00:00<?, ?it/s]"
      ]
     },
     "metadata": {},
     "output_type": "display_data"
    },
    {
     "name": "stdout",
     "output_type": "stream",
     "text": [
      "We make use of 90.44726670347875% of the data\n"
     ]
    },
    {
     "data": {
      "application/vnd.jupyter.widget-view+json": {
       "model_id": "7c67056632784cee8f718325a9b6368d",
       "version_major": 2,
       "version_minor": 0
      },
      "text/plain": [
       "0it [00:00, ?it/s]"
      ]
     },
     "metadata": {},
     "output_type": "display_data"
    }
   ],
   "source": [
    "warnings.filterwarnings('ignore')\n",
    "\n",
    "path_btc = '../../../../../../data/data_new/raw/Binance/BTC_USDT/BTC_USDT.csv'\n",
    "\n",
    "df_btc_feat = featurizer.load_and_featurize(path_btc)"
   ]
  },
  {
   "cell_type": "code",
   "execution_count": 5,
   "id": "f0aed776",
   "metadata": {},
   "outputs": [
    {
     "name": "stdout",
     "output_type": "stream",
     "text": [
      "Total NaN : \n",
      "\n",
      "timestamp    0\n",
      "open         0\n",
      "high         0\n",
      "low          0\n",
      "close        0\n",
      "volume       0\n",
      "returns      1\n",
      "dtype: int64\n",
      "\n"
     ]
    },
    {
     "data": {
      "application/vnd.jupyter.widget-view+json": {
       "model_id": "1bad5de21bd2405a9b27856470a0a3b8",
       "version_major": 2,
       "version_minor": 0
      },
      "text/plain": [
       "  0%|          | 0/1811 [00:00<?, ?it/s]"
      ]
     },
     "metadata": {},
     "output_type": "display_data"
    },
    {
     "name": "stdout",
     "output_type": "stream",
     "text": [
      "We make use of 90.44726670347875% of the data\n"
     ]
    },
    {
     "data": {
      "application/vnd.jupyter.widget-view+json": {
       "model_id": "4fcec918a3eb43e89a5b2997eb3fc853",
       "version_major": 2,
       "version_minor": 0
      },
      "text/plain": [
       "0it [00:00, ?it/s]"
      ]
     },
     "metadata": {},
     "output_type": "display_data"
    }
   ],
   "source": [
    "path_eth = '../../../../../../data/data_new/raw/Binance/ETH_USDT/ETH_USDT.csv'\n",
    "\n",
    "df_eth_feat = featurizer.load_and_featurize(path_eth)"
   ]
  },
  {
   "cell_type": "code",
   "execution_count": 11,
   "id": "97007556",
   "metadata": {},
   "outputs": [
    {
     "data": {
      "text/plain": [
       "124    1638\n",
       "Name: X, dtype: int64"
      ]
     },
     "execution_count": 11,
     "metadata": {},
     "output_type": "execute_result"
    }
   ],
   "source": [
    "df_eth_feat.X.apply(lambda x : len(x)).value_counts()"
   ]
  },
  {
   "cell_type": "code",
   "execution_count": 12,
   "id": "36584449",
   "metadata": {},
   "outputs": [
    {
     "data": {
      "text/plain": [
       "1638"
      ]
     },
     "execution_count": 12,
     "metadata": {},
     "output_type": "execute_result"
    }
   ],
   "source": [
    "len(torch.tensor(df_btc_feat.X.tolist(),dtype = float))"
   ]
  },
  {
   "cell_type": "code",
   "execution_count": 13,
   "id": "9f0fd117",
   "metadata": {},
   "outputs": [
    {
     "data": {
      "text/html": [
       "<div>\n",
       "<style scoped>\n",
       "    .dataframe tbody tr th:only-of-type {\n",
       "        vertical-align: middle;\n",
       "    }\n",
       "\n",
       "    .dataframe tbody tr th {\n",
       "        vertical-align: top;\n",
       "    }\n",
       "\n",
       "    .dataframe thead th {\n",
       "        text-align: right;\n",
       "    }\n",
       "</style>\n",
       "<table border=\"1\" class=\"dataframe\">\n",
       "  <thead>\n",
       "    <tr style=\"text-align: right;\">\n",
       "      <th></th>\n",
       "      <th>X</th>\n",
       "      <th>y</th>\n",
       "      <th>timestamp</th>\n",
       "    </tr>\n",
       "  </thead>\n",
       "  <tbody>\n",
       "    <tr>\n",
       "      <th>0</th>\n",
       "      <td>[0.034924874874129985, 0.01611405414408451, -0...</td>\n",
       "      <td>True</td>\n",
       "      <td>2018-02-16 23:59:00</td>\n",
       "    </tr>\n",
       "    <tr>\n",
       "      <th>1</th>\n",
       "      <td>[-0.019750645849713644, 0.0038305703115333323,...</td>\n",
       "      <td>True</td>\n",
       "      <td>2018-02-17 23:59:00</td>\n",
       "    </tr>\n",
       "    <tr>\n",
       "      <th>2</th>\n",
       "      <td>[0.014295249358891704, 0.005428320083860738, 0...</td>\n",
       "      <td>True</td>\n",
       "      <td>2018-02-18 23:59:00</td>\n",
       "    </tr>\n",
       "    <tr>\n",
       "      <th>3</th>\n",
       "      <td>[-0.007939690941471955, 0.027906252400010434, ...</td>\n",
       "      <td>True</td>\n",
       "      <td>2018-02-19 23:59:00</td>\n",
       "    </tr>\n",
       "    <tr>\n",
       "      <th>4</th>\n",
       "      <td>[0.030490725583469658, -0.0194371664240659, -0...</td>\n",
       "      <td>False</td>\n",
       "      <td>2018-02-20 23:59:00</td>\n",
       "    </tr>\n",
       "  </tbody>\n",
       "</table>\n",
       "</div>"
      ],
      "text/plain": [
       "                                                   X      y  \\\n",
       "0  [0.034924874874129985, 0.01611405414408451, -0...   True   \n",
       "1  [-0.019750645849713644, 0.0038305703115333323,...   True   \n",
       "2  [0.014295249358891704, 0.005428320083860738, 0...   True   \n",
       "3  [-0.007939690941471955, 0.027906252400010434, ...   True   \n",
       "4  [0.030490725583469658, -0.0194371664240659, -0...  False   \n",
       "\n",
       "            timestamp  \n",
       "0 2018-02-16 23:59:00  \n",
       "1 2018-02-17 23:59:00  \n",
       "2 2018-02-18 23:59:00  \n",
       "3 2018-02-19 23:59:00  \n",
       "4 2018-02-20 23:59:00  "
      ]
     },
     "execution_count": 13,
     "metadata": {},
     "output_type": "execute_result"
    }
   ],
   "source": [
    "df_btc_feat.head()"
   ]
  },
  {
   "cell_type": "code",
   "execution_count": 14,
   "id": "ae215841",
   "metadata": {},
   "outputs": [
    {
     "data": {
      "text/html": [
       "<div>\n",
       "<style scoped>\n",
       "    .dataframe tbody tr th:only-of-type {\n",
       "        vertical-align: middle;\n",
       "    }\n",
       "\n",
       "    .dataframe tbody tr th {\n",
       "        vertical-align: top;\n",
       "    }\n",
       "\n",
       "    .dataframe thead th {\n",
       "        text-align: right;\n",
       "    }\n",
       "</style>\n",
       "<table border=\"1\" class=\"dataframe\">\n",
       "  <thead>\n",
       "    <tr style=\"text-align: right;\">\n",
       "      <th></th>\n",
       "      <th>X</th>\n",
       "      <th>y</th>\n",
       "      <th>timestamp</th>\n",
       "    </tr>\n",
       "  </thead>\n",
       "  <tbody>\n",
       "    <tr>\n",
       "      <th>0</th>\n",
       "      <td>[0.025933571490377005, 0.018530790269527753, -...</td>\n",
       "      <td>True</td>\n",
       "      <td>2018-02-16 23:59:00</td>\n",
       "    </tr>\n",
       "    <tr>\n",
       "      <th>1</th>\n",
       "      <td>[-0.018415526273278915, 0.006147878217938052, ...</td>\n",
       "      <td>False</td>\n",
       "      <td>2018-02-17 23:59:00</td>\n",
       "    </tr>\n",
       "    <tr>\n",
       "      <th>2</th>\n",
       "      <td>[0.008804971660111516, 0.005123795613559912, 0...</td>\n",
       "      <td>True</td>\n",
       "      <td>2018-02-18 23:59:00</td>\n",
       "    </tr>\n",
       "    <tr>\n",
       "      <th>3</th>\n",
       "      <td>[-0.012066282953791307, 0.0213546255506607, 0....</td>\n",
       "      <td>True</td>\n",
       "      <td>2018-02-19 23:59:00</td>\n",
       "    </tr>\n",
       "    <tr>\n",
       "      <th>4</th>\n",
       "      <td>[0.019955654101995624, -0.008939554612937384, ...</td>\n",
       "      <td>True</td>\n",
       "      <td>2018-02-20 23:59:00</td>\n",
       "    </tr>\n",
       "  </tbody>\n",
       "</table>\n",
       "</div>"
      ],
      "text/plain": [
       "                                                   X      y  \\\n",
       "0  [0.025933571490377005, 0.018530790269527753, -...   True   \n",
       "1  [-0.018415526273278915, 0.006147878217938052, ...  False   \n",
       "2  [0.008804971660111516, 0.005123795613559912, 0...   True   \n",
       "3  [-0.012066282953791307, 0.0213546255506607, 0....   True   \n",
       "4  [0.019955654101995624, -0.008939554612937384, ...   True   \n",
       "\n",
       "            timestamp  \n",
       "0 2018-02-16 23:59:00  \n",
       "1 2018-02-17 23:59:00  \n",
       "2 2018-02-18 23:59:00  \n",
       "3 2018-02-19 23:59:00  \n",
       "4 2018-02-20 23:59:00  "
      ]
     },
     "execution_count": 14,
     "metadata": {},
     "output_type": "execute_result"
    }
   ],
   "source": [
    "df_eth_feat.head()"
   ]
  },
  {
   "cell_type": "code",
   "execution_count": 15,
   "id": "11bb1eef",
   "metadata": {},
   "outputs": [],
   "source": [
    "from torch.utils.data import Dataset\n",
    "\n",
    "class twoday_basic_dset(Dataset):\n",
    "    \n",
    "    def __init__(self,df):\n",
    "        self.X = torch.tensor(df.X.tolist(),dtype = torch.float)\n",
    "        self.y = torch.tensor(df.y.astype(int).tolist(),dtype = torch.float)\n",
    "        \n",
    "    def __getitem__(self,\n",
    "                    index: int):\n",
    "        return (self.X[index],self.y[index])\n",
    "    \n",
    "    def __len__(self):\n",
    "        return len(self.X)"
   ]
  },
  {
   "cell_type": "code",
   "execution_count": 16,
   "id": "49ace727",
   "metadata": {},
   "outputs": [],
   "source": [
    "dset = twoday_basic_dset(df_btc_feat)\n",
    "\n",
    "dloader = DataLoader(dset,\n",
    "                     batch_size = 16,\n",
    "                     num_workers= 64,\n",
    "                     shuffle = True)\n"
   ]
  },
  {
   "cell_type": "code",
   "execution_count": 17,
   "id": "42387813",
   "metadata": {},
   "outputs": [],
   "source": [
    "batch = next(iter(dloader))"
   ]
  },
  {
   "cell_type": "code",
   "execution_count": 18,
   "id": "358c59b2",
   "metadata": {},
   "outputs": [
    {
     "data": {
      "text/plain": [
       "[tensor([[ 1.4721e-03, -5.5792e-03, -5.3914e-03,  ...,  5.9620e+07,\n",
       "           2.1029e-02,  9.3930e-02],\n",
       "         [ 2.3089e-03, -2.1265e-03, -4.6097e-03,  ...,  1.4298e+08,\n",
       "           5.0294e-02,  1.3430e-01],\n",
       "         [ 7.2443e-04,  3.1331e-03, -1.1476e-03,  ...,  4.8584e+07,\n",
       "           1.6800e-01,  1.7438e-01],\n",
       "         ...,\n",
       "         [-5.8615e-03,  7.6257e-03,  2.6279e-03,  ...,  1.3653e+08,\n",
       "           3.7112e-02,  1.0678e-01],\n",
       "         [-8.0698e-03, -1.0560e-03, -2.8641e-03,  ...,  2.8180e+08,\n",
       "           7.4219e-02,  9.7249e-02],\n",
       "         [ 1.7956e-02, -1.1981e-03,  8.3647e-03,  ...,  2.3296e+08,\n",
       "           5.6707e-02,  2.2576e-01]]),\n",
       " tensor([1., 1., 1., 1., 1., 0., 1., 0., 0., 1., 0., 1., 1., 0., 1., 1.])]"
      ]
     },
     "execution_count": 18,
     "metadata": {},
     "output_type": "execute_result"
    }
   ],
   "source": [
    "batch"
   ]
  },
  {
   "cell_type": "code",
   "execution_count": 19,
   "id": "0e174927",
   "metadata": {},
   "outputs": [],
   "source": [
    "class MLP(nn.Module):\n",
    "    def __init__(\n",
    "        self,\n",
    "        embed_dims: Union[int, list],\n",
    "        num_layers: Optional[int] = None,\n",
    "        activation: str = \"relu\",\n",
    "    ) -> None:\n",
    "        super().__init__()\n",
    "\n",
    "        if isinstance(embed_dims, int):\n",
    "            assert num_layers is not None\n",
    "            embed_dims = [embed_dims] * num_layers\n",
    "        else:\n",
    "            assert num_layers is None\n",
    "            num_layers = len(embed_dims)\n",
    "\n",
    "        assert activation == \"relu\"\n",
    "\n",
    "        self.embed_dims = embed_dims\n",
    "        self.num_layers = num_layers\n",
    "        self.activation = activation\n",
    "\n",
    "        self.layers = nn.ModuleList(\n",
    "            [\n",
    "                sublayer\n",
    "                for i, (m, n) in enumerate(zip(embed_dims, embed_dims[1:]))\n",
    "                for sublayer in [nn.Linear(m, n), nn.BatchNorm1d(n), nn.ReLU()]\n",
    "                if not (i == num_layers - 2 and isinstance(sublayer, nn.ReLU))\n",
    "            ]\n",
    "        )\n",
    "\n",
    "\n",
    "    def forward(self, x: Tensor) -> Tensor:\n",
    "        for layer in self.layers:\n",
    "            x = layer(x)\n",
    "        return x"
   ]
  },
  {
   "cell_type": "code",
   "execution_count": 20,
   "id": "8b1d5964",
   "metadata": {},
   "outputs": [],
   "source": [
    "a = MLP([124,64,16])"
   ]
  },
  {
   "cell_type": "code",
   "execution_count": null,
   "id": "f8843e11",
   "metadata": {},
   "outputs": [],
   "source": []
  },
  {
   "cell_type": "code",
   "execution_count": 60,
   "id": "f9d80052",
   "metadata": {},
   "outputs": [],
   "source": [
    "#a(batch[0])"
   ]
  },
  {
   "cell_type": "code",
   "execution_count": 19,
   "id": "9ea8b094",
   "metadata": {},
   "outputs": [],
   "source": [
    "f = nn.Sequential(a,nn.Linear(16,1))"
   ]
  },
  {
   "cell_type": "code",
   "execution_count": 67,
   "id": "e2d32ee9",
   "metadata": {},
   "outputs": [],
   "source": [
    "x = torch.tensor(df_btc_feat.X[0],dtype = torch.float)"
   ]
  },
  {
   "cell_type": "code",
   "execution_count": 68,
   "id": "ed29c105",
   "metadata": {},
   "outputs": [],
   "source": [
    "a0 = nn.Linear(122,64)\n",
    "a1 = nn.BatchNorm1d(64)"
   ]
  },
  {
   "cell_type": "code",
   "execution_count": 69,
   "id": "a1638112",
   "metadata": {},
   "outputs": [],
   "source": [
    "x = a0(x.view(-1,122))"
   ]
  },
  {
   "cell_type": "code",
   "execution_count": 75,
   "id": "883bfe1d",
   "metadata": {},
   "outputs": [],
   "source": [
    "x = torch.vstack([x,x])"
   ]
  },
  {
   "cell_type": "code",
   "execution_count": 78,
   "id": "b2c400e6",
   "metadata": {},
   "outputs": [
    {
     "data": {
      "text/html": [
       "<div>\n",
       "<style scoped>\n",
       "    .dataframe tbody tr th:only-of-type {\n",
       "        vertical-align: middle;\n",
       "    }\n",
       "\n",
       "    .dataframe tbody tr th {\n",
       "        vertical-align: top;\n",
       "    }\n",
       "\n",
       "    .dataframe thead th {\n",
       "        text-align: right;\n",
       "    }\n",
       "</style>\n",
       "<table border=\"1\" class=\"dataframe\">\n",
       "  <thead>\n",
       "    <tr style=\"text-align: right;\">\n",
       "      <th></th>\n",
       "      <th>X</th>\n",
       "      <th>y</th>\n",
       "      <th>timestamp</th>\n",
       "    </tr>\n",
       "  </thead>\n",
       "  <tbody>\n",
       "    <tr>\n",
       "      <th>0</th>\n",
       "      <td>[0.48397252001717433, 0.4890715778328684, 0.53...</td>\n",
       "      <td>True</td>\n",
       "      <td>2018-02-15 23:59:00</td>\n",
       "    </tr>\n",
       "    <tr>\n",
       "      <th>1</th>\n",
       "      <td>[0.6002010108536191, 0.5813901901235736, 0.554...</td>\n",
       "      <td>True</td>\n",
       "      <td>2018-02-16 23:59:00</td>\n",
       "    </tr>\n",
       "    <tr>\n",
       "      <th>2</th>\n",
       "      <td>[0.5521041562319422, 0.5756853723931892, 0.556...</td>\n",
       "      <td>True</td>\n",
       "      <td>2018-02-17 23:59:00</td>\n",
       "    </tr>\n",
       "    <tr>\n",
       "      <th>3</th>\n",
       "      <td>[0.6565078547973566, 0.6476409255223257, 0.657...</td>\n",
       "      <td>True</td>\n",
       "      <td>2018-02-18 23:59:00</td>\n",
       "    </tr>\n",
       "    <tr>\n",
       "      <th>4</th>\n",
       "      <td>[0.39676013762499374, 0.4326060809664761, 0.40...</td>\n",
       "      <td>True</td>\n",
       "      <td>2018-02-19 23:59:00</td>\n",
       "    </tr>\n",
       "    <tr>\n",
       "      <th>...</th>\n",
       "      <td>...</td>\n",
       "      <td>...</td>\n",
       "      <td>...</td>\n",
       "    </tr>\n",
       "    <tr>\n",
       "      <th>1392</th>\n",
       "      <td>[0.17751007558436646, 0.1770441927559447, 0.17...</td>\n",
       "      <td>True</td>\n",
       "      <td>2022-02-17 23:59:00</td>\n",
       "    </tr>\n",
       "    <tr>\n",
       "      <th>1393</th>\n",
       "      <td>[0.19000899098333363, 0.20502533880136736, 0.1...</td>\n",
       "      <td>True</td>\n",
       "      <td>2022-02-18 23:59:00</td>\n",
       "    </tr>\n",
       "    <tr>\n",
       "      <th>1394</th>\n",
       "      <td>[0.20746012365790603, 0.1879378522546066, 0.18...</td>\n",
       "      <td>False</td>\n",
       "      <td>2022-02-19 23:59:00</td>\n",
       "    </tr>\n",
       "    <tr>\n",
       "      <th>1395</th>\n",
       "      <td>[0.16128656895314372, 0.1733759463626144, 0.17...</td>\n",
       "      <td>True</td>\n",
       "      <td>2022-02-20 23:59:00</td>\n",
       "    </tr>\n",
       "    <tr>\n",
       "      <th>1396</th>\n",
       "      <td>[0.20989864552702425, 0.19726470470641305, 0.2...</td>\n",
       "      <td>True</td>\n",
       "      <td>2022-02-21 23:59:00</td>\n",
       "    </tr>\n",
       "  </tbody>\n",
       "</table>\n",
       "<p>1397 rows × 3 columns</p>\n",
       "</div>"
      ],
      "text/plain": [
       "                                                      X      y  \\\n",
       "0     [0.48397252001717433, 0.4890715778328684, 0.53...   True   \n",
       "1     [0.6002010108536191, 0.5813901901235736, 0.554...   True   \n",
       "2     [0.5521041562319422, 0.5756853723931892, 0.556...   True   \n",
       "3     [0.6565078547973566, 0.6476409255223257, 0.657...   True   \n",
       "4     [0.39676013762499374, 0.4326060809664761, 0.40...   True   \n",
       "...                                                 ...    ...   \n",
       "1392  [0.17751007558436646, 0.1770441927559447, 0.17...   True   \n",
       "1393  [0.19000899098333363, 0.20502533880136736, 0.1...   True   \n",
       "1394  [0.20746012365790603, 0.1879378522546066, 0.18...  False   \n",
       "1395  [0.16128656895314372, 0.1733759463626144, 0.17...   True   \n",
       "1396  [0.20989864552702425, 0.19726470470641305, 0.2...   True   \n",
       "\n",
       "               timestamp  \n",
       "0    2018-02-15 23:59:00  \n",
       "1    2018-02-16 23:59:00  \n",
       "2    2018-02-17 23:59:00  \n",
       "3    2018-02-18 23:59:00  \n",
       "4    2018-02-19 23:59:00  \n",
       "...                  ...  \n",
       "1392 2022-02-17 23:59:00  \n",
       "1393 2022-02-18 23:59:00  \n",
       "1394 2022-02-19 23:59:00  \n",
       "1395 2022-02-20 23:59:00  \n",
       "1396 2022-02-21 23:59:00  \n",
       "\n",
       "[1397 rows x 3 columns]"
      ]
     },
     "execution_count": 78,
     "metadata": {},
     "output_type": "execute_result"
    }
   ],
   "source": [
    "df_btc_feat"
   ]
  },
  {
   "cell_type": "code",
   "execution_count": 25,
   "id": "dfe3f1ae",
   "metadata": {},
   "outputs": [
    {
     "data": {
      "text/plain": [
       "ModuleList(\n",
       "  (0): Linear(in_features=124, out_features=64, bias=True)\n",
       "  (1): BatchNorm1d(64, eps=1e-05, momentum=0.1, affine=True, track_running_stats=True)\n",
       "  (2): ReLU()\n",
       "  (3): Linear(in_features=64, out_features=16, bias=True)\n",
       "  (4): BatchNorm1d(16, eps=1e-05, momentum=0.1, affine=True, track_running_stats=True)\n",
       ")"
      ]
     },
     "execution_count": 25,
     "metadata": {},
     "output_type": "execute_result"
    }
   ],
   "source": [
    "list(a.children())[0]"
   ]
  },
  {
   "cell_type": "code",
   "execution_count": 23,
   "id": "7d61fe1e",
   "metadata": {},
   "outputs": [
    {
     "data": {
      "text/plain": [
       "Linear(in_features=16, out_features=1, bias=True)"
      ]
     },
     "execution_count": 23,
     "metadata": {},
     "output_type": "execute_result"
    }
   ],
   "source": [
    "list(f.children())[1]"
   ]
  },
  {
   "cell_type": "code",
   "execution_count": 144,
   "id": "7e5ef14f",
   "metadata": {},
   "outputs": [],
   "source": []
  },
  {
   "cell_type": "code",
   "execution_count": null,
   "id": "d6956184",
   "metadata": {},
   "outputs": [],
   "source": [
    "self.layers = nn.ModuleList(\n",
    "            [\n",
    "                sublayer\n",
    "                for i, (m, n) in enumerate(zip(embed_dims, embed_dims[1:]))\n",
    "                for sublayer in [nn.Linear(m, n), nn.BatchNorm1d(n), nn.ReLU()]\n",
    "                if not (i == num_layers - 2 and isinstance(sublayer, nn.ReLU))\n",
    "            ]\n",
    "        )"
   ]
  },
  {
   "cell_type": "code",
   "execution_count": 27,
   "id": "cf0e47e8",
   "metadata": {},
   "outputs": [],
   "source": [
    "embed_dims = [3,4,5]\n",
    "num_layers = 3\n",
    "\n",
    "r = [sublayer for i, (m, n) in enumerate(zip(embed_dims, embed_dims[1:])) \n",
    " for sublayer in [nn.Linear(m, n), nn.BatchNorm1d(n), nn.ReLU()] \n",
    " if not (i == num_layers - 2 and isinstance(sublayer, nn.ReLU))\n",
    "]"
   ]
  },
  {
   "cell_type": "code",
   "execution_count": 31,
   "id": "e5399ba3",
   "metadata": {},
   "outputs": [],
   "source": [
    "def ff(x):\n",
    "    x += 1\n",
    "    import pdb\n",
    "    pdb.set_trace()\n",
    "    x = x**2\n",
    "    return x"
   ]
  },
  {
   "cell_type": "code",
   "execution_count": 71,
   "id": "1ad816a3",
   "metadata": {},
   "outputs": [],
   "source": [
    "def f(x:List[int]):\n",
    "    return x[0]"
   ]
  },
  {
   "cell_type": "code",
   "execution_count": 21,
   "id": "c63249e7",
   "metadata": {},
   "outputs": [],
   "source": [
    "device = torch.device('cuda' if torch.cuda.is_available() else 'cpu')"
   ]
  },
  {
   "cell_type": "code",
   "execution_count": null,
   "id": "b66ed49a",
   "metadata": {},
   "outputs": [],
   "source": [
    "import pytorch_lightning as pl\n",
    "from pytorch_lightning import LightningModule, Trainer\n",
    "from pytorch_lightning.callbacks.progress import TQDMProgressBar\n",
    "from pytorch_lightning.loggers import CSVLogger\n",
    "import torchmetrics.functional.classification as tm\n",
    "from lightning.pytorch.callbacks import Callback\n",
    "\n",
    "\n",
    "\n",
    "class MLP_binary_classifier(pl.LightningModule):\n",
    "    \n",
    "    def __init__(self,\n",
    "                 embed_dims: List[int],\n",
    "                 lr = 0.001):\n",
    "        super().__init__()\n",
    "        self.mlp = MLP(embed_dims)\n",
    "        self.Classifier_head = nn.Linear(embed_dims[-1],1)\n",
    "        self.s = nn.Sigmoid()\n",
    "        self.step_outputs = {\"train\": [],\"val\":[],\"test\":[]}\n",
    "        self.lr = lr\n",
    "        \n",
    "    def forward(self,\n",
    "                batch):\n",
    "        \n",
    "        x,y = batch\n",
    "        x = self.mlp(x)\n",
    "        x = self.Classifier_head(x)\n",
    "        x = self.s(x)\n",
    "        \n",
    "        return x\n",
    "          \n",
    "    def _step(self,\n",
    "              name: str,\n",
    "              batch: List[torch.tensor]):\n",
    "        \n",
    "        target = batch[1].to(device)\n",
    "        predicted_proba = self.forward(batch).flatten()\n",
    "        criterion = nn.BCELoss()\n",
    "        loss = criterion(predicted_proba,target)\n",
    "        self.step_outputs[name].append({\"loss\": loss, \"predicted_proba\": predicted_proba, \"target\": batch[1]})\n",
    "        \n",
    "        self.log(\n",
    "            f\"{name}/loss\", loss, prog_bar = True, on_epoch=True, logger = True, on_step= (name==\"train\"), batch_size=batch[1].shape[0]\n",
    "        )\n",
    "        \n",
    "        \n",
    "        return {\"loss\": loss, \"predicted_proba\": predicted_proba, \"target\": batch[1]}\n",
    "    \n",
    "    def training_step(self, batch, batch_idx = None):\n",
    "        return self._step(\"train\", batch)\n",
    "    \n",
    "    def validation_step(self, batch, batch_idx = None):\n",
    "        return self._step(\"val\", batch)\n",
    "    \n",
    "    def _epoch_end(self, name, outputs):\n",
    "        y = torch.hstack([output[\"target\"] for output in outputs])\n",
    "        y = y.type(torch.long)\n",
    "        preds = torch.hstack([output[\"predicted_proba\"] for output in outputs])\n",
    "\n",
    "        self.log(f\"{name}/auroc\", tm.binary_auroc(preds, y))\n",
    "        self.log(f\"{name}/average_precision\", tm.binary_average_precision(preds, y))\n",
    "\n",
    "        #precision, recall, _ = tm.binary_precision_recall_curve(preds, y)\n",
    "        #for ten_x in range(1,11):\n",
    "        #    x = ten_x / 10\n",
    "        #    if compute_p_at_r(precision, recall, x) != None:\n",
    "        #        self.log(f\"{name}/p@r={x}\", compute_p_at_r(precision, recall, x))\n",
    "#\n",
    "        #    y_pred = (preds > x).long()\n",
    "        #    self.log(f\"{name}/accuracy@thh={x}\", tm.binary_accuracy(y_pred, y))\n",
    "        #    self.log(f\"{name}/recall@thh={x}\", tm.binary_recall(y_pred, y))\n",
    "        #    self.log(f\"{name}/precision@thh={x}\", tm.binary_precision(y_pred, y))\n",
    "        \n",
    "    def configure_optimizers(self):\n",
    "        optimizer = torch.optim.Adam(self.parameters(), lr=self.lr)\n",
    "        return optimizer  \n",
    "    \n",
    "    def on_training_epoch_end(self):\n",
    "        outputs = self.step_outputs['train']\n",
    "        return self._epoch_end(\"train\", outputs)\n",
    "    \n",
    "    def on_validation_epoch_end(self):\n",
    "        outputs = self.step_outputs['val']\n",
    "        return self._epoch_end(\"val\", outputs)\n",
    "    \n",
    "    #def train_dataloader(self):\n",
    "    #    dloader = dd.get_dataloader(self.batch_size,self.trainset,self.esm_feat,is_inference = False)\n",
    "    #    return dloader\n",
    "    #\n",
    "    #def val_dataloader(self):\n",
    "    #    dloader = dd.get_dataloader(self.batch_size,self.valset,self.esm_feat,is_inference = True)\n",
    "    #    return dloader\n",
    "            "
   ]
  },
  {
   "cell_type": "code",
   "execution_count": 24,
   "id": "70b6812a",
   "metadata": {},
   "outputs": [],
   "source": [
    "class MyCallback(pl.Callback):\n",
    "    \n",
    "    def on_x_epoch_end(self, name, pl_module):\n",
    "        # do something with all training_step outputs, for example:\n",
    "        epoch_mean = torch.stack(pl_module.step_outputs[name]).mean()\n",
    "        pl_module.log(f\"{name}_epoch_mean\", epoch_mean)\n",
    "        # free up the memory\n",
    "        pl_module.step_outputs[name].clear()\n",
    "        \n",
    "    def on_train_epoch_end(self, trainer, pl_module):\n",
    "        return self.on_x_epoch_end(\"train\", pl_module)\n",
    "        \n",
    "    def on_validation_epoch_end(self, trainer, pl_module):\n",
    "        return self.on_x_epoch_end(\"val\", pl_module)"
   ]
  },
  {
   "cell_type": "code",
   "execution_count": 31,
   "id": "2b1fba56",
   "metadata": {},
   "outputs": [
    {
     "data": {
      "text/html": [
       "<div>\n",
       "<style scoped>\n",
       "    .dataframe tbody tr th:only-of-type {\n",
       "        vertical-align: middle;\n",
       "    }\n",
       "\n",
       "    .dataframe tbody tr th {\n",
       "        vertical-align: top;\n",
       "    }\n",
       "\n",
       "    .dataframe thead th {\n",
       "        text-align: right;\n",
       "    }\n",
       "</style>\n",
       "<table border=\"1\" class=\"dataframe\">\n",
       "  <thead>\n",
       "    <tr style=\"text-align: right;\">\n",
       "      <th></th>\n",
       "      <th>X</th>\n",
       "      <th>y</th>\n",
       "      <th>timestamp</th>\n",
       "    </tr>\n",
       "  </thead>\n",
       "  <tbody>\n",
       "    <tr>\n",
       "      <th>0</th>\n",
       "      <td>[0.034924874874129985, 0.01611405414408451, -0...</td>\n",
       "      <td>True</td>\n",
       "      <td>2018-02-16 23:59:00</td>\n",
       "    </tr>\n",
       "    <tr>\n",
       "      <th>1</th>\n",
       "      <td>[-0.019750645849713644, 0.0038305703115333323,...</td>\n",
       "      <td>True</td>\n",
       "      <td>2018-02-17 23:59:00</td>\n",
       "    </tr>\n",
       "    <tr>\n",
       "      <th>2</th>\n",
       "      <td>[0.014295249358891704, 0.005428320083860738, 0...</td>\n",
       "      <td>True</td>\n",
       "      <td>2018-02-18 23:59:00</td>\n",
       "    </tr>\n",
       "    <tr>\n",
       "      <th>3</th>\n",
       "      <td>[-0.007939690941471955, 0.027906252400010434, ...</td>\n",
       "      <td>True</td>\n",
       "      <td>2018-02-19 23:59:00</td>\n",
       "    </tr>\n",
       "    <tr>\n",
       "      <th>4</th>\n",
       "      <td>[0.030490725583469658, -0.0194371664240659, -0...</td>\n",
       "      <td>False</td>\n",
       "      <td>2018-02-20 23:59:00</td>\n",
       "    </tr>\n",
       "    <tr>\n",
       "      <th>...</th>\n",
       "      <td>...</td>\n",
       "      <td>...</td>\n",
       "      <td>...</td>\n",
       "    </tr>\n",
       "    <tr>\n",
       "      <th>977</th>\n",
       "      <td>[0.026602033094025535, 0.01361562492528634, -0...</td>\n",
       "      <td>True</td>\n",
       "      <td>2021-02-28 23:59:00</td>\n",
       "    </tr>\n",
       "    <tr>\n",
       "      <th>978</th>\n",
       "      <td>[0.016678208075497025, -0.005895291746056963, ...</td>\n",
       "      <td>True</td>\n",
       "      <td>2021-03-01 23:59:00</td>\n",
       "    </tr>\n",
       "    <tr>\n",
       "      <th>979</th>\n",
       "      <td>[-0.012602570478268849, 0.018282083145440664, ...</td>\n",
       "      <td>True</td>\n",
       "      <td>2021-03-02 23:59:00</td>\n",
       "    </tr>\n",
       "    <tr>\n",
       "      <th>980</th>\n",
       "      <td>[0.03209162590296177, -0.007095394097018981, 0...</td>\n",
       "      <td>True</td>\n",
       "      <td>2021-03-03 23:59:00</td>\n",
       "    </tr>\n",
       "    <tr>\n",
       "      <th>981</th>\n",
       "      <td>[0.0049046483177925815, 0.008743341825802942, ...</td>\n",
       "      <td>True</td>\n",
       "      <td>2021-03-11 23:59:00</td>\n",
       "    </tr>\n",
       "  </tbody>\n",
       "</table>\n",
       "<p>982 rows × 3 columns</p>\n",
       "</div>"
      ],
      "text/plain": [
       "                                                     X      y  \\\n",
       "0    [0.034924874874129985, 0.01611405414408451, -0...   True   \n",
       "1    [-0.019750645849713644, 0.0038305703115333323,...   True   \n",
       "2    [0.014295249358891704, 0.005428320083860738, 0...   True   \n",
       "3    [-0.007939690941471955, 0.027906252400010434, ...   True   \n",
       "4    [0.030490725583469658, -0.0194371664240659, -0...  False   \n",
       "..                                                 ...    ...   \n",
       "977  [0.026602033094025535, 0.01361562492528634, -0...   True   \n",
       "978  [0.016678208075497025, -0.005895291746056963, ...   True   \n",
       "979  [-0.012602570478268849, 0.018282083145440664, ...   True   \n",
       "980  [0.03209162590296177, -0.007095394097018981, 0...   True   \n",
       "981  [0.0049046483177925815, 0.008743341825802942, ...   True   \n",
       "\n",
       "              timestamp  \n",
       "0   2018-02-16 23:59:00  \n",
       "1   2018-02-17 23:59:00  \n",
       "2   2018-02-18 23:59:00  \n",
       "3   2018-02-19 23:59:00  \n",
       "4   2018-02-20 23:59:00  \n",
       "..                  ...  \n",
       "977 2021-02-28 23:59:00  \n",
       "978 2021-03-01 23:59:00  \n",
       "979 2021-03-02 23:59:00  \n",
       "980 2021-03-03 23:59:00  \n",
       "981 2021-03-11 23:59:00  \n",
       "\n",
       "[982 rows x 3 columns]"
      ]
     },
     "execution_count": 31,
     "metadata": {},
     "output_type": "execute_result"
    }
   ],
   "source": [
    "df_btc_feat[:int(.6*1638)]"
   ]
  },
  {
   "cell_type": "code",
   "execution_count": 25,
   "id": "37216e9f",
   "metadata": {},
   "outputs": [],
   "source": [
    "embed_dims = [124,64,16]\n",
    "mlp = MLP(embed_dims)\n",
    "Classifier_head = nn.Linear(embed_dims[-1],1)"
   ]
  },
  {
   "cell_type": "code",
   "execution_count": 26,
   "id": "559146b5",
   "metadata": {},
   "outputs": [],
   "source": [
    "criterion = nn.BCEWithLogitsLoss()\n",
    "logits = mlp(batch[0])\n",
    "logits = Classifier_head(logits).flatten()\n",
    "target = batch[1]"
   ]
  },
  {
   "cell_type": "code",
   "execution_count": 124,
   "id": "66b16b7c",
   "metadata": {},
   "outputs": [
    {
     "data": {
      "text/plain": [
       "tensor([0.4771, 0.3650, 0.4252, 0.5285, 0.3797, 0.5968, 0.5490, 0.4507, 0.5741,\n",
       "        0.5620, 0.4762, 0.5395, 0.4747, 0.5364, 0.2745, 0.3670],\n",
       "       grad_fn=<SigmoidBackward0>)"
      ]
     },
     "execution_count": 124,
     "metadata": {},
     "output_type": "execute_result"
    }
   ],
   "source": [
    "s = nn.Sigmoid()\n",
    "s(logits)"
   ]
  },
  {
   "cell_type": "code",
   "execution_count": 125,
   "id": "0ddf2ef7",
   "metadata": {},
   "outputs": [
    {
     "data": {
      "text/plain": [
       "tensor(0.7557, grad_fn=<BinaryCrossEntropyWithLogitsBackward0>)"
      ]
     },
     "execution_count": 125,
     "metadata": {},
     "output_type": "execute_result"
    }
   ],
   "source": [
    "criterion(logits,target)"
   ]
  },
  {
   "cell_type": "code",
   "execution_count": 126,
   "id": "dad6b0b8",
   "metadata": {},
   "outputs": [
    {
     "data": {
      "text/plain": [
       "124    1638\n",
       "Name: X, dtype: int64"
      ]
     },
     "execution_count": 126,
     "metadata": {},
     "output_type": "execute_result"
    }
   ],
   "source": [
    "df_btc_feat.X.apply(lambda x : len(x)).value_counts()"
   ]
  },
  {
   "cell_type": "code",
   "execution_count": 27,
   "id": "6ab16257",
   "metadata": {},
   "outputs": [],
   "source": [
    "dloader = DataLoader(dset,\n",
    "                     batch_size = 16,\n",
    "                     num_workers= 64,\n",
    "                     shuffle = True)"
   ]
  },
  {
   "cell_type": "code",
   "execution_count": 28,
   "id": "c6c78d8a",
   "metadata": {},
   "outputs": [],
   "source": [
    "dset = twoday_basic_dset(df_btc_feat)\n",
    "\n",
    "dloader = DataLoader(dset,\n",
    "                     batch_size = 16,\n",
    "                     num_workers= 64,\n",
    "                     shuffle = True)"
   ]
  },
  {
   "cell_type": "code",
   "execution_count": 29,
   "id": "301e8fd0",
   "metadata": {},
   "outputs": [],
   "source": [
    "def get_dloader(df,\n",
    "                batch_size,\n",
    "                num_workers = 64,\n",
    "                shuffle = True):\n",
    "    \n",
    "    dset = twoday_basic_dset(df)\n",
    "    dloader = DataLoader(dset,batch_size = batch_size,num_workers = num_workers, shuffle = shuffle)\n",
    "    \n",
    "    return dloader"
   ]
  },
  {
   "cell_type": "code",
   "execution_count": null,
   "id": "ab9faefc",
   "metadata": {},
   "outputs": [],
   "source": [
    "train_df = df_btc_feat[:int(0.6*len(df_btc_feat))]\n",
    "val_df = df_btc_feat[int(0.62*len(df_btc_feat)):int(0.75*len(df_btc_feat))]\n",
    "test_df = df_btc_feat[int(0.75*len(df_btc_feat)):]\n",
    "\n",
    "train_loader = get_dloader(train_df,16,64,True)\n",
    "val_loader =  get_dloader(val_df,256,64,True)\n",
    "test_df = get_dloader(test_df,256,64,True)"
   ]
  },
  {
   "cell_type": "code",
   "execution_count": null,
   "id": "07e1bb3d",
   "metadata": {},
   "outputs": [],
   "source": [
    "model = MLP_binary_classifier([124,64,16])"
   ]
  },
  {
   "cell_type": "code",
   "execution_count": null,
   "id": "b842cf36",
   "metadata": {},
   "outputs": [],
   "source": [
    "trainer = Trainer(accelerator=\"gpu\")\n",
    "trainer.fit(model,train_loader,val_loader)"
   ]
  },
  {
   "cell_type": "code",
   "execution_count": 83,
   "id": "6ab86ad0",
   "metadata": {},
   "outputs": [],
   "source": [
    "#df_btc_feat.y.astype(int).tolist()"
   ]
  },
  {
   "cell_type": "code",
   "execution_count": 46,
   "id": "2b61c9d0",
   "metadata": {},
   "outputs": [],
   "source": [
    "aa = list([np.array([12,2,3]),np.array([2,3,4])])"
   ]
  },
  {
   "cell_type": "code",
   "execution_count": 131,
   "id": "f04c3f60",
   "metadata": {},
   "outputs": [],
   "source": [
    "batch = next(iter(train_loader))"
   ]
  },
  {
   "cell_type": "code",
   "execution_count": 132,
   "id": "ec61605e",
   "metadata": {},
   "outputs": [
    {
     "data": {
      "text/plain": [
       "(tensor([ 3.4925e-02,  1.6114e-02, -1.1200e-02,  1.0584e-02,  3.4774e-02,\n",
       "         -1.4646e-02,  3.5579e-03, -8.6498e-05,  1.1311e-02,  2.8159e-03,\n",
       "          4.3445e-03,  8.1577e-03, -1.9751e-02,  3.8306e-03, -1.4912e-02,\n",
       "          4.5701e-03, -2.7489e-02,  1.1907e-02,  8.6070e-03, -1.3363e-02,\n",
       "          1.5636e-02, -7.6774e-04, -4.2374e-03, -4.6191e-03,  1.4295e-02,\n",
       "          5.4283e-03,  1.5616e-02,  2.8457e-03, -1.2084e-02,  1.8717e-02,\n",
       "          3.3589e-02,  1.1188e-02, -3.9689e-03, -5.7774e-03,  5.1659e-03,\n",
       "          1.7540e-02, -7.9397e-03,  2.7906e-02,  3.4680e-03,  1.4479e-02,\n",
       "         -2.2927e-02, -1.9343e-03,  7.5471e-03,  1.7871e-02,  2.6416e-02,\n",
       "          4.0287e-03, -2.3490e-02,  1.2847e-02,  3.0491e-02, -1.9437e-02,\n",
       "         -4.9155e-03, -3.6452e-02,  1.6152e-02, -4.6277e-03,  3.1094e-03,\n",
       "          2.1372e-02,  1.5339e-03, -2.4584e-03,  2.4266e-03,  1.0940e-02,\n",
       "          3.3739e+07,  3.3717e+07,  2.0781e+07,  1.9839e+07,  4.7223e+07,\n",
       "          3.2983e+07,  2.4010e+07,  3.4010e+07,  2.5015e+07,  2.1559e+07,\n",
       "          3.1398e+07,  3.8152e+07,  3.0035e+07,  2.9776e+07,  2.6455e+07,\n",
       "          2.0534e+07,  4.3467e+07,  3.1035e+07,  2.2007e+07,  2.7702e+07,\n",
       "          1.6442e+07,  1.5105e+07,  2.3065e+07,  1.9542e+07,  1.7890e+07,\n",
       "          2.0596e+07,  2.6321e+07,  2.1048e+07,  2.2836e+07,  2.2719e+07,\n",
       "          8.1361e+07,  4.0788e+07,  3.4415e+07,  3.2883e+07,  1.9103e+07,\n",
       "          3.0151e+07,  2.8936e+07,  4.7942e+07,  3.5911e+07,  2.8957e+07,\n",
       "          5.2561e+07,  7.1085e+07,  2.8693e+07,  3.4967e+07,  4.9602e+07,\n",
       "          5.8829e+07,  4.4083e+07,  3.0852e+07,  3.4562e+07,  3.0681e+07,\n",
       "          3.8912e+07,  4.4620e+07,  3.6181e+07,  2.9970e+07,  2.6748e+07,\n",
       "          3.7974e+07,  2.6856e+07,  2.9896e+07,  1.9206e+07,  2.3747e+07,\n",
       "          1.5441e-02,  1.2554e+07,  2.8246e-01,  2.8282e-01]),\n",
       " tensor(1.))"
      ]
     },
     "execution_count": 132,
     "metadata": {},
     "output_type": "execute_result"
    }
   ],
   "source": [
    "batch"
   ]
  },
  {
   "cell_type": "code",
   "execution_count": 2,
   "id": "16570d22",
   "metadata": {},
   "outputs": [],
   "source": [
    "metrics = pd.read_csv('./lightning_logs/version_16/metrics.csv')"
   ]
  },
  {
   "cell_type": "code",
   "execution_count": 3,
   "id": "00d6a839",
   "metadata": {},
   "outputs": [
    {
     "data": {
      "text/html": [
       "<div>\n",
       "<style scoped>\n",
       "    .dataframe tbody tr th:only-of-type {\n",
       "        vertical-align: middle;\n",
       "    }\n",
       "\n",
       "    .dataframe tbody tr th {\n",
       "        vertical-align: top;\n",
       "    }\n",
       "\n",
       "    .dataframe thead th {\n",
       "        text-align: right;\n",
       "    }\n",
       "</style>\n",
       "<table border=\"1\" class=\"dataframe\">\n",
       "  <thead>\n",
       "    <tr style=\"text-align: right;\">\n",
       "      <th></th>\n",
       "      <th>train/loss_step</th>\n",
       "      <th>epoch</th>\n",
       "      <th>step</th>\n",
       "      <th>val/loss</th>\n",
       "      <th>train/loss_epoch</th>\n",
       "    </tr>\n",
       "  </thead>\n",
       "  <tbody>\n",
       "    <tr>\n",
       "      <th>0</th>\n",
       "      <td>0.681599</td>\n",
       "      <td>0</td>\n",
       "      <td>49</td>\n",
       "      <td>NaN</td>\n",
       "      <td>NaN</td>\n",
       "    </tr>\n",
       "    <tr>\n",
       "      <th>1</th>\n",
       "      <td>NaN</td>\n",
       "      <td>0</td>\n",
       "      <td>61</td>\n",
       "      <td>0.548118</td>\n",
       "      <td>NaN</td>\n",
       "    </tr>\n",
       "    <tr>\n",
       "      <th>2</th>\n",
       "      <td>NaN</td>\n",
       "      <td>0</td>\n",
       "      <td>61</td>\n",
       "      <td>NaN</td>\n",
       "      <td>0.698738</td>\n",
       "    </tr>\n",
       "    <tr>\n",
       "      <th>3</th>\n",
       "      <td>0.752696</td>\n",
       "      <td>1</td>\n",
       "      <td>99</td>\n",
       "      <td>NaN</td>\n",
       "      <td>NaN</td>\n",
       "    </tr>\n",
       "    <tr>\n",
       "      <th>4</th>\n",
       "      <td>NaN</td>\n",
       "      <td>1</td>\n",
       "      <td>123</td>\n",
       "      <td>0.578921</td>\n",
       "      <td>NaN</td>\n",
       "    </tr>\n",
       "    <tr>\n",
       "      <th>5</th>\n",
       "      <td>NaN</td>\n",
       "      <td>1</td>\n",
       "      <td>123</td>\n",
       "      <td>NaN</td>\n",
       "      <td>0.638099</td>\n",
       "    </tr>\n",
       "    <tr>\n",
       "      <th>6</th>\n",
       "      <td>0.575539</td>\n",
       "      <td>2</td>\n",
       "      <td>149</td>\n",
       "      <td>NaN</td>\n",
       "      <td>NaN</td>\n",
       "    </tr>\n",
       "    <tr>\n",
       "      <th>7</th>\n",
       "      <td>NaN</td>\n",
       "      <td>2</td>\n",
       "      <td>185</td>\n",
       "      <td>0.553502</td>\n",
       "      <td>NaN</td>\n",
       "    </tr>\n",
       "    <tr>\n",
       "      <th>8</th>\n",
       "      <td>NaN</td>\n",
       "      <td>2</td>\n",
       "      <td>185</td>\n",
       "      <td>NaN</td>\n",
       "      <td>0.599506</td>\n",
       "    </tr>\n",
       "    <tr>\n",
       "      <th>9</th>\n",
       "      <td>0.622920</td>\n",
       "      <td>3</td>\n",
       "      <td>199</td>\n",
       "      <td>NaN</td>\n",
       "      <td>NaN</td>\n",
       "    </tr>\n",
       "    <tr>\n",
       "      <th>10</th>\n",
       "      <td>NaN</td>\n",
       "      <td>3</td>\n",
       "      <td>247</td>\n",
       "      <td>0.521656</td>\n",
       "      <td>NaN</td>\n",
       "    </tr>\n",
       "    <tr>\n",
       "      <th>11</th>\n",
       "      <td>NaN</td>\n",
       "      <td>3</td>\n",
       "      <td>247</td>\n",
       "      <td>NaN</td>\n",
       "      <td>0.574786</td>\n",
       "    </tr>\n",
       "    <tr>\n",
       "      <th>12</th>\n",
       "      <td>0.482622</td>\n",
       "      <td>4</td>\n",
       "      <td>249</td>\n",
       "      <td>NaN</td>\n",
       "      <td>NaN</td>\n",
       "    </tr>\n",
       "    <tr>\n",
       "      <th>13</th>\n",
       "      <td>0.525239</td>\n",
       "      <td>4</td>\n",
       "      <td>299</td>\n",
       "      <td>NaN</td>\n",
       "      <td>NaN</td>\n",
       "    </tr>\n",
       "    <tr>\n",
       "      <th>14</th>\n",
       "      <td>NaN</td>\n",
       "      <td>4</td>\n",
       "      <td>309</td>\n",
       "      <td>0.687263</td>\n",
       "      <td>NaN</td>\n",
       "    </tr>\n",
       "    <tr>\n",
       "      <th>15</th>\n",
       "      <td>NaN</td>\n",
       "      <td>4</td>\n",
       "      <td>309</td>\n",
       "      <td>NaN</td>\n",
       "      <td>0.560607</td>\n",
       "    </tr>\n",
       "    <tr>\n",
       "      <th>16</th>\n",
       "      <td>0.830095</td>\n",
       "      <td>5</td>\n",
       "      <td>349</td>\n",
       "      <td>NaN</td>\n",
       "      <td>NaN</td>\n",
       "    </tr>\n",
       "    <tr>\n",
       "      <th>17</th>\n",
       "      <td>NaN</td>\n",
       "      <td>5</td>\n",
       "      <td>371</td>\n",
       "      <td>0.642568</td>\n",
       "      <td>NaN</td>\n",
       "    </tr>\n",
       "    <tr>\n",
       "      <th>18</th>\n",
       "      <td>NaN</td>\n",
       "      <td>5</td>\n",
       "      <td>371</td>\n",
       "      <td>NaN</td>\n",
       "      <td>0.539087</td>\n",
       "    </tr>\n",
       "  </tbody>\n",
       "</table>\n",
       "</div>"
      ],
      "text/plain": [
       "    train/loss_step  epoch  step  val/loss  train/loss_epoch\n",
       "0          0.681599      0    49       NaN               NaN\n",
       "1               NaN      0    61  0.548118               NaN\n",
       "2               NaN      0    61       NaN          0.698738\n",
       "3          0.752696      1    99       NaN               NaN\n",
       "4               NaN      1   123  0.578921               NaN\n",
       "5               NaN      1   123       NaN          0.638099\n",
       "6          0.575539      2   149       NaN               NaN\n",
       "7               NaN      2   185  0.553502               NaN\n",
       "8               NaN      2   185       NaN          0.599506\n",
       "9          0.622920      3   199       NaN               NaN\n",
       "10              NaN      3   247  0.521656               NaN\n",
       "11              NaN      3   247       NaN          0.574786\n",
       "12         0.482622      4   249       NaN               NaN\n",
       "13         0.525239      4   299       NaN               NaN\n",
       "14              NaN      4   309  0.687263               NaN\n",
       "15              NaN      4   309       NaN          0.560607\n",
       "16         0.830095      5   349       NaN               NaN\n",
       "17              NaN      5   371  0.642568               NaN\n",
       "18              NaN      5   371       NaN          0.539087"
      ]
     },
     "execution_count": 3,
     "metadata": {},
     "output_type": "execute_result"
    }
   ],
   "source": [
    "metrics"
   ]
  },
  {
   "cell_type": "code",
   "execution_count": null,
   "id": "15cadd97",
   "metadata": {},
   "outputs": [],
   "source": []
  }
 ],
 "metadata": {
  "kernelspec": {
   "display_name": "Python 3 (ipykernel)",
   "language": "python",
   "name": "python3"
  },
  "language_info": {
   "codemirror_mode": {
    "name": "ipython",
    "version": 3
   },
   "file_extension": ".py",
   "mimetype": "text/x-python",
   "name": "python",
   "nbconvert_exporter": "python",
   "pygments_lexer": "ipython3",
   "version": "3.9.7"
  }
 },
 "nbformat": 4,
 "nbformat_minor": 5
}
