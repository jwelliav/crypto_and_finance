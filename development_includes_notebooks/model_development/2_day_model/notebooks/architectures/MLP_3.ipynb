{
 "cells": [
  {
   "cell_type": "code",
   "execution_count": 60,
   "id": "28c55724",
   "metadata": {},
   "outputs": [],
   "source": [
    "import pandas as pd\n",
    "import numpy as np\n",
    "import os\n",
    "import os.path as osp\n",
    "import sys\n",
    "sys.path.append('../../scripts')\n",
    "import featurizer\n",
    "sys.path.append('../../../../../scripts/preprocessing')\n",
    "import preprocessing\n",
    "import torch\n",
    "from tqdm.notebook import tqdm\n",
    "import warnings\n",
    "from torch import nn\n",
    "from typing import Union,Optional\n",
    "from torch import Tensor\n",
    "from torch.utils.data import DataLoader\n",
    "from typing import List\n",
    "import matplotlib.pyplot as plt"
   ]
  },
  {
   "cell_type": "code",
   "execution_count": 2,
   "id": "c26768ce",
   "metadata": {
    "scrolled": false
   },
   "outputs": [
    {
     "name": "stdout",
     "output_type": "stream",
     "text": [
      "Total NaN : \n",
      "\n",
      "timestamp    0\n",
      "open         0\n",
      "high         0\n",
      "low          0\n",
      "close        0\n",
      "volume       0\n",
      "returns      1\n",
      "dtype: int64\n",
      "\n",
      "Total NaN : \n",
      "\n",
      "timestamp    0\n",
      "open         0\n",
      "high         0\n",
      "low          0\n",
      "close        0\n",
      "volume       0\n",
      "returns      1\n",
      "dtype: int64\n",
      "\n"
     ]
    },
    {
     "data": {
      "application/vnd.jupyter.widget-view+json": {
       "model_id": "a2bb2a921d9443ffbdc2583000b9d634",
       "version_major": 2,
       "version_minor": 0
      },
      "text/plain": [
       "  0%|          | 0/1811 [00:00<?, ?it/s]"
      ]
     },
     "metadata": {},
     "output_type": "display_data"
    },
    {
     "name": "stdout",
     "output_type": "stream",
     "text": [
      "We make use of 90.44726670347875% of the data\n"
     ]
    },
    {
     "data": {
      "application/vnd.jupyter.widget-view+json": {
       "model_id": "06e70d1ce7d94490b30986c9146b1084",
       "version_major": 2,
       "version_minor": 0
      },
      "text/plain": [
       "0it [00:00, ?it/s]"
      ]
     },
     "metadata": {},
     "output_type": "display_data"
    }
   ],
   "source": [
    "df_btc = preprocessing.load_df('../../../../../../data/Binance/BTC_USDT.csv')\n",
    "\n",
    "warnings.filterwarnings('ignore')\n",
    "\n",
    "path_btc = '../../../../../../data/data_new/raw/Binance/BTC_USDT/BTC_USDT.csv'\n",
    "\n",
    "df_btc_feat = featurizer.load_and_featurize(path_btc)"
   ]
  },
  {
   "cell_type": "code",
   "execution_count": 3,
   "id": "11bb1eef",
   "metadata": {},
   "outputs": [],
   "source": [
    "from torch.utils.data import Dataset\n",
    "\n",
    "class twoday_basic_dset(Dataset):\n",
    "    \n",
    "    def __init__(self,df):\n",
    "        self.X = torch.tensor(df.X.tolist(),dtype = torch.float)\n",
    "        self.y = torch.tensor(df.y.astype(int).tolist(),dtype = torch.float)\n",
    "        \n",
    "    def __getitem__(self,\n",
    "                    index: int):\n",
    "        return (self.X[index],self.y[index])\n",
    "    \n",
    "    def __len__(self):\n",
    "        return len(self.X)"
   ]
  },
  {
   "cell_type": "code",
   "execution_count": 4,
   "id": "0e174927",
   "metadata": {},
   "outputs": [],
   "source": [
    "class MLP(nn.Module):\n",
    "    def __init__(\n",
    "        self,\n",
    "        embed_dims: Union[int, list],\n",
    "        num_layers: Optional[int] = None,\n",
    "        activation: str = \"relu\",\n",
    "    ) -> None:\n",
    "        super().__init__()\n",
    "\n",
    "        if isinstance(embed_dims, int):\n",
    "            assert num_layers is not None\n",
    "            embed_dims = [embed_dims] * num_layers\n",
    "        else:\n",
    "            assert num_layers is None\n",
    "            num_layers = len(embed_dims)\n",
    "\n",
    "        assert activation == \"relu\"\n",
    "\n",
    "        self.embed_dims = embed_dims\n",
    "        self.num_layers = num_layers\n",
    "        self.activation = activation\n",
    "\n",
    "        self.layers = nn.ModuleList(\n",
    "            [\n",
    "                sublayer\n",
    "                for i, (m, n) in enumerate(zip(embed_dims, embed_dims[1:]))\n",
    "                for sublayer in [nn.Linear(m, n), nn.BatchNorm1d(n), nn.ReLU()]\n",
    "                if not (i == num_layers - 2 and isinstance(sublayer, nn.ReLU))\n",
    "            ]\n",
    "        )\n",
    "\n",
    "\n",
    "    def forward(self, x: Tensor) -> Tensor:\n",
    "        for layer in self.layers:\n",
    "            x = layer(x)\n",
    "        return x"
   ]
  },
  {
   "cell_type": "code",
   "execution_count": 10,
   "id": "c63249e7",
   "metadata": {},
   "outputs": [],
   "source": [
    "device = torch.device('cuda' if torch.cuda.is_available() else 'cpu')"
   ]
  },
  {
   "cell_type": "code",
   "execution_count": 80,
   "id": "b66ed49a",
   "metadata": {},
   "outputs": [],
   "source": [
    "import lightning.pytorch as pl\n",
    "from lightning.pytorch.callbacks import TQDMProgressBar\n",
    "from lightning.pytorch.loggers import CSVLogger\n",
    "import torchmetrics as tm\n",
    "from lightning.pytorch.callbacks import Callback\n",
    "from lightning.pytorch.callbacks.early_stopping import EarlyStopping\n",
    "\n",
    "\n",
    "\n",
    "\n",
    "class MLP_binary_classifier(pl.LightningModule):\n",
    "    \n",
    "    def __init__(self,\n",
    "                 embed_dims: List[int],\n",
    "                 lr = 0.001):\n",
    "        super().__init__()\n",
    "        self.mlp = MLP(embed_dims)\n",
    "        self.Classifier_head = nn.Linear(embed_dims[-1],1)\n",
    "        self.s = nn.Sigmoid()\n",
    "        self.step_outputs = {\"train\": [],\"val\":[],\"test\":[]}\n",
    "        self.average_precision = tm.AveragePrecision(task = 'binary')\n",
    "        self.auroc = {name : tm.AUROC(task = 'binary') for name in ['train','val']}\n",
    "        self.lr = lr\n",
    "        self.pr_curve = tm.PrecisionRecallCurve(task=\"binary\")\n",
    "        \n",
    "    def forward(self,\n",
    "                batch):\n",
    "        \n",
    "        x,y = batch\n",
    "        x = self.mlp(x)\n",
    "        x = self.Classifier_head(x)\n",
    "        x = self.s(x)\n",
    "        \n",
    "        return x\n",
    "          \n",
    "    def _step(self,\n",
    "              name: str,\n",
    "              batch: List[torch.tensor]):\n",
    "        \n",
    "        target = batch[1].to(device)\n",
    "        predicted_proba = self.forward(batch).flatten()\n",
    "        criterion = nn.BCELoss()\n",
    "        loss = criterion(predicted_proba,target)\n",
    "        self.step_outputs[name].append({\"loss\": loss, \"predicted_proba\": predicted_proba, \"target\": batch[1]})\n",
    "        \n",
    "        self.log(\n",
    "            f\"{name}/loss\", loss, prog_bar = True, on_epoch=True, logger = True, on_step= (name==\"train\"), batch_size=batch[1].shape[0]\n",
    "        )\n",
    "        \n",
    "        if name == 'val':\n",
    "            x = target.type(torch.int)\n",
    "            self.average_precision(predicted_proba,x)\n",
    "            self.log(\"val/average_precision\",self.average_precision,on_epoch = True,on_step = False)\n",
    "        \n",
    "        \n",
    "        self.pr_curve.update(predicted_proba,target.type(torch.int))\n",
    "        \n",
    "        return {\"loss\": loss, \"predicted_proba\": predicted_proba, \"target\": batch[1]}\n",
    "    \n",
    "    def training_step(self, batch, batch_idx = None):\n",
    "        return self._step(\"train\", batch)\n",
    "    \n",
    "    def validation_step(self, batch, batch_idx = None):\n",
    "        return self._step(\"val\", batch)\n",
    "    \n",
    "    #def _epoch_end(self, name):\n",
    "    #    y = torch.hstack([output[\"target\"] for output in self.step_outputs[name]])\n",
    "    #    y = y.type(torch.long)\n",
    "    #    print(y)\n",
    "    #    preds = torch.hstack([output[\"predicted_proba\"] for output in self.step_outputs[name]])\n",
    "    #    print(preds) \n",
    "    \n",
    "        #self.log(f\"{name}/auroc\", self.auroc[name])\n",
    "        #self.log(f\"{name}/average_precision\", tm.binary_average_precision(preds, y))\n",
    "\n",
    "        #precision, recall, _ = tm.binary_precision_recall_curve(preds, y)\n",
    "        #for ten_x in range(1,11):\n",
    "        #    x = ten_x / 10\n",
    "        #    if compute_p_at_r(precision, recall, x) != None:\n",
    "        #        self.log(f\"{name}/p@r={x}\", compute_p_at_r(precision, recall, x))\n",
    "#\n",
    "        #    y_pred = (preds > x).long()\n",
    "        #    self.log(f\"{name}/accuracy@thh={x}\", tm.binary_accuracy(y_pred, y))\n",
    "        #    self.log(f\"{name}/recall@thh={x}\", tm.binary_recall(y_pred, y))\n",
    "        #    self.log(f\"{name}/precision@thh={x}\", tm.binary_precision(y_pred, y))\n",
    "        \n",
    "    def configure_optimizers(self):\n",
    "        optimizer = torch.optim.Adam(self.parameters(), lr=self.lr)\n",
    "        return optimizer  \n",
    "    \n",
    "    #def on_training_epoch_end(self):\n",
    "    #    outputs = self.step_outputs['train']\n",
    "    #    return self._epoch_end(\"train\")\n",
    "    #\n",
    "    \n",
    "    def on_validation_epoch_end(self):\n",
    "        outputs = self.step_outputs['val']\n",
    "        precision,recall,thresh = self.pr_curve.compute()\n",
    "        \n",
    "        a1 = precision[recall >= 0.25][-1]\n",
    "        a2 = precision[recall >= 0.5][-1]\n",
    "        a3 = precision[recall >= 0.75][-1]\n",
    "        \n",
    "        self.log(\"val/p@r=0.25\",a1)\n",
    "        self.log(\"val/p@r=0.5\",a2)\n",
    "        self.log(\"val/p@r=0.75\",a3)\n",
    "        \n",
    "        self.pr_curve.reset()\n",
    "        \n",
    "        #return self._epoch_end(\"val\")\n",
    "    \n",
    "    #def train_dataloader(self):\n",
    "    #    dloader = dd.get_dataloader(self.batch_size,self.trainset,self.esm_feat,is_inference = False)\n",
    "    #    return dloader\n",
    "    #\n",
    "    #def val_dataloader(self):\n",
    "    #    dloader = dd.get_dataloader(self.batch_size,self.valset,self.esm_feat,is_inference = True)\n",
    "    #    return dloader\n",
    "            "
   ]
  },
  {
   "cell_type": "code",
   "execution_count": 81,
   "id": "70b6812a",
   "metadata": {},
   "outputs": [],
   "source": [
    "#class MyCallback(pl.Callback):\n",
    "#    \n",
    "#    def on_x_epoch_end(self, name, pl_module):\n",
    "#        # do something with all training_step outputs, for example:\n",
    "#        epoch_mean = torch.stack(pl_module.step_outputs[name]).mean()\n",
    "#        pl_module.log(f\"{name}_epoch_mean\", epoch_mean)\n",
    "#        # free up the memory\n",
    "#        pl_module.step_outputs[name].clear()\n",
    "#        \n",
    "#    def on_train_epoch_end(self, trainer, pl_module):\n",
    "#        return self.on_x_epoch_end(\"train\", pl_module)\n",
    "#        \n",
    "#    def on_validation_epoch_end(self, trainer, pl_module):\n",
    "#        return self.on_x_epoch_end(\"val\", pl_module)"
   ]
  },
  {
   "cell_type": "code",
   "execution_count": 82,
   "id": "301e8fd0",
   "metadata": {},
   "outputs": [],
   "source": [
    "def get_dloader(df,\n",
    "                batch_size,\n",
    "                num_workers = 64,\n",
    "                shuffle = True):\n",
    "    \n",
    "    dset = twoday_basic_dset(df)\n",
    "    dloader = DataLoader(dset,batch_size = batch_size,num_workers = num_workers, shuffle = shuffle)\n",
    "    \n",
    "    return dloader"
   ]
  },
  {
   "cell_type": "code",
   "execution_count": 83,
   "id": "ab9faefc",
   "metadata": {},
   "outputs": [],
   "source": [
    "train_df = df_btc_feat[:int(0.6*len(df_btc_feat))]\n",
    "val_df = df_btc_feat[int(0.62*len(df_btc_feat)):int(0.75*len(df_btc_feat))]\n",
    "test_df = df_btc_feat[int(0.75*len(df_btc_feat)):]\n",
    "\n",
    "train_loader = get_dloader(train_df,16,64,True)\n",
    "val_loader =  get_dloader(val_df,1024,64,True)\n",
    "test_df = get_dloader(test_df,256,64,True)"
   ]
  },
  {
   "cell_type": "code",
   "execution_count": 90,
   "id": "07e1bb3d",
   "metadata": {},
   "outputs": [],
   "source": [
    "model = MLP_binary_classifier([124,64,16])"
   ]
  },
  {
   "cell_type": "code",
   "execution_count": 91,
   "id": "0ae3479d",
   "metadata": {},
   "outputs": [],
   "source": [
    "early_stop_callback = EarlyStopping(monitor=\"val/p@r=0.25\", min_delta=0.01, patience=5, verbose=False, mode=\"max\")\n",
    "\n"
   ]
  },
  {
   "cell_type": "code",
   "execution_count": 92,
   "id": "b842cf36",
   "metadata": {},
   "outputs": [
    {
     "name": "stderr",
     "output_type": "stream",
     "text": [
      "GPU available: True (cuda), used: True\n",
      "TPU available: False, using: 0 TPU cores\n",
      "IPU available: False, using: 0 IPUs\n",
      "HPU available: False, using: 0 HPUs\n",
      "LOCAL_RANK: 0 - CUDA_VISIBLE_DEVICES: [0]\n",
      "\n",
      "  | Name              | Type                       | Params\n",
      "-----------------------------------------------------------------\n",
      "0 | mlp               | MLP                        | 9.2 K \n",
      "1 | Classifier_head   | Linear                     | 17    \n",
      "2 | s                 | Sigmoid                    | 0     \n",
      "3 | average_precision | BinaryAveragePrecision     | 0     \n",
      "4 | pr_curve          | BinaryPrecisionRecallCurve | 0     \n",
      "-----------------------------------------------------------------\n",
      "9.2 K     Trainable params\n",
      "0         Non-trainable params\n",
      "9.2 K     Total params\n",
      "0.037     Total estimated model params size (MB)\n"
     ]
    },
    {
     "data": {
      "application/vnd.jupyter.widget-view+json": {
       "model_id": "",
       "version_major": 2,
       "version_minor": 0
      },
      "text/plain": [
       "Sanity Checking: 0it [00:00, ?it/s]"
      ]
     },
     "metadata": {},
     "output_type": "display_data"
    },
    {
     "data": {
      "application/vnd.jupyter.widget-view+json": {
       "model_id": "dcaab75abbf149a88555e0e57fc090fe",
       "version_major": 2,
       "version_minor": 0
      },
      "text/plain": [
       "Training: 0it [00:00, ?it/s]"
      ]
     },
     "metadata": {},
     "output_type": "display_data"
    },
    {
     "data": {
      "application/vnd.jupyter.widget-view+json": {
       "model_id": "",
       "version_major": 2,
       "version_minor": 0
      },
      "text/plain": [
       "Validation: 0it [00:00, ?it/s]"
      ]
     },
     "metadata": {},
     "output_type": "display_data"
    },
    {
     "data": {
      "application/vnd.jupyter.widget-view+json": {
       "model_id": "",
       "version_major": 2,
       "version_minor": 0
      },
      "text/plain": [
       "Validation: 0it [00:00, ?it/s]"
      ]
     },
     "metadata": {},
     "output_type": "display_data"
    },
    {
     "data": {
      "application/vnd.jupyter.widget-view+json": {
       "model_id": "",
       "version_major": 2,
       "version_minor": 0
      },
      "text/plain": [
       "Validation: 0it [00:00, ?it/s]"
      ]
     },
     "metadata": {},
     "output_type": "display_data"
    },
    {
     "data": {
      "application/vnd.jupyter.widget-view+json": {
       "model_id": "",
       "version_major": 2,
       "version_minor": 0
      },
      "text/plain": [
       "Validation: 0it [00:00, ?it/s]"
      ]
     },
     "metadata": {},
     "output_type": "display_data"
    },
    {
     "data": {
      "application/vnd.jupyter.widget-view+json": {
       "model_id": "",
       "version_major": 2,
       "version_minor": 0
      },
      "text/plain": [
       "Validation: 0it [00:00, ?it/s]"
      ]
     },
     "metadata": {},
     "output_type": "display_data"
    },
    {
     "data": {
      "application/vnd.jupyter.widget-view+json": {
       "model_id": "",
       "version_major": 2,
       "version_minor": 0
      },
      "text/plain": [
       "Validation: 0it [00:00, ?it/s]"
      ]
     },
     "metadata": {},
     "output_type": "display_data"
    },
    {
     "data": {
      "application/vnd.jupyter.widget-view+json": {
       "model_id": "",
       "version_major": 2,
       "version_minor": 0
      },
      "text/plain": [
       "Validation: 0it [00:00, ?it/s]"
      ]
     },
     "metadata": {},
     "output_type": "display_data"
    },
    {
     "data": {
      "application/vnd.jupyter.widget-view+json": {
       "model_id": "",
       "version_major": 2,
       "version_minor": 0
      },
      "text/plain": [
       "Validation: 0it [00:00, ?it/s]"
      ]
     },
     "metadata": {},
     "output_type": "display_data"
    },
    {
     "data": {
      "application/vnd.jupyter.widget-view+json": {
       "model_id": "",
       "version_major": 2,
       "version_minor": 0
      },
      "text/plain": [
       "Validation: 0it [00:00, ?it/s]"
      ]
     },
     "metadata": {},
     "output_type": "display_data"
    },
    {
     "data": {
      "application/vnd.jupyter.widget-view+json": {
       "model_id": "",
       "version_major": 2,
       "version_minor": 0
      },
      "text/plain": [
       "Validation: 0it [00:00, ?it/s]"
      ]
     },
     "metadata": {},
     "output_type": "display_data"
    },
    {
     "data": {
      "application/vnd.jupyter.widget-view+json": {
       "model_id": "",
       "version_major": 2,
       "version_minor": 0
      },
      "text/plain": [
       "Validation: 0it [00:00, ?it/s]"
      ]
     },
     "metadata": {},
     "output_type": "display_data"
    },
    {
     "data": {
      "application/vnd.jupyter.widget-view+json": {
       "model_id": "",
       "version_major": 2,
       "version_minor": 0
      },
      "text/plain": [
       "Validation: 0it [00:00, ?it/s]"
      ]
     },
     "metadata": {},
     "output_type": "display_data"
    },
    {
     "data": {
      "application/vnd.jupyter.widget-view+json": {
       "model_id": "",
       "version_major": 2,
       "version_minor": 0
      },
      "text/plain": [
       "Validation: 0it [00:00, ?it/s]"
      ]
     },
     "metadata": {},
     "output_type": "display_data"
    },
    {
     "data": {
      "application/vnd.jupyter.widget-view+json": {
       "model_id": "",
       "version_major": 2,
       "version_minor": 0
      },
      "text/plain": [
       "Validation: 0it [00:00, ?it/s]"
      ]
     },
     "metadata": {},
     "output_type": "display_data"
    },
    {
     "data": {
      "application/vnd.jupyter.widget-view+json": {
       "model_id": "",
       "version_major": 2,
       "version_minor": 0
      },
      "text/plain": [
       "Validation: 0it [00:00, ?it/s]"
      ]
     },
     "metadata": {},
     "output_type": "display_data"
    }
   ],
   "source": [
    "trainer = pl.Trainer(accelerator=\"gpu\",callbacks = [early_stop_callback])\n",
    "trainer.fit(model,train_loader,val_loader)"
   ]
  },
  {
   "cell_type": "code",
   "execution_count": 93,
   "id": "090483a9",
   "metadata": {},
   "outputs": [],
   "source": [
    "metrics = pd.read_csv('./lightning_logs/version_14/metrics.csv')"
   ]
  },
  {
   "cell_type": "code",
   "execution_count": 94,
   "id": "15cadd97",
   "metadata": {},
   "outputs": [
    {
     "data": {
      "text/html": [
       "<div>\n",
       "<style scoped>\n",
       "    .dataframe tbody tr th:only-of-type {\n",
       "        vertical-align: middle;\n",
       "    }\n",
       "\n",
       "    .dataframe tbody tr th {\n",
       "        vertical-align: top;\n",
       "    }\n",
       "\n",
       "    .dataframe thead th {\n",
       "        text-align: right;\n",
       "    }\n",
       "</style>\n",
       "<table border=\"1\" class=\"dataframe\">\n",
       "  <thead>\n",
       "    <tr style=\"text-align: right;\">\n",
       "      <th></th>\n",
       "      <th>train/loss_step</th>\n",
       "      <th>epoch</th>\n",
       "      <th>step</th>\n",
       "      <th>val/loss</th>\n",
       "      <th>val/average_precision</th>\n",
       "      <th>val/p@r=0.25</th>\n",
       "      <th>val/p@r=0.5</th>\n",
       "      <th>val/p@r=0.75</th>\n",
       "      <th>train/loss_epoch</th>\n",
       "    </tr>\n",
       "  </thead>\n",
       "  <tbody>\n",
       "    <tr>\n",
       "      <th>1</th>\n",
       "      <td>NaN</td>\n",
       "      <td>0</td>\n",
       "      <td>61</td>\n",
       "      <td>0.493634</td>\n",
       "      <td>0.870439</td>\n",
       "      <td>0.832727</td>\n",
       "      <td>0.801754</td>\n",
       "      <td>0.776018</td>\n",
       "      <td>NaN</td>\n",
       "    </tr>\n",
       "    <tr>\n",
       "      <th>4</th>\n",
       "      <td>NaN</td>\n",
       "      <td>1</td>\n",
       "      <td>123</td>\n",
       "      <td>0.541548</td>\n",
       "      <td>0.860975</td>\n",
       "      <td>0.864151</td>\n",
       "      <td>0.820467</td>\n",
       "      <td>0.793981</td>\n",
       "      <td>NaN</td>\n",
       "    </tr>\n",
       "    <tr>\n",
       "      <th>7</th>\n",
       "      <td>NaN</td>\n",
       "      <td>2</td>\n",
       "      <td>185</td>\n",
       "      <td>0.491414</td>\n",
       "      <td>0.866002</td>\n",
       "      <td>0.848148</td>\n",
       "      <td>0.811723</td>\n",
       "      <td>0.804220</td>\n",
       "      <td>NaN</td>\n",
       "    </tr>\n",
       "    <tr>\n",
       "      <th>10</th>\n",
       "      <td>NaN</td>\n",
       "      <td>3</td>\n",
       "      <td>247</td>\n",
       "      <td>0.620311</td>\n",
       "      <td>0.843042</td>\n",
       "      <td>0.826715</td>\n",
       "      <td>0.827899</td>\n",
       "      <td>0.784000</td>\n",
       "      <td>NaN</td>\n",
       "    </tr>\n",
       "    <tr>\n",
       "      <th>14</th>\n",
       "      <td>NaN</td>\n",
       "      <td>4</td>\n",
       "      <td>309</td>\n",
       "      <td>0.582050</td>\n",
       "      <td>0.838700</td>\n",
       "      <td>0.874046</td>\n",
       "      <td>0.844732</td>\n",
       "      <td>0.805164</td>\n",
       "      <td>NaN</td>\n",
       "    </tr>\n",
       "    <tr>\n",
       "      <th>17</th>\n",
       "      <td>NaN</td>\n",
       "      <td>5</td>\n",
       "      <td>371</td>\n",
       "      <td>0.532204</td>\n",
       "      <td>0.860846</td>\n",
       "      <td>0.884170</td>\n",
       "      <td>0.840074</td>\n",
       "      <td>0.799534</td>\n",
       "      <td>NaN</td>\n",
       "    </tr>\n",
       "    <tr>\n",
       "      <th>20</th>\n",
       "      <td>NaN</td>\n",
       "      <td>6</td>\n",
       "      <td>433</td>\n",
       "      <td>0.536832</td>\n",
       "      <td>0.857549</td>\n",
       "      <td>0.877395</td>\n",
       "      <td>0.836996</td>\n",
       "      <td>0.811834</td>\n",
       "      <td>NaN</td>\n",
       "    </tr>\n",
       "    <tr>\n",
       "      <th>23</th>\n",
       "      <td>NaN</td>\n",
       "      <td>7</td>\n",
       "      <td>495</td>\n",
       "      <td>0.636774</td>\n",
       "      <td>0.875889</td>\n",
       "      <td>0.851301</td>\n",
       "      <td>0.841621</td>\n",
       "      <td>0.810875</td>\n",
       "      <td>NaN</td>\n",
       "    </tr>\n",
       "    <tr>\n",
       "      <th>27</th>\n",
       "      <td>NaN</td>\n",
       "      <td>8</td>\n",
       "      <td>557</td>\n",
       "      <td>0.637672</td>\n",
       "      <td>0.835100</td>\n",
       "      <td>0.884170</td>\n",
       "      <td>0.841621</td>\n",
       "      <td>0.817640</td>\n",
       "      <td>NaN</td>\n",
       "    </tr>\n",
       "    <tr>\n",
       "      <th>30</th>\n",
       "      <td>NaN</td>\n",
       "      <td>9</td>\n",
       "      <td>619</td>\n",
       "      <td>0.573073</td>\n",
       "      <td>0.843894</td>\n",
       "      <td>0.916000</td>\n",
       "      <td>0.854206</td>\n",
       "      <td>0.813760</td>\n",
       "      <td>NaN</td>\n",
       "    </tr>\n",
       "    <tr>\n",
       "      <th>33</th>\n",
       "      <td>NaN</td>\n",
       "      <td>10</td>\n",
       "      <td>681</td>\n",
       "      <td>0.669585</td>\n",
       "      <td>0.825791</td>\n",
       "      <td>0.898039</td>\n",
       "      <td>0.849442</td>\n",
       "      <td>0.808962</td>\n",
       "      <td>NaN</td>\n",
       "    </tr>\n",
       "    <tr>\n",
       "      <th>36</th>\n",
       "      <td>NaN</td>\n",
       "      <td>11</td>\n",
       "      <td>743</td>\n",
       "      <td>0.684491</td>\n",
       "      <td>0.836056</td>\n",
       "      <td>0.891051</td>\n",
       "      <td>0.867173</td>\n",
       "      <td>0.825511</td>\n",
       "      <td>NaN</td>\n",
       "    </tr>\n",
       "    <tr>\n",
       "      <th>40</th>\n",
       "      <td>NaN</td>\n",
       "      <td>12</td>\n",
       "      <td>805</td>\n",
       "      <td>0.811217</td>\n",
       "      <td>0.809619</td>\n",
       "      <td>0.901575</td>\n",
       "      <td>0.841621</td>\n",
       "      <td>0.796748</td>\n",
       "      <td>NaN</td>\n",
       "    </tr>\n",
       "    <tr>\n",
       "      <th>43</th>\n",
       "      <td>NaN</td>\n",
       "      <td>13</td>\n",
       "      <td>867</td>\n",
       "      <td>0.796617</td>\n",
       "      <td>0.804249</td>\n",
       "      <td>0.867424</td>\n",
       "      <td>0.849442</td>\n",
       "      <td>0.815696</td>\n",
       "      <td>NaN</td>\n",
       "    </tr>\n",
       "    <tr>\n",
       "      <th>46</th>\n",
       "      <td>NaN</td>\n",
       "      <td>14</td>\n",
       "      <td>929</td>\n",
       "      <td>0.757804</td>\n",
       "      <td>0.839923</td>\n",
       "      <td>0.905138</td>\n",
       "      <td>0.882239</td>\n",
       "      <td>0.822542</td>\n",
       "      <td>NaN</td>\n",
       "    </tr>\n",
       "  </tbody>\n",
       "</table>\n",
       "</div>"
      ],
      "text/plain": [
       "    train/loss_step  epoch  step  val/loss  val/average_precision  \\\n",
       "1               NaN      0    61  0.493634               0.870439   \n",
       "4               NaN      1   123  0.541548               0.860975   \n",
       "7               NaN      2   185  0.491414               0.866002   \n",
       "10              NaN      3   247  0.620311               0.843042   \n",
       "14              NaN      4   309  0.582050               0.838700   \n",
       "17              NaN      5   371  0.532204               0.860846   \n",
       "20              NaN      6   433  0.536832               0.857549   \n",
       "23              NaN      7   495  0.636774               0.875889   \n",
       "27              NaN      8   557  0.637672               0.835100   \n",
       "30              NaN      9   619  0.573073               0.843894   \n",
       "33              NaN     10   681  0.669585               0.825791   \n",
       "36              NaN     11   743  0.684491               0.836056   \n",
       "40              NaN     12   805  0.811217               0.809619   \n",
       "43              NaN     13   867  0.796617               0.804249   \n",
       "46              NaN     14   929  0.757804               0.839923   \n",
       "\n",
       "    val/p@r=0.25  val/p@r=0.5  val/p@r=0.75  train/loss_epoch  \n",
       "1       0.832727     0.801754      0.776018               NaN  \n",
       "4       0.864151     0.820467      0.793981               NaN  \n",
       "7       0.848148     0.811723      0.804220               NaN  \n",
       "10      0.826715     0.827899      0.784000               NaN  \n",
       "14      0.874046     0.844732      0.805164               NaN  \n",
       "17      0.884170     0.840074      0.799534               NaN  \n",
       "20      0.877395     0.836996      0.811834               NaN  \n",
       "23      0.851301     0.841621      0.810875               NaN  \n",
       "27      0.884170     0.841621      0.817640               NaN  \n",
       "30      0.916000     0.854206      0.813760               NaN  \n",
       "33      0.898039     0.849442      0.808962               NaN  \n",
       "36      0.891051     0.867173      0.825511               NaN  \n",
       "40      0.901575     0.841621      0.796748               NaN  \n",
       "43      0.867424     0.849442      0.815696               NaN  \n",
       "46      0.905138     0.882239      0.822542               NaN  "
      ]
     },
     "execution_count": 94,
     "metadata": {},
     "output_type": "execute_result"
    }
   ],
   "source": [
    "metrics.dropna(subset = ['val/average_precision'])"
   ]
  },
  {
   "cell_type": "code",
   "execution_count": 39,
   "id": "604fbc33",
   "metadata": {},
   "outputs": [],
   "source": [
    "batch = next(iter(val_loader))\n",
    "\n",
    "pr_curve = tm.PrecisionRecallCurve(task=\"binary\")"
   ]
  },
  {
   "cell_type": "code",
   "execution_count": 41,
   "id": "13ec7c18",
   "metadata": {},
   "outputs": [],
   "source": [
    "pred = model(batch)"
   ]
  },
  {
   "cell_type": "code",
   "execution_count": 48,
   "id": "ee9793db",
   "metadata": {},
   "outputs": [],
   "source": [
    "pred = pred.flatten()\n",
    "target = batch[1]\n",
    "\n",
    "target = target.type(torch.int)"
   ]
  },
  {
   "cell_type": "code",
   "execution_count": 50,
   "id": "dd40784a",
   "metadata": {},
   "outputs": [],
   "source": [
    "precision,recall,threshold = pr_curve(pred,target)"
   ]
  },
  {
   "cell_type": "code",
   "execution_count": 54,
   "id": "41e4417f",
   "metadata": {},
   "outputs": [
    {
     "data": {
      "text/plain": [
       "tensor([0.8169, 0.8160, 0.8152, 0.8190, 0.8230, 0.8221, 0.8213, 0.8204, 0.8195,\n",
       "        0.8186, 0.8177, 0.8168, 0.8159, 0.8150, 0.8141, 0.8131, 0.8122, 0.8112,\n",
       "        0.8103, 0.8093, 0.8083, 0.8073, 0.8063, 0.8053, 0.8095, 0.8085, 0.8075,\n",
       "        0.8065, 0.8054, 0.8043, 0.8087, 0.8077, 0.8066, 0.8056, 0.8045, 0.8034,\n",
       "        0.8023, 0.8068, 0.8057, 0.8046, 0.8092, 0.8081, 0.8070, 0.8059, 0.8047,\n",
       "        0.8036, 0.8024, 0.8072, 0.8061, 0.8110, 0.8098, 0.8086, 0.8137, 0.8125,\n",
       "        0.8176, 0.8165, 0.8153, 0.8141, 0.8194, 0.8247, 0.8235, 0.8224, 0.8278,\n",
       "        0.8267, 0.8255, 0.8243, 0.8231, 0.8219, 0.8207, 0.8194, 0.8252, 0.8239,\n",
       "        0.8298, 0.8286, 0.8345, 0.8333, 0.8321, 0.8309, 0.8296, 0.8284, 0.8271,\n",
       "        0.8258, 0.8244, 0.8231, 0.8217, 0.8203, 0.8268, 0.8254, 0.8240, 0.8226,\n",
       "        0.8211, 0.8197, 0.8182, 0.8250, 0.8235, 0.8220, 0.8205, 0.8190, 0.8174,\n",
       "        0.8158, 0.8142, 0.8125, 0.8108, 0.8091, 0.8073, 0.8056, 0.8131, 0.8113,\n",
       "        0.8190, 0.8173, 0.8252, 0.8235, 0.8317, 0.8300, 0.8384, 0.8367, 0.8351,\n",
       "        0.8333, 0.8316, 0.8404, 0.8387, 0.8370, 0.8352, 0.8333, 0.8427, 0.8409,\n",
       "        0.8391, 0.8372, 0.8353, 0.8333, 0.8313, 0.8293, 0.8395, 0.8375, 0.8354,\n",
       "        0.8333, 0.8442, 0.8421, 0.8400, 0.8378, 0.8356, 0.8333, 0.8310, 0.8429,\n",
       "        0.8406, 0.8382, 0.8358, 0.8485, 0.8462, 0.8438, 0.8571, 0.8548, 0.8525,\n",
       "        0.8500, 0.8644, 0.8621, 0.8596, 0.8571, 0.8545, 0.8704, 0.8679, 0.8654,\n",
       "        0.8627, 0.8600, 0.8571, 0.8542, 0.8511, 0.8478, 0.8444, 0.8409, 0.8372,\n",
       "        0.8333, 0.8537, 0.8500, 0.8462, 0.8421, 0.8378, 0.8333, 0.8286, 0.8529,\n",
       "        0.8485, 0.8438, 0.8387, 0.8333, 0.8276, 0.8214, 0.8519, 0.8462, 0.8400,\n",
       "        0.8750, 0.8696, 0.8636, 0.8571])"
      ]
     },
     "execution_count": 54,
     "metadata": {},
     "output_type": "execute_result"
    }
   ],
   "source": [
    "precision[recall > 0.1]"
   ]
  },
  {
   "cell_type": "code",
   "execution_count": 63,
   "id": "7dba98e8",
   "metadata": {},
   "outputs": [
    {
     "data": {
      "text/plain": [
       "tensor(0.8243)"
      ]
     },
     "execution_count": 63,
     "metadata": {},
     "output_type": "execute_result"
    }
   ],
   "source": [
    "precision[recall > 0.7][-1]"
   ]
  },
  {
   "cell_type": "code",
   "execution_count": 56,
   "id": "c6f34bc2",
   "metadata": {},
   "outputs": [
    {
     "data": {
      "text/plain": [
       "tensor([1.0000, 0.9943, 0.9885, 0.9885, 0.9885, 0.9828, 0.9770, 0.9713, 0.9655,\n",
       "        0.9598, 0.9540, 0.9483, 0.9425, 0.9368, 0.9310, 0.9253, 0.9195, 0.9138,\n",
       "        0.9080, 0.9023, 0.8966, 0.8908, 0.8851, 0.8793, 0.8793, 0.8736, 0.8678,\n",
       "        0.8621, 0.8563, 0.8506, 0.8506, 0.8448, 0.8391, 0.8333, 0.8276, 0.8218,\n",
       "        0.8161, 0.8161, 0.8103, 0.8046, 0.8046, 0.7989, 0.7931, 0.7874, 0.7816,\n",
       "        0.7759, 0.7701, 0.7701, 0.7644, 0.7644, 0.7586, 0.7529, 0.7529, 0.7471,\n",
       "        0.7471, 0.7414, 0.7356, 0.7299, 0.7299, 0.7299, 0.7241, 0.7184, 0.7184,\n",
       "        0.7126, 0.7069, 0.7011, 0.6954, 0.6897, 0.6839, 0.6782, 0.6782, 0.6724,\n",
       "        0.6724, 0.6667, 0.6667, 0.6609, 0.6552, 0.6494, 0.6437, 0.6379, 0.6322,\n",
       "        0.6264, 0.6207, 0.6149, 0.6092, 0.6034, 0.6034, 0.5977, 0.5920, 0.5862,\n",
       "        0.5805, 0.5747, 0.5690, 0.5690, 0.5632, 0.5575, 0.5517, 0.5460, 0.5402,\n",
       "        0.5345, 0.5287, 0.5230, 0.5172, 0.5115, 0.5057, 0.5000, 0.5000, 0.4943,\n",
       "        0.4943, 0.4885, 0.4885, 0.4828, 0.4828, 0.4770, 0.4770, 0.4713, 0.4655,\n",
       "        0.4598, 0.4540, 0.4540, 0.4483, 0.4425, 0.4368, 0.4310, 0.4310, 0.4253,\n",
       "        0.4195, 0.4138, 0.4080, 0.4023, 0.3966, 0.3908, 0.3908, 0.3851, 0.3793,\n",
       "        0.3736, 0.3736, 0.3678, 0.3621, 0.3563, 0.3506, 0.3448, 0.3391, 0.3391,\n",
       "        0.3333, 0.3276, 0.3218, 0.3218, 0.3161, 0.3103, 0.3103, 0.3046, 0.2989,\n",
       "        0.2931, 0.2931, 0.2874, 0.2816, 0.2759, 0.2701, 0.2701, 0.2644, 0.2586,\n",
       "        0.2529, 0.2471, 0.2414, 0.2356, 0.2299, 0.2241, 0.2184, 0.2126, 0.2069,\n",
       "        0.2011, 0.2011, 0.1954, 0.1897, 0.1839, 0.1782, 0.1724, 0.1667, 0.1667,\n",
       "        0.1609, 0.1552, 0.1494, 0.1437, 0.1379, 0.1322, 0.1322, 0.1264, 0.1207,\n",
       "        0.1207, 0.1149, 0.1092, 0.1034, 0.0977, 0.0920, 0.0862, 0.0805, 0.0747,\n",
       "        0.0747, 0.0690, 0.0690, 0.0632, 0.0632, 0.0575, 0.0517, 0.0460, 0.0402,\n",
       "        0.0345, 0.0287, 0.0230, 0.0172, 0.0115, 0.0057, 0.0000])"
      ]
     },
     "execution_count": 56,
     "metadata": {},
     "output_type": "execute_result"
    }
   ],
   "source": [
    "recall"
   ]
  },
  {
   "cell_type": "code",
   "execution_count": 61,
   "id": "663d8b37",
   "metadata": {},
   "outputs": [],
   "source": [
    "p = precision.cpu().numpy()"
   ]
  },
  {
   "cell_type": "code",
   "execution_count": 62,
   "id": "128104f2",
   "metadata": {},
   "outputs": [
    {
     "data": {
      "text/plain": [
       "[<matplotlib.lines.Line2D at 0x7fe794199be0>]"
      ]
     },
     "execution_count": 62,
     "metadata": {},
     "output_type": "execute_result"
    },
    {
     "data": {
      "image/png": "[encoded data removed]",
      "text/plain": [
       "<Figure size 432x288 with 1 Axes>"
      ]
     },
     "metadata": {
      "needs_background": "light"
     },
     "output_type": "display_data"
    }
   ],
   "source": [
    "plt.plot(p)"
   ]
  },
  {
   "cell_type": "code",
   "execution_count": null,
   "id": "635da5f4",
   "metadata": {},
   "outputs": [],
   "source": []
  }
 ],
 "metadata": {
  "kernelspec": {
   "display_name": "Python 3 (ipykernel)",
   "language": "python",
   "name": "python3"
  },
  "language_info": {
   "codemirror_mode": {
    "name": "ipython",
    "version": 3
   },
   "file_extension": ".py",
   "mimetype": "text/x-python",
   "name": "python",
   "nbconvert_exporter": "python",
   "pygments_lexer": "ipython3",
   "version": "3.9.7"
  }
 },
 "nbformat": 4,
 "nbformat_minor": 5
}
