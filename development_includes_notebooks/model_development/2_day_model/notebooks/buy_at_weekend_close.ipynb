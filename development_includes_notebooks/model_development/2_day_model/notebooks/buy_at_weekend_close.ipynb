{
 "cells": [
  {
   "cell_type": "code",
   "execution_count": 1,
   "id": "77a2ebec",
   "metadata": {},
   "outputs": [],
   "source": [
    "# Goal : Figure out what is the worst possible outcome for this strategy i.e. maximum downside. "
   ]
  },
  {
   "cell_type": "code",
   "execution_count": 24,
   "id": "6f209b25",
   "metadata": {},
   "outputs": [],
   "source": [
    "import pandas as pd\n",
    "import numpy as np\n",
    "import os\n",
    "import os.path as osp\n",
    "from tqdm.notebook import tqdm\n",
    "import sys\n",
    "sys.path.append('../../../scripts')\n",
    "import preprocessing.preprocessing as preprocessing\n",
    "import matplotlib.pyplot as plt\n",
    "from datetime import timedelta"
   ]
  },
  {
   "cell_type": "code",
   "execution_count": 15,
   "id": "239b7584",
   "metadata": {},
   "outputs": [],
   "source": [
    "# strategy - buy at the close of a particular weekday, sell over the weekend as soon as you make \n",
    "# more than the threshold return\n",
    "\n",
    "\n",
    "def buy_at_weekday_check_weekend(df: pd.DataFrame,\n",
    "                                 day_of_week: int,\n",
    "                                 threshold: float):\n",
    "    \"\"\"\n",
    "    df - daily price dataframe,\n",
    "    day_of_week - int code of day of the week has to be between 0 and 4 (incl)\n",
    "    threshold - float value which represents the minimum value over which we will sell\n",
    "    \"\"\"\n",
    "    \n",
    "    tmp = df[df['day_of_week'] == day_of_week]\n",
    "    tmp = preprocessing.resample(tmp,'1W')\n",
    "\n",
    "    df_1d_weekends = isolate_weekends(df)\n",
    "    \n",
    "    t = list(set(df_1d_weekends.index).intersection(set(tmp.index)))\n",
    "    t.sort()\n",
    "    \n",
    "    df_1d_weekends = df_1d_weekends.loc[t]\n",
    "    tmp = tmp.loc[t]\n",
    "    \n",
    "    diff  =  (df_1d_weekends['high'].values - tmp['close'].values)/(tmp['close'].values)\n",
    "    \n",
    "    success_rate = (diff > threshold).sum()/len(diff)\n",
    "    \n",
    "    return success_rate,diff"
   ]
  },
  {
   "cell_type": "code",
   "execution_count": 200,
   "id": "992955e4",
   "metadata": {},
   "outputs": [],
   "source": [
    "def analyse_slice(df: pd.DataFrame,\n",
    "                  id1:pd.Timestamp,\n",
    "                  buy_price: float,\n",
    "                  threshold: float,\n",
    "                  epsilon: float,\n",
    "                  stop_loss: float):\n",
    "\n",
    "    tmp  = df[id1 + pd.Timedelta('1m') : id1 + pd.Timedelta('2D')]\n",
    "    \n",
    "    for index,x in tmp.iterrows():\n",
    "        if x.close > buy_price + ((threshold + epsilon)* buy_price):\n",
    "            profit = (x.close - buy_price)/(buy_price)\n",
    "            return {\"success\" : True, \"timestamp\" : index, \"profit\" : profit}\n",
    "        elif x.close < buy_price - (stop_loss * buy_price):\n",
    "            profit = (x.close - buy_price)/buy_price\n",
    "            return {\"success\" : False, \"timestamp\" : index, \"profit\" : profit}              \n",
    "        \n",
    "    return {\"success\" : False, \"timestamp\" : index,\"profit\" : (tmp.low.min() - buy_price)/(buy_price)}        \n",
    "         \n",
    "    \n",
    "    \n",
    "\n",
    "def find_downside(df: pd.DataFrame,\n",
    "                  threshold: float,\n",
    "                  epsilon: float,\n",
    "                  stop_loss: float\n",
    "                 ):\n",
    "    \n",
    "    df['day_of_week'] = df.index.dayofweek\n",
    "    tmp = df[df['day_of_week'] == 4]\n",
    "    tmp1 = tmp[(tmp.index.hour == 23) & (tmp.index.minute == 59)]\n",
    "    \n",
    "    answers = []\n",
    "    \n",
    "    for id1 in tqdm(tmp1.index):\n",
    "        buy_price = tmp1.loc[id1]['close']\n",
    "        ans = analyse_slice(df,id1,buy_price,threshold,epsilon,stop_loss)\n",
    "        answers.append(ans)\n",
    "    \n",
    "    return answers\n",
    "     \n",
    "    "
   ]
  },
  {
   "cell_type": "code",
   "execution_count": 201,
   "id": "4fda3633",
   "metadata": {},
   "outputs": [
    {
     "name": "stdout",
     "output_type": "stream",
     "text": [
      "Total NaN : \n",
      "\n",
      "timestamp    0\n",
      "open         0\n",
      "high         0\n",
      "low          0\n",
      "close        0\n",
      "volume       0\n",
      "returns      1\n",
      "dtype: int64\n",
      "\n",
      "Total NaN : \n",
      "\n",
      "timestamp    0\n",
      "open         0\n",
      "high         0\n",
      "low          0\n",
      "close        0\n",
      "volume       0\n",
      "returns      1\n",
      "dtype: int64\n",
      "\n"
     ]
    }
   ],
   "source": [
    "df_btc = preprocessing.load_df('../../../data/data_new/raw/Binance/BTC_USDT/BTC_USDT.csv')\n",
    "\n",
    "df_eth = preprocessing.load_df('../../../data/data_new/raw/Binance/ETH_USDT/ETH_USDT.csv')"
   ]
  },
  {
   "cell_type": "code",
   "execution_count": 212,
   "id": "6b134a74",
   "metadata": {},
   "outputs": [],
   "source": [
    "ld = df_btc.index[-1] - pd.Timedelta('90D')"
   ]
  },
  {
   "cell_type": "code",
   "execution_count": 221,
   "id": "d3fcfab6",
   "metadata": {},
   "outputs": [
    {
     "name": "stderr",
     "output_type": "stream",
     "text": [
      "/tmp/ipykernel_4291/2455008994.py:29: SettingWithCopyWarning: \n",
      "A value is trying to be set on a copy of a slice from a DataFrame.\n",
      "Try using .loc[row_indexer,col_indexer] = value instead\n",
      "\n",
      "See the caveats in the documentation: https://pandas.pydata.org/pandas-docs/stable/user_guide/indexing.html#returning-a-view-versus-a-copy\n",
      "  df['day_of_week'] = df.index.dayofweek\n"
     ]
    },
    {
     "data": {
      "application/vnd.jupyter.widget-view+json": {
       "model_id": "7eea7fcaf8d74b52b842d6ac4c31e28f",
       "version_major": 2,
       "version_minor": 0
      },
      "text/plain": [
       "  0%|          | 0/13 [00:00<?, ?it/s]"
      ]
     },
     "metadata": {},
     "output_type": "display_data"
    }
   ],
   "source": [
    "threshold = 0.01\n",
    "epsilon = 0.003\n",
    "stop_loss = 0.02\n",
    "\n",
    "results = find_downside(df_eth.loc[ld:],threshold,epsilon,stop_loss)"
   ]
  },
  {
   "cell_type": "code",
   "execution_count": 222,
   "id": "08521e48",
   "metadata": {},
   "outputs": [],
   "source": [
    "#results"
   ]
  },
  {
   "cell_type": "code",
   "execution_count": 223,
   "id": "d70e9616",
   "metadata": {},
   "outputs": [
    {
     "data": {
      "text/plain": [
       "0.5384615384615384"
      ]
     },
     "execution_count": 223,
     "metadata": {},
     "output_type": "execute_result"
    }
   ],
   "source": [
    "np.array([x['success'] for x in results]).sum()/len(results)"
   ]
  },
  {
   "cell_type": "code",
   "execution_count": 224,
   "id": "7c58d285",
   "metadata": {},
   "outputs": [],
   "source": [
    "losses = []\n",
    "\n",
    "for x in results:\n",
    "    if x['success'] == False:\n",
    "        losses.append(x['profit'])"
   ]
  },
  {
   "cell_type": "code",
   "execution_count": 225,
   "id": "7dbc94fb",
   "metadata": {},
   "outputs": [
    {
     "data": {
      "image/png": "[encoded data removed]",
      "text/plain": [
       "<Figure size 432x288 with 1 Axes>"
      ]
     },
     "metadata": {
      "needs_background": "light"
     },
     "output_type": "display_data"
    }
   ],
   "source": [
    "plt.hist(losses)\n",
    "plt.yticks(np.arange(0,30,2.0))\n",
    "plt.title('Losses in the strategy')\n",
    "plt.xlabel('Percentage of loss')\n",
    "plt.ylabel('Counts')\n",
    "plt.show()"
   ]
  },
  {
   "cell_type": "code",
   "execution_count": 226,
   "id": "84af7057",
   "metadata": {},
   "outputs": [
    {
     "data": {
      "text/plain": [
       "[<matplotlib.lines.Line2D at 0x7f396df8a8b0>]"
      ]
     },
     "execution_count": 226,
     "metadata": {},
     "output_type": "execute_result"
    },
    {
     "data": {
      "image/png": "[encoded data removed]",
      "text/plain": [
       "<Figure size 432x288 with 1 Axes>"
      ]
     },
     "metadata": {
      "needs_background": "light"
     },
     "output_type": "display_data"
    }
   ],
   "source": [
    "returns = [x['profit'] for x in results]\n",
    "e = (1 + np.array(returns)).cumprod()\n",
    "\n",
    "plt.plot(e)"
   ]
  },
  {
   "cell_type": "code",
   "execution_count": 218,
   "id": "68f63f3c",
   "metadata": {},
   "outputs": [],
   "source": [
    "results_losses = [x for x in results if x['success'] == False]\n",
    "results_losses = sorted(results_losses, key = lambda x : x['profit'], reverse = False)"
   ]
  },
  {
   "cell_type": "code",
   "execution_count": 219,
   "id": "9d7fab0c",
   "metadata": {},
   "outputs": [],
   "source": [
    "z  = results_losses[0]\n",
    "idx = z['timestamp']"
   ]
  },
  {
   "cell_type": "code",
   "execution_count": null,
   "id": "e1e6314f",
   "metadata": {},
   "outputs": [],
   "source": []
  },
  {
   "cell_type": "code",
   "execution_count": null,
   "id": "d8cbe4ca",
   "metadata": {},
   "outputs": [],
   "source": []
  },
  {
   "cell_type": "code",
   "execution_count": null,
   "id": "99559954",
   "metadata": {},
   "outputs": [],
   "source": []
  },
  {
   "cell_type": "code",
   "execution_count": null,
   "id": "cb74df9f",
   "metadata": {},
   "outputs": [],
   "source": []
  },
  {
   "cell_type": "code",
   "execution_count": 220,
   "id": "a9047d6e",
   "metadata": {},
   "outputs": [
    {
     "data": {
      "text/plain": [
       "<AxesSubplot:xlabel='date'>"
      ]
     },
     "execution_count": 220,
     "metadata": {},
     "output_type": "execute_result"
    },
    {
     "data": {
      "image/png": "[encoded data removed]",
      "text/plain": [
       "<Figure size 432x288 with 1 Axes>"
      ]
     },
     "metadata": {
      "needs_background": "light"
     },
     "output_type": "display_data"
    }
   ],
   "source": [
    "df_eth.loc[idx : idx + pd.Timedelta('7D')].close.plot()"
   ]
  },
  {
   "cell_type": "code",
   "execution_count": 182,
   "id": "4d25210a",
   "metadata": {},
   "outputs": [
    {
     "data": {
      "text/plain": [
       "<AxesSubplot:xlabel='date'>"
      ]
     },
     "execution_count": 182,
     "metadata": {},
     "output_type": "execute_result"
    },
    {
     "data": {
      "image/png": "[encoded data removed]",
      "text/plain": [
       "<Figure size 432x288 with 1 Axes>"
      ]
     },
     "metadata": {
      "needs_background": "light"
     },
     "output_type": "display_data"
    }
   ],
   "source": [
    "df_eth.loc[idx : idx + pd.Timedelta('2D')].close.plot()"
   ]
  },
  {
   "cell_type": "code",
   "execution_count": null,
   "id": "9394602a",
   "metadata": {},
   "outputs": [],
   "source": []
  }
 ],
 "metadata": {
  "kernelspec": {
   "display_name": "Python 3 (ipykernel)",
   "language": "python",
   "name": "python3"
  },
  "language_info": {
   "codemirror_mode": {
    "name": "ipython",
    "version": 3
   },
   "file_extension": ".py",
   "mimetype": "text/x-python",
   "name": "python",
   "nbconvert_exporter": "python",
   "pygments_lexer": "ipython3",
   "version": "3.9.7"
  }
 },
 "nbformat": 4,
 "nbformat_minor": 5
}
