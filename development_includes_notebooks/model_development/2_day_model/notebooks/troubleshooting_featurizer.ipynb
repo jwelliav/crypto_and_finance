{
 "cells": [
  {
   "cell_type": "code",
   "execution_count": 54,
   "id": "c7e41c13",
   "metadata": {},
   "outputs": [],
   "source": [
    "import pandas as pd\n",
    "import numpy as np\n",
    "import os\n",
    "import os.path as osp\n",
    "from tqdm.notebook import tqdm\n",
    "import sys\n",
    "import matplotlib.pyplot as plt\n",
    "sys.path.append('../scripts')\n",
    "import featurizer\n",
    "sys.path.append('../../../../scripts')\n",
    "import preprocessing as preprocessing\n",
    "import warnings"
   ]
  },
  {
   "cell_type": "code",
   "execution_count": 55,
   "id": "805e8dbe",
   "metadata": {},
   "outputs": [],
   "source": [
    "#df = preprocessing.load_df('../../../../../data/data_new/raw/Binance/BTC_USDT/BTC_USDT.csv')"
   ]
  },
  {
   "cell_type": "code",
   "execution_count": 56,
   "id": "e380e701",
   "metadata": {},
   "outputs": [],
   "source": [
    "def load_and_featurize(path:str):\n",
    "    \"\"\"\n",
    "    Restrict to just the two day strategy\n",
    "    \"\"\"\n",
    "    \n",
    "    df = preprocessing.load_df(path)\n",
    "    keys = df[(df.index.hour == 23) & (df.index.minute == 59)].index.tolist()\n",
    "    \n",
    "    e = {}\n",
    "\n",
    "    for x in tqdm(keys):\n",
    "        a = pd.Timedelta('5D') \n",
    "        b = pd.Timedelta('2D')\n",
    "        c = pd.Timedelta('10m')\n",
    "        X_chunk = df.loc[(df.index >= x-a) & (df.index <= x-c)]\n",
    "        y_chunk = df.loc[(df.index >= x) & (df.index <= x+b)]\n",
    "        e[x] = (X_chunk,y_chunk)\n",
    "        \n",
    "    mode1,mode2 = pd.Series([(len(e[k][0]),len(e[k][1])) for k in e.keys()]).value_counts().index[0]    \n",
    "        \n",
    "    # restrict to some of the data where we have same size data\n",
    "\n",
    "    A = [((len(e[k][0]) == mode1) and (len(e[k][1]) == mode2)) for k in keys]\n",
    "\n",
    "    print(\"We make use of {}% of the data\".format(np.array(A).sum()*100/len(keys))) \n",
    "    \n",
    "    \n",
    "    featurized = {}\n",
    "\n",
    "    for i,k in tqdm(enumerate(keys)):\n",
    "        if A[i]:\n",
    "            \n",
    "            A0= featurize(e[k][0])\n",
    "            B0= get_y(e[k][1])\n",
    "            \n",
    "            featurized[k] = (A0,B0)\n",
    "        \n",
    "    feat_keys = list(featurized.keys())\n",
    "    feat_keys.sort()\n",
    "    \n",
    "    \n",
    "    X = []\n",
    "    y = []\n",
    "    \n",
    "    for f in feat_keys:\n",
    "        X.append(featurized[f][0])\n",
    "        y.append(featurized[f][1])\n",
    "    \n",
    "    tmp_dict = {}\n",
    "    tmp_dict['X'] = X\n",
    "    tmp_dict['y'] = y\n",
    "    tmp_dict['timestamp'] = feat_keys\n",
    "    \n",
    "    return pd.DataFrame.from_dict(tmp_dict)"
   ]
  },
  {
   "cell_type": "code",
   "execution_count": 57,
   "id": "72dae9d2",
   "metadata": {},
   "outputs": [],
   "source": [
    "path = '../../../../../data/Binance/BTC_USDT.csv'"
   ]
  },
  {
   "cell_type": "code",
   "execution_count": 58,
   "id": "5a9237ff",
   "metadata": {},
   "outputs": [
    {
     "name": "stdout",
     "output_type": "stream",
     "text": [
      "Total NaN : \n",
      "\n",
      "timestamp    0\n",
      "open         0\n",
      "high         0\n",
      "low          0\n",
      "close        0\n",
      "volume       0\n",
      "returns      1\n",
      "dtype: int64\n",
      "\n"
     ]
    }
   ],
   "source": [
    "df = preprocessing.load_df(path)"
   ]
  },
  {
   "cell_type": "code",
   "execution_count": null,
   "id": "07a5cd47",
   "metadata": {},
   "outputs": [],
   "source": []
  },
  {
   "cell_type": "code",
   "execution_count": 59,
   "id": "456bce72",
   "metadata": {},
   "outputs": [],
   "source": [
    "#preprocessing.resample(df,'120min')"
   ]
  },
  {
   "cell_type": "code",
   "execution_count": 60,
   "id": "aca4650a",
   "metadata": {},
   "outputs": [
    {
     "name": "stdout",
     "output_type": "stream",
     "text": [
      "Total NaN : \n",
      "\n",
      "timestamp    0\n",
      "open         0\n",
      "high         0\n",
      "low          0\n",
      "close        0\n",
      "volume       0\n",
      "returns      1\n",
      "dtype: int64\n",
      "\n"
     ]
    },
    {
     "data": {
      "application/vnd.jupyter.widget-view+json": {
       "model_id": "a6e37f99e6924fe5bb7a9014ab12a1f5",
       "version_major": 2,
       "version_minor": 0
      },
      "text/plain": [
       "  0%|          | 0/1485 [00:00<?, ?it/s]"
      ]
     },
     "metadata": {},
     "output_type": "display_data"
    },
    {
     "name": "stdout",
     "output_type": "stream",
     "text": [
      "We make use of 94.07407407407408% of the data\n"
     ]
    },
    {
     "data": {
      "application/vnd.jupyter.widget-view+json": {
       "model_id": "3b471caa9e9346fe8daa2b0de37d922f",
       "version_major": 2,
       "version_minor": 0
      },
      "text/plain": [
       "0it [00:00, ?it/s]"
      ]
     },
     "metadata": {},
     "output_type": "display_data"
    }
   ],
   "source": [
    "warnings.filterwarnings('ignore')\n",
    "\n",
    "\n",
    "\n",
    "df = preprocessing.load_df(path)\n",
    "keys = df[(df.index.hour == 23) & (df.index.minute == 59)].index.tolist()\n",
    "\n",
    "e = {}\n",
    "\n",
    "for x in tqdm(keys):\n",
    "    a = pd.Timedelta('5D') \n",
    "    b = pd.Timedelta('2D')\n",
    "    c = pd.Timedelta('10m')\n",
    "    X_chunk = df.loc[(df.index >= x-a) & (df.index <= x-c)]\n",
    "    y_chunk = df.loc[(df.index >= x) & (df.index <= x+b)]\n",
    "    e[x] = (X_chunk,y_chunk)\n",
    "    \n",
    "mode1,mode2 = pd.Series([(len(e[k][0]),len(e[k][1])) for k in e.keys()]).value_counts().index[0]    \n",
    "    \n",
    "# restrict to some of the data where we have same size data\n",
    "\n",
    "A = [((len(e[k][0]) == mode1) and (len(e[k][1]) == mode2)) for k in keys]\n",
    "\n",
    "print(\"We make use of {}% of the data\".format(np.array(A).sum()*100/len(keys))) \n",
    "\n",
    "\n",
    "featurized = {}\n",
    "\n",
    "for i,k in tqdm(enumerate(keys)):\n",
    "    if A[i]:\n",
    "        \n",
    "        A0= featurizer.featurize(e[k][0])\n",
    "        B0= featurizer.get_y(e[k][1])\n",
    "        \n",
    "        featurized[k] = (A0,B0)\n",
    "    \n",
    "feat_keys = list(featurized.keys())\n",
    "feat_keys.sort()\n",
    "\n",
    "\n",
    "X = []\n",
    "y = []\n",
    "\n",
    "for f in feat_keys:\n",
    "    X.append(featurized[f][0])\n",
    "    y.append(featurized[f][1])\n",
    "\n",
    "tmp_dict = {}\n",
    "tmp_dict['X'] = X\n",
    "tmp_dict['y'] = y\n",
    "tmp_dict['timestamp'] = feat_keys\n",
    "\n"
   ]
  },
  {
   "cell_type": "code",
   "execution_count": 61,
   "id": "deea4bbe",
   "metadata": {},
   "outputs": [
    {
     "data": {
      "text/plain": [
       "(1485, 1397)"
      ]
     },
     "execution_count": 61,
     "metadata": {},
     "output_type": "execute_result"
    }
   ],
   "source": [
    "len(keys),len(featurized.keys())"
   ]
  },
  {
   "cell_type": "code",
   "execution_count": 62,
   "id": "c6a72801",
   "metadata": {},
   "outputs": [],
   "source": [
    "fkeys = list(featurized.keys())\n",
    "fkeys.sort()\n",
    "\n",
    "lengths = pd.Series([len(featurized[k][0]) for k in fkeys])"
   ]
  },
  {
   "cell_type": "code",
   "execution_count": 63,
   "id": "23cb9a87",
   "metadata": {},
   "outputs": [
    {
     "data": {
      "text/plain": [
       "124    1359\n",
       "122      22\n",
       "120       9\n",
       "116       4\n",
       "114       3\n",
       "dtype: int64"
      ]
     },
     "execution_count": 63,
     "metadata": {},
     "output_type": "execute_result"
    }
   ],
   "source": [
    "lengths.value_counts()"
   ]
  },
  {
   "cell_type": "code",
   "execution_count": 11,
   "id": "69a9f7d3",
   "metadata": {},
   "outputs": [],
   "source": [
    "bad_feat_keys = {}\n",
    "for f in feat_keys:\n",
    "    if len(featurized[f][0]) in bad_feat_keys.keys():\n",
    "                  bad_feat_keys[len(featurized[f][0])].append(f)\n",
    "    else:\n",
    "        bad_feat_keys[len(featurized[f][0])] = [f]"
   ]
  },
  {
   "cell_type": "code",
   "execution_count": 31,
   "id": "13a07bde",
   "metadata": {},
   "outputs": [],
   "source": [
    "aaa = bad_feat_keys[122][0]\n",
    "bbb = bad_feat_keys[124][0]"
   ]
  },
  {
   "cell_type": "code",
   "execution_count": 28,
   "id": "d9cb804c",
   "metadata": {},
   "outputs": [],
   "source": [
    "a = e[bad_feat_keys[122][0]][0]\n",
    "b = e[bad_feat_keys[124][0]][0]"
   ]
  },
  {
   "cell_type": "code",
   "execution_count": 20,
   "id": "8f5c5f4c",
   "metadata": {},
   "outputs": [
    {
     "data": {
      "text/html": [
       "<div>\n",
       "<style scoped>\n",
       "    .dataframe tbody tr th:only-of-type {\n",
       "        vertical-align: middle;\n",
       "    }\n",
       "\n",
       "    .dataframe tbody tr th {\n",
       "        vertical-align: top;\n",
       "    }\n",
       "\n",
       "    .dataframe thead th {\n",
       "        text-align: right;\n",
       "    }\n",
       "</style>\n",
       "<table border=\"1\" class=\"dataframe\">\n",
       "  <thead>\n",
       "    <tr style=\"text-align: right;\">\n",
       "      <th></th>\n",
       "      <th>timestamp</th>\n",
       "      <th>open</th>\n",
       "      <th>high</th>\n",
       "      <th>low</th>\n",
       "      <th>close</th>\n",
       "      <th>volume</th>\n",
       "      <th>returns</th>\n",
       "      <th>dollar_volume</th>\n",
       "    </tr>\n",
       "    <tr>\n",
       "      <th>date</th>\n",
       "      <th></th>\n",
       "      <th></th>\n",
       "      <th></th>\n",
       "      <th></th>\n",
       "      <th></th>\n",
       "      <th></th>\n",
       "      <th></th>\n",
       "      <th></th>\n",
       "    </tr>\n",
       "  </thead>\n",
       "  <tbody>\n",
       "    <tr>\n",
       "      <th>2018-10-14 23:59:00</th>\n",
       "      <td>1539561540000</td>\n",
       "      <td>6343.96</td>\n",
       "      <td>6343.96</td>\n",
       "      <td>6335.63</td>\n",
       "      <td>6339.34</td>\n",
       "      <td>19.324838</td>\n",
       "      <td>-0.000728</td>\n",
       "      <td>122551.358903</td>\n",
       "    </tr>\n",
       "    <tr>\n",
       "      <th>2018-10-15 00:00:00</th>\n",
       "      <td>1539561600000</td>\n",
       "      <td>6339.34</td>\n",
       "      <td>6342.77</td>\n",
       "      <td>6328.51</td>\n",
       "      <td>6330.00</td>\n",
       "      <td>15.305083</td>\n",
       "      <td>-0.001473</td>\n",
       "      <td>96952.650128</td>\n",
       "    </tr>\n",
       "    <tr>\n",
       "      <th>2018-10-15 00:01:00</th>\n",
       "      <td>1539561660000</td>\n",
       "      <td>6329.99</td>\n",
       "      <td>6333.67</td>\n",
       "      <td>6327.48</td>\n",
       "      <td>6330.78</td>\n",
       "      <td>9.991315</td>\n",
       "      <td>0.000123</td>\n",
       "      <td>63248.870606</td>\n",
       "    </tr>\n",
       "    <tr>\n",
       "      <th>2018-10-15 00:02:00</th>\n",
       "      <td>1539561720000</td>\n",
       "      <td>6327.75</td>\n",
       "      <td>6333.32</td>\n",
       "      <td>6327.50</td>\n",
       "      <td>6327.65</td>\n",
       "      <td>21.466550</td>\n",
       "      <td>-0.000494</td>\n",
       "      <td>135833.888435</td>\n",
       "    </tr>\n",
       "    <tr>\n",
       "      <th>2018-10-15 00:03:00</th>\n",
       "      <td>1539561780000</td>\n",
       "      <td>6328.05</td>\n",
       "      <td>6329.43</td>\n",
       "      <td>6320.00</td>\n",
       "      <td>6321.54</td>\n",
       "      <td>28.772304</td>\n",
       "      <td>-0.000966</td>\n",
       "      <td>181978.924478</td>\n",
       "    </tr>\n",
       "    <tr>\n",
       "      <th>...</th>\n",
       "      <td>...</td>\n",
       "      <td>...</td>\n",
       "      <td>...</td>\n",
       "      <td>...</td>\n",
       "      <td>...</td>\n",
       "      <td>...</td>\n",
       "      <td>...</td>\n",
       "      <td>...</td>\n",
       "    </tr>\n",
       "    <tr>\n",
       "      <th>2018-10-19 23:45:00</th>\n",
       "      <td>1539992700000</td>\n",
       "      <td>6539.47</td>\n",
       "      <td>6540.69</td>\n",
       "      <td>6538.60</td>\n",
       "      <td>6540.69</td>\n",
       "      <td>5.100679</td>\n",
       "      <td>0.000187</td>\n",
       "      <td>33358.848714</td>\n",
       "    </tr>\n",
       "    <tr>\n",
       "      <th>2018-10-19 23:46:00</th>\n",
       "      <td>1539992760000</td>\n",
       "      <td>6539.12</td>\n",
       "      <td>6540.70</td>\n",
       "      <td>6534.73</td>\n",
       "      <td>6537.22</td>\n",
       "      <td>10.663520</td>\n",
       "      <td>-0.000531</td>\n",
       "      <td>69719.906558</td>\n",
       "    </tr>\n",
       "    <tr>\n",
       "      <th>2018-10-19 23:47:00</th>\n",
       "      <td>1539992820000</td>\n",
       "      <td>6537.20</td>\n",
       "      <td>6539.65</td>\n",
       "      <td>6534.76</td>\n",
       "      <td>6538.87</td>\n",
       "      <td>2.171868</td>\n",
       "      <td>0.000252</td>\n",
       "      <td>14199.748999</td>\n",
       "    </tr>\n",
       "    <tr>\n",
       "      <th>2018-10-19 23:48:00</th>\n",
       "      <td>1539992880000</td>\n",
       "      <td>6534.97</td>\n",
       "      <td>6538.87</td>\n",
       "      <td>6532.00</td>\n",
       "      <td>6536.48</td>\n",
       "      <td>4.345338</td>\n",
       "      <td>-0.000366</td>\n",
       "      <td>28399.934200</td>\n",
       "    </tr>\n",
       "    <tr>\n",
       "      <th>2018-10-19 23:49:00</th>\n",
       "      <td>1539992940000</td>\n",
       "      <td>6532.01</td>\n",
       "      <td>6537.28</td>\n",
       "      <td>6532.01</td>\n",
       "      <td>6532.70</td>\n",
       "      <td>28.236415</td>\n",
       "      <td>-0.000578</td>\n",
       "      <td>184450.286707</td>\n",
       "    </tr>\n",
       "  </tbody>\n",
       "</table>\n",
       "<p>7191 rows × 8 columns</p>\n",
       "</div>"
      ],
      "text/plain": [
       "                         timestamp     open     high      low    close  \\\n",
       "date                                                                     \n",
       "2018-10-14 23:59:00  1539561540000  6343.96  6343.96  6335.63  6339.34   \n",
       "2018-10-15 00:00:00  1539561600000  6339.34  6342.77  6328.51  6330.00   \n",
       "2018-10-15 00:01:00  1539561660000  6329.99  6333.67  6327.48  6330.78   \n",
       "2018-10-15 00:02:00  1539561720000  6327.75  6333.32  6327.50  6327.65   \n",
       "2018-10-15 00:03:00  1539561780000  6328.05  6329.43  6320.00  6321.54   \n",
       "...                            ...      ...      ...      ...      ...   \n",
       "2018-10-19 23:45:00  1539992700000  6539.47  6540.69  6538.60  6540.69   \n",
       "2018-10-19 23:46:00  1539992760000  6539.12  6540.70  6534.73  6537.22   \n",
       "2018-10-19 23:47:00  1539992820000  6537.20  6539.65  6534.76  6538.87   \n",
       "2018-10-19 23:48:00  1539992880000  6534.97  6538.87  6532.00  6536.48   \n",
       "2018-10-19 23:49:00  1539992940000  6532.01  6537.28  6532.01  6532.70   \n",
       "\n",
       "                        volume   returns  dollar_volume  \n",
       "date                                                     \n",
       "2018-10-14 23:59:00  19.324838 -0.000728  122551.358903  \n",
       "2018-10-15 00:00:00  15.305083 -0.001473   96952.650128  \n",
       "2018-10-15 00:01:00   9.991315  0.000123   63248.870606  \n",
       "2018-10-15 00:02:00  21.466550 -0.000494  135833.888435  \n",
       "2018-10-15 00:03:00  28.772304 -0.000966  181978.924478  \n",
       "...                        ...       ...            ...  \n",
       "2018-10-19 23:45:00   5.100679  0.000187   33358.848714  \n",
       "2018-10-19 23:46:00  10.663520 -0.000531   69719.906558  \n",
       "2018-10-19 23:47:00   2.171868  0.000252   14199.748999  \n",
       "2018-10-19 23:48:00   4.345338 -0.000366   28399.934200  \n",
       "2018-10-19 23:49:00  28.236415 -0.000578  184450.286707  \n",
       "\n",
       "[7191 rows x 8 columns]"
      ]
     },
     "execution_count": 20,
     "metadata": {},
     "output_type": "execute_result"
    }
   ],
   "source": [
    "a"
   ]
  },
  {
   "cell_type": "code",
   "execution_count": 21,
   "id": "dbfa441d",
   "metadata": {},
   "outputs": [],
   "source": [
    "tmp = preprocessing.resample(a,'120min')\n",
    "    \n",
    "    \n",
    "a0 = tmp.returns.values.T.tolist()\n",
    "a1 = tmp.dollar_volume.values.T.tolist()\n",
    "a2 = [tmp.returns.std()] # risk measured over the data \n",
    "a3 = [tmp.dollar_volume.std()] \n",
    "a4 = [(-df.open.iloc[0] + df.high.max())/(df.open.iloc[0])]\n",
    "a5 = [(df.high.max() - df.low.min())/(df.low.min())]"
   ]
  },
  {
   "cell_type": "code",
   "execution_count": 27,
   "id": "63ec1b8a",
   "metadata": {},
   "outputs": [
    {
     "data": {
      "text/plain": [
       "(59, 59, 1, 1, 1, 1)"
      ]
     },
     "execution_count": 27,
     "metadata": {},
     "output_type": "execute_result"
    }
   ],
   "source": [
    "len(a0),len(a1),len(a2),len(a3),len(a4),len(a5)"
   ]
  },
  {
   "cell_type": "code",
   "execution_count": 29,
   "id": "f495d1eb",
   "metadata": {},
   "outputs": [],
   "source": [
    "tmp = preprocessing.resample(b,'120min')\n",
    "    \n",
    "    \n",
    "a0 = tmp.returns.values.T.tolist()\n",
    "a1 = tmp.dollar_volume.values.T.tolist()\n",
    "a2 = [tmp.returns.std()] # risk measured over the data \n",
    "a3 = [tmp.dollar_volume.std()] \n",
    "a4 = [(-df.open.iloc[0] + df.high.max())/(df.open.iloc[0])]\n",
    "a5 = [(df.high.max() - df.low.min())/(df.low.min())]"
   ]
  },
  {
   "cell_type": "code",
   "execution_count": 30,
   "id": "be259e70",
   "metadata": {},
   "outputs": [
    {
     "data": {
      "text/plain": [
       "(60, 60, 1, 1, 1, 1)"
      ]
     },
     "execution_count": 30,
     "metadata": {},
     "output_type": "execute_result"
    }
   ],
   "source": [
    "len(a0),len(a1),len(a2),len(a3),len(a4),len(a5)"
   ]
  },
  {
   "cell_type": "code",
   "execution_count": 41,
   "id": "8958af5c",
   "metadata": {},
   "outputs": [
    {
     "data": {
      "text/html": [
       "<div>\n",
       "<style scoped>\n",
       "    .dataframe tbody tr th:only-of-type {\n",
       "        vertical-align: middle;\n",
       "    }\n",
       "\n",
       "    .dataframe tbody tr th {\n",
       "        vertical-align: top;\n",
       "    }\n",
       "\n",
       "    .dataframe thead th {\n",
       "        text-align: right;\n",
       "    }\n",
       "</style>\n",
       "<table border=\"1\" class=\"dataframe\">\n",
       "  <thead>\n",
       "    <tr style=\"text-align: right;\">\n",
       "      <th></th>\n",
       "      <th>timestamp</th>\n",
       "      <th>open</th>\n",
       "      <th>high</th>\n",
       "      <th>low</th>\n",
       "      <th>close</th>\n",
       "      <th>volume</th>\n",
       "      <th>returns</th>\n",
       "      <th>dollar_volume</th>\n",
       "    </tr>\n",
       "    <tr>\n",
       "      <th>date</th>\n",
       "      <th></th>\n",
       "      <th></th>\n",
       "      <th></th>\n",
       "      <th></th>\n",
       "      <th></th>\n",
       "      <th></th>\n",
       "      <th></th>\n",
       "      <th></th>\n",
       "    </tr>\n",
       "  </thead>\n",
       "  <tbody>\n",
       "    <tr>\n",
       "      <th>2018-10-14 23:59:00</th>\n",
       "      <td>1539561540000</td>\n",
       "      <td>6343.96</td>\n",
       "      <td>6343.96</td>\n",
       "      <td>6335.63</td>\n",
       "      <td>6339.34</td>\n",
       "      <td>19.324838</td>\n",
       "      <td>-0.000728</td>\n",
       "      <td>122551.358903</td>\n",
       "    </tr>\n",
       "    <tr>\n",
       "      <th>2018-10-15 00:00:00</th>\n",
       "      <td>1539561600000</td>\n",
       "      <td>6339.34</td>\n",
       "      <td>6342.77</td>\n",
       "      <td>6328.51</td>\n",
       "      <td>6330.00</td>\n",
       "      <td>15.305083</td>\n",
       "      <td>-0.001473</td>\n",
       "      <td>96952.650128</td>\n",
       "    </tr>\n",
       "    <tr>\n",
       "      <th>2018-10-15 00:01:00</th>\n",
       "      <td>1539561660000</td>\n",
       "      <td>6329.99</td>\n",
       "      <td>6333.67</td>\n",
       "      <td>6327.48</td>\n",
       "      <td>6330.78</td>\n",
       "      <td>9.991315</td>\n",
       "      <td>0.000123</td>\n",
       "      <td>63248.870606</td>\n",
       "    </tr>\n",
       "    <tr>\n",
       "      <th>2018-10-15 00:02:00</th>\n",
       "      <td>1539561720000</td>\n",
       "      <td>6327.75</td>\n",
       "      <td>6333.32</td>\n",
       "      <td>6327.50</td>\n",
       "      <td>6327.65</td>\n",
       "      <td>21.466550</td>\n",
       "      <td>-0.000494</td>\n",
       "      <td>135833.888435</td>\n",
       "    </tr>\n",
       "    <tr>\n",
       "      <th>2018-10-15 00:03:00</th>\n",
       "      <td>1539561780000</td>\n",
       "      <td>6328.05</td>\n",
       "      <td>6329.43</td>\n",
       "      <td>6320.00</td>\n",
       "      <td>6321.54</td>\n",
       "      <td>28.772304</td>\n",
       "      <td>-0.000966</td>\n",
       "      <td>181978.924478</td>\n",
       "    </tr>\n",
       "    <tr>\n",
       "      <th>...</th>\n",
       "      <td>...</td>\n",
       "      <td>...</td>\n",
       "      <td>...</td>\n",
       "      <td>...</td>\n",
       "      <td>...</td>\n",
       "      <td>...</td>\n",
       "      <td>...</td>\n",
       "      <td>...</td>\n",
       "    </tr>\n",
       "    <tr>\n",
       "      <th>2018-10-19 23:45:00</th>\n",
       "      <td>1539992700000</td>\n",
       "      <td>6539.47</td>\n",
       "      <td>6540.69</td>\n",
       "      <td>6538.60</td>\n",
       "      <td>6540.69</td>\n",
       "      <td>5.100679</td>\n",
       "      <td>0.000187</td>\n",
       "      <td>33358.848714</td>\n",
       "    </tr>\n",
       "    <tr>\n",
       "      <th>2018-10-19 23:46:00</th>\n",
       "      <td>1539992760000</td>\n",
       "      <td>6539.12</td>\n",
       "      <td>6540.70</td>\n",
       "      <td>6534.73</td>\n",
       "      <td>6537.22</td>\n",
       "      <td>10.663520</td>\n",
       "      <td>-0.000531</td>\n",
       "      <td>69719.906558</td>\n",
       "    </tr>\n",
       "    <tr>\n",
       "      <th>2018-10-19 23:47:00</th>\n",
       "      <td>1539992820000</td>\n",
       "      <td>6537.20</td>\n",
       "      <td>6539.65</td>\n",
       "      <td>6534.76</td>\n",
       "      <td>6538.87</td>\n",
       "      <td>2.171868</td>\n",
       "      <td>0.000252</td>\n",
       "      <td>14199.748999</td>\n",
       "    </tr>\n",
       "    <tr>\n",
       "      <th>2018-10-19 23:48:00</th>\n",
       "      <td>1539992880000</td>\n",
       "      <td>6534.97</td>\n",
       "      <td>6538.87</td>\n",
       "      <td>6532.00</td>\n",
       "      <td>6536.48</td>\n",
       "      <td>4.345338</td>\n",
       "      <td>-0.000366</td>\n",
       "      <td>28399.934200</td>\n",
       "    </tr>\n",
       "    <tr>\n",
       "      <th>2018-10-19 23:49:00</th>\n",
       "      <td>1539992940000</td>\n",
       "      <td>6532.01</td>\n",
       "      <td>6537.28</td>\n",
       "      <td>6532.01</td>\n",
       "      <td>6532.70</td>\n",
       "      <td>28.236415</td>\n",
       "      <td>-0.000578</td>\n",
       "      <td>184450.286707</td>\n",
       "    </tr>\n",
       "  </tbody>\n",
       "</table>\n",
       "<p>6981 rows × 8 columns</p>\n",
       "</div>"
      ],
      "text/plain": [
       "                         timestamp     open     high      low    close  \\\n",
       "date                                                                     \n",
       "2018-10-14 23:59:00  1539561540000  6343.96  6343.96  6335.63  6339.34   \n",
       "2018-10-15 00:00:00  1539561600000  6339.34  6342.77  6328.51  6330.00   \n",
       "2018-10-15 00:01:00  1539561660000  6329.99  6333.67  6327.48  6330.78   \n",
       "2018-10-15 00:02:00  1539561720000  6327.75  6333.32  6327.50  6327.65   \n",
       "2018-10-15 00:03:00  1539561780000  6328.05  6329.43  6320.00  6321.54   \n",
       "...                            ...      ...      ...      ...      ...   \n",
       "2018-10-19 23:45:00  1539992700000  6539.47  6540.69  6538.60  6540.69   \n",
       "2018-10-19 23:46:00  1539992760000  6539.12  6540.70  6534.73  6537.22   \n",
       "2018-10-19 23:47:00  1539992820000  6537.20  6539.65  6534.76  6538.87   \n",
       "2018-10-19 23:48:00  1539992880000  6534.97  6538.87  6532.00  6536.48   \n",
       "2018-10-19 23:49:00  1539992940000  6532.01  6537.28  6532.01  6532.70   \n",
       "\n",
       "                        volume   returns  dollar_volume  \n",
       "date                                                     \n",
       "2018-10-14 23:59:00  19.324838 -0.000728  122551.358903  \n",
       "2018-10-15 00:00:00  15.305083 -0.001473   96952.650128  \n",
       "2018-10-15 00:01:00   9.991315  0.000123   63248.870606  \n",
       "2018-10-15 00:02:00  21.466550 -0.000494  135833.888435  \n",
       "2018-10-15 00:03:00  28.772304 -0.000966  181978.924478  \n",
       "...                        ...       ...            ...  \n",
       "2018-10-19 23:45:00   5.100679  0.000187   33358.848714  \n",
       "2018-10-19 23:46:00  10.663520 -0.000531   69719.906558  \n",
       "2018-10-19 23:47:00   2.171868  0.000252   14199.748999  \n",
       "2018-10-19 23:48:00   4.345338 -0.000366   28399.934200  \n",
       "2018-10-19 23:49:00  28.236415 -0.000578  184450.286707  \n",
       "\n",
       "[6981 rows x 8 columns]"
      ]
     },
     "execution_count": 41,
     "metadata": {},
     "output_type": "execute_result"
    }
   ],
   "source": [
    "e[aaa][0].drop_duplicates(subset = 'timestamp')"
   ]
  },
  {
   "cell_type": "code",
   "execution_count": null,
   "id": "fc4c96c0",
   "metadata": {},
   "outputs": [],
   "source": []
  },
  {
   "cell_type": "code",
   "execution_count": null,
   "id": "34a13cb4",
   "metadata": {},
   "outputs": [],
   "source": []
  },
  {
   "cell_type": "code",
   "execution_count": null,
   "id": "b5bdbfff",
   "metadata": {},
   "outputs": [],
   "source": []
  },
  {
   "cell_type": "code",
   "execution_count": null,
   "id": "1b8357c9",
   "metadata": {},
   "outputs": [],
   "source": []
  },
  {
   "cell_type": "code",
   "execution_count": null,
   "id": "987187ef",
   "metadata": {},
   "outputs": [],
   "source": []
  },
  {
   "cell_type": "code",
   "execution_count": null,
   "id": "6f250aa4",
   "metadata": {},
   "outputs": [],
   "source": []
  },
  {
   "cell_type": "code",
   "execution_count": null,
   "id": "370abd5c",
   "metadata": {},
   "outputs": [],
   "source": [
    "for i,k in tqdm(enumerate(keys)):\n",
    "    if A[i]:\n",
    "        \n",
    "        A0= featurize(e[k][0])\n",
    "        B0= get_y(e[k][1])\n",
    "        \n",
    "        featurized[k] = (A0,B0)\n",
    "    \n",
    "feat_keys = list(featurized.keys())\n",
    "feat_keys.sort()\n",
    "\n",
    "\n",
    "X = []\n",
    "y = []\n",
    "\n",
    "for f in feat_keys:\n",
    "    X.append(featurized[f][0])\n",
    "    y.append(featurized[f][1])\n",
    "\n",
    "tmp_dict = {}\n",
    "tmp_dict['X'] = X\n",
    "tmp_dict['y'] = y\n",
    "tmp_dict['timestamp'] = feat_keys"
   ]
  },
  {
   "cell_type": "code",
   "execution_count": 8,
   "id": "6e8ee604",
   "metadata": {},
   "outputs": [
    {
     "data": {
      "text/plain": [
       "['featurizer.py', '__pycache__', '.ipynb_checkpoints']"
      ]
     },
     "execution_count": 8,
     "metadata": {},
     "output_type": "execute_result"
    }
   ],
   "source": [
    "os.listdir('../scripts')"
   ]
  },
  {
   "cell_type": "code",
   "execution_count": 9,
   "id": "8e0c4e66",
   "metadata": {},
   "outputs": [
    {
     "name": "stdout",
     "output_type": "stream",
     "text": [
      "['__builtins__', '__cached__', '__doc__', '__file__', '__loader__', '__name__', '__package__', '__spec__', 'check_for_missing_timestamps', 'data_preprocessing', 'datetime', 'go', 'load_df', 'math', 'mode', 'np', 'os', 'pd', 'plt', 'px', 'resample', 'statistics', 'sys', 'tqdm']\n"
     ]
    }
   ],
   "source": [
    "print(dir(preprocessing))"
   ]
  },
  {
   "cell_type": "code",
   "execution_count": null,
   "id": "98a05b57",
   "metadata": {},
   "outputs": [],
   "source": []
  }
 ],
 "metadata": {
  "kernelspec": {
   "display_name": "Python 3 (ipykernel)",
   "language": "python",
   "name": "python3"
  },
  "language_info": {
   "codemirror_mode": {
    "name": "ipython",
    "version": 3
   },
   "file_extension": ".py",
   "mimetype": "text/x-python",
   "name": "python",
   "nbconvert_exporter": "python",
   "pygments_lexer": "ipython3",
   "version": "3.9.7"
  }
 },
 "nbformat": 4,
 "nbformat_minor": 5
}
