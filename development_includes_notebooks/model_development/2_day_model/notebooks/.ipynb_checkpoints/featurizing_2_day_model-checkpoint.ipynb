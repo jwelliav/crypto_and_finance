{
 "cells": [
  {
   "cell_type": "code",
   "execution_count": 7,
   "id": "97d06261",
   "metadata": {},
   "outputs": [],
   "source": [
    "import pandas as pd\n",
    "import numpy as np\n",
    "import os\n",
    "import os.path as osp\n",
    "from tqdm.notebook import tqdm\n",
    "import sys\n",
    "sys.path.append('../../../../scripts')\n",
    "import preprocessing.preprocessing as preprocessing\n",
    "import matplotlib.pyplot as plt\n",
    "import lightgbm as lgbm\n",
    "from sklearn.metrics import average_precision_score,precision_score,recall_score\n",
    "#from pandas import datetime"
   ]
  },
  {
   "cell_type": "code",
   "execution_count": 2,
   "id": "aeff9b52",
   "metadata": {},
   "outputs": [
    {
     "name": "stdout",
     "output_type": "stream",
     "text": [
      "Total NaN : \n",
      "\n",
      "timestamp    0\n",
      "open         0\n",
      "high         0\n",
      "low          0\n",
      "close        0\n",
      "volume       0\n",
      "returns      1\n",
      "dtype: int64\n",
      "\n"
     ]
    }
   ],
   "source": [
    "df = preprocessing.load_df('../../data/data_new/raw/Binance/BTC_USDT/BTC_USDT.csv')"
   ]
  },
  {
   "cell_type": "code",
   "execution_count": 3,
   "id": "a8c860b8",
   "metadata": {},
   "outputs": [
    {
     "data": {
      "text/html": [
       "<div>\n",
       "<style scoped>\n",
       "    .dataframe tbody tr th:only-of-type {\n",
       "        vertical-align: middle;\n",
       "    }\n",
       "\n",
       "    .dataframe tbody tr th {\n",
       "        vertical-align: top;\n",
       "    }\n",
       "\n",
       "    .dataframe thead th {\n",
       "        text-align: right;\n",
       "    }\n",
       "</style>\n",
       "<table border=\"1\" class=\"dataframe\">\n",
       "  <thead>\n",
       "    <tr style=\"text-align: right;\">\n",
       "      <th></th>\n",
       "      <th>timestamp</th>\n",
       "      <th>open</th>\n",
       "      <th>high</th>\n",
       "      <th>low</th>\n",
       "      <th>close</th>\n",
       "      <th>volume</th>\n",
       "      <th>returns</th>\n",
       "    </tr>\n",
       "    <tr>\n",
       "      <th>date</th>\n",
       "      <th></th>\n",
       "      <th></th>\n",
       "      <th></th>\n",
       "      <th></th>\n",
       "      <th></th>\n",
       "      <th></th>\n",
       "      <th></th>\n",
       "    </tr>\n",
       "  </thead>\n",
       "  <tbody>\n",
       "    <tr>\n",
       "      <th>2018-02-09 10:00:00</th>\n",
       "      <td>1518170400000</td>\n",
       "      <td>7789.90</td>\n",
       "      <td>8290.00</td>\n",
       "      <td>7789.90</td>\n",
       "      <td>8290.00</td>\n",
       "      <td>210.243307</td>\n",
       "      <td>NaN</td>\n",
       "    </tr>\n",
       "    <tr>\n",
       "      <th>2018-02-09 10:01:00</th>\n",
       "      <td>1518170460000</td>\n",
       "      <td>8290.00</td>\n",
       "      <td>8369.00</td>\n",
       "      <td>8289.88</td>\n",
       "      <td>8320.14</td>\n",
       "      <td>114.170535</td>\n",
       "      <td>0.003636</td>\n",
       "    </tr>\n",
       "    <tr>\n",
       "      <th>2018-02-09 10:02:00</th>\n",
       "      <td>1518170520000</td>\n",
       "      <td>8324.97</td>\n",
       "      <td>8379.00</td>\n",
       "      <td>8315.00</td>\n",
       "      <td>8378.00</td>\n",
       "      <td>114.958990</td>\n",
       "      <td>0.006954</td>\n",
       "    </tr>\n",
       "    <tr>\n",
       "      <th>2018-02-09 10:03:00</th>\n",
       "      <td>1518170580000</td>\n",
       "      <td>8372.30</td>\n",
       "      <td>8390.00</td>\n",
       "      <td>8348.00</td>\n",
       "      <td>8360.00</td>\n",
       "      <td>114.683659</td>\n",
       "      <td>-0.002148</td>\n",
       "    </tr>\n",
       "    <tr>\n",
       "      <th>2018-02-09 10:04:00</th>\n",
       "      <td>1518170640000</td>\n",
       "      <td>8360.00</td>\n",
       "      <td>8389.00</td>\n",
       "      <td>8348.00</td>\n",
       "      <td>8348.00</td>\n",
       "      <td>79.855717</td>\n",
       "      <td>-0.001435</td>\n",
       "    </tr>\n",
       "    <tr>\n",
       "      <th>...</th>\n",
       "      <td>...</td>\n",
       "      <td>...</td>\n",
       "      <td>...</td>\n",
       "      <td>...</td>\n",
       "      <td>...</td>\n",
       "      <td>...</td>\n",
       "      <td>...</td>\n",
       "    </tr>\n",
       "    <tr>\n",
       "      <th>2023-01-25 15:52:00</th>\n",
       "      <td>1674661920000</td>\n",
       "      <td>22557.95</td>\n",
       "      <td>22570.27</td>\n",
       "      <td>22551.10</td>\n",
       "      <td>22564.41</td>\n",
       "      <td>239.493680</td>\n",
       "      <td>0.000287</td>\n",
       "    </tr>\n",
       "    <tr>\n",
       "      <th>2023-01-25 15:53:00</th>\n",
       "      <td>1674661980000</td>\n",
       "      <td>22563.67</td>\n",
       "      <td>22589.48</td>\n",
       "      <td>22563.45</td>\n",
       "      <td>22574.51</td>\n",
       "      <td>296.072390</td>\n",
       "      <td>0.000448</td>\n",
       "    </tr>\n",
       "    <tr>\n",
       "      <th>2023-01-25 15:54:00</th>\n",
       "      <td>1674662040000</td>\n",
       "      <td>22574.51</td>\n",
       "      <td>22585.52</td>\n",
       "      <td>22567.60</td>\n",
       "      <td>22569.05</td>\n",
       "      <td>205.119680</td>\n",
       "      <td>-0.000242</td>\n",
       "    </tr>\n",
       "    <tr>\n",
       "      <th>2023-01-25 15:55:00</th>\n",
       "      <td>1674662100000</td>\n",
       "      <td>22569.07</td>\n",
       "      <td>22588.17</td>\n",
       "      <td>22560.36</td>\n",
       "      <td>22584.71</td>\n",
       "      <td>212.476890</td>\n",
       "      <td>0.000694</td>\n",
       "    </tr>\n",
       "    <tr>\n",
       "      <th>2023-01-25 15:56:00</th>\n",
       "      <td>1674662160000</td>\n",
       "      <td>22583.92</td>\n",
       "      <td>22593.12</td>\n",
       "      <td>22577.77</td>\n",
       "      <td>22582.05</td>\n",
       "      <td>197.101720</td>\n",
       "      <td>-0.000118</td>\n",
       "    </tr>\n",
       "  </tbody>\n",
       "</table>\n",
       "<p>2602325 rows × 7 columns</p>\n",
       "</div>"
      ],
      "text/plain": [
       "                         timestamp      open      high       low     close  \\\n",
       "date                                                                         \n",
       "2018-02-09 10:00:00  1518170400000   7789.90   8290.00   7789.90   8290.00   \n",
       "2018-02-09 10:01:00  1518170460000   8290.00   8369.00   8289.88   8320.14   \n",
       "2018-02-09 10:02:00  1518170520000   8324.97   8379.00   8315.00   8378.00   \n",
       "2018-02-09 10:03:00  1518170580000   8372.30   8390.00   8348.00   8360.00   \n",
       "2018-02-09 10:04:00  1518170640000   8360.00   8389.00   8348.00   8348.00   \n",
       "...                            ...       ...       ...       ...       ...   \n",
       "2023-01-25 15:52:00  1674661920000  22557.95  22570.27  22551.10  22564.41   \n",
       "2023-01-25 15:53:00  1674661980000  22563.67  22589.48  22563.45  22574.51   \n",
       "2023-01-25 15:54:00  1674662040000  22574.51  22585.52  22567.60  22569.05   \n",
       "2023-01-25 15:55:00  1674662100000  22569.07  22588.17  22560.36  22584.71   \n",
       "2023-01-25 15:56:00  1674662160000  22583.92  22593.12  22577.77  22582.05   \n",
       "\n",
       "                         volume   returns  \n",
       "date                                       \n",
       "2018-02-09 10:00:00  210.243307       NaN  \n",
       "2018-02-09 10:01:00  114.170535  0.003636  \n",
       "2018-02-09 10:02:00  114.958990  0.006954  \n",
       "2018-02-09 10:03:00  114.683659 -0.002148  \n",
       "2018-02-09 10:04:00   79.855717 -0.001435  \n",
       "...                         ...       ...  \n",
       "2023-01-25 15:52:00  239.493680  0.000287  \n",
       "2023-01-25 15:53:00  296.072390  0.000448  \n",
       "2023-01-25 15:54:00  205.119680 -0.000242  \n",
       "2023-01-25 15:55:00  212.476890  0.000694  \n",
       "2023-01-25 15:56:00  197.101720 -0.000118  \n",
       "\n",
       "[2602325 rows x 7 columns]"
      ]
     },
     "execution_count": 3,
     "metadata": {},
     "output_type": "execute_result"
    }
   ],
   "source": [
    "df"
   ]
  },
  {
   "cell_type": "markdown",
   "id": "ee9abfc7",
   "metadata": {},
   "source": [
    "### Steps \n",
    "\n",
    "We choose a 0.01 threshold\n",
    "\n",
    "1. Get all y values \n",
    "2. Get all X values"
   ]
  },
  {
   "cell_type": "code",
   "execution_count": 4,
   "id": "89ac611c",
   "metadata": {},
   "outputs": [
    {
     "data": {
      "text/html": [
       "<div>\n",
       "<style scoped>\n",
       "    .dataframe tbody tr th:only-of-type {\n",
       "        vertical-align: middle;\n",
       "    }\n",
       "\n",
       "    .dataframe tbody tr th {\n",
       "        vertical-align: top;\n",
       "    }\n",
       "\n",
       "    .dataframe thead th {\n",
       "        text-align: right;\n",
       "    }\n",
       "</style>\n",
       "<table border=\"1\" class=\"dataframe\">\n",
       "  <thead>\n",
       "    <tr style=\"text-align: right;\">\n",
       "      <th></th>\n",
       "      <th>timestamp</th>\n",
       "      <th>open</th>\n",
       "      <th>high</th>\n",
       "      <th>low</th>\n",
       "      <th>close</th>\n",
       "      <th>volume</th>\n",
       "      <th>returns</th>\n",
       "    </tr>\n",
       "    <tr>\n",
       "      <th>date</th>\n",
       "      <th></th>\n",
       "      <th></th>\n",
       "      <th></th>\n",
       "      <th></th>\n",
       "      <th></th>\n",
       "      <th></th>\n",
       "      <th></th>\n",
       "    </tr>\n",
       "  </thead>\n",
       "  <tbody>\n",
       "    <tr>\n",
       "      <th>2018-02-09 10:00:00</th>\n",
       "      <td>1518170400000</td>\n",
       "      <td>7789.90</td>\n",
       "      <td>8290.00</td>\n",
       "      <td>7789.90</td>\n",
       "      <td>8290.00</td>\n",
       "      <td>210.243307</td>\n",
       "      <td>NaN</td>\n",
       "    </tr>\n",
       "    <tr>\n",
       "      <th>2018-02-09 10:01:00</th>\n",
       "      <td>1518170460000</td>\n",
       "      <td>8290.00</td>\n",
       "      <td>8369.00</td>\n",
       "      <td>8289.88</td>\n",
       "      <td>8320.14</td>\n",
       "      <td>114.170535</td>\n",
       "      <td>0.003636</td>\n",
       "    </tr>\n",
       "    <tr>\n",
       "      <th>2018-02-09 10:02:00</th>\n",
       "      <td>1518170520000</td>\n",
       "      <td>8324.97</td>\n",
       "      <td>8379.00</td>\n",
       "      <td>8315.00</td>\n",
       "      <td>8378.00</td>\n",
       "      <td>114.958990</td>\n",
       "      <td>0.006954</td>\n",
       "    </tr>\n",
       "    <tr>\n",
       "      <th>2018-02-09 10:03:00</th>\n",
       "      <td>1518170580000</td>\n",
       "      <td>8372.30</td>\n",
       "      <td>8390.00</td>\n",
       "      <td>8348.00</td>\n",
       "      <td>8360.00</td>\n",
       "      <td>114.683659</td>\n",
       "      <td>-0.002148</td>\n",
       "    </tr>\n",
       "    <tr>\n",
       "      <th>2018-02-09 10:04:00</th>\n",
       "      <td>1518170640000</td>\n",
       "      <td>8360.00</td>\n",
       "      <td>8389.00</td>\n",
       "      <td>8348.00</td>\n",
       "      <td>8348.00</td>\n",
       "      <td>79.855717</td>\n",
       "      <td>-0.001435</td>\n",
       "    </tr>\n",
       "    <tr>\n",
       "      <th>...</th>\n",
       "      <td>...</td>\n",
       "      <td>...</td>\n",
       "      <td>...</td>\n",
       "      <td>...</td>\n",
       "      <td>...</td>\n",
       "      <td>...</td>\n",
       "      <td>...</td>\n",
       "    </tr>\n",
       "    <tr>\n",
       "      <th>2023-01-25 15:52:00</th>\n",
       "      <td>1674661920000</td>\n",
       "      <td>22557.95</td>\n",
       "      <td>22570.27</td>\n",
       "      <td>22551.10</td>\n",
       "      <td>22564.41</td>\n",
       "      <td>239.493680</td>\n",
       "      <td>0.000287</td>\n",
       "    </tr>\n",
       "    <tr>\n",
       "      <th>2023-01-25 15:53:00</th>\n",
       "      <td>1674661980000</td>\n",
       "      <td>22563.67</td>\n",
       "      <td>22589.48</td>\n",
       "      <td>22563.45</td>\n",
       "      <td>22574.51</td>\n",
       "      <td>296.072390</td>\n",
       "      <td>0.000448</td>\n",
       "    </tr>\n",
       "    <tr>\n",
       "      <th>2023-01-25 15:54:00</th>\n",
       "      <td>1674662040000</td>\n",
       "      <td>22574.51</td>\n",
       "      <td>22585.52</td>\n",
       "      <td>22567.60</td>\n",
       "      <td>22569.05</td>\n",
       "      <td>205.119680</td>\n",
       "      <td>-0.000242</td>\n",
       "    </tr>\n",
       "    <tr>\n",
       "      <th>2023-01-25 15:55:00</th>\n",
       "      <td>1674662100000</td>\n",
       "      <td>22569.07</td>\n",
       "      <td>22588.17</td>\n",
       "      <td>22560.36</td>\n",
       "      <td>22584.71</td>\n",
       "      <td>212.476890</td>\n",
       "      <td>0.000694</td>\n",
       "    </tr>\n",
       "    <tr>\n",
       "      <th>2023-01-25 15:56:00</th>\n",
       "      <td>1674662160000</td>\n",
       "      <td>22583.92</td>\n",
       "      <td>22593.12</td>\n",
       "      <td>22577.77</td>\n",
       "      <td>22582.05</td>\n",
       "      <td>197.101720</td>\n",
       "      <td>-0.000118</td>\n",
       "    </tr>\n",
       "  </tbody>\n",
       "</table>\n",
       "<p>2602325 rows × 7 columns</p>\n",
       "</div>"
      ],
      "text/plain": [
       "                         timestamp      open      high       low     close  \\\n",
       "date                                                                         \n",
       "2018-02-09 10:00:00  1518170400000   7789.90   8290.00   7789.90   8290.00   \n",
       "2018-02-09 10:01:00  1518170460000   8290.00   8369.00   8289.88   8320.14   \n",
       "2018-02-09 10:02:00  1518170520000   8324.97   8379.00   8315.00   8378.00   \n",
       "2018-02-09 10:03:00  1518170580000   8372.30   8390.00   8348.00   8360.00   \n",
       "2018-02-09 10:04:00  1518170640000   8360.00   8389.00   8348.00   8348.00   \n",
       "...                            ...       ...       ...       ...       ...   \n",
       "2023-01-25 15:52:00  1674661920000  22557.95  22570.27  22551.10  22564.41   \n",
       "2023-01-25 15:53:00  1674661980000  22563.67  22589.48  22563.45  22574.51   \n",
       "2023-01-25 15:54:00  1674662040000  22574.51  22585.52  22567.60  22569.05   \n",
       "2023-01-25 15:55:00  1674662100000  22569.07  22588.17  22560.36  22584.71   \n",
       "2023-01-25 15:56:00  1674662160000  22583.92  22593.12  22577.77  22582.05   \n",
       "\n",
       "                         volume   returns  \n",
       "date                                       \n",
       "2018-02-09 10:00:00  210.243307       NaN  \n",
       "2018-02-09 10:01:00  114.170535  0.003636  \n",
       "2018-02-09 10:02:00  114.958990  0.006954  \n",
       "2018-02-09 10:03:00  114.683659 -0.002148  \n",
       "2018-02-09 10:04:00   79.855717 -0.001435  \n",
       "...                         ...       ...  \n",
       "2023-01-25 15:52:00  239.493680  0.000287  \n",
       "2023-01-25 15:53:00  296.072390  0.000448  \n",
       "2023-01-25 15:54:00  205.119680 -0.000242  \n",
       "2023-01-25 15:55:00  212.476890  0.000694  \n",
       "2023-01-25 15:56:00  197.101720 -0.000118  \n",
       "\n",
       "[2602325 rows x 7 columns]"
      ]
     },
     "execution_count": 4,
     "metadata": {},
     "output_type": "execute_result"
    }
   ],
   "source": [
    "df"
   ]
  },
  {
   "cell_type": "code",
   "execution_count": 5,
   "id": "cacc70bf",
   "metadata": {},
   "outputs": [],
   "source": [
    "df['day_of_week'] = df.index.day_of_week"
   ]
  },
  {
   "cell_type": "code",
   "execution_count": 6,
   "id": "171f2e64",
   "metadata": {},
   "outputs": [],
   "source": [
    "tmp = df[(df.index.hour == 23) & (df.index.minute == 59)]"
   ]
  },
  {
   "cell_type": "code",
   "execution_count": 7,
   "id": "f15c3cec",
   "metadata": {},
   "outputs": [
    {
     "data": {
      "text/plain": [
       "Timestamp('2018-02-04 23:59:00')"
      ]
     },
     "execution_count": 7,
     "metadata": {},
     "output_type": "execute_result"
    }
   ],
   "source": [
    "tmp.index[0] - pd.Timedelta('5D')"
   ]
  },
  {
   "cell_type": "code",
   "execution_count": 8,
   "id": "e8f064df",
   "metadata": {},
   "outputs": [
    {
     "data": {
      "text/html": [
       "<div>\n",
       "<style scoped>\n",
       "    .dataframe tbody tr th:only-of-type {\n",
       "        vertical-align: middle;\n",
       "    }\n",
       "\n",
       "    .dataframe tbody tr th {\n",
       "        vertical-align: top;\n",
       "    }\n",
       "\n",
       "    .dataframe thead th {\n",
       "        text-align: right;\n",
       "    }\n",
       "</style>\n",
       "<table border=\"1\" class=\"dataframe\">\n",
       "  <thead>\n",
       "    <tr style=\"text-align: right;\">\n",
       "      <th></th>\n",
       "      <th>timestamp</th>\n",
       "      <th>open</th>\n",
       "      <th>high</th>\n",
       "      <th>low</th>\n",
       "      <th>close</th>\n",
       "      <th>volume</th>\n",
       "      <th>returns</th>\n",
       "      <th>day_of_week</th>\n",
       "    </tr>\n",
       "    <tr>\n",
       "      <th>date</th>\n",
       "      <th></th>\n",
       "      <th></th>\n",
       "      <th></th>\n",
       "      <th></th>\n",
       "      <th></th>\n",
       "      <th></th>\n",
       "      <th></th>\n",
       "      <th></th>\n",
       "    </tr>\n",
       "  </thead>\n",
       "  <tbody>\n",
       "    <tr>\n",
       "      <th>2018-02-09 10:00:00</th>\n",
       "      <td>1518170400000</td>\n",
       "      <td>7789.90</td>\n",
       "      <td>8290.00</td>\n",
       "      <td>7789.90</td>\n",
       "      <td>8290.00</td>\n",
       "      <td>210.243307</td>\n",
       "      <td>NaN</td>\n",
       "      <td>4</td>\n",
       "    </tr>\n",
       "    <tr>\n",
       "      <th>2018-02-09 10:01:00</th>\n",
       "      <td>1518170460000</td>\n",
       "      <td>8290.00</td>\n",
       "      <td>8369.00</td>\n",
       "      <td>8289.88</td>\n",
       "      <td>8320.14</td>\n",
       "      <td>114.170535</td>\n",
       "      <td>0.003636</td>\n",
       "      <td>4</td>\n",
       "    </tr>\n",
       "    <tr>\n",
       "      <th>2018-02-09 10:02:00</th>\n",
       "      <td>1518170520000</td>\n",
       "      <td>8324.97</td>\n",
       "      <td>8379.00</td>\n",
       "      <td>8315.00</td>\n",
       "      <td>8378.00</td>\n",
       "      <td>114.958990</td>\n",
       "      <td>0.006954</td>\n",
       "      <td>4</td>\n",
       "    </tr>\n",
       "    <tr>\n",
       "      <th>2018-02-09 10:03:00</th>\n",
       "      <td>1518170580000</td>\n",
       "      <td>8372.30</td>\n",
       "      <td>8390.00</td>\n",
       "      <td>8348.00</td>\n",
       "      <td>8360.00</td>\n",
       "      <td>114.683659</td>\n",
       "      <td>-0.002148</td>\n",
       "      <td>4</td>\n",
       "    </tr>\n",
       "    <tr>\n",
       "      <th>2018-02-09 10:04:00</th>\n",
       "      <td>1518170640000</td>\n",
       "      <td>8360.00</td>\n",
       "      <td>8389.00</td>\n",
       "      <td>8348.00</td>\n",
       "      <td>8348.00</td>\n",
       "      <td>79.855717</td>\n",
       "      <td>-0.001435</td>\n",
       "      <td>4</td>\n",
       "    </tr>\n",
       "    <tr>\n",
       "      <th>...</th>\n",
       "      <td>...</td>\n",
       "      <td>...</td>\n",
       "      <td>...</td>\n",
       "      <td>...</td>\n",
       "      <td>...</td>\n",
       "      <td>...</td>\n",
       "      <td>...</td>\n",
       "      <td>...</td>\n",
       "    </tr>\n",
       "    <tr>\n",
       "      <th>2018-02-09 23:55:00</th>\n",
       "      <td>1518220500000</td>\n",
       "      <td>8698.00</td>\n",
       "      <td>8712.00</td>\n",
       "      <td>8698.00</td>\n",
       "      <td>8704.00</td>\n",
       "      <td>4.077201</td>\n",
       "      <td>-0.000989</td>\n",
       "      <td>4</td>\n",
       "    </tr>\n",
       "    <tr>\n",
       "      <th>2018-02-09 23:56:00</th>\n",
       "      <td>1518220560000</td>\n",
       "      <td>8708.77</td>\n",
       "      <td>8708.80</td>\n",
       "      <td>8685.00</td>\n",
       "      <td>8690.23</td>\n",
       "      <td>36.945481</td>\n",
       "      <td>-0.001582</td>\n",
       "      <td>4</td>\n",
       "    </tr>\n",
       "    <tr>\n",
       "      <th>2018-02-09 23:57:00</th>\n",
       "      <td>1518220620000</td>\n",
       "      <td>8690.23</td>\n",
       "      <td>8708.80</td>\n",
       "      <td>8690.14</td>\n",
       "      <td>8701.42</td>\n",
       "      <td>13.428078</td>\n",
       "      <td>0.001288</td>\n",
       "      <td>4</td>\n",
       "    </tr>\n",
       "    <tr>\n",
       "      <th>2018-02-09 23:58:00</th>\n",
       "      <td>1518220680000</td>\n",
       "      <td>8705.60</td>\n",
       "      <td>8705.61</td>\n",
       "      <td>8690.22</td>\n",
       "      <td>8690.32</td>\n",
       "      <td>18.340600</td>\n",
       "      <td>-0.001276</td>\n",
       "      <td>4</td>\n",
       "    </tr>\n",
       "    <tr>\n",
       "      <th>2018-02-09 23:59:00</th>\n",
       "      <td>1518220740000</td>\n",
       "      <td>8690.45</td>\n",
       "      <td>8701.30</td>\n",
       "      <td>8683.92</td>\n",
       "      <td>8683.92</td>\n",
       "      <td>15.297334</td>\n",
       "      <td>-0.000736</td>\n",
       "      <td>4</td>\n",
       "    </tr>\n",
       "  </tbody>\n",
       "</table>\n",
       "<p>840 rows × 8 columns</p>\n",
       "</div>"
      ],
      "text/plain": [
       "                         timestamp     open     high      low    close  \\\n",
       "date                                                                     \n",
       "2018-02-09 10:00:00  1518170400000  7789.90  8290.00  7789.90  8290.00   \n",
       "2018-02-09 10:01:00  1518170460000  8290.00  8369.00  8289.88  8320.14   \n",
       "2018-02-09 10:02:00  1518170520000  8324.97  8379.00  8315.00  8378.00   \n",
       "2018-02-09 10:03:00  1518170580000  8372.30  8390.00  8348.00  8360.00   \n",
       "2018-02-09 10:04:00  1518170640000  8360.00  8389.00  8348.00  8348.00   \n",
       "...                            ...      ...      ...      ...      ...   \n",
       "2018-02-09 23:55:00  1518220500000  8698.00  8712.00  8698.00  8704.00   \n",
       "2018-02-09 23:56:00  1518220560000  8708.77  8708.80  8685.00  8690.23   \n",
       "2018-02-09 23:57:00  1518220620000  8690.23  8708.80  8690.14  8701.42   \n",
       "2018-02-09 23:58:00  1518220680000  8705.60  8705.61  8690.22  8690.32   \n",
       "2018-02-09 23:59:00  1518220740000  8690.45  8701.30  8683.92  8683.92   \n",
       "\n",
       "                         volume   returns  day_of_week  \n",
       "date                                                    \n",
       "2018-02-09 10:00:00  210.243307       NaN            4  \n",
       "2018-02-09 10:01:00  114.170535  0.003636            4  \n",
       "2018-02-09 10:02:00  114.958990  0.006954            4  \n",
       "2018-02-09 10:03:00  114.683659 -0.002148            4  \n",
       "2018-02-09 10:04:00   79.855717 -0.001435            4  \n",
       "...                         ...       ...          ...  \n",
       "2018-02-09 23:55:00    4.077201 -0.000989            4  \n",
       "2018-02-09 23:56:00   36.945481 -0.001582            4  \n",
       "2018-02-09 23:57:00   13.428078  0.001288            4  \n",
       "2018-02-09 23:58:00   18.340600 -0.001276            4  \n",
       "2018-02-09 23:59:00   15.297334 -0.000736            4  \n",
       "\n",
       "[840 rows x 8 columns]"
      ]
     },
     "execution_count": 8,
     "metadata": {},
     "output_type": "execute_result"
    }
   ],
   "source": [
    "df[tmp.index[0] - pd.Timedelta('5D') : tmp.index[0]]"
   ]
  },
  {
   "cell_type": "code",
   "execution_count": 9,
   "id": "d6cc88f6",
   "metadata": {},
   "outputs": [],
   "source": [
    "e = {}\n",
    "\n",
    "keys = df[(df.index.hour == 23) & (df.index.minute == 59)].index.tolist()"
   ]
  },
  {
   "cell_type": "code",
   "execution_count": null,
   "id": "30db2b65",
   "metadata": {},
   "outputs": [],
   "source": []
  },
  {
   "cell_type": "code",
   "execution_count": 11,
   "id": "69bd777f",
   "metadata": {},
   "outputs": [
    {
     "data": {
      "application/vnd.jupyter.widget-view+json": {
       "model_id": "2ec9f962ea2146f29db4b14682ccc444",
       "version_major": 2,
       "version_minor": 0
      },
      "text/plain": [
       "  0%|          | 0/1811 [00:00<?, ?it/s]"
      ]
     },
     "metadata": {},
     "output_type": "display_data"
    }
   ],
   "source": [
    "e = {}\n",
    "\n",
    "for x in tqdm(keys):\n",
    "    a = pd.Timedelta('5D') \n",
    "    b = pd.Timedelta('2D')\n",
    "    c = pd.Timedelta('10m')\n",
    "    X_chunk = df.loc[x - a:x - c]\n",
    "    y_chunk = df.loc[x:x+b]\n",
    "    e[x] = (X_chunk,y_chunk)"
   ]
  },
  {
   "cell_type": "code",
   "execution_count": 12,
   "id": "de344793",
   "metadata": {},
   "outputs": [
    {
     "data": {
      "text/html": [
       "<div>\n",
       "<style scoped>\n",
       "    .dataframe tbody tr th:only-of-type {\n",
       "        vertical-align: middle;\n",
       "    }\n",
       "\n",
       "    .dataframe tbody tr th {\n",
       "        vertical-align: top;\n",
       "    }\n",
       "\n",
       "    .dataframe thead th {\n",
       "        text-align: right;\n",
       "    }\n",
       "</style>\n",
       "<table border=\"1\" class=\"dataframe\">\n",
       "  <thead>\n",
       "    <tr style=\"text-align: right;\">\n",
       "      <th></th>\n",
       "      <th>timestamp</th>\n",
       "      <th>open</th>\n",
       "      <th>high</th>\n",
       "      <th>low</th>\n",
       "      <th>close</th>\n",
       "      <th>volume</th>\n",
       "      <th>returns</th>\n",
       "      <th>day_of_week</th>\n",
       "    </tr>\n",
       "    <tr>\n",
       "      <th>date</th>\n",
       "      <th></th>\n",
       "      <th></th>\n",
       "      <th></th>\n",
       "      <th></th>\n",
       "      <th></th>\n",
       "      <th></th>\n",
       "      <th></th>\n",
       "      <th></th>\n",
       "    </tr>\n",
       "  </thead>\n",
       "  <tbody>\n",
       "    <tr>\n",
       "      <th>2018-02-09 10:00:00</th>\n",
       "      <td>1518170400000</td>\n",
       "      <td>7789.90</td>\n",
       "      <td>8290.00</td>\n",
       "      <td>7789.90</td>\n",
       "      <td>8290.00</td>\n",
       "      <td>210.243307</td>\n",
       "      <td>NaN</td>\n",
       "      <td>4</td>\n",
       "    </tr>\n",
       "    <tr>\n",
       "      <th>2018-02-09 10:01:00</th>\n",
       "      <td>1518170460000</td>\n",
       "      <td>8290.00</td>\n",
       "      <td>8369.00</td>\n",
       "      <td>8289.88</td>\n",
       "      <td>8320.14</td>\n",
       "      <td>114.170535</td>\n",
       "      <td>0.003636</td>\n",
       "      <td>4</td>\n",
       "    </tr>\n",
       "    <tr>\n",
       "      <th>2018-02-09 10:02:00</th>\n",
       "      <td>1518170520000</td>\n",
       "      <td>8324.97</td>\n",
       "      <td>8379.00</td>\n",
       "      <td>8315.00</td>\n",
       "      <td>8378.00</td>\n",
       "      <td>114.958990</td>\n",
       "      <td>0.006954</td>\n",
       "      <td>4</td>\n",
       "    </tr>\n",
       "    <tr>\n",
       "      <th>2018-02-09 10:03:00</th>\n",
       "      <td>1518170580000</td>\n",
       "      <td>8372.30</td>\n",
       "      <td>8390.00</td>\n",
       "      <td>8348.00</td>\n",
       "      <td>8360.00</td>\n",
       "      <td>114.683659</td>\n",
       "      <td>-0.002148</td>\n",
       "      <td>4</td>\n",
       "    </tr>\n",
       "    <tr>\n",
       "      <th>2018-02-09 10:04:00</th>\n",
       "      <td>1518170640000</td>\n",
       "      <td>8360.00</td>\n",
       "      <td>8389.00</td>\n",
       "      <td>8348.00</td>\n",
       "      <td>8348.00</td>\n",
       "      <td>79.855717</td>\n",
       "      <td>-0.001435</td>\n",
       "      <td>4</td>\n",
       "    </tr>\n",
       "    <tr>\n",
       "      <th>...</th>\n",
       "      <td>...</td>\n",
       "      <td>...</td>\n",
       "      <td>...</td>\n",
       "      <td>...</td>\n",
       "      <td>...</td>\n",
       "      <td>...</td>\n",
       "      <td>...</td>\n",
       "      <td>...</td>\n",
       "    </tr>\n",
       "    <tr>\n",
       "      <th>2018-02-10 23:45:00</th>\n",
       "      <td>1518306300000</td>\n",
       "      <td>8505.27</td>\n",
       "      <td>8514.96</td>\n",
       "      <td>8500.01</td>\n",
       "      <td>8514.96</td>\n",
       "      <td>20.520721</td>\n",
       "      <td>0.001129</td>\n",
       "      <td>5</td>\n",
       "    </tr>\n",
       "    <tr>\n",
       "      <th>2018-02-10 23:46:00</th>\n",
       "      <td>1518306360000</td>\n",
       "      <td>8513.00</td>\n",
       "      <td>8520.00</td>\n",
       "      <td>8513.00</td>\n",
       "      <td>8520.00</td>\n",
       "      <td>17.217584</td>\n",
       "      <td>0.000592</td>\n",
       "      <td>5</td>\n",
       "    </tr>\n",
       "    <tr>\n",
       "      <th>2018-02-10 23:47:00</th>\n",
       "      <td>1518306420000</td>\n",
       "      <td>8515.91</td>\n",
       "      <td>8536.00</td>\n",
       "      <td>8514.98</td>\n",
       "      <td>8533.00</td>\n",
       "      <td>18.186566</td>\n",
       "      <td>0.001526</td>\n",
       "      <td>5</td>\n",
       "    </tr>\n",
       "    <tr>\n",
       "      <th>2018-02-10 23:48:00</th>\n",
       "      <td>1518306480000</td>\n",
       "      <td>8533.00</td>\n",
       "      <td>8545.00</td>\n",
       "      <td>8508.23</td>\n",
       "      <td>8535.57</td>\n",
       "      <td>27.880855</td>\n",
       "      <td>0.000301</td>\n",
       "      <td>5</td>\n",
       "    </tr>\n",
       "    <tr>\n",
       "      <th>2018-02-10 23:49:00</th>\n",
       "      <td>1518306540000</td>\n",
       "      <td>8545.00</td>\n",
       "      <td>8545.00</td>\n",
       "      <td>8512.00</td>\n",
       "      <td>8537.77</td>\n",
       "      <td>14.076944</td>\n",
       "      <td>0.000258</td>\n",
       "      <td>5</td>\n",
       "    </tr>\n",
       "  </tbody>\n",
       "</table>\n",
       "<p>2255 rows × 8 columns</p>\n",
       "</div>"
      ],
      "text/plain": [
       "                         timestamp     open     high      low    close  \\\n",
       "date                                                                     \n",
       "2018-02-09 10:00:00  1518170400000  7789.90  8290.00  7789.90  8290.00   \n",
       "2018-02-09 10:01:00  1518170460000  8290.00  8369.00  8289.88  8320.14   \n",
       "2018-02-09 10:02:00  1518170520000  8324.97  8379.00  8315.00  8378.00   \n",
       "2018-02-09 10:03:00  1518170580000  8372.30  8390.00  8348.00  8360.00   \n",
       "2018-02-09 10:04:00  1518170640000  8360.00  8389.00  8348.00  8348.00   \n",
       "...                            ...      ...      ...      ...      ...   \n",
       "2018-02-10 23:45:00  1518306300000  8505.27  8514.96  8500.01  8514.96   \n",
       "2018-02-10 23:46:00  1518306360000  8513.00  8520.00  8513.00  8520.00   \n",
       "2018-02-10 23:47:00  1518306420000  8515.91  8536.00  8514.98  8533.00   \n",
       "2018-02-10 23:48:00  1518306480000  8533.00  8545.00  8508.23  8535.57   \n",
       "2018-02-10 23:49:00  1518306540000  8545.00  8545.00  8512.00  8537.77   \n",
       "\n",
       "                         volume   returns  day_of_week  \n",
       "date                                                    \n",
       "2018-02-09 10:00:00  210.243307       NaN            4  \n",
       "2018-02-09 10:01:00  114.170535  0.003636            4  \n",
       "2018-02-09 10:02:00  114.958990  0.006954            4  \n",
       "2018-02-09 10:03:00  114.683659 -0.002148            4  \n",
       "2018-02-09 10:04:00   79.855717 -0.001435            4  \n",
       "...                         ...       ...          ...  \n",
       "2018-02-10 23:45:00   20.520721  0.001129            5  \n",
       "2018-02-10 23:46:00   17.217584  0.000592            5  \n",
       "2018-02-10 23:47:00   18.186566  0.001526            5  \n",
       "2018-02-10 23:48:00   27.880855  0.000301            5  \n",
       "2018-02-10 23:49:00   14.076944  0.000258            5  \n",
       "\n",
       "[2255 rows x 8 columns]"
      ]
     },
     "execution_count": 12,
     "metadata": {},
     "output_type": "execute_result"
    }
   ],
   "source": [
    "e[keys[1]][0]"
   ]
  },
  {
   "cell_type": "code",
   "execution_count": 35,
   "id": "1baff20d",
   "metadata": {},
   "outputs": [
    {
     "data": {
      "text/plain": [
       "151.55137475249245"
      ]
     },
     "execution_count": 35,
     "metadata": {},
     "output_type": "execute_result"
    }
   ],
   "source": [
    "e[keys[0]][0].close.std()"
   ]
  },
  {
   "cell_type": "code",
   "execution_count": 13,
   "id": "bf4229bf",
   "metadata": {},
   "outputs": [],
   "source": [
    "def featurize(df:pd.DataFrame,\n",
    "             resample_granularity: str = '120min'):\n",
    "    \n",
    "    df['dollar_volume'] = df['volume']* ((df['open'] + df['close'])/2)\n",
    "     \n",
    "    tmp = preprocessing.resample(df,resample_granularity)\n",
    "    \n",
    "    \n",
    "    a0 = tmp.returns.values.T.tolist()\n",
    "    a1 = tmp.dollar_volume.values.T.tolist()\n",
    "    a2 = [tmp.returns.std()] # risk measured over the data \n",
    "    a3 = [tmp.dollar_volume.std()] \n",
    "    a4 = (-df.open.iloc[0] + df.high.max())/(df.open.iloc[0])\n",
    "    a5 = (df.high.max() - df.low.min())/(df.low.min())\n",
    "    \n",
    "    l = np.array(a0 + a1 + a2 + a3 + a4 + a5)\n",
    "    \n",
    "    return l\n",
    "    \n",
    "    \n",
    "    "
   ]
  },
  {
   "cell_type": "code",
   "execution_count": 20,
   "id": "eeb575a7",
   "metadata": {},
   "outputs": [],
   "source": [
    "def get_y(df: pd.DataFrame,\n",
    "         threshold: float = 0.01,\n",
    "         stop_loss: float = 0.1):\n",
    "    \n",
    "    b = pd.Timedelta('5m')\n",
    "    buy_price = df.iloc[0].close\n",
    "    tmp = df.loc[df.index[0] + b:]\n",
    "    \n",
    "    t  = (tmp.close > ((1 + threshold) * buy_price))\n",
    "    s  = (tmp.close < ((1 - stop_loss) * buy_price))\n",
    "    \n",
    "    if t.sum() > 0:\n",
    "        sell_index = np.where(t)[0][0]\n",
    "        no_collapse_before_sell = (s[:sell_index + 1].sum() == 0)\n",
    "        \n",
    "        return no_collapse_before_sell\n",
    "        \n",
    "    else:\n",
    "        \n",
    "        return False\n",
    "    \n"
   ]
  },
  {
   "cell_type": "code",
   "execution_count": 37,
   "id": "d55d53d9",
   "metadata": {},
   "outputs": [
    {
     "name": "stdout",
     "output_type": "stream",
     "text": [
      "We make use of 90.44726670347875% of the data\n"
     ]
    }
   ],
   "source": [
    "# restrict to some of the data where we have same size data\n",
    "\n",
    "A = [((len(e[k][0]) == 7191) and (len(e[k][1]) == 2881)) for k in keys]\n",
    "\n",
    "print(\"We make use of {}% of the data\".format(np.array(A).sum()*100/len(keys)))"
   ]
  },
  {
   "cell_type": "code",
   "execution_count": 38,
   "id": "4fb38f16",
   "metadata": {},
   "outputs": [
    {
     "data": {
      "application/vnd.jupyter.widget-view+json": {
       "model_id": "6541eac2d6fd4af8b9d6896e6264fe4d",
       "version_major": 2,
       "version_minor": 0
      },
      "text/plain": [
       "0it [00:00, ?it/s]"
      ]
     },
     "metadata": {},
     "output_type": "display_data"
    }
   ],
   "source": [
    "import warnings\n",
    "warnings.filterwarnings(\"ignore\")\n",
    "\n",
    "featurized = {}\n",
    "\n",
    "for i,k in tqdm(enumerate(keys)):\n",
    "    if A[i]:\n",
    "        \n",
    "        A0= featurize(e[k][0])\n",
    "        B0= get_y(e[k][1])\n",
    "        \n",
    "        featurized[k] = (A0,B0)"
   ]
  },
  {
   "cell_type": "code",
   "execution_count": 49,
   "id": "85177219",
   "metadata": {},
   "outputs": [],
   "source": [
    "feat_keys = list(featurized.keys())\n",
    "feat_keys.sort()"
   ]
  },
  {
   "cell_type": "code",
   "execution_count": 57,
   "id": "a77d0a74",
   "metadata": {},
   "outputs": [],
   "source": [
    "X = []\n",
    "y = []\n",
    "\n",
    "for f in feat_keys:\n",
    "    X.append(featurized[f][0])\n",
    "    y.append(featurized[f][1])\n",
    "    \n",
    "X = np.array(X)\n",
    "y = np.array(y).astype(int)"
   ]
  },
  {
   "cell_type": "code",
   "execution_count": 58,
   "id": "b748fa54",
   "metadata": {},
   "outputs": [
    {
     "data": {
      "text/plain": [
       "((1638, 122), (1638,))"
      ]
     },
     "execution_count": 58,
     "metadata": {},
     "output_type": "execute_result"
    }
   ],
   "source": [
    "np.array(X).shape, np.array(y).shape"
   ]
  },
  {
   "cell_type": "code",
   "execution_count": 59,
   "id": "2dc2b4c5",
   "metadata": {},
   "outputs": [],
   "source": [
    "X_train = X[:int(0.75*len(X))]\n",
    "X_test = X[int(0.8*len(X)):]\n",
    "\n",
    "y_train = y[:int(0.75*len(X))]\n",
    "y_test = y[int(0.8*len(X)):]"
   ]
  },
  {
   "cell_type": "code",
   "execution_count": 73,
   "id": "f294c272",
   "metadata": {},
   "outputs": [],
   "source": [
    "clf = lgbm.LGBMClassifier()\n",
    "\n",
    "clf.fit(X_train,y_train)\n",
    "\n",
    "y_pred = [y[1] for y in clf.predict_proba(X_test)]"
   ]
  },
  {
   "cell_type": "code",
   "execution_count": 76,
   "id": "8b4050a9",
   "metadata": {},
   "outputs": [
    {
     "data": {
      "text/plain": [
       "0.7888615763922844"
      ]
     },
     "execution_count": 76,
     "metadata": {},
     "output_type": "execute_result"
    }
   ],
   "source": [
    "average_precision_score(y_test,y_pred)"
   ]
  },
  {
   "cell_type": "code",
   "execution_count": 94,
   "id": "9dd28a9e",
   "metadata": {},
   "outputs": [],
   "source": [
    "y_pred_binary = (np.array(y_pred) > 0.99).astype(int)"
   ]
  },
  {
   "cell_type": "code",
   "execution_count": 95,
   "id": "a94fcf3b",
   "metadata": {},
   "outputs": [
    {
     "data": {
      "text/plain": [
       "0.835820895522388"
      ]
     },
     "execution_count": 95,
     "metadata": {},
     "output_type": "execute_result"
    }
   ],
   "source": [
    "precision_score(y_test,y_pred_binary)"
   ]
  },
  {
   "cell_type": "code",
   "execution_count": 96,
   "id": "81a0394e",
   "metadata": {},
   "outputs": [
    {
     "data": {
      "text/plain": [
       "0.23931623931623933"
      ]
     },
     "execution_count": 96,
     "metadata": {},
     "output_type": "execute_result"
    }
   ],
   "source": [
    "recall_score(y_test,y_pred_binary)"
   ]
  },
  {
   "cell_type": "code",
   "execution_count": 99,
   "id": "828c99f3",
   "metadata": {},
   "outputs": [
    {
     "data": {
      "text/plain": [
       "0.7134146341463414"
      ]
     },
     "execution_count": 99,
     "metadata": {},
     "output_type": "execute_result"
    }
   ],
   "source": [
    "y_test.sum()/len(y_test)"
   ]
  },
  {
   "cell_type": "code",
   "execution_count": null,
   "id": "6ffb4129",
   "metadata": {},
   "outputs": [],
   "source": []
  },
  {
   "cell_type": "code",
   "execution_count": 88,
   "id": "02eb112c",
   "metadata": {},
   "outputs": [
    {
     "data": {
      "text/plain": [
       "(array([ 830, 2255, 3661, 5101, 6486, 6541, 6591, 6711, 6734, 6771, 6831,\n",
       "        6837, 6879, 6907, 6921, 6939, 6981, 7041, 7048, 7063, 7071, 7086,\n",
       "        7101, 7112, 7130, 7131, 7142, 7157, 7191]),\n",
       " array([   1,    1,    1,    1,    4,    1,    6,    5,    5,    5,    5,\n",
       "           5,    1,    5,    5,    4,   10,   10,    5,    5,   10,    1,\n",
       "           5,    5,    5,   14,    1,    1, 1684]))"
      ]
     },
     "execution_count": 88,
     "metadata": {},
     "output_type": "execute_result"
    }
   ],
   "source": [
    "np.unique([len(e[k][0]) for k in keys],return_counts = True)"
   ]
  },
  {
   "cell_type": "code",
   "execution_count": 47,
   "id": "c50b9e6f",
   "metadata": {},
   "outputs": [
    {
     "data": {
      "text/plain": [
       "8683.92"
      ]
     },
     "execution_count": 47,
     "metadata": {},
     "output_type": "execute_result"
    }
   ],
   "source": [
    "tmp = e[keys[0]][1]\n",
    "\n",
    "tmp.iloc[0].close"
   ]
  },
  {
   "cell_type": "code",
   "execution_count": 72,
   "id": "c26e1c8e",
   "metadata": {},
   "outputs": [
    {
     "data": {
      "text/plain": [
       "True"
      ]
     },
     "execution_count": 72,
     "metadata": {},
     "output_type": "execute_result"
    }
   ],
   "source": [
    "get_y(e[keys[0]][1])"
   ]
  },
  {
   "cell_type": "code",
   "execution_count": 55,
   "id": "f82f99e9",
   "metadata": {},
   "outputs": [
    {
     "data": {
      "text/plain": [
       "True"
      ]
     },
     "execution_count": 55,
     "metadata": {},
     "output_type": "execute_result"
    }
   ],
   "source": [
    "t.sum() > 0\n"
   ]
  },
  {
   "cell_type": "code",
   "execution_count": 67,
   "id": "015adfaa",
   "metadata": {},
   "outputs": [
    {
     "data": {
      "text/plain": [
       "16"
      ]
     },
     "execution_count": 67,
     "metadata": {},
     "output_type": "execute_result"
    }
   ],
   "source": [
    "np.where(t)[0][0]"
   ]
  },
  {
   "cell_type": "code",
   "execution_count": 70,
   "id": "b6f1ffb4",
   "metadata": {},
   "outputs": [
    {
     "data": {
      "text/plain": [
       "True"
      ]
     },
     "execution_count": 70,
     "metadata": {},
     "output_type": "execute_result"
    }
   ],
   "source": [
    "s[:17].sum() == 0"
   ]
  },
  {
   "cell_type": "code",
   "execution_count": 52,
   "id": "cb6e2dbe",
   "metadata": {},
   "outputs": [],
   "source": []
  },
  {
   "cell_type": "code",
   "execution_count": 133,
   "id": "20962d5e",
   "metadata": {},
   "outputs": [
    {
     "data": {
      "text/plain": [
       "9449.99"
      ]
     },
     "execution_count": 133,
     "metadata": {},
     "output_type": "execute_result"
    }
   ],
   "source": [
    "tmp.iloc[0].close"
   ]
  },
  {
   "cell_type": "code",
   "execution_count": null,
   "id": "016cb898",
   "metadata": {},
   "outputs": [],
   "source": [
    "for k in keys():\n",
    "    "
   ]
  },
  {
   "cell_type": "code",
   "execution_count": 125,
   "id": "1a50d735",
   "metadata": {},
   "outputs": [
    {
     "data": {
      "text/plain": [
       "date\n",
       "2018-02-14 23:59:00   -0.000318\n",
       "2018-02-15 00:00:00   -0.002906\n",
       "2018-02-15 00:01:00    0.000260\n",
       "2018-02-15 00:02:00   -0.000202\n",
       "2018-02-15 00:03:00   -0.000272\n",
       "                         ...   \n",
       "2018-02-19 23:55:00   -0.000920\n",
       "2018-02-19 23:56:00    0.000085\n",
       "2018-02-19 23:57:00    0.001345\n",
       "2018-02-19 23:58:00   -0.000773\n",
       "2018-02-19 23:59:00    0.000146\n",
       "Name: returns, Length: 7201, dtype: float64"
      ]
     },
     "execution_count": 125,
     "metadata": {},
     "output_type": "execute_result"
    }
   ],
   "source": []
  },
  {
   "cell_type": "code",
   "execution_count": null,
   "id": "95ac45b1",
   "metadata": {},
   "outputs": [],
   "source": []
  },
  {
   "cell_type": "code",
   "execution_count": 114,
   "id": "07a83c68",
   "metadata": {},
   "outputs": [
    {
     "data": {
      "text/plain": [
       "16999.14637298341"
      ]
     },
     "execution_count": 114,
     "metadata": {},
     "output_type": "execute_result"
    }
   ],
   "source": [
    "tmp['c']"
   ]
  },
  {
   "cell_type": "code",
   "execution_count": null,
   "id": "fb244626",
   "metadata": {},
   "outputs": [],
   "source": []
  },
  {
   "cell_type": "code",
   "execution_count": 120,
   "id": "edb23716",
   "metadata": {},
   "outputs": [
    {
     "data": {
      "text/plain": [
       "11274.0"
      ]
     },
     "execution_count": 120,
     "metadata": {},
     "output_type": "execute_result"
    }
   ],
   "source": [
    "tmp.high.max()"
   ]
  },
  {
   "cell_type": "code",
   "execution_count": 122,
   "id": "ca9d4215",
   "metadata": {},
   "outputs": [
    {
     "data": {
      "text/plain": [
       "9453.0"
      ]
     },
     "execution_count": 122,
     "metadata": {},
     "output_type": "execute_result"
    }
   ],
   "source": [
    "tmp.open.iloc[0]"
   ]
  },
  {
   "cell_type": "code",
   "execution_count": 98,
   "id": "346ddb69",
   "metadata": {},
   "outputs": [
    {
     "data": {
      "text/plain": [
       "Timestamp('2018-02-17 00:04:00')"
      ]
     },
     "execution_count": 98,
     "metadata": {},
     "output_type": "execute_result"
    }
   ],
   "source": [
    "keys[5] + pd.Timedelta('2D') + pd.Timedelta('5m')"
   ]
  },
  {
   "cell_type": "code",
   "execution_count": 33,
   "id": "f51a8499",
   "metadata": {},
   "outputs": [],
   "source": [
    "rr = [(len(e[k][0]),len(e[k][1])) for k in keys]"
   ]
  },
  {
   "cell_type": "code",
   "execution_count": 40,
   "id": "deea1e1b",
   "metadata": {},
   "outputs": [],
   "source": [
    "c,d = np.unique([x[0] for x in rr],return_counts = True)"
   ]
  },
  {
   "cell_type": "code",
   "execution_count": 52,
   "id": "15f9cb93",
   "metadata": {},
   "outputs": [],
   "source": [
    "c,d = np.unique([x[1] for x in rr],return_counts = True)"
   ]
  },
  {
   "cell_type": "code",
   "execution_count": 64,
   "id": "ba4ba245",
   "metadata": {},
   "outputs": [
    {
     "name": "stdout",
     "output_type": "stream",
     "text": [
      "5\n"
     ]
    }
   ],
   "source": [
    "for i,k in enumerate(keys):\n",
    "    if len(e[k][0]) < 7201 and len(e[k][0]) > 7000:\n",
    "        print(i)\n",
    "        break"
   ]
  },
  {
   "cell_type": "code",
   "execution_count": 105,
   "id": "cc1a65b0",
   "metadata": {},
   "outputs": [],
   "source": [
    "tmp = e[keys[10]][0]"
   ]
  },
  {
   "cell_type": "code",
   "execution_count": 106,
   "id": "c9cc8237",
   "metadata": {},
   "outputs": [
    {
     "data": {
      "text/html": [
       "<div>\n",
       "<style scoped>\n",
       "    .dataframe tbody tr th:only-of-type {\n",
       "        vertical-align: middle;\n",
       "    }\n",
       "\n",
       "    .dataframe tbody tr th {\n",
       "        vertical-align: top;\n",
       "    }\n",
       "\n",
       "    .dataframe thead th {\n",
       "        text-align: right;\n",
       "    }\n",
       "</style>\n",
       "<table border=\"1\" class=\"dataframe\">\n",
       "  <thead>\n",
       "    <tr style=\"text-align: right;\">\n",
       "      <th></th>\n",
       "      <th>timestamp</th>\n",
       "      <th>open</th>\n",
       "      <th>high</th>\n",
       "      <th>low</th>\n",
       "      <th>close</th>\n",
       "      <th>volume</th>\n",
       "      <th>returns</th>\n",
       "      <th>day_of_week</th>\n",
       "    </tr>\n",
       "    <tr>\n",
       "      <th>date</th>\n",
       "      <th></th>\n",
       "      <th></th>\n",
       "      <th></th>\n",
       "      <th></th>\n",
       "      <th></th>\n",
       "      <th></th>\n",
       "      <th></th>\n",
       "      <th></th>\n",
       "    </tr>\n",
       "  </thead>\n",
       "  <tbody>\n",
       "    <tr>\n",
       "      <th>2018-02-14 23:59:00</th>\n",
       "      <td>1518652740000</td>\n",
       "      <td>9453.00</td>\n",
       "      <td>9462.00</td>\n",
       "      <td>9440.00</td>\n",
       "      <td>9449.99</td>\n",
       "      <td>19.393669</td>\n",
       "      <td>-0.000318</td>\n",
       "      <td>2</td>\n",
       "    </tr>\n",
       "    <tr>\n",
       "      <th>2018-02-15 00:00:00</th>\n",
       "      <td>1518652800000</td>\n",
       "      <td>9449.98</td>\n",
       "      <td>9449.98</td>\n",
       "      <td>9420.50</td>\n",
       "      <td>9422.53</td>\n",
       "      <td>29.297210</td>\n",
       "      <td>-0.002906</td>\n",
       "      <td>3</td>\n",
       "    </tr>\n",
       "    <tr>\n",
       "      <th>2018-02-15 00:01:00</th>\n",
       "      <td>1518652860000</td>\n",
       "      <td>9422.53</td>\n",
       "      <td>9439.66</td>\n",
       "      <td>9420.50</td>\n",
       "      <td>9424.98</td>\n",
       "      <td>37.246513</td>\n",
       "      <td>0.000260</td>\n",
       "      <td>3</td>\n",
       "    </tr>\n",
       "    <tr>\n",
       "      <th>2018-02-15 00:02:00</th>\n",
       "      <td>1518652920000</td>\n",
       "      <td>9424.98</td>\n",
       "      <td>9430.00</td>\n",
       "      <td>9420.52</td>\n",
       "      <td>9423.08</td>\n",
       "      <td>39.875659</td>\n",
       "      <td>-0.000202</td>\n",
       "      <td>3</td>\n",
       "    </tr>\n",
       "    <tr>\n",
       "      <th>2018-02-15 00:03:00</th>\n",
       "      <td>1518652980000</td>\n",
       "      <td>9424.99</td>\n",
       "      <td>9427.78</td>\n",
       "      <td>9420.36</td>\n",
       "      <td>9420.52</td>\n",
       "      <td>42.692141</td>\n",
       "      <td>-0.000272</td>\n",
       "      <td>3</td>\n",
       "    </tr>\n",
       "    <tr>\n",
       "      <th>...</th>\n",
       "      <td>...</td>\n",
       "      <td>...</td>\n",
       "      <td>...</td>\n",
       "      <td>...</td>\n",
       "      <td>...</td>\n",
       "      <td>...</td>\n",
       "      <td>...</td>\n",
       "      <td>...</td>\n",
       "    </tr>\n",
       "    <tr>\n",
       "      <th>2018-02-19 23:55:00</th>\n",
       "      <td>1519084500000</td>\n",
       "      <td>11150.28</td>\n",
       "      <td>11156.25</td>\n",
       "      <td>11139.53</td>\n",
       "      <td>11144.06</td>\n",
       "      <td>8.663211</td>\n",
       "      <td>-0.000920</td>\n",
       "      <td>0</td>\n",
       "    </tr>\n",
       "    <tr>\n",
       "      <th>2018-02-19 23:56:00</th>\n",
       "      <td>1519084560000</td>\n",
       "      <td>11144.05</td>\n",
       "      <td>11160.00</td>\n",
       "      <td>11137.23</td>\n",
       "      <td>11145.01</td>\n",
       "      <td>14.344649</td>\n",
       "      <td>0.000085</td>\n",
       "      <td>0</td>\n",
       "    </tr>\n",
       "    <tr>\n",
       "      <th>2018-02-19 23:57:00</th>\n",
       "      <td>1519084620000</td>\n",
       "      <td>11149.68</td>\n",
       "      <td>11160.00</td>\n",
       "      <td>11141.00</td>\n",
       "      <td>11160.00</td>\n",
       "      <td>17.719266</td>\n",
       "      <td>0.001345</td>\n",
       "      <td>0</td>\n",
       "    </tr>\n",
       "    <tr>\n",
       "      <th>2018-02-19 23:58:00</th>\n",
       "      <td>1519084680000</td>\n",
       "      <td>11159.99</td>\n",
       "      <td>11169.51</td>\n",
       "      <td>11150.00</td>\n",
       "      <td>11151.37</td>\n",
       "      <td>25.260418</td>\n",
       "      <td>-0.000773</td>\n",
       "      <td>0</td>\n",
       "    </tr>\n",
       "    <tr>\n",
       "      <th>2018-02-19 23:59:00</th>\n",
       "      <td>1519084740000</td>\n",
       "      <td>11151.37</td>\n",
       "      <td>11160.00</td>\n",
       "      <td>11144.78</td>\n",
       "      <td>11153.00</td>\n",
       "      <td>10.329080</td>\n",
       "      <td>0.000146</td>\n",
       "      <td>0</td>\n",
       "    </tr>\n",
       "  </tbody>\n",
       "</table>\n",
       "<p>7201 rows × 8 columns</p>\n",
       "</div>"
      ],
      "text/plain": [
       "                         timestamp      open      high       low     close  \\\n",
       "date                                                                         \n",
       "2018-02-14 23:59:00  1518652740000   9453.00   9462.00   9440.00   9449.99   \n",
       "2018-02-15 00:00:00  1518652800000   9449.98   9449.98   9420.50   9422.53   \n",
       "2018-02-15 00:01:00  1518652860000   9422.53   9439.66   9420.50   9424.98   \n",
       "2018-02-15 00:02:00  1518652920000   9424.98   9430.00   9420.52   9423.08   \n",
       "2018-02-15 00:03:00  1518652980000   9424.99   9427.78   9420.36   9420.52   \n",
       "...                            ...       ...       ...       ...       ...   \n",
       "2018-02-19 23:55:00  1519084500000  11150.28  11156.25  11139.53  11144.06   \n",
       "2018-02-19 23:56:00  1519084560000  11144.05  11160.00  11137.23  11145.01   \n",
       "2018-02-19 23:57:00  1519084620000  11149.68  11160.00  11141.00  11160.00   \n",
       "2018-02-19 23:58:00  1519084680000  11159.99  11169.51  11150.00  11151.37   \n",
       "2018-02-19 23:59:00  1519084740000  11151.37  11160.00  11144.78  11153.00   \n",
       "\n",
       "                        volume   returns  day_of_week  \n",
       "date                                                   \n",
       "2018-02-14 23:59:00  19.393669 -0.000318            2  \n",
       "2018-02-15 00:00:00  29.297210 -0.002906            3  \n",
       "2018-02-15 00:01:00  37.246513  0.000260            3  \n",
       "2018-02-15 00:02:00  39.875659 -0.000202            3  \n",
       "2018-02-15 00:03:00  42.692141 -0.000272            3  \n",
       "...                        ...       ...          ...  \n",
       "2018-02-19 23:55:00   8.663211 -0.000920            0  \n",
       "2018-02-19 23:56:00  14.344649  0.000085            0  \n",
       "2018-02-19 23:57:00  17.719266  0.001345            0  \n",
       "2018-02-19 23:58:00  25.260418 -0.000773            0  \n",
       "2018-02-19 23:59:00  10.329080  0.000146            0  \n",
       "\n",
       "[7201 rows x 8 columns]"
      ]
     },
     "execution_count": 106,
     "metadata": {},
     "output_type": "execute_result"
    }
   ],
   "source": [
    "tmp"
   ]
  },
  {
   "cell_type": "code",
   "execution_count": 117,
   "id": "dff65163",
   "metadata": {},
   "outputs": [
    {
     "data": {
      "text/plain": [
       "[9374.96,\n",
       " 9636.58,\n",
       " 9670.0,\n",
       " 9810.01,\n",
       " 9585.1,\n",
       " 9566.56,\n",
       " 9638.76,\n",
       " 9811.01,\n",
       " 10070.18,\n",
       " 10110.75,\n",
       " 9873.25,\n",
       " 10000.09,\n",
       " 10305.0,\n",
       " 10104.7,\n",
       " 10055.03,\n",
       " 9688.5,\n",
       " 9844.99,\n",
       " 9799.43,\n",
       " 9829.9,\n",
       " 10039.98,\n",
       " 10055.38,\n",
       " 10030.66,\n",
       " 10055.0,\n",
       " 10159.98,\n",
       " 10316.03,\n",
       " 10459.04,\n",
       " 10499.99,\n",
       " 10727.91,\n",
       " 10659.0,\n",
       " 10683.0,\n",
       " 10660.0,\n",
       " 10731.48,\n",
       " 10745.2,\n",
       " 10722.99,\n",
       " 10818.99,\n",
       " 11039.55,\n",
       " 11190.0,\n",
       " 10800.0,\n",
       " 10328.34,\n",
       " 10589.76,\n",
       " 10101.1,\n",
       " 10550.0,\n",
       " 10688.33,\n",
       " 10633.73,\n",
       " 10743.0,\n",
       " 10831.26,\n",
       " 10740.37,\n",
       " 10383.43,\n",
       " 10625.6,\n",
       " 10499.0,\n",
       " 10448.22,\n",
       " 10815.62,\n",
       " 10929.91,\n",
       " 10918.84,\n",
       " 10945.22,\n",
       " 11171.71,\n",
       " 10940.0,\n",
       " 11126.06,\n",
       " 11098.0,\n",
       " 11153.0]"
      ]
     },
     "execution_count": 117,
     "metadata": {},
     "output_type": "execute_result"
    }
   ],
   "source": [
    "preprocessing.resample(tmp,'120min').close.values.T.tolist()"
   ]
  },
  {
   "cell_type": "code",
   "execution_count": 108,
   "id": "c74b1590",
   "metadata": {},
   "outputs": [
    {
     "ename": "NameError",
     "evalue": "name 'dF' is not defined",
     "output_type": "error",
     "traceback": [
      "\u001b[0;31m---------------------------------------------------------------------------\u001b[0m",
      "\u001b[0;31mNameError\u001b[0m                                 Traceback (most recent call last)",
      "Input \u001b[0;32mIn [108]\u001b[0m, in \u001b[0;36m<cell line: 1>\u001b[0;34m()\u001b[0m\n\u001b[0;32m----> 1\u001b[0m \u001b[43mdF\u001b[49m\n",
      "\u001b[0;31mNameError\u001b[0m: name 'dF' is not defined"
     ]
    }
   ],
   "source": []
  },
  {
   "cell_type": "code",
   "execution_count": null,
   "id": "959dfbc6",
   "metadata": {},
   "outputs": [],
   "source": []
  },
  {
   "cell_type": "code",
   "execution_count": 101,
   "id": "543cf6ec",
   "metadata": {},
   "outputs": [
    {
     "data": {
      "text/html": [
       "<div>\n",
       "<style scoped>\n",
       "    .dataframe tbody tr th:only-of-type {\n",
       "        vertical-align: middle;\n",
       "    }\n",
       "\n",
       "    .dataframe tbody tr th {\n",
       "        vertical-align: top;\n",
       "    }\n",
       "\n",
       "    .dataframe thead th {\n",
       "        text-align: right;\n",
       "    }\n",
       "</style>\n",
       "<table border=\"1\" class=\"dataframe\">\n",
       "  <thead>\n",
       "    <tr style=\"text-align: right;\">\n",
       "      <th></th>\n",
       "      <th>timestamp</th>\n",
       "      <th>open</th>\n",
       "      <th>high</th>\n",
       "      <th>low</th>\n",
       "      <th>close</th>\n",
       "      <th>volume</th>\n",
       "      <th>returns</th>\n",
       "      <th>day_of_week</th>\n",
       "    </tr>\n",
       "    <tr>\n",
       "      <th>date</th>\n",
       "      <th></th>\n",
       "      <th></th>\n",
       "      <th></th>\n",
       "      <th></th>\n",
       "      <th></th>\n",
       "      <th></th>\n",
       "      <th></th>\n",
       "      <th></th>\n",
       "    </tr>\n",
       "  </thead>\n",
       "  <tbody>\n",
       "    <tr>\n",
       "      <th>2018-02-15 00:04:00</th>\n",
       "      <td>1518653040000</td>\n",
       "      <td>9420.36</td>\n",
       "      <td>9420.52</td>\n",
       "      <td>9400.00</td>\n",
       "      <td>9400.29</td>\n",
       "      <td>42.669488</td>\n",
       "      <td>-0.002147</td>\n",
       "      <td>3</td>\n",
       "    </tr>\n",
       "    <tr>\n",
       "      <th>2018-02-15 00:05:00</th>\n",
       "      <td>1518653100000</td>\n",
       "      <td>9400.29</td>\n",
       "      <td>9423.14</td>\n",
       "      <td>9400.00</td>\n",
       "      <td>9404.06</td>\n",
       "      <td>55.703522</td>\n",
       "      <td>0.000401</td>\n",
       "      <td>3</td>\n",
       "    </tr>\n",
       "    <tr>\n",
       "      <th>2018-02-15 00:06:00</th>\n",
       "      <td>1518653160000</td>\n",
       "      <td>9409.28</td>\n",
       "      <td>9424.00</td>\n",
       "      <td>9400.03</td>\n",
       "      <td>9417.00</td>\n",
       "      <td>28.888809</td>\n",
       "      <td>0.001376</td>\n",
       "      <td>3</td>\n",
       "    </tr>\n",
       "    <tr>\n",
       "      <th>2018-02-15 00:07:00</th>\n",
       "      <td>1518653220000</td>\n",
       "      <td>9418.99</td>\n",
       "      <td>9426.87</td>\n",
       "      <td>9406.69</td>\n",
       "      <td>9412.00</td>\n",
       "      <td>27.030080</td>\n",
       "      <td>-0.000531</td>\n",
       "      <td>3</td>\n",
       "    </tr>\n",
       "    <tr>\n",
       "      <th>2018-02-15 00:08:00</th>\n",
       "      <td>1518653280000</td>\n",
       "      <td>9412.00</td>\n",
       "      <td>9419.00</td>\n",
       "      <td>9405.00</td>\n",
       "      <td>9405.00</td>\n",
       "      <td>40.100898</td>\n",
       "      <td>-0.000744</td>\n",
       "      <td>3</td>\n",
       "    </tr>\n",
       "    <tr>\n",
       "      <th>...</th>\n",
       "      <td>...</td>\n",
       "      <td>...</td>\n",
       "      <td>...</td>\n",
       "      <td>...</td>\n",
       "      <td>...</td>\n",
       "      <td>...</td>\n",
       "      <td>...</td>\n",
       "      <td>...</td>\n",
       "    </tr>\n",
       "    <tr>\n",
       "      <th>2018-02-16 23:55:00</th>\n",
       "      <td>1518825300000</td>\n",
       "      <td>10153.61</td>\n",
       "      <td>10159.71</td>\n",
       "      <td>10153.60</td>\n",
       "      <td>10158.94</td>\n",
       "      <td>3.394788</td>\n",
       "      <td>0.000388</td>\n",
       "      <td>4</td>\n",
       "    </tr>\n",
       "    <tr>\n",
       "      <th>2018-02-16 23:56:00</th>\n",
       "      <td>1518825360000</td>\n",
       "      <td>10158.94</td>\n",
       "      <td>10165.00</td>\n",
       "      <td>10155.01</td>\n",
       "      <td>10161.00</td>\n",
       "      <td>10.265316</td>\n",
       "      <td>0.000203</td>\n",
       "      <td>4</td>\n",
       "    </tr>\n",
       "    <tr>\n",
       "      <th>2018-02-16 23:57:00</th>\n",
       "      <td>1518825420000</td>\n",
       "      <td>10161.00</td>\n",
       "      <td>10162.80</td>\n",
       "      <td>10160.04</td>\n",
       "      <td>10161.00</td>\n",
       "      <td>9.141580</td>\n",
       "      <td>0.000000</td>\n",
       "      <td>4</td>\n",
       "    </tr>\n",
       "    <tr>\n",
       "      <th>2018-02-16 23:58:00</th>\n",
       "      <td>1518825480000</td>\n",
       "      <td>10161.00</td>\n",
       "      <td>10167.34</td>\n",
       "      <td>10150.00</td>\n",
       "      <td>10156.03</td>\n",
       "      <td>24.513886</td>\n",
       "      <td>-0.000489</td>\n",
       "      <td>4</td>\n",
       "    </tr>\n",
       "    <tr>\n",
       "      <th>2018-02-16 23:59:00</th>\n",
       "      <td>1518825540000</td>\n",
       "      <td>10156.03</td>\n",
       "      <td>10160.01</td>\n",
       "      <td>10146.00</td>\n",
       "      <td>10159.98</td>\n",
       "      <td>17.938177</td>\n",
       "      <td>0.000389</td>\n",
       "      <td>4</td>\n",
       "    </tr>\n",
       "  </tbody>\n",
       "</table>\n",
       "<p>2876 rows × 8 columns</p>\n",
       "</div>"
      ],
      "text/plain": [
       "                         timestamp      open      high       low     close  \\\n",
       "date                                                                         \n",
       "2018-02-15 00:04:00  1518653040000   9420.36   9420.52   9400.00   9400.29   \n",
       "2018-02-15 00:05:00  1518653100000   9400.29   9423.14   9400.00   9404.06   \n",
       "2018-02-15 00:06:00  1518653160000   9409.28   9424.00   9400.03   9417.00   \n",
       "2018-02-15 00:07:00  1518653220000   9418.99   9426.87   9406.69   9412.00   \n",
       "2018-02-15 00:08:00  1518653280000   9412.00   9419.00   9405.00   9405.00   \n",
       "...                            ...       ...       ...       ...       ...   \n",
       "2018-02-16 23:55:00  1518825300000  10153.61  10159.71  10153.60  10158.94   \n",
       "2018-02-16 23:56:00  1518825360000  10158.94  10165.00  10155.01  10161.00   \n",
       "2018-02-16 23:57:00  1518825420000  10161.00  10162.80  10160.04  10161.00   \n",
       "2018-02-16 23:58:00  1518825480000  10161.00  10167.34  10150.00  10156.03   \n",
       "2018-02-16 23:59:00  1518825540000  10156.03  10160.01  10146.00  10159.98   \n",
       "\n",
       "                        volume   returns  day_of_week  \n",
       "date                                                   \n",
       "2018-02-15 00:04:00  42.669488 -0.002147            3  \n",
       "2018-02-15 00:05:00  55.703522  0.000401            3  \n",
       "2018-02-15 00:06:00  28.888809  0.001376            3  \n",
       "2018-02-15 00:07:00  27.030080 -0.000531            3  \n",
       "2018-02-15 00:08:00  40.100898 -0.000744            3  \n",
       "...                        ...       ...          ...  \n",
       "2018-02-16 23:55:00   3.394788  0.000388            4  \n",
       "2018-02-16 23:56:00  10.265316  0.000203            4  \n",
       "2018-02-16 23:57:00   9.141580  0.000000            4  \n",
       "2018-02-16 23:58:00  24.513886 -0.000489            4  \n",
       "2018-02-16 23:59:00  17.938177  0.000389            4  \n",
       "\n",
       "[2876 rows x 8 columns]"
      ]
     },
     "execution_count": 101,
     "metadata": {},
     "output_type": "execute_result"
    }
   ],
   "source": [
    "e[keys[5]][1]"
   ]
  },
  {
   "cell_type": "code",
   "execution_count": null,
   "id": "1e9ff6d7",
   "metadata": {},
   "outputs": [],
   "source": []
  }
 ],
 "metadata": {
  "kernelspec": {
   "display_name": "Python 3 (ipykernel)",
   "language": "python",
   "name": "python3"
  },
  "language_info": {
   "codemirror_mode": {
    "name": "ipython",
    "version": 3
   },
   "file_extension": ".py",
   "mimetype": "text/x-python",
   "name": "python",
   "nbconvert_exporter": "python",
   "pygments_lexer": "ipython3",
   "version": "3.9.7"
  }
 },
 "nbformat": 4,
 "nbformat_minor": 5
}
