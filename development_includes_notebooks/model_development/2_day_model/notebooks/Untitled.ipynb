{
 "cells": [
  {
   "cell_type": "code",
   "execution_count": 1,
   "id": "4606794f",
   "metadata": {},
   "outputs": [],
   "source": [
    "import os\n",
    "import pandas as pd\n",
    "import numpy as np\n",
    "import sys\n",
    "sys.path.append('../../../../scripts/preprocessing')\n",
    "import preprocessing as pp\n",
    "sys.path.append('../scripts')\n",
    "import featurizer\n"
   ]
  },
  {
   "cell_type": "code",
   "execution_count": 2,
   "id": "48e9f880",
   "metadata": {},
   "outputs": [],
   "source": [
    "#pp.load_df('../../../../../data/data_new/raw/Binance/ETH_USDT/ETH_USDT.csv')"
   ]
  },
  {
   "cell_type": "code",
   "execution_count": 4,
   "id": "03a21c18",
   "metadata": {},
   "outputs": [
    {
     "name": "stdout",
     "output_type": "stream",
     "text": [
      "Total NaN : \n",
      "\n",
      "timestamp    0\n",
      "open         0\n",
      "high         0\n",
      "low          0\n",
      "close        0\n",
      "volume       0\n",
      "returns      1\n",
      "dtype: int64\n",
      "\n"
     ]
    },
    {
     "data": {
      "application/vnd.jupyter.widget-view+json": {
       "model_id": "81fe00b96d0e48a68be650d00fe2df8e",
       "version_major": 2,
       "version_minor": 0
      },
      "text/plain": [
       "  0%|          | 0/1811 [00:00<?, ?it/s]"
      ]
     },
     "metadata": {},
     "output_type": "display_data"
    },
    {
     "name": "stdout",
     "output_type": "stream",
     "text": [
      "We make use of 90.44726670347875% of the data\n"
     ]
    },
    {
     "data": {
      "application/vnd.jupyter.widget-view+json": {
       "model_id": "ab69d0a2ba3f4643a4321e3d8f5be542",
       "version_major": 2,
       "version_minor": 0
      },
      "text/plain": [
       "0it [00:00, ?it/s]"
      ]
     },
     "metadata": {},
     "output_type": "display_data"
    }
   ],
   "source": [
    "import warnings\n",
    "warnings.filterwarnings(\"ignore\")\n",
    "\n",
    "path = '../../../../../data/data_new/raw/Binance/ETH_USDT/ETH_USDT.csv'\n",
    "\n",
    "#X,y\n",
    "\n",
    "df = featurizer.load_and_featurize(path)"
   ]
  },
  {
   "cell_type": "code",
   "execution_count": 5,
   "id": "5b49b604",
   "metadata": {},
   "outputs": [
    {
     "data": {
      "text/html": [
       "<div>\n",
       "<style scoped>\n",
       "    .dataframe tbody tr th:only-of-type {\n",
       "        vertical-align: middle;\n",
       "    }\n",
       "\n",
       "    .dataframe tbody tr th {\n",
       "        vertical-align: top;\n",
       "    }\n",
       "\n",
       "    .dataframe thead th {\n",
       "        text-align: right;\n",
       "    }\n",
       "</style>\n",
       "<table border=\"1\" class=\"dataframe\">\n",
       "  <thead>\n",
       "    <tr style=\"text-align: right;\">\n",
       "      <th></th>\n",
       "      <th>X</th>\n",
       "      <th>y</th>\n",
       "      <th>timestamp</th>\n",
       "    </tr>\n",
       "  </thead>\n",
       "  <tbody>\n",
       "    <tr>\n",
       "      <th>0</th>\n",
       "      <td>[0.37505268958775384, 0.3676499083669046, 0.33...</td>\n",
       "      <td>True</td>\n",
       "      <td>2018-02-16 23:59:00</td>\n",
       "    </tr>\n",
       "    <tr>\n",
       "      <th>1</th>\n",
       "      <td>[0.29399677834117677, 0.31856018283239373, 0.2...</td>\n",
       "      <td>False</td>\n",
       "      <td>2018-02-17 23:59:00</td>\n",
       "    </tr>\n",
       "    <tr>\n",
       "      <th>2</th>\n",
       "      <td>[0.3352848780649368, 0.3316037020183852, 0.344...</td>\n",
       "      <td>True</td>\n",
       "      <td>2018-02-18 23:59:00</td>\n",
       "    </tr>\n",
       "    <tr>\n",
       "      <th>3</th>\n",
       "      <td>[0.1449642794238638, 0.1783851879283158, 0.160...</td>\n",
       "      <td>True</td>\n",
       "      <td>2018-02-19 23:59:00</td>\n",
       "    </tr>\n",
       "    <tr>\n",
       "      <th>4</th>\n",
       "      <td>[0.19456280963590927, 0.16566760092097624, 0.1...</td>\n",
       "      <td>True</td>\n",
       "      <td>2018-02-20 23:59:00</td>\n",
       "    </tr>\n",
       "    <tr>\n",
       "      <th>...</th>\n",
       "      <td>...</td>\n",
       "      <td>...</td>\n",
       "      <td>...</td>\n",
       "    </tr>\n",
       "    <tr>\n",
       "      <th>1633</th>\n",
       "      <td>[0.28971868943276713, 0.22323495436217913, 0.2...</td>\n",
       "      <td>True</td>\n",
       "      <td>2023-01-18 23:59:00</td>\n",
       "    </tr>\n",
       "    <tr>\n",
       "      <th>1634</th>\n",
       "      <td>[0.09647428095811703, 0.10838330670525939, 0.1...</td>\n",
       "      <td>True</td>\n",
       "      <td>2023-01-19 23:59:00</td>\n",
       "    </tr>\n",
       "    <tr>\n",
       "      <th>1635</th>\n",
       "      <td>[0.19771503565980886, 0.18847743128675376, 0.1...</td>\n",
       "      <td>True</td>\n",
       "      <td>2023-01-20 23:59:00</td>\n",
       "    </tr>\n",
       "    <tr>\n",
       "      <th>1636</th>\n",
       "      <td>[0.16999505452362926, 0.1881390290016521, 0.18...</td>\n",
       "      <td>True</td>\n",
       "      <td>2023-01-21 23:59:00</td>\n",
       "    </tr>\n",
       "    <tr>\n",
       "      <th>1637</th>\n",
       "      <td>[0.20103671584423535, 0.19170527059939593, 0.1...</td>\n",
       "      <td>True</td>\n",
       "      <td>2023-01-22 23:59:00</td>\n",
       "    </tr>\n",
       "  </tbody>\n",
       "</table>\n",
       "<p>1638 rows × 3 columns</p>\n",
       "</div>"
      ],
      "text/plain": [
       "                                                      X      y  \\\n",
       "0     [0.37505268958775384, 0.3676499083669046, 0.33...   True   \n",
       "1     [0.29399677834117677, 0.31856018283239373, 0.2...  False   \n",
       "2     [0.3352848780649368, 0.3316037020183852, 0.344...   True   \n",
       "3     [0.1449642794238638, 0.1783851879283158, 0.160...   True   \n",
       "4     [0.19456280963590927, 0.16566760092097624, 0.1...   True   \n",
       "...                                                 ...    ...   \n",
       "1633  [0.28971868943276713, 0.22323495436217913, 0.2...   True   \n",
       "1634  [0.09647428095811703, 0.10838330670525939, 0.1...   True   \n",
       "1635  [0.19771503565980886, 0.18847743128675376, 0.1...   True   \n",
       "1636  [0.16999505452362926, 0.1881390290016521, 0.18...   True   \n",
       "1637  [0.20103671584423535, 0.19170527059939593, 0.1...   True   \n",
       "\n",
       "               timestamp  \n",
       "0    2018-02-16 23:59:00  \n",
       "1    2018-02-17 23:59:00  \n",
       "2    2018-02-18 23:59:00  \n",
       "3    2018-02-19 23:59:00  \n",
       "4    2018-02-20 23:59:00  \n",
       "...                  ...  \n",
       "1633 2023-01-18 23:59:00  \n",
       "1634 2023-01-19 23:59:00  \n",
       "1635 2023-01-20 23:59:00  \n",
       "1636 2023-01-21 23:59:00  \n",
       "1637 2023-01-22 23:59:00  \n",
       "\n",
       "[1638 rows x 3 columns]"
      ]
     },
     "execution_count": 5,
     "metadata": {},
     "output_type": "execute_result"
    }
   ],
   "source": [
    "df"
   ]
  },
  {
   "cell_type": "code",
   "execution_count": null,
   "id": "501553c0",
   "metadata": {},
   "outputs": [],
   "source": []
  }
 ],
 "metadata": {
  "kernelspec": {
   "display_name": "Python 3 (ipykernel)",
   "language": "python",
   "name": "python3"
  },
  "language_info": {
   "codemirror_mode": {
    "name": "ipython",
    "version": 3
   },
   "file_extension": ".py",
   "mimetype": "text/x-python",
   "name": "python",
   "nbconvert_exporter": "python",
   "pygments_lexer": "ipython3",
   "version": "3.9.7"
  }
 },
 "nbformat": 4,
 "nbformat_minor": 5
}
