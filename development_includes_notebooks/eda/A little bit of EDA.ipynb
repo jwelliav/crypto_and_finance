{
 "cells": [
  {
   "cell_type": "code",
   "execution_count": 111,
   "metadata": {},
   "outputs": [],
   "source": [
    "import pandas as pd\n",
    "import matplotlib.pyplot as plt\n",
    "%matplotlib inline\n",
    "import seaborn as sns\n",
    "from datetime import datetime\n",
    "import numpy as np"
   ]
  },
  {
   "cell_type": "markdown",
   "metadata": {},
   "source": [
    "# Loading the data\n",
    "\n",
    "We will be using the AVAX/USDT data. This can be changed easily by changing the coin in the following line and rerunning the notebook."
   ]
  },
  {
   "cell_type": "code",
   "execution_count": 112,
   "metadata": {},
   "outputs": [],
   "source": [
    "parent_path = '/home/jwelliav/Documents/Crypto/data/Binance/'\n",
    "\n",
    "coin = 'AVAX'\n",
    "\n",
    "filename = parent_path + coin + '_USDT.csv'"
   ]
  },
  {
   "cell_type": "code",
   "execution_count": 140,
   "metadata": {},
   "outputs": [],
   "source": [
    "#OHLCV=pd.read_csv('./data/raw/Binance/XRP_USDT.csv')\n",
    "\n",
    "ohlcv=pd.read_csv(filename, names = ['timestamp','open','high','low','close','volume'])\n",
    "ohlcv= ohlcv.set_index('timestamp')"
   ]
  },
  {
   "cell_type": "code",
   "execution_count": 141,
   "metadata": {},
   "outputs": [],
   "source": [
    "ohlcv['pct_change'] = ohlcv.close.pct_change()\n",
    "ohlcv['log_ret'] = np.log(ohlcv.close) - np.log(ohlcv.close.shift(1))\n",
    "ohlcv['vol_usdt_K'] = (((ohlcv['open'] + ohlcv['close'])/2)*ohlcv['volume'])/1000\n",
    "ohlcv = ohlcv.iloc[1:-1]"
   ]
  },
  {
   "cell_type": "code",
   "execution_count": 148,
   "metadata": {},
   "outputs": [],
   "source": [
    "tmp = [x/1000 for x in (ohlcv.index)]\n",
    "l = list(map(datetime.fromtimestamp,tmp))\n",
    "\n",
    "ohlcv['datetime'] = l"
   ]
  },
  {
   "cell_type": "code",
   "execution_count": 149,
   "metadata": {},
   "outputs": [
    {
     "data": {
      "text/html": [
       "<div>\n",
       "<style scoped>\n",
       "    .dataframe tbody tr th:only-of-type {\n",
       "        vertical-align: middle;\n",
       "    }\n",
       "\n",
       "    .dataframe tbody tr th {\n",
       "        vertical-align: top;\n",
       "    }\n",
       "\n",
       "    .dataframe thead th {\n",
       "        text-align: right;\n",
       "    }\n",
       "</style>\n",
       "<table border=\"1\" class=\"dataframe\">\n",
       "  <thead>\n",
       "    <tr style=\"text-align: right;\">\n",
       "      <th></th>\n",
       "      <th>open</th>\n",
       "      <th>high</th>\n",
       "      <th>low</th>\n",
       "      <th>close</th>\n",
       "      <th>volume</th>\n",
       "      <th>pct_change</th>\n",
       "      <th>log_ret</th>\n",
       "      <th>vol_usdt_K</th>\n",
       "    </tr>\n",
       "  </thead>\n",
       "  <tbody>\n",
       "    <tr>\n",
       "      <th>count</th>\n",
       "      <td>748998.000000</td>\n",
       "      <td>748998.000000</td>\n",
       "      <td>748998.000000</td>\n",
       "      <td>748998.000000</td>\n",
       "      <td>748998.000000</td>\n",
       "      <td>748998.000000</td>\n",
       "      <td>748998.000000</td>\n",
       "      <td>748998.000000</td>\n",
       "    </tr>\n",
       "    <tr>\n",
       "      <th>mean</th>\n",
       "      <td>38.768865</td>\n",
       "      <td>38.825848</td>\n",
       "      <td>38.710887</td>\n",
       "      <td>38.768997</td>\n",
       "      <td>2132.922241</td>\n",
       "      <td>0.000007</td>\n",
       "      <td>0.000004</td>\n",
       "      <td>103.493529</td>\n",
       "    </tr>\n",
       "    <tr>\n",
       "      <th>std</th>\n",
       "      <td>34.490238</td>\n",
       "      <td>34.534618</td>\n",
       "      <td>34.445520</td>\n",
       "      <td>34.490371</td>\n",
       "      <td>4539.697972</td>\n",
       "      <td>0.002610</td>\n",
       "      <td>0.002614</td>\n",
       "      <td>249.925855</td>\n",
       "    </tr>\n",
       "    <tr>\n",
       "      <th>min</th>\n",
       "      <td>2.750500</td>\n",
       "      <td>2.790000</td>\n",
       "      <td>2.750100</td>\n",
       "      <td>2.750500</td>\n",
       "      <td>0.000000</td>\n",
       "      <td>-0.232502</td>\n",
       "      <td>-0.264619</td>\n",
       "      <td>0.000000</td>\n",
       "    </tr>\n",
       "    <tr>\n",
       "      <th>25%</th>\n",
       "      <td>11.134000</td>\n",
       "      <td>11.145000</td>\n",
       "      <td>11.121100</td>\n",
       "      <td>11.133000</td>\n",
       "      <td>301.610000</td>\n",
       "      <td>-0.001073</td>\n",
       "      <td>-0.001073</td>\n",
       "      <td>3.431294</td>\n",
       "    </tr>\n",
       "    <tr>\n",
       "      <th>50%</th>\n",
       "      <td>28.450100</td>\n",
       "      <td>28.500000</td>\n",
       "      <td>28.400000</td>\n",
       "      <td>28.450500</td>\n",
       "      <td>911.890000</td>\n",
       "      <td>0.000000</td>\n",
       "      <td>0.000000</td>\n",
       "      <td>29.941542</td>\n",
       "    </tr>\n",
       "    <tr>\n",
       "      <th>75%</th>\n",
       "      <td>64.750000</td>\n",
       "      <td>64.840000</td>\n",
       "      <td>64.670000</td>\n",
       "      <td>64.750000</td>\n",
       "      <td>2233.835750</td>\n",
       "      <td>0.001079</td>\n",
       "      <td>0.001079</td>\n",
       "      <td>104.796885</td>\n",
       "    </tr>\n",
       "    <tr>\n",
       "      <th>max</th>\n",
       "      <td>146.130000</td>\n",
       "      <td>147.000000</td>\n",
       "      <td>145.740000</td>\n",
       "      <td>146.130000</td>\n",
       "      <td>295523.270000</td>\n",
       "      <td>0.096823</td>\n",
       "      <td>0.092418</td>\n",
       "      <td>23774.279543</td>\n",
       "    </tr>\n",
       "  </tbody>\n",
       "</table>\n",
       "</div>"
      ],
      "text/plain": [
       "                open           high            low          close  \\\n",
       "count  748998.000000  748998.000000  748998.000000  748998.000000   \n",
       "mean       38.768865      38.825848      38.710887      38.768997   \n",
       "std        34.490238      34.534618      34.445520      34.490371   \n",
       "min         2.750500       2.790000       2.750100       2.750500   \n",
       "25%        11.134000      11.145000      11.121100      11.133000   \n",
       "50%        28.450100      28.500000      28.400000      28.450500   \n",
       "75%        64.750000      64.840000      64.670000      64.750000   \n",
       "max       146.130000     147.000000     145.740000     146.130000   \n",
       "\n",
       "              volume     pct_change        log_ret     vol_usdt_K  \n",
       "count  748998.000000  748998.000000  748998.000000  748998.000000  \n",
       "mean     2132.922241       0.000007       0.000004     103.493529  \n",
       "std      4539.697972       0.002610       0.002614     249.925855  \n",
       "min         0.000000      -0.232502      -0.264619       0.000000  \n",
       "25%       301.610000      -0.001073      -0.001073       3.431294  \n",
       "50%       911.890000       0.000000       0.000000      29.941542  \n",
       "75%      2233.835750       0.001079       0.001079     104.796885  \n",
       "max    295523.270000       0.096823       0.092418   23774.279543  "
      ]
     },
     "execution_count": 149,
     "metadata": {},
     "output_type": "execute_result"
    }
   ],
   "source": [
    "ohlcv.describe()"
   ]
  },
  {
   "cell_type": "markdown",
   "metadata": {},
   "source": [
    "Selection of data for when the volumes were atleast 100k AVAX and occured after August 2021"
   ]
  },
  {
   "cell_type": "code",
   "execution_count": 150,
   "metadata": {},
   "outputs": [
    {
     "data": {
      "text/html": [
       "<div>\n",
       "<style scoped>\n",
       "    .dataframe tbody tr th:only-of-type {\n",
       "        vertical-align: middle;\n",
       "    }\n",
       "\n",
       "    .dataframe tbody tr th {\n",
       "        vertical-align: top;\n",
       "    }\n",
       "\n",
       "    .dataframe thead th {\n",
       "        text-align: right;\n",
       "    }\n",
       "</style>\n",
       "<table border=\"1\" class=\"dataframe\">\n",
       "  <thead>\n",
       "    <tr style=\"text-align: right;\">\n",
       "      <th></th>\n",
       "      <th>open</th>\n",
       "      <th>high</th>\n",
       "      <th>low</th>\n",
       "      <th>close</th>\n",
       "      <th>volume</th>\n",
       "      <th>pct_change</th>\n",
       "      <th>log_ret</th>\n",
       "      <th>vol_usdt_K</th>\n",
       "      <th>datetime</th>\n",
       "    </tr>\n",
       "    <tr>\n",
       "      <th>timestamp</th>\n",
       "      <th></th>\n",
       "      <th></th>\n",
       "      <th></th>\n",
       "      <th></th>\n",
       "      <th></th>\n",
       "      <th></th>\n",
       "      <th></th>\n",
       "      <th></th>\n",
       "      <th></th>\n",
       "    </tr>\n",
       "  </thead>\n",
       "  <tbody>\n",
       "    <tr>\n",
       "      <th>1632930840000</th>\n",
       "      <td>62.36</td>\n",
       "      <td>68.28</td>\n",
       "      <td>62.35</td>\n",
       "      <td>68.01</td>\n",
       "      <td>289426.130</td>\n",
       "      <td>0.090603</td>\n",
       "      <td>0.086731</td>\n",
       "      <td>18866.242284</td>\n",
       "      <td>2021-09-30 00:54:00</td>\n",
       "    </tr>\n",
       "    <tr>\n",
       "      <th>1644292800000</th>\n",
       "      <td>83.83</td>\n",
       "      <td>95.02</td>\n",
       "      <td>83.83</td>\n",
       "      <td>91.35</td>\n",
       "      <td>271426.870</td>\n",
       "      <td>0.089835</td>\n",
       "      <td>0.086027</td>\n",
       "      <td>23774.279543</td>\n",
       "      <td>2022-02-08 13:00:00</td>\n",
       "    </tr>\n",
       "    <tr>\n",
       "      <th>1630431600000</th>\n",
       "      <td>40.53</td>\n",
       "      <td>40.54</td>\n",
       "      <td>38.17</td>\n",
       "      <td>38.79</td>\n",
       "      <td>251920.776</td>\n",
       "      <td>-0.044817</td>\n",
       "      <td>-0.045852</td>\n",
       "      <td>9991.177976</td>\n",
       "      <td>2021-09-01 02:40:00</td>\n",
       "    </tr>\n",
       "    <tr>\n",
       "      <th>1631542740000</th>\n",
       "      <td>50.56</td>\n",
       "      <td>50.65</td>\n",
       "      <td>47.66</td>\n",
       "      <td>48.37</td>\n",
       "      <td>226538.680</td>\n",
       "      <td>-0.042368</td>\n",
       "      <td>-0.043292</td>\n",
       "      <td>11205.735806</td>\n",
       "      <td>2021-09-13 23:19:00</td>\n",
       "    </tr>\n",
       "    <tr>\n",
       "      <th>1630929840000</th>\n",
       "      <td>46.02</td>\n",
       "      <td>46.38</td>\n",
       "      <td>42.45</td>\n",
       "      <td>43.84</td>\n",
       "      <td>218346.400</td>\n",
       "      <td>-0.047371</td>\n",
       "      <td>-0.048529</td>\n",
       "      <td>9810.303752</td>\n",
       "      <td>2021-09-06 21:04:00</td>\n",
       "    </tr>\n",
       "    <tr>\n",
       "      <th>1631436720000</th>\n",
       "      <td>61.05</td>\n",
       "      <td>61.08</td>\n",
       "      <td>59.42</td>\n",
       "      <td>60.82</td>\n",
       "      <td>178094.430</td>\n",
       "      <td>-0.002787</td>\n",
       "      <td>-0.002791</td>\n",
       "      <td>10852.184092</td>\n",
       "      <td>2021-09-12 17:52:00</td>\n",
       "    </tr>\n",
       "    <tr>\n",
       "      <th>1632930900000</th>\n",
       "      <td>68.02</td>\n",
       "      <td>69.00</td>\n",
       "      <td>65.83</td>\n",
       "      <td>66.69</td>\n",
       "      <td>175768.830</td>\n",
       "      <td>-0.019409</td>\n",
       "      <td>-0.019600</td>\n",
       "      <td>11838.909545</td>\n",
       "      <td>2021-09-30 00:55:00</td>\n",
       "    </tr>\n",
       "    <tr>\n",
       "      <th>1644292860000</th>\n",
       "      <td>91.34</td>\n",
       "      <td>95.50</td>\n",
       "      <td>88.38</td>\n",
       "      <td>90.35</td>\n",
       "      <td>165726.610</td>\n",
       "      <td>-0.010947</td>\n",
       "      <td>-0.011007</td>\n",
       "      <td>15055.433885</td>\n",
       "      <td>2022-02-08 13:01:00</td>\n",
       "    </tr>\n",
       "    <tr>\n",
       "      <th>1631801220000</th>\n",
       "      <td>63.65</td>\n",
       "      <td>64.48</td>\n",
       "      <td>63.50</td>\n",
       "      <td>64.00</td>\n",
       "      <td>164308.290</td>\n",
       "      <td>0.005499</td>\n",
       "      <td>0.005484</td>\n",
       "      <td>10486.976609</td>\n",
       "      <td>2021-09-16 23:07:00</td>\n",
       "    </tr>\n",
       "    <tr>\n",
       "      <th>1631478840000</th>\n",
       "      <td>60.08</td>\n",
       "      <td>60.13</td>\n",
       "      <td>56.82</td>\n",
       "      <td>58.53</td>\n",
       "      <td>161064.010</td>\n",
       "      <td>-0.026285</td>\n",
       "      <td>-0.026637</td>\n",
       "      <td>9551.901113</td>\n",
       "      <td>2021-09-13 05:34:00</td>\n",
       "    </tr>\n",
       "  </tbody>\n",
       "</table>\n",
       "</div>"
      ],
      "text/plain": [
       "                open   high    low  close      volume  pct_change   log_ret  \\\n",
       "timestamp                                                                     \n",
       "1632930840000  62.36  68.28  62.35  68.01  289426.130    0.090603  0.086731   \n",
       "1644292800000  83.83  95.02  83.83  91.35  271426.870    0.089835  0.086027   \n",
       "1630431600000  40.53  40.54  38.17  38.79  251920.776   -0.044817 -0.045852   \n",
       "1631542740000  50.56  50.65  47.66  48.37  226538.680   -0.042368 -0.043292   \n",
       "1630929840000  46.02  46.38  42.45  43.84  218346.400   -0.047371 -0.048529   \n",
       "1631436720000  61.05  61.08  59.42  60.82  178094.430   -0.002787 -0.002791   \n",
       "1632930900000  68.02  69.00  65.83  66.69  175768.830   -0.019409 -0.019600   \n",
       "1644292860000  91.34  95.50  88.38  90.35  165726.610   -0.010947 -0.011007   \n",
       "1631801220000  63.65  64.48  63.50  64.00  164308.290    0.005499  0.005484   \n",
       "1631478840000  60.08  60.13  56.82  58.53  161064.010   -0.026285 -0.026637   \n",
       "\n",
       "                 vol_usdt_K            datetime  \n",
       "timestamp                                        \n",
       "1632930840000  18866.242284 2021-09-30 00:54:00  \n",
       "1644292800000  23774.279543 2022-02-08 13:00:00  \n",
       "1630431600000   9991.177976 2021-09-01 02:40:00  \n",
       "1631542740000  11205.735806 2021-09-13 23:19:00  \n",
       "1630929840000   9810.303752 2021-09-06 21:04:00  \n",
       "1631436720000  10852.184092 2021-09-12 17:52:00  \n",
       "1632930900000  11838.909545 2021-09-30 00:55:00  \n",
       "1644292860000  15055.433885 2022-02-08 13:01:00  \n",
       "1631801220000  10486.976609 2021-09-16 23:07:00  \n",
       "1631478840000   9551.901113 2021-09-13 05:34:00  "
      ]
     },
     "execution_count": 150,
     "metadata": {},
     "output_type": "execute_result"
    }
   ],
   "source": [
    "ohlcv[(ohlcv.index > 1627810236000) & (ohlcv['volume'] > 100000)].sort_values(by = ['volume'], ascending  = False)[:10]"
   ]
  },
  {
   "cell_type": "code",
   "execution_count": 118,
   "metadata": {},
   "outputs": [],
   "source": [
    "def convert_ts(ts):\n",
    "    ts = ts/1000\n",
    "    dt = datetime.fromtimestamp(ts)\n",
    "    return(dt)"
   ]
  },
  {
   "cell_type": "code",
   "execution_count": 119,
   "metadata": {},
   "outputs": [
    {
     "name": "stdout",
     "output_type": "stream",
     "text": [
      "We have roughly 1.4250342465753425 years of data\n"
     ]
    }
   ],
   "source": [
    "x = len(ohlcv)/(60*24)\n",
    "print('We have roughly {} years of data'.format(x/365))"
   ]
  },
  {
   "cell_type": "code",
   "execution_count": 120,
   "metadata": {},
   "outputs": [
    {
     "name": "stdout",
     "output_type": "stream",
     "text": [
      "<class 'pandas.core.frame.DataFrame'>\n",
      "Int64Index: 748998 entries, 1600756260000 to 1645671420000\n",
      "Data columns (total 7 columns):\n",
      " #   Column      Non-Null Count   Dtype  \n",
      "---  ------      --------------   -----  \n",
      " 0   open        748998 non-null  float64\n",
      " 1   high        748998 non-null  float64\n",
      " 2   low         748998 non-null  float64\n",
      " 3   close       748998 non-null  float64\n",
      " 4   volume      748998 non-null  float64\n",
      " 5   pct_change  748998 non-null  float64\n",
      " 6   log_ret     748998 non-null  float64\n",
      "dtypes: float64(7)\n",
      "memory usage: 45.7 MB\n"
     ]
    }
   ],
   "source": [
    "ohlcv.info()"
   ]
  },
  {
   "cell_type": "code",
   "execution_count": 147,
   "metadata": {},
   "outputs": [
    {
     "data": {
      "text/html": [
       "<div>\n",
       "<style scoped>\n",
       "    .dataframe tbody tr th:only-of-type {\n",
       "        vertical-align: middle;\n",
       "    }\n",
       "\n",
       "    .dataframe tbody tr th {\n",
       "        vertical-align: top;\n",
       "    }\n",
       "\n",
       "    .dataframe thead th {\n",
       "        text-align: right;\n",
       "    }\n",
       "</style>\n",
       "<table border=\"1\" class=\"dataframe\">\n",
       "  <thead>\n",
       "    <tr style=\"text-align: right;\">\n",
       "      <th></th>\n",
       "      <th>open</th>\n",
       "      <th>high</th>\n",
       "      <th>low</th>\n",
       "      <th>close</th>\n",
       "      <th>volume</th>\n",
       "      <th>pct_change</th>\n",
       "      <th>log_ret</th>\n",
       "      <th>vol_usdt_K</th>\n",
       "    </tr>\n",
       "    <tr>\n",
       "      <th>timestamp</th>\n",
       "      <th></th>\n",
       "      <th></th>\n",
       "      <th></th>\n",
       "      <th></th>\n",
       "      <th></th>\n",
       "      <th></th>\n",
       "      <th></th>\n",
       "      <th></th>\n",
       "    </tr>\n",
       "  </thead>\n",
       "  <tbody>\n",
       "    <tr>\n",
       "      <th>1600756260000</th>\n",
       "      <td>3.6018</td>\n",
       "      <td>4.4804</td>\n",
       "      <td>3.5897</td>\n",
       "      <td>4.2775</td>\n",
       "      <td>295523.27</td>\n",
       "      <td>0.096823</td>\n",
       "      <td>0.092418</td>\n",
       "      <td>1164.258251</td>\n",
       "    </tr>\n",
       "    <tr>\n",
       "      <th>1600756320000</th>\n",
       "      <td>4.2500</td>\n",
       "      <td>4.4351</td>\n",
       "      <td>4.0611</td>\n",
       "      <td>4.1021</td>\n",
       "      <td>137106.97</td>\n",
       "      <td>-0.041005</td>\n",
       "      <td>-0.041870</td>\n",
       "      <td>572.565562</td>\n",
       "    </tr>\n",
       "    <tr>\n",
       "      <th>1600756380000</th>\n",
       "      <td>4.1027</td>\n",
       "      <td>4.2000</td>\n",
       "      <td>4.0061</td>\n",
       "      <td>4.1699</td>\n",
       "      <td>117775.14</td>\n",
       "      <td>0.016528</td>\n",
       "      <td>0.016393</td>\n",
       "      <td>487.153312</td>\n",
       "    </tr>\n",
       "    <tr>\n",
       "      <th>1600756440000</th>\n",
       "      <td>4.1699</td>\n",
       "      <td>4.1990</td>\n",
       "      <td>4.1076</td>\n",
       "      <td>4.1800</td>\n",
       "      <td>72788.25</td>\n",
       "      <td>0.002422</td>\n",
       "      <td>0.002419</td>\n",
       "      <td>303.887304</td>\n",
       "    </tr>\n",
       "    <tr>\n",
       "      <th>1600756500000</th>\n",
       "      <td>4.1704</td>\n",
       "      <td>4.3879</td>\n",
       "      <td>4.0487</td>\n",
       "      <td>4.3350</td>\n",
       "      <td>115621.12</td>\n",
       "      <td>0.037081</td>\n",
       "      <td>0.036410</td>\n",
       "      <td>491.701937</td>\n",
       "    </tr>\n",
       "  </tbody>\n",
       "</table>\n",
       "</div>"
      ],
      "text/plain": [
       "                 open    high     low   close     volume  pct_change  \\\n",
       "timestamp                                                              \n",
       "1600756260000  3.6018  4.4804  3.5897  4.2775  295523.27    0.096823   \n",
       "1600756320000  4.2500  4.4351  4.0611  4.1021  137106.97   -0.041005   \n",
       "1600756380000  4.1027  4.2000  4.0061  4.1699  117775.14    0.016528   \n",
       "1600756440000  4.1699  4.1990  4.1076  4.1800   72788.25    0.002422   \n",
       "1600756500000  4.1704  4.3879  4.0487  4.3350  115621.12    0.037081   \n",
       "\n",
       "                log_ret   vol_usdt_K  \n",
       "timestamp                             \n",
       "1600756260000  0.092418  1164.258251  \n",
       "1600756320000 -0.041870   572.565562  \n",
       "1600756380000  0.016393   487.153312  \n",
       "1600756440000  0.002419   303.887304  \n",
       "1600756500000  0.036410   491.701937  "
      ]
     },
     "execution_count": 147,
     "metadata": {},
     "output_type": "execute_result"
    }
   ],
   "source": [
    "ohlcv.head()"
   ]
  },
  {
   "cell_type": "code",
   "execution_count": 122,
   "metadata": {},
   "outputs": [
    {
     "data": {
      "text/html": [
       "<div>\n",
       "<style scoped>\n",
       "    .dataframe tbody tr th:only-of-type {\n",
       "        vertical-align: middle;\n",
       "    }\n",
       "\n",
       "    .dataframe tbody tr th {\n",
       "        vertical-align: top;\n",
       "    }\n",
       "\n",
       "    .dataframe thead th {\n",
       "        text-align: right;\n",
       "    }\n",
       "</style>\n",
       "<table border=\"1\" class=\"dataframe\">\n",
       "  <thead>\n",
       "    <tr style=\"text-align: right;\">\n",
       "      <th></th>\n",
       "      <th>open</th>\n",
       "      <th>high</th>\n",
       "      <th>low</th>\n",
       "      <th>close</th>\n",
       "      <th>volume</th>\n",
       "      <th>pct_change</th>\n",
       "      <th>log_ret</th>\n",
       "    </tr>\n",
       "    <tr>\n",
       "      <th>timestamp</th>\n",
       "      <th></th>\n",
       "      <th></th>\n",
       "      <th></th>\n",
       "      <th></th>\n",
       "      <th></th>\n",
       "      <th></th>\n",
       "      <th></th>\n",
       "    </tr>\n",
       "  </thead>\n",
       "  <tbody>\n",
       "    <tr>\n",
       "      <th>1645671180000</th>\n",
       "      <td>73.58</td>\n",
       "      <td>73.58</td>\n",
       "      <td>73.23</td>\n",
       "      <td>73.25</td>\n",
       "      <td>3375.96</td>\n",
       "      <td>-0.004350</td>\n",
       "      <td>-0.004359</td>\n",
       "    </tr>\n",
       "    <tr>\n",
       "      <th>1645671240000</th>\n",
       "      <td>73.27</td>\n",
       "      <td>73.46</td>\n",
       "      <td>73.25</td>\n",
       "      <td>73.32</td>\n",
       "      <td>2462.53</td>\n",
       "      <td>0.000956</td>\n",
       "      <td>0.000955</td>\n",
       "    </tr>\n",
       "    <tr>\n",
       "      <th>1645671300000</th>\n",
       "      <td>73.32</td>\n",
       "      <td>73.51</td>\n",
       "      <td>72.99</td>\n",
       "      <td>73.05</td>\n",
       "      <td>9885.66</td>\n",
       "      <td>-0.003682</td>\n",
       "      <td>-0.003689</td>\n",
       "    </tr>\n",
       "    <tr>\n",
       "      <th>1645671360000</th>\n",
       "      <td>73.07</td>\n",
       "      <td>73.15</td>\n",
       "      <td>72.21</td>\n",
       "      <td>72.23</td>\n",
       "      <td>30540.95</td>\n",
       "      <td>-0.011225</td>\n",
       "      <td>-0.011289</td>\n",
       "    </tr>\n",
       "    <tr>\n",
       "      <th>1645671420000</th>\n",
       "      <td>72.24</td>\n",
       "      <td>72.36</td>\n",
       "      <td>71.92</td>\n",
       "      <td>72.03</td>\n",
       "      <td>15874.74</td>\n",
       "      <td>-0.002769</td>\n",
       "      <td>-0.002773</td>\n",
       "    </tr>\n",
       "  </tbody>\n",
       "</table>\n",
       "</div>"
      ],
      "text/plain": [
       "                open   high    low  close    volume  pct_change   log_ret\n",
       "timestamp                                                                \n",
       "1645671180000  73.58  73.58  73.23  73.25   3375.96   -0.004350 -0.004359\n",
       "1645671240000  73.27  73.46  73.25  73.32   2462.53    0.000956  0.000955\n",
       "1645671300000  73.32  73.51  72.99  73.05   9885.66   -0.003682 -0.003689\n",
       "1645671360000  73.07  73.15  72.21  72.23  30540.95   -0.011225 -0.011289\n",
       "1645671420000  72.24  72.36  71.92  72.03  15874.74   -0.002769 -0.002773"
      ]
     },
     "execution_count": 122,
     "metadata": {},
     "output_type": "execute_result"
    }
   ],
   "source": [
    "ohlcv.tail()"
   ]
  },
  {
   "cell_type": "markdown",
   "metadata": {},
   "source": [
    "Let's see how AVAX has been doing by plotting the daily closing price over time"
   ]
  },
  {
   "cell_type": "code",
   "execution_count": 125,
   "metadata": {},
   "outputs": [],
   "source": [
    "tmp = ohlcv[['datetime','close']].set_index('datetime')"
   ]
  },
  {
   "cell_type": "code",
   "execution_count": 126,
   "metadata": {
    "scrolled": false
   },
   "outputs": [
    {
     "data": {
      "text/plain": [
       "Text(0, 0.5, 'Price in USDT')"
      ]
     },
     "execution_count": 126,
     "metadata": {},
     "output_type": "execute_result"
    },
    {
     "data": {
      "image/png": "[encoded data removed]",
      "text/plain": [
       "<Figure size 864x432 with 1 Axes>"
      ]
     },
     "metadata": {
      "needs_background": "light"
     },
     "output_type": "display_data"
    }
   ],
   "source": [
    "plt.figure(figsize=(12,6))\n",
    "sns.lineplot(data=tmp.close[::60*24])\n",
    "plt.title('Daily closing prices of the AVAX in USDT')\n",
    "plt.ylabel('Price in USDT')"
   ]
  },
  {
   "cell_type": "markdown",
   "metadata": {},
   "source": [
    "# Analyzing log returns\n",
    "\n",
    "I computed the log returns based on the closing price of each minute. I'm not too sure how much sense it makes to simultaneousy look at log returns based on opening prices, highs, or lows. Instead I would probably this additional data to compute additional indicators like ATR.\n",
    "\n",
    "## The disribution\n",
    "\n",
    "Now let's look at a few characteristics of the log returns:"
   ]
  },
  {
   "cell_type": "code",
   "execution_count": 127,
   "metadata": {},
   "outputs": [
    {
     "data": {
      "text/plain": [
       "count    748998.000000\n",
       "mean          0.000004\n",
       "std           0.002614\n",
       "min          -0.264619\n",
       "25%          -0.001073\n",
       "50%           0.000000\n",
       "75%           0.001079\n",
       "max           0.092418\n",
       "Name: log_ret, dtype: float64"
      ]
     },
     "execution_count": 127,
     "metadata": {},
     "output_type": "execute_result"
    }
   ],
   "source": [
    "log_returns = ohlcv['log_ret']\n",
    "\n",
    "log_returns.describe()"
   ]
  },
  {
   "cell_type": "code",
   "execution_count": 130,
   "metadata": {},
   "outputs": [
    {
     "data": {
      "text/plain": [
       "skew         -1.394504\n",
       "kurtosis    182.836336\n",
       "Name: log_ret, dtype: float64"
      ]
     },
     "execution_count": 130,
     "metadata": {},
     "output_type": "execute_result"
    }
   ],
   "source": [
    "log_returns.agg(['skew', 'kurtosis'])"
   ]
  },
  {
   "cell_type": "markdown",
   "metadata": {},
   "source": [
    "So we definitely have some skewness here and quite heavy tails. The heavy tails were to be expected, as those are a common feature of financial time series. Let's look at a plot of the distribution:"
   ]
  },
  {
   "cell_type": "code",
   "execution_count": 129,
   "metadata": {},
   "outputs": [
    {
     "data": {
      "text/plain": [
       "(-0.025, 0.025)"
      ]
     },
     "execution_count": 129,
     "metadata": {},
     "output_type": "execute_result"
    },
    {
     "data": {
      "image/png": "[encoded data removed]",
      "text/plain": [
       "<Figure size 432x288 with 1 Axes>"
      ]
     },
     "metadata": {
      "needs_background": "light"
     },
     "output_type": "display_data"
    }
   ],
   "source": [
    "sns.histplot(data=log_returns)\n",
    "plt.title('Histogram of the log returns')\n",
    "plt.ylim(0,30000)\n",
    "plt.xlim(-0.025,0.025)"
   ]
  },
  {
   "cell_type": "markdown",
   "metadata": {},
   "source": [
    "This does surely have one peak in the middle. Definitely not a normal distribution.\n",
    "\n",
    "To make different coins more comparible, it might be a good idea to normalize the log returns. I'm not sure whether one should center them, because that would remove the info about the global trend, but dividing out the standard deviation should make them more comparable."
   ]
  },
  {
   "cell_type": "markdown",
   "metadata": {},
   "source": [
    "## Autocorrelations\n",
    "\n",
    "Making the standard assumption that the time series is weakly stationary, it make sense to compute autocorrelations. This would be interesting to do for different timeframes, but for now I'm just looking at minute data."
   ]
  },
  {
   "cell_type": "code",
   "execution_count": 131,
   "metadata": {},
   "outputs": [
    {
     "data": {
      "text/plain": [
       "-0.0007748586611945352"
      ]
     },
     "execution_count": 131,
     "metadata": {},
     "output_type": "execute_result"
    }
   ],
   "source": [
    "log_returns.autocorr(lag=2)"
   ]
  },
  {
   "cell_type": "code",
   "execution_count": 132,
   "metadata": {},
   "outputs": [],
   "source": [
    "autocorrs=[[i,log_returns.autocorr(lag=i)] for i in range(1,24*60)]"
   ]
  },
  {
   "cell_type": "code",
   "execution_count": 133,
   "metadata": {},
   "outputs": [
    {
     "data": {
      "text/plain": [
       "(-0.012, 0.012)"
      ]
     },
     "execution_count": 133,
     "metadata": {},
     "output_type": "execute_result"
    },
    {
     "data": {
      "image/png": "[encoded data removed]",
      "text/plain": [
       "<Figure size 864x216 with 1 Axes>"
      ]
     },
     "metadata": {
      "needs_background": "light"
     },
     "output_type": "display_data"
    }
   ],
   "source": [
    "plt.figure(figsize=(12,3))\n",
    "autocorrs_df=pd.DataFrame(autocorrs)\n",
    "sns.barplot(x=autocorrs_df.iloc[:,0], y=autocorrs_df.iloc[:,1])\n",
    "plt.title('Autocorrelations of the log returns with lag up to one day')\n",
    "plt.xlabel('Lag in minutes')\n",
    "plt.xticks(range(-1,24*60,60))\n",
    "plt.ylim(-0.012,0.012)"
   ]
  },
  {
   "cell_type": "code",
   "execution_count": null,
   "metadata": {},
   "outputs": [],
   "source": []
  },
  {
   "cell_type": "markdown",
   "metadata": {},
   "source": [
    "It's not too hard to compute a bound for these autocorrelations that tells us which of them are actually significant, given some confidence level. I'm too lazy to do that right now, but it looks like within the first two hours, the autocorrelations are pretty strong and afterwards they definitely get smaller, with the occasional outlier.\n",
    "\n",
    "Let's zoom onto the first two hours:"
   ]
  },
  {
   "cell_type": "code",
   "execution_count": 135,
   "metadata": {},
   "outputs": [
    {
     "data": {
      "text/plain": [
       "(-0.04, 0.012)"
      ]
     },
     "execution_count": 135,
     "metadata": {},
     "output_type": "execute_result"
    },
    {
     "data": {
      "image/png": "[encoded data removed]",
      "text/plain": [
       "<Figure size 864x216 with 1 Axes>"
      ]
     },
     "metadata": {
      "needs_background": "light"
     },
     "output_type": "display_data"
    }
   ],
   "source": [
    "plt.figure(figsize=(12,3))\n",
    "autocorrs_df=pd.DataFrame(autocorrs)\n",
    "sns.barplot(x=autocorrs_df.iloc[:121,0], y=autocorrs_df.iloc[:121,1])\n",
    "plt.title('Autocorrelations of the log returns with lag up to two hours')\n",
    "plt.xlabel('Lag in minutes')\n",
    "plt.xticks(range(-1,120,5))\n",
    "plt.ylim(-0.04,0.012)"
   ]
  },
  {
   "cell_type": "markdown",
   "metadata": {},
   "source": [
    "That's interesting: it wasn't visible in the previous chart how much the lag-1 autocorrelation dominates all others. But even there, it's a correlation of magnitude 0.03 which might not be statistically significant. And the fact that it's negative is very counterintuitive. One might get more meaningful data on an hourly or daily scale."
   ]
  },
  {
   "cell_type": "markdown",
   "metadata": {},
   "source": [
    "# Analyzing the trading volume\n",
    "\n",
    "## Evolution over time"
   ]
  },
  {
   "cell_type": "code",
   "execution_count": 156,
   "metadata": {},
   "outputs": [
    {
     "data": {
      "text/html": [
       "<div>\n",
       "<style scoped>\n",
       "    .dataframe tbody tr th:only-of-type {\n",
       "        vertical-align: middle;\n",
       "    }\n",
       "\n",
       "    .dataframe tbody tr th {\n",
       "        vertical-align: top;\n",
       "    }\n",
       "\n",
       "    .dataframe thead th {\n",
       "        text-align: right;\n",
       "    }\n",
       "</style>\n",
       "<table border=\"1\" class=\"dataframe\">\n",
       "  <thead>\n",
       "    <tr style=\"text-align: right;\">\n",
       "      <th></th>\n",
       "      <th>vol_usdt_K</th>\n",
       "    </tr>\n",
       "    <tr>\n",
       "      <th>datetime</th>\n",
       "      <th></th>\n",
       "    </tr>\n",
       "  </thead>\n",
       "  <tbody>\n",
       "    <tr>\n",
       "      <th>2020-09-22 15:31:00</th>\n",
       "      <td>1164.258251</td>\n",
       "    </tr>\n",
       "    <tr>\n",
       "      <th>2020-09-22 15:32:00</th>\n",
       "      <td>572.565562</td>\n",
       "    </tr>\n",
       "    <tr>\n",
       "      <th>2020-09-22 15:33:00</th>\n",
       "      <td>487.153312</td>\n",
       "    </tr>\n",
       "    <tr>\n",
       "      <th>2020-09-22 15:34:00</th>\n",
       "      <td>303.887304</td>\n",
       "    </tr>\n",
       "    <tr>\n",
       "      <th>2020-09-22 15:35:00</th>\n",
       "      <td>491.701937</td>\n",
       "    </tr>\n",
       "  </tbody>\n",
       "</table>\n",
       "</div>"
      ],
      "text/plain": [
       "                      vol_usdt_K\n",
       "datetime                        \n",
       "2020-09-22 15:31:00  1164.258251\n",
       "2020-09-22 15:32:00   572.565562\n",
       "2020-09-22 15:33:00   487.153312\n",
       "2020-09-22 15:34:00   303.887304\n",
       "2020-09-22 15:35:00   491.701937"
      ]
     },
     "execution_count": 156,
     "metadata": {},
     "output_type": "execute_result"
    }
   ],
   "source": [
    "volumes = ohlcv[['datetime','vol_usdt_K']]\n",
    "volumes = volumes.set_index('datetime')\n",
    "volumes.head()"
   ]
  },
  {
   "cell_type": "code",
   "execution_count": 159,
   "metadata": {},
   "outputs": [
    {
     "data": {
      "text/html": [
       "<div>\n",
       "<style scoped>\n",
       "    .dataframe tbody tr th:only-of-type {\n",
       "        vertical-align: middle;\n",
       "    }\n",
       "\n",
       "    .dataframe tbody tr th {\n",
       "        vertical-align: top;\n",
       "    }\n",
       "\n",
       "    .dataframe thead th {\n",
       "        text-align: right;\n",
       "    }\n",
       "</style>\n",
       "<table border=\"1\" class=\"dataframe\">\n",
       "  <thead>\n",
       "    <tr style=\"text-align: right;\">\n",
       "      <th></th>\n",
       "      <th>volume</th>\n",
       "    </tr>\n",
       "    <tr>\n",
       "      <th>datetime</th>\n",
       "      <th></th>\n",
       "    </tr>\n",
       "  </thead>\n",
       "  <tbody>\n",
       "    <tr>\n",
       "      <th>2020-09-22 15:31:00</th>\n",
       "      <td>295523.27</td>\n",
       "    </tr>\n",
       "    <tr>\n",
       "      <th>2020-09-22 15:32:00</th>\n",
       "      <td>137106.97</td>\n",
       "    </tr>\n",
       "    <tr>\n",
       "      <th>2020-09-22 15:33:00</th>\n",
       "      <td>117775.14</td>\n",
       "    </tr>\n",
       "    <tr>\n",
       "      <th>2020-09-22 15:34:00</th>\n",
       "      <td>72788.25</td>\n",
       "    </tr>\n",
       "    <tr>\n",
       "      <th>2020-09-22 15:35:00</th>\n",
       "      <td>115621.12</td>\n",
       "    </tr>\n",
       "  </tbody>\n",
       "</table>\n",
       "</div>"
      ],
      "text/plain": [
       "                        volume\n",
       "datetime                      \n",
       "2020-09-22 15:31:00  295523.27\n",
       "2020-09-22 15:32:00  137106.97\n",
       "2020-09-22 15:33:00  117775.14\n",
       "2020-09-22 15:34:00   72788.25\n",
       "2020-09-22 15:35:00  115621.12"
      ]
     },
     "execution_count": 159,
     "metadata": {},
     "output_type": "execute_result"
    }
   ],
   "source": [
    "volumes1 = ohlcv[['datetime','volume']]\n",
    "volumes1 = volumes1.set_index('datetime')\n",
    "volumes1.head()"
   ]
  },
  {
   "cell_type": "markdown",
   "metadata": {},
   "source": [
    "Let's see how the volume has changed over time. To smooth things out, we use a 30-day rolling median."
   ]
  },
  {
   "cell_type": "code",
   "execution_count": 154,
   "metadata": {},
   "outputs": [
    {
     "data": {
      "text/plain": [
       "Text(0, 0.5, 'Volume in USDT in 1000s')"
      ]
     },
     "execution_count": 154,
     "metadata": {},
     "output_type": "execute_result"
    },
    {
     "data": {
      "image/png": "[encoded data removed]",
      "text/plain": [
       "<Figure size 864x432 with 1 Axes>"
      ]
     },
     "metadata": {
      "needs_background": "light"
     },
     "output_type": "display_data"
    }
   ],
   "source": [
    "plt.figure(figsize=(12,6))\n",
    "sns.lineplot(data=volumes.fillna(method='bfill').rolling(43200).median().iloc[::60*24])\n",
    "plt.title('Trend of the trading volume over time')\n",
    "plt.ylabel('Volume in USDT in 1000s')"
   ]
  },
  {
   "cell_type": "code",
   "execution_count": 160,
   "metadata": {},
   "outputs": [
    {
     "data": {
      "text/plain": [
       "Text(0, 0.5, 'Volume in AVAX')"
      ]
     },
     "execution_count": 160,
     "metadata": {},
     "output_type": "execute_result"
    },
    {
     "data": {
      "image/png": "[encoded data removed]",
      "text/plain": [
       "<Figure size 864x432 with 1 Axes>"
      ]
     },
     "metadata": {
      "needs_background": "light"
     },
     "output_type": "display_data"
    }
   ],
   "source": [
    "plt.figure(figsize=(12,6))\n",
    "sns.lineplot(data=volumes1.fillna(method='bfill').rolling(43200).median().iloc[::60*24])\n",
    "plt.title('Trend of the trading volume over time')\n",
    "plt.ylabel('Volume in AVAX')"
   ]
  },
  {
   "cell_type": "markdown",
   "metadata": {},
   "source": [
    "It looks like there is a gradual increase in the trading volume, until it suddenly explodes. I think it would make sense to center the data to compensate at least for the gradual increase.\n",
    "\n",
    "## The distribution\n",
    "\n",
    "Now's get some basic characteristics of the distribution..."
   ]
  },
  {
   "cell_type": "code",
   "execution_count": 172,
   "metadata": {},
   "outputs": [
    {
     "data": {
      "text/html": [
       "<div>\n",
       "<style scoped>\n",
       "    .dataframe tbody tr th:only-of-type {\n",
       "        vertical-align: middle;\n",
       "    }\n",
       "\n",
       "    .dataframe tbody tr th {\n",
       "        vertical-align: top;\n",
       "    }\n",
       "\n",
       "    .dataframe thead th {\n",
       "        text-align: right;\n",
       "    }\n",
       "</style>\n",
       "<table border=\"1\" class=\"dataframe\">\n",
       "  <thead>\n",
       "    <tr style=\"text-align: right;\">\n",
       "      <th></th>\n",
       "      <th>vol_usdt_K</th>\n",
       "    </tr>\n",
       "    <tr>\n",
       "      <th>datetime</th>\n",
       "      <th></th>\n",
       "    </tr>\n",
       "  </thead>\n",
       "  <tbody>\n",
       "    <tr>\n",
       "      <th>2020-09-22 15:31:00</th>\n",
       "      <td>1164.258251</td>\n",
       "    </tr>\n",
       "    <tr>\n",
       "      <th>2020-09-22 15:32:00</th>\n",
       "      <td>572.565562</td>\n",
       "    </tr>\n",
       "    <tr>\n",
       "      <th>2020-09-22 15:33:00</th>\n",
       "      <td>487.153312</td>\n",
       "    </tr>\n",
       "    <tr>\n",
       "      <th>2020-09-22 15:34:00</th>\n",
       "      <td>303.887304</td>\n",
       "    </tr>\n",
       "    <tr>\n",
       "      <th>2020-09-22 15:35:00</th>\n",
       "      <td>491.701937</td>\n",
       "    </tr>\n",
       "    <tr>\n",
       "      <th>...</th>\n",
       "      <td>...</td>\n",
       "    </tr>\n",
       "    <tr>\n",
       "      <th>2022-02-24 11:53:00</th>\n",
       "      <td>247.846103</td>\n",
       "    </tr>\n",
       "    <tr>\n",
       "      <th>2022-02-24 11:54:00</th>\n",
       "      <td>180.491136</td>\n",
       "    </tr>\n",
       "    <tr>\n",
       "      <th>2022-02-24 11:55:00</th>\n",
       "      <td>723.482027</td>\n",
       "    </tr>\n",
       "    <tr>\n",
       "      <th>2022-02-24 11:56:00</th>\n",
       "      <td>2218.800018</td>\n",
       "    </tr>\n",
       "    <tr>\n",
       "      <th>2022-02-24 11:57:00</th>\n",
       "      <td>1145.124370</td>\n",
       "    </tr>\n",
       "  </tbody>\n",
       "</table>\n",
       "<p>748998 rows × 1 columns</p>\n",
       "</div>"
      ],
      "text/plain": [
       "                      vol_usdt_K\n",
       "datetime                        \n",
       "2020-09-22 15:31:00  1164.258251\n",
       "2020-09-22 15:32:00   572.565562\n",
       "2020-09-22 15:33:00   487.153312\n",
       "2020-09-22 15:34:00   303.887304\n",
       "2020-09-22 15:35:00   491.701937\n",
       "...                          ...\n",
       "2022-02-24 11:53:00   247.846103\n",
       "2022-02-24 11:54:00   180.491136\n",
       "2022-02-24 11:55:00   723.482027\n",
       "2022-02-24 11:56:00  2218.800018\n",
       "2022-02-24 11:57:00  1145.124370\n",
       "\n",
       "[748998 rows x 1 columns]"
      ]
     },
     "execution_count": 172,
     "metadata": {},
     "output_type": "execute_result"
    }
   ],
   "source": [
    "volumes"
   ]
  },
  {
   "cell_type": "markdown",
   "metadata": {},
   "source": [
    "... and plot a histogram:"
   ]
  },
  {
   "cell_type": "code",
   "execution_count": 166,
   "metadata": {},
   "outputs": [
    {
     "data": {
      "text/plain": [
       "(0.0, 250.0)"
      ]
     },
     "execution_count": 166,
     "metadata": {},
     "output_type": "execute_result"
    },
    {
     "data": {
      "image/png": "[encoded data removed]",
      "text/plain": [
       "<Figure size 864x432 with 1 Axes>"
      ]
     },
     "metadata": {
      "needs_background": "light"
     },
     "output_type": "display_data"
    }
   ],
   "source": [
    "plt.figure(figsize=(12,6))\n",
    "sns.histplot(data=volumes)\n",
    "plt.title('Histogram of trading volumes')\n",
    "plt.ylim(0,100000)\n",
    "plt.xlabel('Volume in USDT in 1000s')\n",
    "plt.xlim(0,250)"
   ]
  },
  {
   "cell_type": "markdown",
   "metadata": {},
   "source": [
    "We can't really see how often the volume is zero:"
   ]
  },
  {
   "cell_type": "code",
   "execution_count": 170,
   "metadata": {},
   "outputs": [
    {
     "data": {
      "text/plain": [
       "vol_usdt_K    0.051183\n",
       "dtype: float64"
      ]
     },
     "execution_count": 170,
     "metadata": {},
     "output_type": "execute_result"
    }
   ],
   "source": [
    "(volumes==0).mean()"
   ]
  },
  {
   "cell_type": "markdown",
   "metadata": {},
   "source": [
    "So approximately 5% of the time."
   ]
  },
  {
   "cell_type": "markdown",
   "metadata": {},
   "source": [
    "The big problem one has in normalizing this is that volumes always are non-negative. Let's first apply a logarithm. Of course, some care needs to be taken because of the minutes with zero volume."
   ]
  },
  {
   "cell_type": "code",
   "execution_count": 171,
   "metadata": {},
   "outputs": [
    {
     "ename": "AttributeError",
     "evalue": "'DataFrame' object has no attribute 'map'",
     "output_type": "error",
     "traceback": [
      "\u001b[0;31m---------------------------------------------------------------------------\u001b[0m",
      "\u001b[0;31mAttributeError\u001b[0m                            Traceback (most recent call last)",
      "\u001b[0;32m<ipython-input-171-d468db93be46>\u001b[0m in \u001b[0;36m<module>\u001b[0;34m\u001b[0m\n\u001b[1;32m      1\u001b[0m \u001b[0;32mfrom\u001b[0m \u001b[0mmath\u001b[0m \u001b[0;32mimport\u001b[0m \u001b[0mlog\u001b[0m\u001b[0;34m\u001b[0m\u001b[0;34m\u001b[0m\u001b[0m\n\u001b[0;32m----> 2\u001b[0;31m \u001b[0mlog_volume\u001b[0m\u001b[0;34m=\u001b[0m\u001b[0mvolumes\u001b[0m\u001b[0;34m.\u001b[0m\u001b[0mmap\u001b[0m\u001b[0;34m(\u001b[0m\u001b[0;32mlambda\u001b[0m \u001b[0mx\u001b[0m\u001b[0;34m:\u001b[0m\u001b[0mlog\u001b[0m\u001b[0;34m(\u001b[0m\u001b[0mx\u001b[0m\u001b[0;34m+\u001b[0m\u001b[0;36m0.0000001\u001b[0m\u001b[0;34m)\u001b[0m\u001b[0;34m)\u001b[0m\u001b[0;34m\u001b[0m\u001b[0;34m\u001b[0m\u001b[0m\n\u001b[0m\u001b[1;32m      3\u001b[0m \u001b[0mlog_volume\u001b[0m\u001b[0;34m.\u001b[0m\u001b[0mdescribe\u001b[0m\u001b[0;34m(\u001b[0m\u001b[0;34m)\u001b[0m\u001b[0;34m\u001b[0m\u001b[0;34m\u001b[0m\u001b[0m\n",
      "\u001b[0;32m~/anaconda3/lib/python3.8/site-packages/pandas/core/generic.py\u001b[0m in \u001b[0;36m__getattr__\u001b[0;34m(self, name)\u001b[0m\n\u001b[1;32m   5463\u001b[0m             \u001b[0;32mif\u001b[0m \u001b[0mself\u001b[0m\u001b[0;34m.\u001b[0m\u001b[0m_info_axis\u001b[0m\u001b[0;34m.\u001b[0m\u001b[0m_can_hold_identifiers_and_holds_name\u001b[0m\u001b[0;34m(\u001b[0m\u001b[0mname\u001b[0m\u001b[0;34m)\u001b[0m\u001b[0;34m:\u001b[0m\u001b[0;34m\u001b[0m\u001b[0;34m\u001b[0m\u001b[0m\n\u001b[1;32m   5464\u001b[0m                 \u001b[0;32mreturn\u001b[0m \u001b[0mself\u001b[0m\u001b[0;34m[\u001b[0m\u001b[0mname\u001b[0m\u001b[0;34m]\u001b[0m\u001b[0;34m\u001b[0m\u001b[0;34m\u001b[0m\u001b[0m\n\u001b[0;32m-> 5465\u001b[0;31m             \u001b[0;32mreturn\u001b[0m \u001b[0mobject\u001b[0m\u001b[0;34m.\u001b[0m\u001b[0m__getattribute__\u001b[0m\u001b[0;34m(\u001b[0m\u001b[0mself\u001b[0m\u001b[0;34m,\u001b[0m \u001b[0mname\u001b[0m\u001b[0;34m)\u001b[0m\u001b[0;34m\u001b[0m\u001b[0;34m\u001b[0m\u001b[0m\n\u001b[0m\u001b[1;32m   5466\u001b[0m \u001b[0;34m\u001b[0m\u001b[0m\n\u001b[1;32m   5467\u001b[0m     \u001b[0;32mdef\u001b[0m \u001b[0m__setattr__\u001b[0m\u001b[0;34m(\u001b[0m\u001b[0mself\u001b[0m\u001b[0;34m,\u001b[0m \u001b[0mname\u001b[0m\u001b[0;34m:\u001b[0m \u001b[0mstr\u001b[0m\u001b[0;34m,\u001b[0m \u001b[0mvalue\u001b[0m\u001b[0;34m)\u001b[0m \u001b[0;34m->\u001b[0m \u001b[0;32mNone\u001b[0m\u001b[0;34m:\u001b[0m\u001b[0;34m\u001b[0m\u001b[0;34m\u001b[0m\u001b[0m\n",
      "\u001b[0;31mAttributeError\u001b[0m: 'DataFrame' object has no attribute 'map'"
     ]
    }
   ],
   "source": [
    "from math import log\n",
    "log_volume=volumes.map(lambda x:log(x+0.0000001))\n",
    "log_volume.describe()"
   ]
  },
  {
   "cell_type": "code",
   "execution_count": 97,
   "metadata": {},
   "outputs": [
    {
     "data": {
      "text/plain": [
       "skew        -5.827021\n",
       "kurtosis    66.117440\n",
       "Name: V, dtype: float64"
      ]
     },
     "execution_count": 97,
     "metadata": {},
     "output_type": "execute_result"
    }
   ],
   "source": [
    "log_volume.agg(['skew','kurtosis'])"
   ]
  },
  {
   "cell_type": "code",
   "execution_count": 123,
   "metadata": {},
   "outputs": [
    {
     "data": {
      "text/plain": [
       "(-1.0, 20.0)"
      ]
     },
     "execution_count": 123,
     "metadata": {},
     "output_type": "execute_result"
    },
    {
     "data": {
      "text/plain": [
       "<Figure size 864x432 with 0 Axes>"
      ]
     },
     "metadata": {},
     "output_type": "display_data"
    },
    {
     "data": {
      "image/png": "[encoded data removed]",
      "text/plain": [
       "<Figure size 360x360 with 1 Axes>"
      ]
     },
     "metadata": {
      "needs_background": "light"
     },
     "output_type": "display_data"
    }
   ],
   "source": [
    "plt.figure(figsize=(12,6))\n",
    "sns.displot(log_volume, fill=True)\n",
    "plt.xlabel('log volume')\n",
    "plt.title('Histogram of the log volume')\n",
    "plt.xlim(-1,20)"
   ]
  },
  {
   "cell_type": "markdown",
   "metadata": {},
   "source": [
    "So the distribution is not normal, but rather pleasant. It has a moderate skewness, and slightly heavy tails. What the histogram does not show are the outliers that come from taking volumes that were zero. It is easier to see those on a kde-plot:"
   ]
  },
  {
   "cell_type": "code",
   "execution_count": 126,
   "metadata": {},
   "outputs": [
    {
     "data": {
      "text/plain": [
       "Text(0.5, 1.0, 'A kernel density estimate for the log volume')"
      ]
     },
     "execution_count": 126,
     "metadata": {},
     "output_type": "execute_result"
    },
    {
     "data": {
      "image/png": "[encoded data removed]",
      "text/plain": [
       "<Figure size 864x432 with 1 Axes>"
      ]
     },
     "metadata": {
      "needs_background": "light"
     },
     "output_type": "display_data"
    }
   ],
   "source": [
    "plt.figure(figsize=(12,6))\n",
    "sns.kdeplot(data=log_volume, fill=True)\n",
    "plt.title('A kernel density estimate for the log volume')"
   ]
  },
  {
   "cell_type": "markdown",
   "metadata": {},
   "source": [
    "I'm not exactly sure how to best handle those outliers...\n",
    "\n",
    "The next step is to normalize the log volume in a way that kills any organic/gradual increase in volume."
   ]
  },
  {
   "cell_type": "code",
   "execution_count": 111,
   "metadata": {},
   "outputs": [],
   "source": [
    "log_volume.fillna(method='bfill',inplace=True)\n",
    "rolling_25=log_volume.rolling(43200).quantile(0.25).fillna(method='bfill')\n",
    "rolling_50=log_volume.rolling(43200).median().fillna(method='bfill')\n",
    "rolling_75=log_volume.rolling(43200).quantile(0.75).fillna(method='bfill')\n",
    "log_volume_normal=(log_volume-rolling_50)/(rolling_75-rolling_25)\n",
    "log_volume_normal_shift=(log_volume-rolling_50.shift(43200))/(rolling_75.shift(43200)-rolling_25.shift(43200))\n",
    "log_volumes=pd.DataFrame({\n",
    "                        'log_volume': log_volume,\n",
    "                        'log_volume_normal': log_volume_normal,\n",
    "                        'log_volume_normal_shift': log_volume_normal_shift\n",
    "                         })\n"
   ]
  },
  {
   "cell_type": "code",
   "execution_count": 120,
   "metadata": {},
   "outputs": [
    {
     "data": {
      "text/plain": [
       "Text(0.5, 1.0, 'Comparison of normalized and unnormalized log volume')"
      ]
     },
     "execution_count": 120,
     "metadata": {},
     "output_type": "execute_result"
    },
    {
     "data": {
      "image/png": "[encoded data removed]",
      "text/plain": [
       "<Figure size 864x432 with 1 Axes>"
      ]
     },
     "metadata": {
      "needs_background": "light"
     },
     "output_type": "display_data"
    }
   ],
   "source": [
    "plt.figure(figsize=(12,6))\n",
    "sns.lineplot(data=log_volumes.fillna(method='bfill').rolling(43200).median().iloc[::60*24])\n",
    "plt.title('Comparison of normalized and unnormalized log volume')"
   ]
  },
  {
   "cell_type": "markdown",
   "metadata": {},
   "source": [
    "The normalization that uses shifted rolling quantiles might be preferrable: they kill the organic volume growth and yet see the local bumps in the volume.\n",
    "\n",
    "Now let's look at the distribution of the normalized log volume:"
   ]
  },
  {
   "cell_type": "code",
   "execution_count": 121,
   "metadata": {},
   "outputs": [
    {
     "data": {
      "text/plain": [
       "count    1.412705e+06\n",
       "mean     4.902027e-02\n",
       "std      1.208108e+00\n",
       "min     -2.380327e+01\n",
       "25%     -4.822220e-01\n",
       "50%      1.243002e-01\n",
       "75%      6.694519e-01\n",
       "max      4.915876e+00\n",
       "Name: V, dtype: float64"
      ]
     },
     "execution_count": 121,
     "metadata": {},
     "output_type": "execute_result"
    }
   ],
   "source": [
    "log_volume_normal_shift.describe()"
   ]
  },
  {
   "cell_type": "code",
   "execution_count": 124,
   "metadata": {},
   "outputs": [
    {
     "data": {
      "text/plain": [
       "skew        -6.075741\n",
       "kurtosis    88.139128\n",
       "Name: V, dtype: float64"
      ]
     },
     "execution_count": 124,
     "metadata": {},
     "output_type": "execute_result"
    }
   ],
   "source": [
    "log_volume_normal_shift.agg(['skew','kurtosis'])"
   ]
  },
  {
   "cell_type": "code",
   "execution_count": 130,
   "metadata": {},
   "outputs": [
    {
     "data": {
      "text/plain": [
       "(-5.0, 5.0)"
      ]
     },
     "execution_count": 130,
     "metadata": {},
     "output_type": "execute_result"
    },
    {
     "data": {
      "text/plain": [
       "<Figure size 864x432 with 0 Axes>"
      ]
     },
     "metadata": {},
     "output_type": "display_data"
    },
    {
     "data": {
      "image/png": "[encoded data removed]",
      "text/plain": [
       "<Figure size 360x360 with 1 Axes>"
      ]
     },
     "metadata": {
      "needs_background": "light"
     },
     "output_type": "display_data"
    }
   ],
   "source": [
    "plt.figure(figsize=(12,6))\n",
    "sns.displot(log_volume_normal_shift, fill=True)\n",
    "plt.xlabel('log volume')\n",
    "plt.title('Histogram of the normalized log volume')\n",
    "plt.xlim(-5,5)"
   ]
  },
  {
   "cell_type": "code",
   "execution_count": 127,
   "metadata": {
    "scrolled": false
   },
   "outputs": [
    {
     "data": {
      "text/plain": [
       "Text(0.5, 1.0, 'A kernel density estimate for the normalized log volume')"
      ]
     },
     "execution_count": 127,
     "metadata": {},
     "output_type": "execute_result"
    },
    {
     "data": {
      "image/png": "[encoded data removed]",
      "text/plain": [
       "<Figure size 864x432 with 1 Axes>"
      ]
     },
     "metadata": {
      "needs_background": "light"
     },
     "output_type": "display_data"
    }
   ],
   "source": [
    "plt.figure(figsize=(12,6))\n",
    "sns.kdeplot(data=log_volume_normal_shift, fill=True)\n",
    "plt.title('A kernel density estimate for the normalized log volume')"
   ]
  },
  {
   "cell_type": "markdown",
   "metadata": {},
   "source": [
    "# The joint distribution\n",
    "\n",
    "To get an impression of the depency between log return and normalized log volume, let's plot a joint density estimate. Since this is slow, only data for one month is used, but not the most recent month because of the recent XRP pum."
   ]
  },
  {
   "cell_type": "code",
   "execution_count": 143,
   "metadata": {},
   "outputs": [
    {
     "data": {
      "text/plain": [
       "<seaborn.axisgrid.JointGrid at 0x1f17351d940>"
      ]
     },
     "execution_count": 143,
     "metadata": {},
     "output_type": "execute_result"
    },
    {
     "data": {
      "image/png": "[encoded data removed]",
      "text/plain": [
       "<Figure size 432x432 with 3 Axes>"
      ]
     },
     "metadata": {
      "needs_background": "light"
     },
     "output_type": "display_data"
    }
   ],
   "source": [
    "log_volume_normal_shift.name='normalized_log_volume'\n",
    "sns.jointplot(x=log_returns.iloc[-3*43200:-2*43200],\n",
    "              y= log_volume_normal_shift.iloc[-3*43200:-2*43200],\n",
    "              kind='kde',\n",
    "              xlim=(-0.02,0.02), ylim=(-5,5))"
   ]
  },
  {
   "cell_type": "markdown",
   "metadata": {},
   "source": [
    "The symmetry around the y-axis tells us that volume is a poor indicator of return. However, we do see that larger volumes lead to a wider range of possible returns. Therefore, the normalized log volume might be an indicator for volatility on the market. "
   ]
  }
 ],
 "metadata": {
  "kernelspec": {
   "display_name": "Python 3",
   "language": "python",
   "name": "python3"
  },
  "language_info": {
   "codemirror_mode": {
    "name": "ipython",
    "version": 3
   },
   "file_extension": ".py",
   "mimetype": "text/x-python",
   "name": "python",
   "nbconvert_exporter": "python",
   "pygments_lexer": "ipython3",
   "version": "3.8.8"
  }
 },
 "nbformat": 4,
 "nbformat_minor": 4
}
