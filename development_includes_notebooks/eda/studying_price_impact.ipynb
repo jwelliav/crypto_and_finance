{
 "cells": [
  {
   "cell_type": "code",
   "execution_count": 16,
   "metadata": {},
   "outputs": [],
   "source": [
    "import pandas as pd\n",
    "import numpy as np \n",
    "import os\n",
    "import sys\n",
    "import matplotlib.pyplot as plt\n",
    "import datetime\n",
    "from tqdm.notebook import tqdm\n",
    "import plotly.express as px\n",
    "import plotly.graph_objects as go\n",
    "import statistics \n",
    "from statistics import mode \n",
    "import math"
   ]
  },
  {
   "cell_type": "markdown",
   "metadata": {},
   "source": [
    "Goal : Given an asset A and time intervals - t1 and t2, we study the following effect. \n",
    "\n",
    "Suppose the returns of asset A resampled over t1 is above a certain threshold which we call the pump threshold. We then ask what effect a spike in returns over the pump threshold might have over the interval - t2 starting from the end of interval t1. \n",
    "\n",
    "For example, the price of BTC goes up by over 10% in 4 minutes. We might want to know if this carries over for the next minute. A lot of people look at candlestick charts on the exchanges which are which usually run over intervals of size 1m,3m,5m,15m,30m,1H,2H,4H. Hence, could one might expect behaviour over intervals outside this set to remain in sync ?  "
   ]
  },
  {
   "cell_type": "markdown",
   "metadata": {},
   "source": [
    "### Loading df"
   ]
  },
  {
   "cell_type": "code",
   "execution_count": 17,
   "metadata": {},
   "outputs": [],
   "source": [
    "def load_df(path):\n",
    "    \"\"\"\n",
    "    input : \n",
    "           path - string which indicates where csv file is located. \n",
    "           \n",
    "    output :\n",
    "           df - convert csv to df and counts the total NaN in the dataframe. \n",
    "    \"\"\"\n",
    "    df = pd.read_csv(path)\n",
    "    df.columns = ['timestamp','open','high','low','close','volume']\n",
    "    df['date'] = pd.to_datetime(df['timestamp'], unit = 'ms')\n",
    "    df = df.set_index(pd.DatetimeIndex(df['date']))\n",
    "    df = df.drop(['date'],axis = 1)        \n",
    "    df['returns'] = df['open'].pct_change()\n",
    "    print('Total NaN : ' + \"\\n\")\n",
    "    print(df.isna().sum())\n",
    "    print('')\n",
    "    return(df)"
   ]
  },
  {
   "cell_type": "markdown",
   "metadata": {},
   "source": [
    "### Checking for missing values"
   ]
  },
  {
   "cell_type": "code",
   "execution_count": 18,
   "metadata": {},
   "outputs": [],
   "source": [
    "def check_for_missing_timestamps(df):\n",
    "    \"\"\"\n",
    "    input : df - dataframe with the OHLCV data. \n",
    "           \n",
    "    output : count - total number of holes in the data. By hole we mean an interval for which there is no data. \n",
    "             \n",
    "             missing_indices - list of indices which are the starting points for missing data. \n",
    "    \"\"\"\n",
    "    \n",
    "    m = len(df)\n",
    "    X = df['timestamp'].values\n",
    "    count = 0\n",
    "    missing_indices = []\n",
    "    \n",
    "    \n",
    "    l_temp = [X[i]-X[i-1] for i in range(1,len(X))]\n",
    "    interval_length = mode(l_temp)    # We assume that we more or less have all the data. \n",
    "    \n",
    "    \n",
    "    for i in range(1,m):\n",
    "        if X[i]-X[i-1] != interval_length:\n",
    "            count += 1\n",
    "            error = np.timedelta64(X[i]-X[i-1],'ms')\n",
    "            missing_indices.append((i,error))\n",
    "    \n",
    "    t = (np.array(missing_indices).sum())\n",
    "    t = t.astype('int')\n",
    "    t = t/60000 \n",
    "    \n",
    "    print('Number of instances for which we have intervals of missing data is {}.'.format(count))\n",
    "    print('')\n",
    "    print('Total amount of missing time in dataframe is {} minutes'.format(t))\n",
    "    \n",
    "    return(count,missing_indices)     "
   ]
  },
  {
   "cell_type": "code",
   "execution_count": 19,
   "metadata": {},
   "outputs": [],
   "source": [
    "def resample(df,interval):\n",
    "    \"\"\"\n",
    "    Input : df -- dataframe OHLCV with pandas datetime as index.\n",
    "            interval -- string eg. 1T,1H,1D,1m \n",
    "    \n",
    "    Output : df resampled. \n",
    "    \n",
    "    In the resample code, T -- minute eg 5T will resample for 5 min intervals,\n",
    "    H -- hours, D -- days, m -- months.\n",
    "    \"\"\"\n",
    "    \n",
    "    ohlc_dict = {\n",
    "        'open':'first',\n",
    "        'high':'max',\n",
    "        'low':'min',\n",
    "        'close':'last',\n",
    "        'volume':'sum'\n",
    "        }\n",
    "    \n",
    "    df = df.resample(interval).agg(ohlc_dict)\n",
    "    \n",
    "    df['returns'] = df['open'].pct_change()\n",
    "    \n",
    "    df = df.dropna(axis = 0)\n",
    "    \n",
    "    return(df)"
   ]
  },
  {
   "cell_type": "code",
   "execution_count": 20,
   "metadata": {},
   "outputs": [],
   "source": [
    "def plot_daily_price_volume(df):\n",
    "    df_1d = resample(df,'1D')\n",
    "\n",
    "    area_chart = px.area(df_1d.close, title = 'Daily price')\n",
    "    \n",
    "    area_chart.update_xaxes(title_text = 'Date')\n",
    "    area_chart.update_yaxes(title_text = 'close price', tickprefix = '$')\n",
    "    area_chart.update_layout(showlegend = False)\n",
    "    area_chart.show()\n",
    "    \n",
    "    area_chart = px.area(df_1d.volume, title = 'Daily volume')\n",
    "\n",
    "    area_chart.update_xaxes(title_text = 'Date')\n",
    "    area_chart.update_yaxes(title_text = 'volume')\n",
    "    area_chart.update_layout(showlegend = False)\n",
    "    area_chart.show()"
   ]
  },
  {
   "cell_type": "code",
   "execution_count": 21,
   "metadata": {},
   "outputs": [],
   "source": [
    "def check_for_pump_action(df,pump_thresh,a = np.inf):\n",
    "    \"\"\"\n",
    "    input - \n",
    "        df : dataframe with a column for returns data.\n",
    "        pump_thresh : pump threshold\n",
    "        \n",
    "    output -\n",
    "        singular_indices : indices where the returns data is above \n",
    "                       the threshold\n",
    "    \"\"\"\n",
    "    if a == np.inf:\n",
    "        a = np.percentile(df['returns'],pump_thresh)\n",
    "    \n",
    "    m = len(df)\n",
    "    singular_indices = []\n",
    "    for i in range(m):\n",
    "        if df['returns'][i] >= a:\n",
    "            singular_indices.append(i)\n",
    "    singular_date_indices = df.index[singular_indices]        \n",
    "    return(singular_indices,singular_date_indices)"
   ]
  },
  {
   "cell_type": "code",
   "execution_count": 109,
   "metadata": {},
   "outputs": [],
   "source": [
    "def index_mapping(df1,df2):\n",
    "    \"\"\"\n",
    "    input - \n",
    "        df1,df2 : Dataframes with indices in pd.Datetime format.\n",
    "                  Assume len(df1) is less than len(df2) i.e. df1 is finer than df2.\n",
    "    output -\n",
    "        index_mapping_before : dict which maps an index i in df2 to the first index j in df1 such that j is before i.  \n",
    "        index_mapping_after : dict which maps an index i in df2 to the first index j in df1 such that j is after i. \n",
    "    \"\"\"\n",
    "    \n",
    "    m1 = len(df1)\n",
    "    m2 = len(df2)\n",
    "    \n",
    "    i = 0\n",
    "    j = 0\n",
    "    current = df2.index[j]\n",
    "    \n",
    "    index_mapping_before = {}\n",
    "    index_mapping_after = {}\n",
    "    \n",
    "    while i < m1:\n",
    "        if df1.index[i] <= current:\n",
    "            i += 1\n",
    "        \n",
    "        else:\n",
    "            index_mapping_before[current] = df1.index[i-1]\n",
    "            index_mapping_after[current] = df1.index[i]\n",
    "            i += 1\n",
    "            j += 1\n",
    "            if j >= m2:\n",
    "                break\n",
    "            else: \n",
    "                current = df2.index[j]\n",
    "                \n",
    "    return(index_mapping_before,index_mapping_after)"
   ]
  },
  {
   "cell_type": "code",
   "execution_count": 23,
   "metadata": {},
   "outputs": [],
   "source": [
    "def get_dict_datetime_index(df):\n",
    "    \"\"\"\n",
    "    input - \n",
    "        df : Dataframes with index in pd.Datetime format.\n",
    "        \n",
    "    output -\n",
    "        d : dict which maps every datetime index to its index position in the list. \n",
    "    \"\"\"\n",
    "    \n",
    "    l = list(df.index)\n",
    "    d = {}\n",
    "    for i,a in enumerate(l):\n",
    "        d[a] = i\n",
    "    return(d)    "
   ]
  },
  {
   "cell_type": "markdown",
   "metadata": {},
   "source": [
    "The following function will be used in the following way : \n",
    "\n",
    "I) Input data :\n",
    "\n",
    "a)Start with df1 which will be the baseline dataframe where the data is probably sampled minutewise. \n",
    "\n",
    "b) The dataframe df2 has data resampled at a coarser rate eg. 5 minute intervals. \n",
    "\n",
    "c) We calculate the singular indices for df2. These indicate instances in the time series \n",
    "when there was a big jump in the returns of df2. \n",
    "\n",
    "d) The datetime values at the singular indices are called singular_date_indices. \n",
    "\n",
    "e) The follow up measure is the time interval following the singular event that you are interested. \n",
    "   For instance - Assume follow_up_measure is 2 minutes. On the 5 minute chart, there is a big positive change in        returns. We would like to know if this price momentum will carry over for the next 2 minutes i.e. if we will have \n",
    "   positive returns over the 2 minute interval. \n",
    "   \n",
    "II) Output data :\n",
    "\n",
    "a) tranches - array of arrays of length follow_up_measure (base unit will be the units of df1) - sections of data of time interval follow_up_measure following the singular event.\n",
    "\n",
    "b) singular_indices_with_holes_after - those instances where we might not have data following the pump i.e. following    the 5 minute pump, there is no data. "
   ]
  },
  {
   "cell_type": "code",
   "execution_count": 24,
   "metadata": {},
   "outputs": [],
   "source": [
    "def get_follow_up(df1,df2,singular_indices,singular_date_indices,follow_up_measure,no_deets_pls = False):\n",
    "    \"\"\"\n",
    "    See above for notes on the function. \n",
    "    \"\"\"\n",
    "    \n",
    "    index_mapping_before, index_mapping_after = index_mapping(df1,df2)\n",
    "    r = min(100,len(df2))-1\n",
    "    mode2 = mode([df2.index[i]- df2.index[i-1] for i in range(r)])\n",
    "    \n",
    "    singular_indices_with_holes_after = []\n",
    "    \n",
    "    tranches = []\n",
    "    \n",
    "    d1 = get_dict_datetime_index(df1)\n",
    "    d2 = get_dict_datetime_index(df2)\n",
    "    \n",
    "    for a in (singular_date_indices):\n",
    "        a_ind = d2[a]\n",
    "        if a_ind + 1 <= len(df2)-1:\n",
    "            if df2.index[a_ind + 1] - a != mode2:\n",
    "                singular_indices_with_holes_after.append(a)\n",
    "            else:\n",
    "                index_df = index_mapping_after[a]\n",
    "                \n",
    "                tranch = []            \n",
    "                tmp = d1[index_df]\n",
    "                i = tmp\n",
    "                \n",
    "                while df1.index[i] - index_df < follow_up_measure:\n",
    "                    tranch.append(df1.index[i])\n",
    "                    i += 1\n",
    "                #print(len(tranch))    \n",
    "                tranches.append(tranch)    \n",
    "                \n",
    "        else:\n",
    "            singular_indices_with_holes_after.append(a)\n",
    "            \n",
    "    if not no_deets_pls:\n",
    "        print('The percentage of singular indices for which the follow up data has missing information is {}'.format(len(singular_indices_with_holes_after)/len(singular_indices))) \n",
    "           \n",
    "    return(tranches,singular_indices_with_holes_after)\n"
   ]
  },
  {
   "cell_type": "code",
   "execution_count": 25,
   "metadata": {},
   "outputs": [],
   "source": [
    "def tranch_quality_check(tranches):\n",
    "    \"\"\"Check the quality of the output of the tranches we get from the function above.\"\"\"\n",
    "    \n",
    "    mode1 = mode([len(x) for x in tranches])\n",
    "    count = 0\n",
    "    for x in tranches:\n",
    "        if len(x) != mode1:\n",
    "            count += 1\n",
    "    print('The percentage of singular indices for which the follow up time interval has missing data is {}'.format(count/len(tranches)))        \n",
    "    return(count)"
   ]
  },
  {
   "cell_type": "code",
   "execution_count": 26,
   "metadata": {},
   "outputs": [],
   "source": [
    "def aggregate_df(df,d):\n",
    "    \"\"\"\n",
    "    Used to take the tranch data and then build a dataframe from all the tranches i.e. aggregate the\n",
    "    information on each tranch and then put it together in a dataframe so we can analyze it later. \n",
    "    \"\"\"\n",
    "    d['date'].append(df.index[0])\n",
    "    d['open'].append(df['open'][0])\n",
    "    d['high'].append(max(df['high']))\n",
    "    d['low'].append(min(df['low']))\n",
    "    d['close'].append(df['close'][-1])\n",
    "    d['volume'].append(sum(df['volume']))\n",
    "    d['intra_interval_returns'].append(100*(df['close'][-1] - df['open'][0])/df['open'][0])\n",
    "    return(d)"
   ]
  },
  {
   "cell_type": "code",
   "execution_count": 27,
   "metadata": {},
   "outputs": [],
   "source": [
    "def create_follow_up_df(df,tranches):\n",
    "    \"\"\"\n",
    "    Aggregates tranches to get dataframe. \n",
    "    \"\"\"\n",
    "    \n",
    "    d = {}\n",
    "    for x in ['date','open','high','low','close','volume','intra_interval_returns']:\n",
    "        d[x] = []\n",
    "        \n",
    "    for t in tranches:\n",
    "        e = df.loc[t]\n",
    "        d = aggregate_df(e,d) \n",
    "    \n",
    "    follow_up_df = pd.DataFrame(d)\n",
    "    follow_up_df = follow_up_df.set_index('date')\n",
    "    \n",
    "    return(follow_up_df)"
   ]
  },
  {
   "cell_type": "code",
   "execution_count": 28,
   "metadata": {},
   "outputs": [],
   "source": [
    "def get_probability_of_success(df,pump_threshold_value,resample_measure,follow_up_measure,no_deets_pls = False):\n",
    "    \"\"\"\n",
    "Input - df - dataframe with returns column and index of pd.Timedeltas.\n",
    "        pump_threshold_value - the pump_threshold'th percentile of returns.\n",
    "        resample_measure - pd.Timedelta or string object - this is the time measure over \n",
    "                           for which we want to study big price spikes. \n",
    "        follow_up_measure - pd.Timedelta object - this is the time measure over \n",
    "                           for which we want to study the IMPACT of the big price spike.\n",
    "                           \n",
    "Output - p - probability that the returns in the follow_up_measure is positive if\n",
    "             we had a big hike over the resample measure period. \n",
    "    \"\"\"\n",
    "    df_resampled = resample(df,resample_measure) \n",
    "    singular_indices, singular_date_indices = check_for_pump_action(df_resampled,_,pump_threshold_value)\n",
    "    p,q = index_mapping(df,df_resampled)\n",
    "         \n",
    "    tranches,singular_indices_with_holes_after = get_follow_up(df,df_resampled,singular_indices,singular_date_indices,follow_up_measure,no_deets_pls)    \n",
    "    \n",
    "    follow_up_df = create_follow_up_df(df,tranches)\n",
    "    \n",
    "    if len(follow_up_df) > 0:\n",
    "        p = len(follow_up_df[follow_up_df['intra_interval_returns'] > 0])/len(follow_up_df)\n",
    "    else:\n",
    "        p = 'NaN'\n",
    "    \n",
    "    return(p) \n",
    "\n"
   ]
  },
  {
   "cell_type": "code",
   "execution_count": 29,
   "metadata": {},
   "outputs": [
    {
     "name": "stdout",
     "output_type": "stream",
     "text": [
      "Total NaN : \n",
      "\n",
      "timestamp    0\n",
      "open         0\n",
      "high         0\n",
      "low          0\n",
      "close        0\n",
      "volume       0\n",
      "returns      1\n",
      "dtype: int64\n",
      "\n",
      "Number of instances for which we have intervals of missing data is 22.\n",
      "\n",
      "Total amount of missing time in dataframe is 5160.963466666667 minutes\n",
      "The percentage of singular indices for which the follow up data has missing information is 0.0\n"
     ]
    }
   ],
   "source": [
    "\"\"\" Example way to run the above section of the notebook.\"\"\"\n",
    "\n",
    "path = '../Binance/crypto_pumps/data/raw/Binance/BTC_USDT.csv'\n",
    "\n",
    "df_baseline = load_df(path)\n",
    "\n",
    "df_baseline = df_baseline.dropna(axis = 0)\n",
    "\n",
    "check_for_missing_timestamps(df_baseline)\n",
    "\n",
    "df_resampled = resample(df_baseline,'5T')\n",
    "\n",
    "singular_indices, singular_date_indices = check_for_pump_action(df_resampled,95)\n",
    "\n",
    "p,q = index_mapping(df_baseline,df_resampled)\n",
    "\n",
    "follow_up_measure = pd.Timedelta(3,unit = \"m\")\n",
    "\n",
    "tranches,singular_indices_with_holes_after = get_follow_up(df_baseline,df_resampled,singular_indices,singular_date_indices,follow_up_measure)"
   ]
  },
  {
   "cell_type": "code",
   "execution_count": 31,
   "metadata": {},
   "outputs": [
    {
     "name": "stdout",
     "output_type": "stream",
     "text": [
      "The percentage of singular indices for which the follow up time interval has missing data is 0.0\n"
     ]
    }
   ],
   "source": [
    "tranch_quality_check(tranches)\n",
    "\n",
    "follow_up_df = create_follow_up_df(df_baseline,tranches)"
   ]
  },
  {
   "cell_type": "code",
   "execution_count": 32,
   "metadata": {},
   "outputs": [
    {
     "data": {
      "text/plain": [
       "0.45760447808663574"
      ]
     },
     "execution_count": 32,
     "metadata": {},
     "output_type": "execute_result"
    }
   ],
   "source": [
    "# probability that strategy would be successful (this honestly makes no sense since we are \n",
    "# after the fact information. But we run it to check if the code works. See strategy section \n",
    "# below. )\n",
    "\n",
    "len(follow_up_df[follow_up_df['intra_interval_returns'] > 0])/len(follow_up_df)"
   ]
  },
  {
   "cell_type": "markdown",
   "metadata": {},
   "source": [
    "## Strategy "
   ]
  },
  {
   "cell_type": "markdown",
   "metadata": {},
   "source": [
    "We run the following simple strategy.\n",
    "\n",
    "Choose time intervals t_1,t_2 and a threshold percentile called the pump threshold.\n",
    "\n",
    "Resample the returns to measure t_1 and look at the data from the previous month. Find the resampled returns value corresponding to the pump threshold.\n",
    "\n",
    "Find the probability that you have positive returns for a period of time t_2 following an interval of size t_1 where the returns are in the top pump threshold percentile. This should measure how strong the momentum in the interval t_1 carries over to t_2. "
   ]
  },
  {
   "cell_type": "code",
   "execution_count": 41,
   "metadata": {},
   "outputs": [],
   "source": [
    "def calculate_pump_threshold_values(df,pump_threshold):\n",
    "    \"\"\"\n",
    "    input : df - baseline dataframe.  \n",
    "            pump_threshold - int 0 ---> 100 - the percentile we wish to isolate. \n",
    "    \n",
    "    output : list of pump_threshold_values for all months over which df runs. Pump threshold \n",
    "             values are the values corresponding to pump thresholds which are percentiles. \n",
    "    \"\"\"\n",
    "    g = df.groupby(pd.Grouper(freq = 'M'))\n",
    "    df_groups = [group for _,group in g] \n",
    "    l = []\n",
    "     \n",
    "    for df_temp in df_groups:\n",
    "        a = np.percentile(df_temp['returns'],pump_threshold)\n",
    "        l.append(a)\n",
    "    \n",
    "    return(l)"
   ]
  },
  {
   "cell_type": "code",
   "execution_count": 75,
   "metadata": {},
   "outputs": [],
   "source": [
    "def get_historical_probabilities_of_success(df,pump_thresh,resample_measure,follow_up_measure):\n",
    "    \"\"\"\n",
    "    Input : df - baseline dataframe\n",
    "            ptv_list - list of pump threshold values\n",
    "    Output : list of probabilities of success         \n",
    "    \"\"\"\n",
    "    g = df.groupby(pd.Grouper(freq = 'M'))\n",
    "    df_groups = [group for _,group in g] \n",
    "    \n",
    "    df_resampled = resample(df,resample_measure)\n",
    "    ptv_list = calculate_pump_threshold_values(df_resampled,pump_thresh)\n",
    "    \n",
    "    m = len(df_groups)\n",
    "    \n",
    "    p = {}\n",
    "    for i in tqdm(range(m)):\n",
    "        if i > 0:\n",
    "            df_temp = df_groups[i]\n",
    "            x = df_temp.index[0]\n",
    "            s = str(x.month)+'/'+str(x.year)\n",
    "            ptv_temp = ptv_list[i-1]\n",
    "            q = get_probability_of_success(df_temp,ptv_temp,resample_measure,follow_up_measure,True)\n",
    "            p[s] = q\n",
    "        \n",
    "    return(p)"
   ]
  },
  {
   "cell_type": "code",
   "execution_count": 80,
   "metadata": {},
   "outputs": [],
   "source": [
    "resample_measure = pd.Timedelta(221,unit = 'm')\n",
    "follow_up_measure = pd.Timedelta(3,unit = \"m\")"
   ]
  },
  {
   "cell_type": "code",
   "execution_count": 81,
   "metadata": {},
   "outputs": [
    {
     "name": "stdout",
     "output_type": "stream",
     "text": [
      "Total NaN : \n",
      "\n",
      "timestamp    0\n",
      "open         0\n",
      "high         0\n",
      "low          0\n",
      "close        0\n",
      "volume       0\n",
      "returns      1\n",
      "dtype: int64\n",
      "\n",
      "Number of instances for which we have intervals of missing data is 3.\n",
      "\n",
      "Total amount of missing time in dataframe is 360.0687 minutes\n"
     ]
    },
    {
     "data": {
      "application/vnd.jupyter.widget-view+json": {
       "model_id": "299ca9dcddb84ffcb4284fa751d90b08",
       "version_major": 2,
       "version_minor": 0
      },
      "text/plain": [
       "HBox(children=(FloatProgress(value=0.0, max=6.0), HTML(value='')))"
      ]
     },
     "metadata": {},
     "output_type": "display_data"
    },
    {
     "name": "stdout",
     "output_type": "stream",
     "text": [
      "\n"
     ]
    },
    {
     "data": {
      "text/plain": [
       "{'10/2020': 0.0,\n",
       " '11/2020': 0.0,\n",
       " '12/2020': 0.6666666666666666,\n",
       " '1/2021': 0.4857142857142857,\n",
       " '2/2021': 1.0}"
      ]
     },
     "execution_count": 81,
     "metadata": {},
     "output_type": "execute_result"
    }
   ],
   "source": [
    "path = '../Binance/crypto_pumps/data/raw/Binance/AVAX_USDT.csv'\n",
    "\n",
    "df_baseline = load_df(path)\n",
    "\n",
    "df_baseline = df_baseline.dropna(axis = 0)\n",
    "\n",
    "check_for_missing_timestamps(df_baseline)\n",
    "\n",
    "\n",
    "get_historical_probabilities_of_success(df_baseline,98,resample_measure,follow_up_measure)"
   ]
  },
  {
   "cell_type": "code",
   "execution_count": 133,
   "metadata": {},
   "outputs": [],
   "source": [
    "#g = df_baseline.groupby(pd.Grouper(freq = 'M'))\n",
    "#df_groups = [group for _,group in g] "
   ]
  },
  {
   "cell_type": "code",
   "execution_count": 80,
   "metadata": {},
   "outputs": [],
   "source": [
    "#e = df_groups[0]"
   ]
  },
  {
   "cell_type": "code",
   "execution_count": 83,
   "metadata": {},
   "outputs": [],
   "source": [
    "#get_probability_of_success(e,ptv_list[0],'5T',follow_up_measure,False)"
   ]
  },
  {
   "cell_type": "code",
   "execution_count": 107,
   "metadata": {},
   "outputs": [],
   "source": [
    "def get_price_impact_study(coin_pairs,pump_threshold,time_measure_pairs):\n",
    "    base_path = '../Binance/crypto_pumps/data/raw/Binance/'\n",
    "    l = os.listdir('../Binance/crypto_pumps/data/raw/Binance')\n",
    "    l.sort()\n",
    "    price_impact = {}\n",
    "    for x in coin_pairs:\n",
    "        print('')\n",
    "        print('Commencing study for pair {}'.format(x))\n",
    "        path = base_path + x\n",
    "        df_baseline = load_df(path)\n",
    "        df_baseline = df_baseline.dropna(axis = 0)\n",
    "        check_for_missing_timestamps(df_baseline)\n",
    "        for t in time_measure_pairs:\n",
    "            resample_measure = pd.Timedelta(t[0],unit = 'm')\n",
    "            follow_up_measure = pd.Timedelta(t[1],unit = \"m\")\n",
    "            print('')\n",
    "            print('Studying price impact for pair {}'.format(t))\n",
    "            price_impact[(x,t)] = get_historical_probabilities_of_success(df_baseline,\n",
    "                                                                                   pump_threshold,resample_measure,follow_up_measure)\n",
    "            print('')\n",
    "            print('Price impact for time measure {} is {}'.format(t,price_impact[(x,t)]))\n",
    "        print('')\n",
    "        print('Completed study for pair {}'.format(x))    \n",
    "    return(price_impact)    "
   ]
  },
  {
   "cell_type": "code",
   "execution_count": 105,
   "metadata": {},
   "outputs": [],
   "source": [
    "time_measure_pairs = [(17,2),(24,5),(32,7),(42,7),(51,6),(61,8),(73,12),(73,23),\n",
    "                      (73,33),(73,53),(698,58),(698,211),(1286,122),(1286,13)]"
   ]
  },
  {
   "cell_type": "code",
   "execution_count": null,
   "metadata": {},
   "outputs": [],
   "source": [
    "coin_pairs = os.listdir('../Binance/crypto_pumps/data/raw/Binance')\n",
    "coin_pairs.sort()"
   ]
  },
  {
   "cell_type": "code",
   "execution_count": 110,
   "metadata": {},
   "outputs": [
    {
     "name": "stdout",
     "output_type": "stream",
     "text": [
      "\n",
      "Commencing study for pair 1INCH_USDT.csv\n",
      "Total NaN : \n",
      "\n",
      "timestamp    0\n",
      "open         0\n",
      "high         0\n",
      "low          0\n",
      "close        0\n",
      "volume       0\n",
      "returns      1\n",
      "dtype: int64\n",
      "\n",
      "Number of instances for which we have intervals of missing data is 0.\n",
      "\n",
      "Total amount of missing time in dataframe is 0.0 minutes\n",
      "\n",
      "Studying price impact for pair (17, 2)\n"
     ]
    },
    {
     "data": {
      "application/vnd.jupyter.widget-view+json": {
       "model_id": "17acb1549d8c493286df95e357669980",
       "version_major": 2,
       "version_minor": 0
      },
      "text/plain": [
       "HBox(children=(FloatProgress(value=0.0, max=3.0), HTML(value='')))"
      ]
     },
     "metadata": {},
     "output_type": "display_data"
    },
    {
     "name": "stdout",
     "output_type": "stream",
     "text": [
      "\n",
      "\n",
      "Price impact for time measure (17, 2) is {'1/2021': 0.5, '2/2021': 0.5789473684210527}\n",
      "\n",
      "Studying price impact for pair (24, 5)\n"
     ]
    },
    {
     "data": {
      "application/vnd.jupyter.widget-view+json": {
       "model_id": "768b629fb53a48bea9cc172481f8bd30",
       "version_major": 2,
       "version_minor": 0
      },
      "text/plain": [
       "HBox(children=(FloatProgress(value=0.0, max=3.0), HTML(value='')))"
      ]
     },
     "metadata": {},
     "output_type": "display_data"
    },
    {
     "name": "stdout",
     "output_type": "stream",
     "text": [
      "\n",
      "\n",
      "Price impact for time measure (24, 5) is {'1/2021': 0.47368421052631576, '2/2021': 0.75}\n",
      "\n",
      "Studying price impact for pair (32, 7)\n"
     ]
    },
    {
     "data": {
      "application/vnd.jupyter.widget-view+json": {
       "model_id": "d8099caf498f482a8ccdc28ca5dd71f6",
       "version_major": 2,
       "version_minor": 0
      },
      "text/plain": [
       "HBox(children=(FloatProgress(value=0.0, max=3.0), HTML(value='')))"
      ]
     },
     "metadata": {},
     "output_type": "display_data"
    },
    {
     "name": "stdout",
     "output_type": "stream",
     "text": [
      "\n",
      "\n",
      "Price impact for time measure (32, 7) is {'1/2021': 0.5714285714285714, '2/2021': 0.5555555555555556}\n",
      "\n",
      "Studying price impact for pair (42, 7)\n"
     ]
    },
    {
     "data": {
      "application/vnd.jupyter.widget-view+json": {
       "model_id": "243d2599c73a4d56a8c0e4b7defc33b8",
       "version_major": 2,
       "version_minor": 0
      },
      "text/plain": [
       "HBox(children=(FloatProgress(value=0.0, max=3.0), HTML(value='')))"
      ]
     },
     "metadata": {},
     "output_type": "display_data"
    },
    {
     "name": "stdout",
     "output_type": "stream",
     "text": [
      "\n",
      "\n",
      "Price impact for time measure (42, 7) is {'1/2021': 0.09090909090909091, '2/2021': 0.5714285714285714}\n",
      "\n",
      "Studying price impact for pair (51, 6)\n"
     ]
    },
    {
     "data": {
      "application/vnd.jupyter.widget-view+json": {
       "model_id": "bd06f05057cc48d4a4ca425b82f764c8",
       "version_major": 2,
       "version_minor": 0
      },
      "text/plain": [
       "HBox(children=(FloatProgress(value=0.0, max=3.0), HTML(value='')))"
      ]
     },
     "metadata": {},
     "output_type": "display_data"
    },
    {
     "name": "stdout",
     "output_type": "stream",
     "text": [
      "\n",
      "\n",
      "Price impact for time measure (51, 6) is {'1/2021': 0.5, '2/2021': 0.3333333333333333}\n",
      "\n",
      "Studying price impact for pair (61, 8)\n"
     ]
    },
    {
     "data": {
      "application/vnd.jupyter.widget-view+json": {
       "model_id": "c5ef40e476894ee3a9e54993903cfa2d",
       "version_major": 2,
       "version_minor": 0
      },
      "text/plain": [
       "HBox(children=(FloatProgress(value=0.0, max=3.0), HTML(value='')))"
      ]
     },
     "metadata": {},
     "output_type": "display_data"
    },
    {
     "name": "stdout",
     "output_type": "stream",
     "text": [
      "\n",
      "\n",
      "Price impact for time measure (61, 8) is {'1/2021': 0.6666666666666666, '2/2021': 0.5714285714285714}\n",
      "\n",
      "Studying price impact for pair (73, 12)\n"
     ]
    },
    {
     "data": {
      "application/vnd.jupyter.widget-view+json": {
       "model_id": "e9df346a35834754934cb4a31ebdbd45",
       "version_major": 2,
       "version_minor": 0
      },
      "text/plain": [
       "HBox(children=(FloatProgress(value=0.0, max=3.0), HTML(value='')))"
      ]
     },
     "metadata": {},
     "output_type": "display_data"
    },
    {
     "name": "stdout",
     "output_type": "stream",
     "text": [
      "\n",
      "\n",
      "Price impact for time measure (73, 12) is {'1/2021': 0.5, '2/2021': 0.0}\n",
      "\n",
      "Studying price impact for pair (73, 23)\n"
     ]
    },
    {
     "data": {
      "application/vnd.jupyter.widget-view+json": {
       "model_id": "90be45765c3f476ab86a9178c5a228c8",
       "version_major": 2,
       "version_minor": 0
      },
      "text/plain": [
       "HBox(children=(FloatProgress(value=0.0, max=3.0), HTML(value='')))"
      ]
     },
     "metadata": {},
     "output_type": "display_data"
    },
    {
     "name": "stdout",
     "output_type": "stream",
     "text": [
      "\n",
      "\n",
      "Price impact for time measure (73, 23) is {'1/2021': 0.5, '2/2021': 0.3333333333333333}\n",
      "\n",
      "Studying price impact for pair (73, 33)\n"
     ]
    },
    {
     "data": {
      "application/vnd.jupyter.widget-view+json": {
       "model_id": "1845752d7c0d4f12bf3ac3994d1fca97",
       "version_major": 2,
       "version_minor": 0
      },
      "text/plain": [
       "HBox(children=(FloatProgress(value=0.0, max=3.0), HTML(value='')))"
      ]
     },
     "metadata": {},
     "output_type": "display_data"
    },
    {
     "name": "stdout",
     "output_type": "stream",
     "text": [
      "\n",
      "\n",
      "Price impact for time measure (73, 33) is {'1/2021': 1.0, '2/2021': 0.3333333333333333}\n",
      "\n",
      "Studying price impact for pair (73, 53)\n"
     ]
    },
    {
     "data": {
      "application/vnd.jupyter.widget-view+json": {
       "model_id": "c7a03aff13d34ead9938e4faf820c450",
       "version_major": 2,
       "version_minor": 0
      },
      "text/plain": [
       "HBox(children=(FloatProgress(value=0.0, max=3.0), HTML(value='')))"
      ]
     },
     "metadata": {},
     "output_type": "display_data"
    },
    {
     "name": "stdout",
     "output_type": "stream",
     "text": [
      "\n",
      "\n",
      "Price impact for time measure (73, 53) is {'1/2021': 1.0, '2/2021': 0.3333333333333333}\n",
      "\n",
      "Studying price impact for pair (698, 58)\n"
     ]
    },
    {
     "data": {
      "application/vnd.jupyter.widget-view+json": {
       "model_id": "3904bcdd4d4349e3b4efa233e2e7c1c3",
       "version_major": 2,
       "version_minor": 0
      },
      "text/plain": [
       "HBox(children=(FloatProgress(value=0.0, max=3.0), HTML(value='')))"
      ]
     },
     "metadata": {},
     "output_type": "display_data"
    },
    {
     "name": "stdout",
     "output_type": "stream",
     "text": [
      "\n",
      "\n",
      "Price impact for time measure (698, 58) is {'1/2021': 'NaN', '2/2021': 0.0}\n",
      "\n",
      "Studying price impact for pair (698, 211)\n"
     ]
    },
    {
     "data": {
      "application/vnd.jupyter.widget-view+json": {
       "model_id": "a3a154d6308a4a11bae2c1c25e4be6fb",
       "version_major": 2,
       "version_minor": 0
      },
      "text/plain": [
       "HBox(children=(FloatProgress(value=0.0, max=3.0), HTML(value='')))"
      ]
     },
     "metadata": {},
     "output_type": "display_data"
    },
    {
     "name": "stdout",
     "output_type": "stream",
     "text": [
      "\n",
      "\n",
      "Price impact for time measure (698, 211) is {'1/2021': 'NaN', '2/2021': 0.0}\n",
      "\n",
      "Studying price impact for pair (1286, 122)\n"
     ]
    },
    {
     "data": {
      "application/vnd.jupyter.widget-view+json": {
       "model_id": "262eea5df47c42d383143cb798e9a720",
       "version_major": 2,
       "version_minor": 0
      },
      "text/plain": [
       "HBox(children=(FloatProgress(value=0.0, max=3.0), HTML(value='')))"
      ]
     },
     "metadata": {},
     "output_type": "display_data"
    },
    {
     "name": "stdout",
     "output_type": "stream",
     "text": [
      "\n",
      "\n",
      "Price impact for time measure (1286, 122) is {'1/2021': 'NaN', '2/2021': 'NaN'}\n",
      "\n",
      "Studying price impact for pair (1286, 13)\n"
     ]
    },
    {
     "data": {
      "application/vnd.jupyter.widget-view+json": {
       "model_id": "89d11641a9da45f78c90074544040211",
       "version_major": 2,
       "version_minor": 0
      },
      "text/plain": [
       "HBox(children=(FloatProgress(value=0.0, max=3.0), HTML(value='')))"
      ]
     },
     "metadata": {},
     "output_type": "display_data"
    },
    {
     "name": "stdout",
     "output_type": "stream",
     "text": [
      "\n",
      "\n",
      "Price impact for time measure (1286, 13) is {'1/2021': 'NaN', '2/2021': 'NaN'}\n",
      "\n",
      "Completed study for pair 1INCH_USDT.csv\n",
      "\n",
      "Commencing study for pair AAVE_USDT.csv\n",
      "Total NaN : \n",
      "\n",
      "timestamp    0\n",
      "open         0\n",
      "high         0\n",
      "low          0\n",
      "close        0\n",
      "volume       0\n",
      "returns      1\n",
      "dtype: int64\n",
      "\n",
      "Number of instances for which we have intervals of missing data is 3.\n",
      "\n",
      "Total amount of missing time in dataframe is 358.4232 minutes\n",
      "\n",
      "Studying price impact for pair (17, 2)\n"
     ]
    },
    {
     "data": {
      "application/vnd.jupyter.widget-view+json": {
       "model_id": "9baecb4c952249ecb88a9638bf59fbc4",
       "version_major": 2,
       "version_minor": 0
      },
      "text/plain": [
       "HBox(children=(FloatProgress(value=0.0, max=5.0), HTML(value='')))"
      ]
     },
     "metadata": {},
     "output_type": "display_data"
    },
    {
     "name": "stdout",
     "output_type": "stream",
     "text": [
      "\n",
      "\n",
      "Price impact for time measure (17, 2) is {'11/2020': 0.569620253164557, '12/2020': 0.47058823529411764, '1/2021': 0.5260869565217391, '2/2021': 0.48148148148148145}\n",
      "\n",
      "Studying price impact for pair (24, 5)\n"
     ]
    },
    {
     "data": {
      "application/vnd.jupyter.widget-view+json": {
       "model_id": "75421c2b737b4ef7a6d18a9fc075a621",
       "version_major": 2,
       "version_minor": 0
      },
      "text/plain": [
       "HBox(children=(FloatProgress(value=0.0, max=5.0), HTML(value='')))"
      ]
     },
     "metadata": {},
     "output_type": "display_data"
    },
    {
     "name": "stdout",
     "output_type": "stream",
     "text": [
      "\n",
      "\n",
      "Price impact for time measure (24, 5) is {'11/2020': 0.5087719298245614, '12/2020': 0.5454545454545454, '1/2021': 0.5774647887323944, '2/2021': 0.65}\n",
      "\n",
      "Studying price impact for pair (32, 7)\n"
     ]
    },
    {
     "data": {
      "application/vnd.jupyter.widget-view+json": {
       "model_id": "9fadfb4bf7384e5dba03dd81027972e0",
       "version_major": 2,
       "version_minor": 0
      },
      "text/plain": [
       "HBox(children=(FloatProgress(value=0.0, max=5.0), HTML(value='')))"
      ]
     },
     "metadata": {},
     "output_type": "display_data"
    },
    {
     "name": "stdout",
     "output_type": "stream",
     "text": [
      "\n",
      "\n",
      "Price impact for time measure (32, 7) is {'11/2020': 0.5263157894736842, '12/2020': 0.6, '1/2021': 0.5107913669064749, '2/2021': 0.6}\n",
      "\n",
      "Studying price impact for pair (42, 7)\n"
     ]
    },
    {
     "data": {
      "application/vnd.jupyter.widget-view+json": {
       "model_id": "a5c4c8757e1a479eaa719f63ffab9f0d",
       "version_major": 2,
       "version_minor": 0
      },
      "text/plain": [
       "HBox(children=(FloatProgress(value=0.0, max=5.0), HTML(value='')))"
      ]
     },
     "metadata": {},
     "output_type": "display_data"
    },
    {
     "name": "stdout",
     "output_type": "stream",
     "text": [
      "\n",
      "\n",
      "Price impact for time measure (42, 7) is {'11/2020': 0.5972222222222222, '12/2020': 0.6666666666666666, '1/2021': 0.5257731958762887, '2/2021': 0.2857142857142857}\n",
      "\n",
      "Studying price impact for pair (51, 6)\n"
     ]
    },
    {
     "data": {
      "application/vnd.jupyter.widget-view+json": {
       "model_id": "9c992110fb7b410dbfa1423c0cf12167",
       "version_major": 2,
       "version_minor": 0
      },
      "text/plain": [
       "HBox(children=(FloatProgress(value=0.0, max=5.0), HTML(value='')))"
      ]
     },
     "metadata": {},
     "output_type": "display_data"
    },
    {
     "name": "stdout",
     "output_type": "stream",
     "text": [
      "\n",
      "\n",
      "Price impact for time measure (51, 6) is {'11/2020': 0.5164835164835165, '12/2020': 0.0, '1/2021': 0.527027027027027, '2/2021': 0.5555555555555556}\n",
      "\n",
      "Studying price impact for pair (61, 8)\n"
     ]
    },
    {
     "data": {
      "application/vnd.jupyter.widget-view+json": {
       "model_id": "1ba005752e6d45d78e3604c08c383db1",
       "version_major": 2,
       "version_minor": 0
      },
      "text/plain": [
       "HBox(children=(FloatProgress(value=0.0, max=5.0), HTML(value='')))"
      ]
     },
     "metadata": {},
     "output_type": "display_data"
    },
    {
     "name": "stdout",
     "output_type": "stream",
     "text": [
      "\n",
      "\n",
      "Price impact for time measure (61, 8) is {'11/2020': 0.4691358024691358, '12/2020': 0.25, '1/2021': 0.40625, '2/2021': 0.5555555555555556}\n",
      "\n",
      "Studying price impact for pair (73, 12)\n"
     ]
    },
    {
     "data": {
      "application/vnd.jupyter.widget-view+json": {
       "model_id": "aba69653bbc54f6f8b51a4997d0ade54",
       "version_major": 2,
       "version_minor": 0
      },
      "text/plain": [
       "HBox(children=(FloatProgress(value=0.0, max=5.0), HTML(value='')))"
      ]
     },
     "metadata": {},
     "output_type": "display_data"
    },
    {
     "name": "stdout",
     "output_type": "stream",
     "text": [
      "\n",
      "\n",
      "Price impact for time measure (73, 12) is {'11/2020': 0.5106382978723404, '12/2020': 0.0, '1/2021': 0.4642857142857143, '2/2021': 0.25}\n",
      "\n",
      "Studying price impact for pair (73, 23)\n"
     ]
    },
    {
     "data": {
      "application/vnd.jupyter.widget-view+json": {
       "model_id": "01099e72d794451a83bc80d31c837b8f",
       "version_major": 2,
       "version_minor": 0
      },
      "text/plain": [
       "HBox(children=(FloatProgress(value=0.0, max=5.0), HTML(value='')))"
      ]
     },
     "metadata": {},
     "output_type": "display_data"
    },
    {
     "name": "stdout",
     "output_type": "stream",
     "text": [
      "\n",
      "\n",
      "Price impact for time measure (73, 23) is {'11/2020': 0.5531914893617021, '12/2020': 0.5, '1/2021': 0.5892857142857143, '2/2021': 0.375}\n",
      "\n",
      "Studying price impact for pair (73, 33)\n"
     ]
    },
    {
     "data": {
      "application/vnd.jupyter.widget-view+json": {
       "model_id": "33d2cb16f54f4762bfa90e3465993301",
       "version_major": 2,
       "version_minor": 0
      },
      "text/plain": [
       "HBox(children=(FloatProgress(value=0.0, max=5.0), HTML(value='')))"
      ]
     },
     "metadata": {},
     "output_type": "display_data"
    },
    {
     "name": "stdout",
     "output_type": "stream",
     "text": [
      "\n",
      "\n",
      "Price impact for time measure (73, 33) is {'11/2020': 0.5106382978723404, '12/2020': 0.5, '1/2021': 0.6071428571428571, '2/2021': 0.25}\n",
      "\n",
      "Studying price impact for pair (73, 53)\n"
     ]
    },
    {
     "data": {
      "application/vnd.jupyter.widget-view+json": {
       "model_id": "35a3c66fcb214c7db37befab42d8af98",
       "version_major": 2,
       "version_minor": 0
      },
      "text/plain": [
       "HBox(children=(FloatProgress(value=0.0, max=5.0), HTML(value='')))"
      ]
     },
     "metadata": {},
     "output_type": "display_data"
    },
    {
     "name": "stdout",
     "output_type": "stream",
     "text": [
      "\n",
      "\n",
      "Price impact for time measure (73, 53) is {'11/2020': 0.44680851063829785, '12/2020': 0.0, '1/2021': 0.6428571428571429, '2/2021': 0.5}\n",
      "\n",
      "Studying price impact for pair (698, 58)\n"
     ]
    },
    {
     "data": {
      "application/vnd.jupyter.widget-view+json": {
       "model_id": "633ef5013fbe48b699e19f21704e0007",
       "version_major": 2,
       "version_minor": 0
      },
      "text/plain": [
       "HBox(children=(FloatProgress(value=0.0, max=5.0), HTML(value='')))"
      ]
     },
     "metadata": {},
     "output_type": "display_data"
    },
    {
     "name": "stdout",
     "output_type": "stream",
     "text": [
      "\n",
      "\n",
      "Price impact for time measure (698, 58) is {'11/2020': 0.4666666666666667, '12/2020': 'NaN', '1/2021': 0.5, '2/2021': 0.5}\n",
      "\n",
      "Studying price impact for pair (698, 211)\n"
     ]
    },
    {
     "data": {
      "application/vnd.jupyter.widget-view+json": {
       "model_id": "17e9c38f78c34ec7992c7ff78c943b2f",
       "version_major": 2,
       "version_minor": 0
      },
      "text/plain": [
       "HBox(children=(FloatProgress(value=0.0, max=5.0), HTML(value='')))"
      ]
     },
     "metadata": {},
     "output_type": "display_data"
    },
    {
     "name": "stdout",
     "output_type": "stream",
     "text": [
      "\n",
      "\n",
      "Price impact for time measure (698, 211) is {'11/2020': 0.4666666666666667, '12/2020': 'NaN', '1/2021': 0.875, '2/2021': 0.5}\n",
      "\n",
      "Studying price impact for pair (1286, 122)\n"
     ]
    },
    {
     "data": {
      "application/vnd.jupyter.widget-view+json": {
       "model_id": "80d868e523fc46bebc756cd74fa3a9ad",
       "version_major": 2,
       "version_minor": 0
      },
      "text/plain": [
       "HBox(children=(FloatProgress(value=0.0, max=5.0), HTML(value='')))"
      ]
     },
     "metadata": {},
     "output_type": "display_data"
    },
    {
     "name": "stdout",
     "output_type": "stream",
     "text": [
      "\n",
      "\n",
      "Price impact for time measure (1286, 122) is {'11/2020': 0.7777777777777778, '12/2020': 'NaN', '1/2021': 0.5555555555555556, '2/2021': 1.0}\n",
      "\n",
      "Studying price impact for pair (1286, 13)\n"
     ]
    },
    {
     "data": {
      "application/vnd.jupyter.widget-view+json": {
       "model_id": "3bacffb255ea48568f4329307b488889",
       "version_major": 2,
       "version_minor": 0
      },
      "text/plain": [
       "HBox(children=(FloatProgress(value=0.0, max=5.0), HTML(value='')))"
      ]
     },
     "metadata": {},
     "output_type": "display_data"
    },
    {
     "name": "stdout",
     "output_type": "stream",
     "text": [
      "\n",
      "\n",
      "Price impact for time measure (1286, 13) is {'11/2020': 0.2222222222222222, '12/2020': 'NaN', '1/2021': 0.4444444444444444, '2/2021': 1.0}\n",
      "\n",
      "Completed study for pair AAVE_USDT.csv\n",
      "\n",
      "Commencing study for pair ADA_USDT.csv\n",
      "Total NaN : \n",
      "\n",
      "timestamp    0\n",
      "open         0\n",
      "high         0\n",
      "low          0\n",
      "close        0\n",
      "volume       0\n",
      "returns      1\n",
      "dtype: int64\n",
      "\n",
      "Number of instances for which we have intervals of missing data is 20.\n",
      "\n",
      "Total amount of missing time in dataframe is 5079.123516666667 minutes\n",
      "\n",
      "Studying price impact for pair (17, 2)\n"
     ]
    },
    {
     "data": {
      "application/vnd.jupyter.widget-view+json": {
       "model_id": "95c4edbf82504d24bac1d9ec495ad62b",
       "version_major": 2,
       "version_minor": 0
      },
      "text/plain": [
       "HBox(children=(FloatProgress(value=0.0, max=35.0), HTML(value='')))"
      ]
     },
     "metadata": {},
     "output_type": "display_data"
    },
    {
     "name": "stdout",
     "output_type": "stream",
     "text": [
      "\n",
      "\n",
      "Price impact for time measure (17, 2) is {'5/2018': 0.44, '6/2018': 0.4716981132075472, '7/2018': 0.5, '8/2018': 0.5405405405405406, '9/2018': 0.44285714285714284, '10/2018': 0.6470588235294118, '11/2018': 0.46875, '12/2018': 0.3854166666666667, '1/2019': 0.5263157894736842, '2/2019': 0.4318181818181818, '3/2019': 0.4657534246575342, '4/2019': 0.4774774774774775, '5/2019': 0.5503875968992248, '6/2019': 0.7058823529411765, '7/2019': 0.4725274725274725, '8/2019': 0.3829787234042553, '9/2019': 0.5340909090909091, '10/2019': 0.5, '11/2019': 0.40229885057471265, '12/2019': 0.43902439024390244, '1/2020': 0.4861111111111111, '2/2020': 0.5, '3/2020': 0.5371900826446281, '4/2020': 0.3125, '5/2020': 0.4426229508196721, '6/2020': 0.5192307692307693, '7/2020': 0.4601226993865031, '8/2020': 0.47058823529411764, '9/2020': 0.5, '10/2020': 0.5, '11/2020': 0.5097276264591439, '12/2020': 0.47058823529411764, '1/2021': 0.5020746887966805, '2/2021': 0.3333333333333333}\n",
      "\n",
      "Studying price impact for pair (24, 5)\n"
     ]
    },
    {
     "data": {
      "application/vnd.jupyter.widget-view+json": {
       "model_id": "9e29c5c5a84445a885553c43d9a76c1c",
       "version_major": 2,
       "version_minor": 0
      },
      "text/plain": [
       "HBox(children=(FloatProgress(value=0.0, max=35.0), HTML(value='')))"
      ]
     },
     "metadata": {},
     "output_type": "display_data"
    },
    {
     "name": "stdout",
     "output_type": "stream",
     "text": [
      "\n",
      "\n",
      "Price impact for time measure (24, 5) is {'5/2018': 0.5, '6/2018': 0.5, '7/2018': 0.47297297297297297, '8/2018': 0.3877551020408163, '9/2018': 0.35714285714285715, '10/2018': 0.5, '11/2018': 0.45263157894736844, '12/2018': 0.5507246376811594, '1/2019': 0.375, '2/2019': 0.6071428571428571, '3/2019': 0.45098039215686275, '4/2019': 0.5542168674698795, '5/2019': 0.4945054945054945, '6/2019': 0.34782608695652173, '7/2019': 0.5076923076923077, '8/2019': 0.4117647058823529, '9/2019': 0.46774193548387094, '10/2019': 0.5333333333333333, '11/2019': 0.5087719298245614, '12/2019': 0.4074074074074074, '1/2020': 0.477124183006536, '2/2020': 0.4142857142857143, '3/2020': 0.4583333333333333, '4/2020': 0.46153846153846156, '5/2020': 0.40229885057471265, '6/2020': 0.3684210526315789, '7/2020': 0.44036697247706424, '8/2020': 0.38095238095238093, '9/2020': 0.3979591836734694, '10/2020': 0.6, '11/2020': 0.515625, '12/2020': 0.36, '1/2021': 0.45348837209302323, '2/2021': 0.6363636363636364}\n",
      "\n",
      "Studying price impact for pair (32, 7)\n"
     ]
    },
    {
     "data": {
      "application/vnd.jupyter.widget-view+json": {
       "model_id": "f64bca7298e64ce78b1b28677a08062b",
       "version_major": 2,
       "version_minor": 0
      },
      "text/plain": [
       "HBox(children=(FloatProgress(value=0.0, max=35.0), HTML(value='')))"
      ]
     },
     "metadata": {},
     "output_type": "display_data"
    },
    {
     "name": "stdout",
     "output_type": "stream",
     "text": [
      "\n",
      "\n",
      "Price impact for time measure (32, 7) is {'5/2018': 0.5172413793103449, '6/2018': 0.4, '7/2018': 0.4032258064516129, '8/2018': 0.5227272727272727, '9/2018': 0.425, '10/2018': 0.5454545454545454, '11/2018': 0.3624161073825503, '12/2018': 0.5106382978723404, '1/2019': 0.2857142857142857, '2/2019': 0.36, '3/2019': 0.34328358208955223, '4/2019': 0.6721311475409836, '5/2019': 0.5277777777777778, '6/2019': 0.5714285714285714, '7/2019': 0.37735849056603776, '8/2019': 0.34375, '9/2019': 0.3953488372093023, '10/2019': 0.42857142857142855, '11/2019': 0.4807692307692308, '12/2019': 0.6666666666666666, '1/2020': 0.43548387096774194, '2/2020': 0.5833333333333334, '3/2020': 0.4603174603174603, '4/2020': 0.4, '5/2020': 0.5072463768115942, '6/2020': 0.4090909090909091, '7/2020': 0.30864197530864196, '8/2020': 0.6875, '9/2020': 0.4222222222222222, '10/2020': 0.6363636363636364, '11/2020': 0.46564885496183206, '12/2020': 0.6, '1/2021': 0.44274809160305345, '2/2021': 0.45454545454545453}\n",
      "\n",
      "Studying price impact for pair (42, 7)\n"
     ]
    },
    {
     "data": {
      "application/vnd.jupyter.widget-view+json": {
       "model_id": "4f5bd54835654ee6912d997b7cb804c2",
       "version_major": 2,
       "version_minor": 0
      },
      "text/plain": [
       "HBox(children=(FloatProgress(value=0.0, max=35.0), HTML(value='')))"
      ]
     },
     "metadata": {},
     "output_type": "display_data"
    },
    {
     "name": "stdout",
     "output_type": "stream",
     "text": [
      "\n",
      "\n",
      "Price impact for time measure (42, 7) is {'5/2018': 0.5294117647058824, '6/2018': 0.47619047619047616, '7/2018': 0.5306122448979592, '8/2018': 0.2857142857142857, '9/2018': 0.3783783783783784, '10/2018': 0.6666666666666666, '11/2018': 0.4722222222222222, '12/2018': 0.4, '1/2019': 0.42857142857142855, '2/2019': 0.5714285714285714, '3/2019': 0.43333333333333335, '4/2019': 0.5333333333333333, '5/2019': 0.4153846153846154, '6/2019': 0.375, '7/2019': 0.5348837209302325, '8/2019': 0.25, '9/2019': 0.42424242424242425, '10/2019': 0.6, '11/2019': 0.5161290322580645, '12/2019': 0.4444444444444444, '1/2020': 0.45454545454545453, '2/2020': 0.5833333333333334, '3/2020': 0.421875, '4/2020': 0.6, '5/2020': 0.35714285714285715, '6/2020': 0.6, '7/2020': 0.546875, '8/2020': 0.38461538461538464, '9/2020': 0.34545454545454546, '10/2020': 0.5, '11/2020': 0.5446428571428571, '12/2020': 0.47058823529411764, '1/2021': 0.41228070175438597, '2/2021': 0.6428571428571429}\n",
      "\n",
      "Studying price impact for pair (51, 6)\n"
     ]
    },
    {
     "data": {
      "application/vnd.jupyter.widget-view+json": {
       "model_id": "05e70cc01b8f435c9bdb0893e7606086",
       "version_major": 2,
       "version_minor": 0
      },
      "text/plain": [
       "HBox(children=(FloatProgress(value=0.0, max=35.0), HTML(value='')))"
      ]
     },
     "metadata": {},
     "output_type": "display_data"
    },
    {
     "name": "stdout",
     "output_type": "stream",
     "text": [
      "\n",
      "\n",
      "Price impact for time measure (51, 6) is {'5/2018': 0.23809523809523808, '6/2018': 0.6428571428571429, '7/2018': 0.3953488372093023, '8/2018': 0.4074074074074074, '9/2018': 0.5806451612903226, '10/2018': 0.375, '11/2018': 0.4050632911392405, '12/2018': 0.6944444444444444, '1/2019': 0.2, '2/2019': 0.5, '3/2019': 0.4791666666666667, '4/2019': 0.3055555555555556, '5/2019': 0.38235294117647056, '6/2019': 0.375, '7/2019': 0.5128205128205128, '8/2019': 0.42857142857142855, '9/2019': 0.42857142857142855, '10/2019': 0.6470588235294118, '11/2019': 0.5, '12/2019': 0.5, '1/2020': 0.5277777777777778, '2/2020': 0.5, '3/2020': 0.5263157894736842, '4/2020': 0.3, '5/2020': 0.5, '6/2020': 0.4375, '7/2020': 0.46153846153846156, '8/2020': 0.5, '9/2020': 0.45454545454545453, '10/2020': 0.2, '11/2020': 0.4666666666666667, '12/2020': 0.7777777777777778, '1/2021': 0.44565217391304346, '2/2021': 0.5714285714285714}\n",
      "\n",
      "Studying price impact for pair (61, 8)\n"
     ]
    },
    {
     "data": {
      "application/vnd.jupyter.widget-view+json": {
       "model_id": "85ce04ba80d042a7b6008f14e17df1bf",
       "version_major": 2,
       "version_minor": 0
      },
      "text/plain": [
       "HBox(children=(FloatProgress(value=0.0, max=35.0), HTML(value='')))"
      ]
     },
     "metadata": {},
     "output_type": "display_data"
    },
    {
     "name": "stdout",
     "output_type": "stream",
     "text": [
      "\n",
      "\n",
      "Price impact for time measure (61, 8) is {'5/2018': 0.3333333333333333, '6/2018': 0.5714285714285714, '7/2018': 0.4594594594594595, '8/2018': 0.5333333333333333, '9/2018': 0.42857142857142855, '10/2018': 0.6666666666666666, '11/2018': 0.4939759036144578, '12/2018': 0.52, '1/2019': 0.3333333333333333, '2/2019': 0.4117647058823529, '3/2019': 0.39473684210526316, '4/2019': 0.5428571428571428, '5/2019': 0.43243243243243246, '6/2019': 0.6153846153846154, '7/2019': 0.48, '8/2019': 0.4444444444444444, '9/2019': 0.6666666666666666, '10/2019': 0.5, '11/2019': 0.3793103448275862, '12/2019': 0.5, '1/2020': 0.5633802816901409, '2/2020': 0.36363636363636365, '3/2020': 0.6052631578947368, '4/2020': 0.6666666666666666, '5/2020': 0.48717948717948717, '6/2020': 0.2, '7/2020': 0.5263157894736842, '8/2020': 0.36363636363636365, '9/2020': 0.21621621621621623, '10/2020': 0.5555555555555556, '11/2020': 0.5068493150684932, '12/2020': 0.5454545454545454, '1/2021': 0.4788732394366197, '2/2021': 0.42857142857142855}\n",
      "\n",
      "Studying price impact for pair (73, 12)\n"
     ]
    },
    {
     "data": {
      "application/vnd.jupyter.widget-view+json": {
       "model_id": "f1b4b148998c4eb394b8a0c392ec2dc8",
       "version_major": 2,
       "version_minor": 0
      },
      "text/plain": [
       "HBox(children=(FloatProgress(value=0.0, max=35.0), HTML(value='')))"
      ]
     },
     "metadata": {},
     "output_type": "display_data"
    },
    {
     "name": "stdout",
     "output_type": "stream",
     "text": [
      "\n",
      "\n",
      "Price impact for time measure (73, 12) is {'5/2018': 0.4, '6/2018': 0.4666666666666667, '7/2018': 0.42857142857142855, '8/2018': 0.26666666666666666, '9/2018': 0.5, '10/2018': 0.5, '11/2018': 0.5263157894736842, '12/2018': 0.5151515151515151, '1/2019': 1.0, '2/2019': 0.3, '3/2019': 0.3125, '4/2019': 0.6206896551724138, '5/2019': 0.3939393939393939, '6/2019': 0.5, '7/2019': 0.2692307692307692, '8/2019': 0.2, '9/2019': 0.35714285714285715, '10/2019': 0.5833333333333334, '11/2019': 0.5909090909090909, '12/2019': 0.25, '1/2020': 0.49056603773584906, '2/2020': 0.4482758620689655, '3/2020': 0.28125, '4/2020': 0.25, '5/2020': 0.4482758620689655, '6/2020': 0.08333333333333333, '7/2020': 0.5757575757575758, '8/2020': 0.14285714285714285, '9/2020': 0.4782608695652174, '10/2020': 0.5714285714285714, '11/2020': 0.5217391304347826, '12/2020': 0.3076923076923077, '1/2021': 0.509090909090909, '2/2021': 0.5555555555555556}\n",
      "\n",
      "Studying price impact for pair (73, 23)\n"
     ]
    },
    {
     "data": {
      "application/vnd.jupyter.widget-view+json": {
       "model_id": "79a178f1d04943859ac3d0543b7651e1",
       "version_major": 2,
       "version_minor": 0
      },
      "text/plain": [
       "HBox(children=(FloatProgress(value=0.0, max=35.0), HTML(value='')))"
      ]
     },
     "metadata": {},
     "output_type": "display_data"
    },
    {
     "name": "stdout",
     "output_type": "stream",
     "text": [
      "\n",
      "\n",
      "Price impact for time measure (73, 23) is {'5/2018': 0.4, '6/2018': 0.6666666666666666, '7/2018': 0.42857142857142855, '8/2018': 0.26666666666666666, '9/2018': 0.4090909090909091, '10/2018': 0.5, '11/2018': 0.543859649122807, '12/2018': 0.30303030303030304, '1/2019': 0.5, '2/2019': 0.2, '3/2019': 0.28125, '4/2019': 0.4482758620689655, '5/2019': 0.42424242424242425, '6/2019': 0.25, '7/2019': 0.19230769230769232, '8/2019': 0.3, '9/2019': 0.42857142857142855, '10/2019': 0.3333333333333333, '11/2019': 0.5, '12/2019': 0.0, '1/2020': 0.49056603773584906, '2/2020': 0.41379310344827586, '3/2020': 0.28125, '4/2020': 0.25, '5/2020': 0.4827586206896552, '6/2020': 0.16666666666666666, '7/2020': 0.48484848484848486, '8/2020': 0.2857142857142857, '9/2020': 0.4782608695652174, '10/2020': 0.2857142857142857, '11/2020': 0.5507246376811594, '12/2020': 0.38461538461538464, '1/2021': 0.4909090909090909, '2/2021': 0.3333333333333333}\n",
      "\n",
      "Studying price impact for pair (73, 33)\n"
     ]
    },
    {
     "data": {
      "application/vnd.jupyter.widget-view+json": {
       "model_id": "efc899f64a6241c68722234d34847578",
       "version_major": 2,
       "version_minor": 0
      },
      "text/plain": [
       "HBox(children=(FloatProgress(value=0.0, max=35.0), HTML(value='')))"
      ]
     },
     "metadata": {},
     "output_type": "display_data"
    },
    {
     "name": "stdout",
     "output_type": "stream",
     "text": [
      "\n",
      "\n",
      "Price impact for time measure (73, 33) is {'5/2018': 0.4, '6/2018': 0.5333333333333333, '7/2018': 0.42857142857142855, '8/2018': 0.26666666666666666, '9/2018': 0.4090909090909091, '10/2018': 0.5, '11/2018': 0.43859649122807015, '12/2018': 0.5454545454545454, '1/2019': 1.0, '2/2019': 0.3, '3/2019': 0.28125, '4/2019': 0.5517241379310345, '5/2019': 0.42424242424242425, '6/2019': 0.0, '7/2019': 0.38461538461538464, '8/2019': 0.4, '9/2019': 0.5, '10/2019': 0.5, '11/2019': 0.5, '12/2019': 0.25, '1/2020': 0.5094339622641509, '2/2020': 0.3793103448275862, '3/2020': 0.625, '4/2020': 0.0, '5/2020': 0.5517241379310345, '6/2020': 0.08333333333333333, '7/2020': 0.5151515151515151, '8/2020': 0.42857142857142855, '9/2020': 0.30434782608695654, '10/2020': 0.5714285714285714, '11/2020': 0.5797101449275363, '12/2020': 0.5384615384615384, '1/2021': 0.5272727272727272, '2/2021': 0.2222222222222222}\n",
      "\n",
      "Studying price impact for pair (73, 53)\n"
     ]
    },
    {
     "data": {
      "application/vnd.jupyter.widget-view+json": {
       "model_id": "0d40e8c2afbc4e99ba8ba1759401d920",
       "version_major": 2,
       "version_minor": 0
      },
      "text/plain": [
       "HBox(children=(FloatProgress(value=0.0, max=35.0), HTML(value='')))"
      ]
     },
     "metadata": {},
     "output_type": "display_data"
    },
    {
     "name": "stdout",
     "output_type": "stream",
     "text": [
      "\n",
      "\n",
      "Price impact for time measure (73, 53) is {'5/2018': 0.4, '6/2018': 0.6, '7/2018': 0.3333333333333333, '8/2018': 0.13333333333333333, '9/2018': 0.4090909090909091, '10/2018': 0.5, '11/2018': 0.49122807017543857, '12/2018': 0.5151515151515151, '1/2019': 1.0, '2/2019': 0.4, '3/2019': 0.3125, '4/2019': 0.5172413793103449, '5/2019': 0.45454545454545453, '6/2019': 0.0, '7/2019': 0.4230769230769231, '8/2019': 0.3, '9/2019': 0.5, '10/2019': 0.5, '11/2019': 0.5454545454545454, '12/2019': 0.25, '1/2020': 0.6037735849056604, '2/2020': 0.41379310344827586, '3/2020': 0.5625, '4/2020': 0.25, '5/2020': 0.5517241379310345, '6/2020': 0.3333333333333333, '7/2020': 0.3333333333333333, '8/2020': 0.42857142857142855, '9/2020': 0.4782608695652174, '10/2020': 0.2857142857142857, '11/2020': 0.5362318840579711, '12/2020': 0.46153846153846156, '1/2021': 0.509090909090909, '2/2021': 0.2222222222222222}\n",
      "\n",
      "Studying price impact for pair (698, 58)\n"
     ]
    },
    {
     "data": {
      "application/vnd.jupyter.widget-view+json": {
       "model_id": "23c92941be384513a572607b67def08e",
       "version_major": 2,
       "version_minor": 0
      },
      "text/plain": [
       "HBox(children=(FloatProgress(value=0.0, max=35.0), HTML(value='')))"
      ]
     },
     "metadata": {},
     "output_type": "display_data"
    },
    {
     "name": "stdout",
     "output_type": "stream",
     "text": [
      "\n",
      "\n",
      "Price impact for time measure (698, 58) is {'5/2018': 1.0, '6/2018': 0.6666666666666666, '7/2018': 0.5, '8/2018': 0.0, '9/2018': 0.3333333333333333, '10/2018': 'NaN', '11/2018': 0.5555555555555556, '12/2018': 0.5454545454545454, '1/2019': 'NaN', '2/2019': 0.3333333333333333, '3/2019': 'NaN', '4/2019': 0.25, '5/2019': 0.3333333333333333, '6/2019': 'NaN', '7/2019': 0.75, '8/2019': 'NaN', '9/2019': 0.3333333333333333, '10/2019': 0.5, '11/2019': 1.0, '12/2019': 1.0, '1/2020': 0.7272727272727273, '2/2020': 0.0, '3/2020': 0.2857142857142857, '4/2020': 'NaN', '5/2020': 0.0, '6/2020': 0.0, '7/2020': 0.5, '8/2020': 'NaN', '9/2020': 0.3333333333333333, '10/2020': 'NaN', '11/2020': 0.18181818181818182, '12/2020': 0.3333333333333333, '1/2021': 0.75, '2/2021': 0.6666666666666666}\n",
      "\n",
      "Studying price impact for pair (698, 211)\n"
     ]
    },
    {
     "data": {
      "application/vnd.jupyter.widget-view+json": {
       "model_id": "86979f0c44b24f998f69fc4096c7bbb5",
       "version_major": 2,
       "version_minor": 0
      },
      "text/plain": [
       "HBox(children=(FloatProgress(value=0.0, max=35.0), HTML(value='')))"
      ]
     },
     "metadata": {},
     "output_type": "display_data"
    },
    {
     "name": "stdout",
     "output_type": "stream",
     "text": [
      "\n",
      "\n",
      "Price impact for time measure (698, 211) is {'5/2018': 1.0, '6/2018': 0.3333333333333333, '7/2018': 0.5, '8/2018': 0.0, '9/2018': 0.6666666666666666, '10/2018': 'NaN', '11/2018': 0.5555555555555556, '12/2018': 0.6363636363636364, '1/2019': 'NaN', '2/2019': 0.3333333333333333, '3/2019': 'NaN', '4/2019': 0.75, '5/2019': 0.3333333333333333, '6/2019': 'NaN', '7/2019': 0.5, '8/2019': 'NaN', '9/2019': 0.3333333333333333, '10/2019': 0.5, '11/2019': 0.5, '12/2019': 1.0, '1/2020': 0.45454545454545453, '2/2020': 1.0, '3/2020': 0.2857142857142857, '4/2020': 'NaN', '5/2020': 0.6666666666666666, '6/2020': 1.0, '7/2020': 0.9, '8/2020': 'NaN', '9/2020': 0.3333333333333333, '10/2020': 'NaN', '11/2020': 0.5454545454545454, '12/2020': 0.3333333333333333, '1/2021': 0.75, '2/2021': 0.6666666666666666}\n",
      "\n",
      "Studying price impact for pair (1286, 122)\n"
     ]
    },
    {
     "data": {
      "application/vnd.jupyter.widget-view+json": {
       "model_id": "567618c93aa64b3abf962eb885a19742",
       "version_major": 2,
       "version_minor": 0
      },
      "text/plain": [
       "HBox(children=(FloatProgress(value=0.0, max=35.0), HTML(value='')))"
      ]
     },
     "metadata": {},
     "output_type": "display_data"
    },
    {
     "name": "stdout",
     "output_type": "stream",
     "text": [
      "\n",
      "\n",
      "Price impact for time measure (1286, 122) is {'5/2018': 0.0, '6/2018': 'NaN', '7/2018': 1.0, '8/2018': 0.5, '9/2018': 1.0, '10/2018': 0.0, '11/2018': 0.5, '12/2018': 0.3333333333333333, '1/2019': 'NaN', '2/2019': 0.3333333333333333, '3/2019': 0.0, '4/2019': 1.0, '5/2019': 1.0, '6/2019': 'NaN', '7/2019': 0.0, '8/2019': 1.0, '9/2019': 1.0, '10/2019': 0.3333333333333333, '11/2019': 'NaN', '12/2019': 0.0, '1/2020': 0.5, '2/2020': 'NaN', '3/2020': 0.0, '4/2020': 1.0, '5/2020': 0.0, '6/2020': 'NaN', '7/2020': 0.3333333333333333, '8/2020': 'NaN', '9/2020': 0.3333333333333333, '10/2020': 'NaN', '11/2020': 0.375, '12/2020': 0.0, '1/2021': 0.42857142857142855, '2/2021': 'NaN'}\n",
      "\n",
      "Studying price impact for pair (1286, 13)\n"
     ]
    },
    {
     "data": {
      "application/vnd.jupyter.widget-view+json": {
       "model_id": "bdffe916facc4a338d110f3e2c69c43c",
       "version_major": 2,
       "version_minor": 0
      },
      "text/plain": [
       "HBox(children=(FloatProgress(value=0.0, max=35.0), HTML(value='')))"
      ]
     },
     "metadata": {},
     "output_type": "display_data"
    },
    {
     "name": "stdout",
     "output_type": "stream",
     "text": [
      "\n",
      "\n",
      "Price impact for time measure (1286, 13) is {'5/2018': 0.0, '6/2018': 'NaN', '7/2018': 1.0, '8/2018': 0.5, '9/2018': 0.3333333333333333, '10/2018': 0.0, '11/2018': 0.5, '12/2018': 1.0, '1/2019': 'NaN', '2/2019': 0.6666666666666666, '3/2019': 0.0, '4/2019': 1.0, '5/2019': 0.0, '6/2019': 'NaN', '7/2019': 0.0, '8/2019': 0.0, '9/2019': 1.0, '10/2019': 0.6666666666666666, '11/2019': 'NaN', '12/2019': 0.0, '1/2020': 0.4, '2/2020': 'NaN', '3/2020': 0.0, '4/2020': 0.0, '5/2020': 1.0, '6/2020': 'NaN', '7/2020': 0.3333333333333333, '8/2020': 'NaN', '9/2020': 0.6666666666666666, '10/2020': 'NaN', '11/2020': 0.5, '12/2020': 0.0, '1/2021': 0.2857142857142857, '2/2021': 'NaN'}\n",
      "\n",
      "Completed study for pair ADA_USDT.csv\n"
     ]
    },
    {
     "data": {
      "text/plain": [
       "{('1INCH_USDT.csv', (17, 2)): {'1/2021': 0.5, '2/2021': 0.5789473684210527},\n",
       " ('1INCH_USDT.csv', (24, 5)): {'1/2021': 0.47368421052631576, '2/2021': 0.75},\n",
       " ('1INCH_USDT.csv', (32, 7)): {'1/2021': 0.5714285714285714,\n",
       "  '2/2021': 0.5555555555555556},\n",
       " ('1INCH_USDT.csv', (42, 7)): {'1/2021': 0.09090909090909091,\n",
       "  '2/2021': 0.5714285714285714},\n",
       " ('1INCH_USDT.csv', (51, 6)): {'1/2021': 0.5, '2/2021': 0.3333333333333333},\n",
       " ('1INCH_USDT.csv', (61, 8)): {'1/2021': 0.6666666666666666,\n",
       "  '2/2021': 0.5714285714285714},\n",
       " ('1INCH_USDT.csv', (73, 12)): {'1/2021': 0.5, '2/2021': 0.0},\n",
       " ('1INCH_USDT.csv', (73, 23)): {'1/2021': 0.5, '2/2021': 0.3333333333333333},\n",
       " ('1INCH_USDT.csv', (73, 33)): {'1/2021': 1.0, '2/2021': 0.3333333333333333},\n",
       " ('1INCH_USDT.csv', (73, 53)): {'1/2021': 1.0, '2/2021': 0.3333333333333333},\n",
       " ('1INCH_USDT.csv', (698, 58)): {'1/2021': 'NaN', '2/2021': 0.0},\n",
       " ('1INCH_USDT.csv', (698, 211)): {'1/2021': 'NaN', '2/2021': 0.0},\n",
       " ('1INCH_USDT.csv', (1286, 122)): {'1/2021': 'NaN', '2/2021': 'NaN'},\n",
       " ('1INCH_USDT.csv', (1286, 13)): {'1/2021': 'NaN', '2/2021': 'NaN'},\n",
       " ('AAVE_USDT.csv', (17, 2)): {'11/2020': 0.569620253164557,\n",
       "  '12/2020': 0.47058823529411764,\n",
       "  '1/2021': 0.5260869565217391,\n",
       "  '2/2021': 0.48148148148148145},\n",
       " ('AAVE_USDT.csv', (24, 5)): {'11/2020': 0.5087719298245614,\n",
       "  '12/2020': 0.5454545454545454,\n",
       "  '1/2021': 0.5774647887323944,\n",
       "  '2/2021': 0.65},\n",
       " ('AAVE_USDT.csv', (32, 7)): {'11/2020': 0.5263157894736842,\n",
       "  '12/2020': 0.6,\n",
       "  '1/2021': 0.5107913669064749,\n",
       "  '2/2021': 0.6},\n",
       " ('AAVE_USDT.csv', (42, 7)): {'11/2020': 0.5972222222222222,\n",
       "  '12/2020': 0.6666666666666666,\n",
       "  '1/2021': 0.5257731958762887,\n",
       "  '2/2021': 0.2857142857142857},\n",
       " ('AAVE_USDT.csv', (51, 6)): {'11/2020': 0.5164835164835165,\n",
       "  '12/2020': 0.0,\n",
       "  '1/2021': 0.527027027027027,\n",
       "  '2/2021': 0.5555555555555556},\n",
       " ('AAVE_USDT.csv', (61, 8)): {'11/2020': 0.4691358024691358,\n",
       "  '12/2020': 0.25,\n",
       "  '1/2021': 0.40625,\n",
       "  '2/2021': 0.5555555555555556},\n",
       " ('AAVE_USDT.csv', (73, 12)): {'11/2020': 0.5106382978723404,\n",
       "  '12/2020': 0.0,\n",
       "  '1/2021': 0.4642857142857143,\n",
       "  '2/2021': 0.25},\n",
       " ('AAVE_USDT.csv', (73, 23)): {'11/2020': 0.5531914893617021,\n",
       "  '12/2020': 0.5,\n",
       "  '1/2021': 0.5892857142857143,\n",
       "  '2/2021': 0.375},\n",
       " ('AAVE_USDT.csv', (73, 33)): {'11/2020': 0.5106382978723404,\n",
       "  '12/2020': 0.5,\n",
       "  '1/2021': 0.6071428571428571,\n",
       "  '2/2021': 0.25},\n",
       " ('AAVE_USDT.csv', (73, 53)): {'11/2020': 0.44680851063829785,\n",
       "  '12/2020': 0.0,\n",
       "  '1/2021': 0.6428571428571429,\n",
       "  '2/2021': 0.5},\n",
       " ('AAVE_USDT.csv', (698, 58)): {'11/2020': 0.4666666666666667,\n",
       "  '12/2020': 'NaN',\n",
       "  '1/2021': 0.5,\n",
       "  '2/2021': 0.5},\n",
       " ('AAVE_USDT.csv', (698, 211)): {'11/2020': 0.4666666666666667,\n",
       "  '12/2020': 'NaN',\n",
       "  '1/2021': 0.875,\n",
       "  '2/2021': 0.5},\n",
       " ('AAVE_USDT.csv', (1286, 122)): {'11/2020': 0.7777777777777778,\n",
       "  '12/2020': 'NaN',\n",
       "  '1/2021': 0.5555555555555556,\n",
       "  '2/2021': 1.0},\n",
       " ('AAVE_USDT.csv', (1286, 13)): {'11/2020': 0.2222222222222222,\n",
       "  '12/2020': 'NaN',\n",
       "  '1/2021': 0.4444444444444444,\n",
       "  '2/2021': 1.0},\n",
       " ('ADA_USDT.csv', (17, 2)): {'5/2018': 0.44,\n",
       "  '6/2018': 0.4716981132075472,\n",
       "  '7/2018': 0.5,\n",
       "  '8/2018': 0.5405405405405406,\n",
       "  '9/2018': 0.44285714285714284,\n",
       "  '10/2018': 0.6470588235294118,\n",
       "  '11/2018': 0.46875,\n",
       "  '12/2018': 0.3854166666666667,\n",
       "  '1/2019': 0.5263157894736842,\n",
       "  '2/2019': 0.4318181818181818,\n",
       "  '3/2019': 0.4657534246575342,\n",
       "  '4/2019': 0.4774774774774775,\n",
       "  '5/2019': 0.5503875968992248,\n",
       "  '6/2019': 0.7058823529411765,\n",
       "  '7/2019': 0.4725274725274725,\n",
       "  '8/2019': 0.3829787234042553,\n",
       "  '9/2019': 0.5340909090909091,\n",
       "  '10/2019': 0.5,\n",
       "  '11/2019': 0.40229885057471265,\n",
       "  '12/2019': 0.43902439024390244,\n",
       "  '1/2020': 0.4861111111111111,\n",
       "  '2/2020': 0.5,\n",
       "  '3/2020': 0.5371900826446281,\n",
       "  '4/2020': 0.3125,\n",
       "  '5/2020': 0.4426229508196721,\n",
       "  '6/2020': 0.5192307692307693,\n",
       "  '7/2020': 0.4601226993865031,\n",
       "  '8/2020': 0.47058823529411764,\n",
       "  '9/2020': 0.5,\n",
       "  '10/2020': 0.5,\n",
       "  '11/2020': 0.5097276264591439,\n",
       "  '12/2020': 0.47058823529411764,\n",
       "  '1/2021': 0.5020746887966805,\n",
       "  '2/2021': 0.3333333333333333},\n",
       " ('ADA_USDT.csv', (24, 5)): {'5/2018': 0.5,\n",
       "  '6/2018': 0.5,\n",
       "  '7/2018': 0.47297297297297297,\n",
       "  '8/2018': 0.3877551020408163,\n",
       "  '9/2018': 0.35714285714285715,\n",
       "  '10/2018': 0.5,\n",
       "  '11/2018': 0.45263157894736844,\n",
       "  '12/2018': 0.5507246376811594,\n",
       "  '1/2019': 0.375,\n",
       "  '2/2019': 0.6071428571428571,\n",
       "  '3/2019': 0.45098039215686275,\n",
       "  '4/2019': 0.5542168674698795,\n",
       "  '5/2019': 0.4945054945054945,\n",
       "  '6/2019': 0.34782608695652173,\n",
       "  '7/2019': 0.5076923076923077,\n",
       "  '8/2019': 0.4117647058823529,\n",
       "  '9/2019': 0.46774193548387094,\n",
       "  '10/2019': 0.5333333333333333,\n",
       "  '11/2019': 0.5087719298245614,\n",
       "  '12/2019': 0.4074074074074074,\n",
       "  '1/2020': 0.477124183006536,\n",
       "  '2/2020': 0.4142857142857143,\n",
       "  '3/2020': 0.4583333333333333,\n",
       "  '4/2020': 0.46153846153846156,\n",
       "  '5/2020': 0.40229885057471265,\n",
       "  '6/2020': 0.3684210526315789,\n",
       "  '7/2020': 0.44036697247706424,\n",
       "  '8/2020': 0.38095238095238093,\n",
       "  '9/2020': 0.3979591836734694,\n",
       "  '10/2020': 0.6,\n",
       "  '11/2020': 0.515625,\n",
       "  '12/2020': 0.36,\n",
       "  '1/2021': 0.45348837209302323,\n",
       "  '2/2021': 0.6363636363636364},\n",
       " ('ADA_USDT.csv', (32, 7)): {'5/2018': 0.5172413793103449,\n",
       "  '6/2018': 0.4,\n",
       "  '7/2018': 0.4032258064516129,\n",
       "  '8/2018': 0.5227272727272727,\n",
       "  '9/2018': 0.425,\n",
       "  '10/2018': 0.5454545454545454,\n",
       "  '11/2018': 0.3624161073825503,\n",
       "  '12/2018': 0.5106382978723404,\n",
       "  '1/2019': 0.2857142857142857,\n",
       "  '2/2019': 0.36,\n",
       "  '3/2019': 0.34328358208955223,\n",
       "  '4/2019': 0.6721311475409836,\n",
       "  '5/2019': 0.5277777777777778,\n",
       "  '6/2019': 0.5714285714285714,\n",
       "  '7/2019': 0.37735849056603776,\n",
       "  '8/2019': 0.34375,\n",
       "  '9/2019': 0.3953488372093023,\n",
       "  '10/2019': 0.42857142857142855,\n",
       "  '11/2019': 0.4807692307692308,\n",
       "  '12/2019': 0.6666666666666666,\n",
       "  '1/2020': 0.43548387096774194,\n",
       "  '2/2020': 0.5833333333333334,\n",
       "  '3/2020': 0.4603174603174603,\n",
       "  '4/2020': 0.4,\n",
       "  '5/2020': 0.5072463768115942,\n",
       "  '6/2020': 0.4090909090909091,\n",
       "  '7/2020': 0.30864197530864196,\n",
       "  '8/2020': 0.6875,\n",
       "  '9/2020': 0.4222222222222222,\n",
       "  '10/2020': 0.6363636363636364,\n",
       "  '11/2020': 0.46564885496183206,\n",
       "  '12/2020': 0.6,\n",
       "  '1/2021': 0.44274809160305345,\n",
       "  '2/2021': 0.45454545454545453},\n",
       " ('ADA_USDT.csv', (42, 7)): {'5/2018': 0.5294117647058824,\n",
       "  '6/2018': 0.47619047619047616,\n",
       "  '7/2018': 0.5306122448979592,\n",
       "  '8/2018': 0.2857142857142857,\n",
       "  '9/2018': 0.3783783783783784,\n",
       "  '10/2018': 0.6666666666666666,\n",
       "  '11/2018': 0.4722222222222222,\n",
       "  '12/2018': 0.4,\n",
       "  '1/2019': 0.42857142857142855,\n",
       "  '2/2019': 0.5714285714285714,\n",
       "  '3/2019': 0.43333333333333335,\n",
       "  '4/2019': 0.5333333333333333,\n",
       "  '5/2019': 0.4153846153846154,\n",
       "  '6/2019': 0.375,\n",
       "  '7/2019': 0.5348837209302325,\n",
       "  '8/2019': 0.25,\n",
       "  '9/2019': 0.42424242424242425,\n",
       "  '10/2019': 0.6,\n",
       "  '11/2019': 0.5161290322580645,\n",
       "  '12/2019': 0.4444444444444444,\n",
       "  '1/2020': 0.45454545454545453,\n",
       "  '2/2020': 0.5833333333333334,\n",
       "  '3/2020': 0.421875,\n",
       "  '4/2020': 0.6,\n",
       "  '5/2020': 0.35714285714285715,\n",
       "  '6/2020': 0.6,\n",
       "  '7/2020': 0.546875,\n",
       "  '8/2020': 0.38461538461538464,\n",
       "  '9/2020': 0.34545454545454546,\n",
       "  '10/2020': 0.5,\n",
       "  '11/2020': 0.5446428571428571,\n",
       "  '12/2020': 0.47058823529411764,\n",
       "  '1/2021': 0.41228070175438597,\n",
       "  '2/2021': 0.6428571428571429},\n",
       " ('ADA_USDT.csv', (51, 6)): {'5/2018': 0.23809523809523808,\n",
       "  '6/2018': 0.6428571428571429,\n",
       "  '7/2018': 0.3953488372093023,\n",
       "  '8/2018': 0.4074074074074074,\n",
       "  '9/2018': 0.5806451612903226,\n",
       "  '10/2018': 0.375,\n",
       "  '11/2018': 0.4050632911392405,\n",
       "  '12/2018': 0.6944444444444444,\n",
       "  '1/2019': 0.2,\n",
       "  '2/2019': 0.5,\n",
       "  '3/2019': 0.4791666666666667,\n",
       "  '4/2019': 0.3055555555555556,\n",
       "  '5/2019': 0.38235294117647056,\n",
       "  '6/2019': 0.375,\n",
       "  '7/2019': 0.5128205128205128,\n",
       "  '8/2019': 0.42857142857142855,\n",
       "  '9/2019': 0.42857142857142855,\n",
       "  '10/2019': 0.6470588235294118,\n",
       "  '11/2019': 0.5,\n",
       "  '12/2019': 0.5,\n",
       "  '1/2020': 0.5277777777777778,\n",
       "  '2/2020': 0.5,\n",
       "  '3/2020': 0.5263157894736842,\n",
       "  '4/2020': 0.3,\n",
       "  '5/2020': 0.5,\n",
       "  '6/2020': 0.4375,\n",
       "  '7/2020': 0.46153846153846156,\n",
       "  '8/2020': 0.5,\n",
       "  '9/2020': 0.45454545454545453,\n",
       "  '10/2020': 0.2,\n",
       "  '11/2020': 0.4666666666666667,\n",
       "  '12/2020': 0.7777777777777778,\n",
       "  '1/2021': 0.44565217391304346,\n",
       "  '2/2021': 0.5714285714285714},\n",
       " ('ADA_USDT.csv', (61, 8)): {'5/2018': 0.3333333333333333,\n",
       "  '6/2018': 0.5714285714285714,\n",
       "  '7/2018': 0.4594594594594595,\n",
       "  '8/2018': 0.5333333333333333,\n",
       "  '9/2018': 0.42857142857142855,\n",
       "  '10/2018': 0.6666666666666666,\n",
       "  '11/2018': 0.4939759036144578,\n",
       "  '12/2018': 0.52,\n",
       "  '1/2019': 0.3333333333333333,\n",
       "  '2/2019': 0.4117647058823529,\n",
       "  '3/2019': 0.39473684210526316,\n",
       "  '4/2019': 0.5428571428571428,\n",
       "  '5/2019': 0.43243243243243246,\n",
       "  '6/2019': 0.6153846153846154,\n",
       "  '7/2019': 0.48,\n",
       "  '8/2019': 0.4444444444444444,\n",
       "  '9/2019': 0.6666666666666666,\n",
       "  '10/2019': 0.5,\n",
       "  '11/2019': 0.3793103448275862,\n",
       "  '12/2019': 0.5,\n",
       "  '1/2020': 0.5633802816901409,\n",
       "  '2/2020': 0.36363636363636365,\n",
       "  '3/2020': 0.6052631578947368,\n",
       "  '4/2020': 0.6666666666666666,\n",
       "  '5/2020': 0.48717948717948717,\n",
       "  '6/2020': 0.2,\n",
       "  '7/2020': 0.5263157894736842,\n",
       "  '8/2020': 0.36363636363636365,\n",
       "  '9/2020': 0.21621621621621623,\n",
       "  '10/2020': 0.5555555555555556,\n",
       "  '11/2020': 0.5068493150684932,\n",
       "  '12/2020': 0.5454545454545454,\n",
       "  '1/2021': 0.4788732394366197,\n",
       "  '2/2021': 0.42857142857142855},\n",
       " ('ADA_USDT.csv', (73, 12)): {'5/2018': 0.4,\n",
       "  '6/2018': 0.4666666666666667,\n",
       "  '7/2018': 0.42857142857142855,\n",
       "  '8/2018': 0.26666666666666666,\n",
       "  '9/2018': 0.5,\n",
       "  '10/2018': 0.5,\n",
       "  '11/2018': 0.5263157894736842,\n",
       "  '12/2018': 0.5151515151515151,\n",
       "  '1/2019': 1.0,\n",
       "  '2/2019': 0.3,\n",
       "  '3/2019': 0.3125,\n",
       "  '4/2019': 0.6206896551724138,\n",
       "  '5/2019': 0.3939393939393939,\n",
       "  '6/2019': 0.5,\n",
       "  '7/2019': 0.2692307692307692,\n",
       "  '8/2019': 0.2,\n",
       "  '9/2019': 0.35714285714285715,\n",
       "  '10/2019': 0.5833333333333334,\n",
       "  '11/2019': 0.5909090909090909,\n",
       "  '12/2019': 0.25,\n",
       "  '1/2020': 0.49056603773584906,\n",
       "  '2/2020': 0.4482758620689655,\n",
       "  '3/2020': 0.28125,\n",
       "  '4/2020': 0.25,\n",
       "  '5/2020': 0.4482758620689655,\n",
       "  '6/2020': 0.08333333333333333,\n",
       "  '7/2020': 0.5757575757575758,\n",
       "  '8/2020': 0.14285714285714285,\n",
       "  '9/2020': 0.4782608695652174,\n",
       "  '10/2020': 0.5714285714285714,\n",
       "  '11/2020': 0.5217391304347826,\n",
       "  '12/2020': 0.3076923076923077,\n",
       "  '1/2021': 0.509090909090909,\n",
       "  '2/2021': 0.5555555555555556},\n",
       " ('ADA_USDT.csv', (73, 23)): {'5/2018': 0.4,\n",
       "  '6/2018': 0.6666666666666666,\n",
       "  '7/2018': 0.42857142857142855,\n",
       "  '8/2018': 0.26666666666666666,\n",
       "  '9/2018': 0.4090909090909091,\n",
       "  '10/2018': 0.5,\n",
       "  '11/2018': 0.543859649122807,\n",
       "  '12/2018': 0.30303030303030304,\n",
       "  '1/2019': 0.5,\n",
       "  '2/2019': 0.2,\n",
       "  '3/2019': 0.28125,\n",
       "  '4/2019': 0.4482758620689655,\n",
       "  '5/2019': 0.42424242424242425,\n",
       "  '6/2019': 0.25,\n",
       "  '7/2019': 0.19230769230769232,\n",
       "  '8/2019': 0.3,\n",
       "  '9/2019': 0.42857142857142855,\n",
       "  '10/2019': 0.3333333333333333,\n",
       "  '11/2019': 0.5,\n",
       "  '12/2019': 0.0,\n",
       "  '1/2020': 0.49056603773584906,\n",
       "  '2/2020': 0.41379310344827586,\n",
       "  '3/2020': 0.28125,\n",
       "  '4/2020': 0.25,\n",
       "  '5/2020': 0.4827586206896552,\n",
       "  '6/2020': 0.16666666666666666,\n",
       "  '7/2020': 0.48484848484848486,\n",
       "  '8/2020': 0.2857142857142857,\n",
       "  '9/2020': 0.4782608695652174,\n",
       "  '10/2020': 0.2857142857142857,\n",
       "  '11/2020': 0.5507246376811594,\n",
       "  '12/2020': 0.38461538461538464,\n",
       "  '1/2021': 0.4909090909090909,\n",
       "  '2/2021': 0.3333333333333333},\n",
       " ('ADA_USDT.csv', (73, 33)): {'5/2018': 0.4,\n",
       "  '6/2018': 0.5333333333333333,\n",
       "  '7/2018': 0.42857142857142855,\n",
       "  '8/2018': 0.26666666666666666,\n",
       "  '9/2018': 0.4090909090909091,\n",
       "  '10/2018': 0.5,\n",
       "  '11/2018': 0.43859649122807015,\n",
       "  '12/2018': 0.5454545454545454,\n",
       "  '1/2019': 1.0,\n",
       "  '2/2019': 0.3,\n",
       "  '3/2019': 0.28125,\n",
       "  '4/2019': 0.5517241379310345,\n",
       "  '5/2019': 0.42424242424242425,\n",
       "  '6/2019': 0.0,\n",
       "  '7/2019': 0.38461538461538464,\n",
       "  '8/2019': 0.4,\n",
       "  '9/2019': 0.5,\n",
       "  '10/2019': 0.5,\n",
       "  '11/2019': 0.5,\n",
       "  '12/2019': 0.25,\n",
       "  '1/2020': 0.5094339622641509,\n",
       "  '2/2020': 0.3793103448275862,\n",
       "  '3/2020': 0.625,\n",
       "  '4/2020': 0.0,\n",
       "  '5/2020': 0.5517241379310345,\n",
       "  '6/2020': 0.08333333333333333,\n",
       "  '7/2020': 0.5151515151515151,\n",
       "  '8/2020': 0.42857142857142855,\n",
       "  '9/2020': 0.30434782608695654,\n",
       "  '10/2020': 0.5714285714285714,\n",
       "  '11/2020': 0.5797101449275363,\n",
       "  '12/2020': 0.5384615384615384,\n",
       "  '1/2021': 0.5272727272727272,\n",
       "  '2/2021': 0.2222222222222222},\n",
       " ('ADA_USDT.csv', (73, 53)): {'5/2018': 0.4,\n",
       "  '6/2018': 0.6,\n",
       "  '7/2018': 0.3333333333333333,\n",
       "  '8/2018': 0.13333333333333333,\n",
       "  '9/2018': 0.4090909090909091,\n",
       "  '10/2018': 0.5,\n",
       "  '11/2018': 0.49122807017543857,\n",
       "  '12/2018': 0.5151515151515151,\n",
       "  '1/2019': 1.0,\n",
       "  '2/2019': 0.4,\n",
       "  '3/2019': 0.3125,\n",
       "  '4/2019': 0.5172413793103449,\n",
       "  '5/2019': 0.45454545454545453,\n",
       "  '6/2019': 0.0,\n",
       "  '7/2019': 0.4230769230769231,\n",
       "  '8/2019': 0.3,\n",
       "  '9/2019': 0.5,\n",
       "  '10/2019': 0.5,\n",
       "  '11/2019': 0.5454545454545454,\n",
       "  '12/2019': 0.25,\n",
       "  '1/2020': 0.6037735849056604,\n",
       "  '2/2020': 0.41379310344827586,\n",
       "  '3/2020': 0.5625,\n",
       "  '4/2020': 0.25,\n",
       "  '5/2020': 0.5517241379310345,\n",
       "  '6/2020': 0.3333333333333333,\n",
       "  '7/2020': 0.3333333333333333,\n",
       "  '8/2020': 0.42857142857142855,\n",
       "  '9/2020': 0.4782608695652174,\n",
       "  '10/2020': 0.2857142857142857,\n",
       "  '11/2020': 0.5362318840579711,\n",
       "  '12/2020': 0.46153846153846156,\n",
       "  '1/2021': 0.509090909090909,\n",
       "  '2/2021': 0.2222222222222222},\n",
       " ('ADA_USDT.csv', (698, 58)): {'5/2018': 1.0,\n",
       "  '6/2018': 0.6666666666666666,\n",
       "  '7/2018': 0.5,\n",
       "  '8/2018': 0.0,\n",
       "  '9/2018': 0.3333333333333333,\n",
       "  '10/2018': 'NaN',\n",
       "  '11/2018': 0.5555555555555556,\n",
       "  '12/2018': 0.5454545454545454,\n",
       "  '1/2019': 'NaN',\n",
       "  '2/2019': 0.3333333333333333,\n",
       "  '3/2019': 'NaN',\n",
       "  '4/2019': 0.25,\n",
       "  '5/2019': 0.3333333333333333,\n",
       "  '6/2019': 'NaN',\n",
       "  '7/2019': 0.75,\n",
       "  '8/2019': 'NaN',\n",
       "  '9/2019': 0.3333333333333333,\n",
       "  '10/2019': 0.5,\n",
       "  '11/2019': 1.0,\n",
       "  '12/2019': 1.0,\n",
       "  '1/2020': 0.7272727272727273,\n",
       "  '2/2020': 0.0,\n",
       "  '3/2020': 0.2857142857142857,\n",
       "  '4/2020': 'NaN',\n",
       "  '5/2020': 0.0,\n",
       "  '6/2020': 0.0,\n",
       "  '7/2020': 0.5,\n",
       "  '8/2020': 'NaN',\n",
       "  '9/2020': 0.3333333333333333,\n",
       "  '10/2020': 'NaN',\n",
       "  '11/2020': 0.18181818181818182,\n",
       "  '12/2020': 0.3333333333333333,\n",
       "  '1/2021': 0.75,\n",
       "  '2/2021': 0.6666666666666666},\n",
       " ('ADA_USDT.csv', (698, 211)): {'5/2018': 1.0,\n",
       "  '6/2018': 0.3333333333333333,\n",
       "  '7/2018': 0.5,\n",
       "  '8/2018': 0.0,\n",
       "  '9/2018': 0.6666666666666666,\n",
       "  '10/2018': 'NaN',\n",
       "  '11/2018': 0.5555555555555556,\n",
       "  '12/2018': 0.6363636363636364,\n",
       "  '1/2019': 'NaN',\n",
       "  '2/2019': 0.3333333333333333,\n",
       "  '3/2019': 'NaN',\n",
       "  '4/2019': 0.75,\n",
       "  '5/2019': 0.3333333333333333,\n",
       "  '6/2019': 'NaN',\n",
       "  '7/2019': 0.5,\n",
       "  '8/2019': 'NaN',\n",
       "  '9/2019': 0.3333333333333333,\n",
       "  '10/2019': 0.5,\n",
       "  '11/2019': 0.5,\n",
       "  '12/2019': 1.0,\n",
       "  '1/2020': 0.45454545454545453,\n",
       "  '2/2020': 1.0,\n",
       "  '3/2020': 0.2857142857142857,\n",
       "  '4/2020': 'NaN',\n",
       "  '5/2020': 0.6666666666666666,\n",
       "  '6/2020': 1.0,\n",
       "  '7/2020': 0.9,\n",
       "  '8/2020': 'NaN',\n",
       "  '9/2020': 0.3333333333333333,\n",
       "  '10/2020': 'NaN',\n",
       "  '11/2020': 0.5454545454545454,\n",
       "  '12/2020': 0.3333333333333333,\n",
       "  '1/2021': 0.75,\n",
       "  '2/2021': 0.6666666666666666},\n",
       " ('ADA_USDT.csv', (1286, 122)): {'5/2018': 0.0,\n",
       "  '6/2018': 'NaN',\n",
       "  '7/2018': 1.0,\n",
       "  '8/2018': 0.5,\n",
       "  '9/2018': 1.0,\n",
       "  '10/2018': 0.0,\n",
       "  '11/2018': 0.5,\n",
       "  '12/2018': 0.3333333333333333,\n",
       "  '1/2019': 'NaN',\n",
       "  '2/2019': 0.3333333333333333,\n",
       "  '3/2019': 0.0,\n",
       "  '4/2019': 1.0,\n",
       "  '5/2019': 1.0,\n",
       "  '6/2019': 'NaN',\n",
       "  '7/2019': 0.0,\n",
       "  '8/2019': 1.0,\n",
       "  '9/2019': 1.0,\n",
       "  '10/2019': 0.3333333333333333,\n",
       "  '11/2019': 'NaN',\n",
       "  '12/2019': 0.0,\n",
       "  '1/2020': 0.5,\n",
       "  '2/2020': 'NaN',\n",
       "  '3/2020': 0.0,\n",
       "  '4/2020': 1.0,\n",
       "  '5/2020': 0.0,\n",
       "  '6/2020': 'NaN',\n",
       "  '7/2020': 0.3333333333333333,\n",
       "  '8/2020': 'NaN',\n",
       "  '9/2020': 0.3333333333333333,\n",
       "  '10/2020': 'NaN',\n",
       "  '11/2020': 0.375,\n",
       "  '12/2020': 0.0,\n",
       "  '1/2021': 0.42857142857142855,\n",
       "  '2/2021': 'NaN'},\n",
       " ('ADA_USDT.csv', (1286, 13)): {'5/2018': 0.0,\n",
       "  '6/2018': 'NaN',\n",
       "  '7/2018': 1.0,\n",
       "  '8/2018': 0.5,\n",
       "  '9/2018': 0.3333333333333333,\n",
       "  '10/2018': 0.0,\n",
       "  '11/2018': 0.5,\n",
       "  '12/2018': 1.0,\n",
       "  '1/2019': 'NaN',\n",
       "  '2/2019': 0.6666666666666666,\n",
       "  '3/2019': 0.0,\n",
       "  '4/2019': 1.0,\n",
       "  '5/2019': 0.0,\n",
       "  '6/2019': 'NaN',\n",
       "  '7/2019': 0.0,\n",
       "  '8/2019': 0.0,\n",
       "  '9/2019': 1.0,\n",
       "  '10/2019': 0.6666666666666666,\n",
       "  '11/2019': 'NaN',\n",
       "  '12/2019': 0.0,\n",
       "  '1/2020': 0.4,\n",
       "  '2/2020': 'NaN',\n",
       "  '3/2020': 0.0,\n",
       "  '4/2020': 0.0,\n",
       "  '5/2020': 1.0,\n",
       "  '6/2020': 'NaN',\n",
       "  '7/2020': 0.3333333333333333,\n",
       "  '8/2020': 'NaN',\n",
       "  '9/2020': 0.6666666666666666,\n",
       "  '10/2020': 'NaN',\n",
       "  '11/2020': 0.5,\n",
       "  '12/2020': 0.0,\n",
       "  '1/2021': 0.2857142857142857,\n",
       "  '2/2021': 'NaN'}}"
      ]
     },
     "execution_count": 110,
     "metadata": {},
     "output_type": "execute_result"
    }
   ],
   "source": [
    "coin_pairs = l[:3]\n",
    "pump_threshold = 97\n",
    "tmp = time_measure_pairs[:3]\n",
    "\n",
    "get_price_impact_study(coin_pairs,pump_threshold,time_measure_pairs)"
   ]
  },
  {
   "cell_type": "code",
   "execution_count": null,
   "metadata": {},
   "outputs": [],
   "source": []
  },
  {
   "cell_type": "code",
   "execution_count": null,
   "metadata": {},
   "outputs": [],
   "source": []
  }
 ],
 "metadata": {
  "kernelspec": {
   "display_name": "Python 3 (ipykernel)",
   "language": "python",
   "name": "python3"
  },
  "language_info": {
   "codemirror_mode": {
    "name": "ipython",
    "version": 3
   },
   "file_extension": ".py",
   "mimetype": "text/x-python",
   "name": "python",
   "nbconvert_exporter": "python",
   "pygments_lexer": "ipython3",
   "version": "3.9.7"
  }
 },
 "nbformat": 4,
 "nbformat_minor": 4
}
