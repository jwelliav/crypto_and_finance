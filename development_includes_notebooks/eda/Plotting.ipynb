{
 "cells": [
  {
   "cell_type": "code",
   "execution_count": null,
   "metadata": {},
   "outputs": [],
   "source": [
    "import pandas as pd\n",
    "import numpy as np \n",
    "import os\n",
    "import sys\n",
    "import matplotlib.pyplot as plt\n",
    "import datetime\n",
    "from tqdm.notebook import tqdm\n",
    "import plotly.express as px\n",
    "import plotly.graph_objects as go\n",
    "import statistics \n",
    "from statistics import mode \n",
    "import math"
   ]
  },
  {
   "cell_type": "code",
   "execution_count": 2,
   "metadata": {},
   "outputs": [],
   "source": [
    "def plot_daily_price_volume(df,title,):\n",
    "    df_1d = resample(df,'1D')\n",
    "\n",
    "    area_chart = px.area(df_1d.close, title = 'Daily price')\n",
    "    \n",
    "    area_chart.update_xaxes(title_text = 'Date')\n",
    "    area_chart.update_yaxes(title_text = 'close price', tickprefix = '$')\n",
    "    area_chart.update_layout(showlegend = False)\n",
    "    area_chart.show()\n",
    "    \n",
    "    area_chart = px.area(df_1d.volume, title = 'Daily volume')\n",
    "\n",
    "    area_chart.update_xaxes(title_text = 'Date')\n",
    "    area_chart.update_yaxes(title_text = 'volume')\n",
    "    area_chart.update_layout(showlegend = False)\n",
    "    area_chart.show()"
   ]
  },
  {
   "cell_type": "code",
   "execution_count": null,
   "metadata": {},
   "outputs": [],
   "source": []
  },
  {
   "cell_type": "code",
   "execution_count": null,
   "metadata": {},
   "outputs": [],
   "source": []
  },
  {
   "cell_type": "code",
   "execution_count": null,
   "metadata": {},
   "outputs": [],
   "source": []
  },
  {
   "cell_type": "code",
   "execution_count": null,
   "metadata": {},
   "outputs": [],
   "source": []
  }
 ],
 "metadata": {
  "kernelspec": {
   "display_name": "Python 3",
   "language": "python",
   "name": "python3"
  },
  "language_info": {
   "codemirror_mode": {
    "name": "ipython",
    "version": 3
   },
   "file_extension": ".py",
   "mimetype": "text/x-python",
   "name": "python",
   "nbconvert_exporter": "python",
   "pygments_lexer": "ipython3",
   "version": "3.8.8"
  }
 },
 "nbformat": 4,
 "nbformat_minor": 4
}
