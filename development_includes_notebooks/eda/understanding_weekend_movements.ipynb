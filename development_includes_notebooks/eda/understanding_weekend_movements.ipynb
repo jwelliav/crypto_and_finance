{
 "cells": [
  {
   "cell_type": "code",
   "execution_count": 1,
   "id": "bf66f2fc",
   "metadata": {},
   "outputs": [],
   "source": [
    "import pandas as pd\n",
    "import numpy as np\n",
    "import os\n",
    "import os.path as osp\n",
    "from tqdm.notebook import tqdm\n",
    "import sys\n",
    "sys.path.append('../../scripts')\n",
    "import preprocessing.preprocessing as preprocessing\n",
    "import matplotlib.pyplot as plt"
   ]
  },
  {
   "cell_type": "code",
   "execution_count": 2,
   "id": "08b1ad21",
   "metadata": {},
   "outputs": [],
   "source": [
    "# functions we use : \n",
    "\n",
    "# weekly variations\n",
    "\n",
    "def isolate_weekdays(df: pd.DataFrame):\n",
    "    \"\"\"\n",
    "    df - dataframe with daily data and a column where the day of the week was given as an integer \n",
    "    0 is Monday, 6 is Sunday\n",
    "    \"\"\"\n",
    "    tmp = df[df['day_of_week'].apply(lambda x : x in [0,1,2,3,4])]\n",
    "    tmp = preprocessing.resample(tmp,'1W')\n",
    "\n",
    "    tmp['intra_weekday_returns'] = (tmp['close'] - tmp['open'])/tmp['open']\n",
    "    \n",
    "    return tmp\n",
    "\n",
    "def isolate_weekends(df: pd.DataFrame):\n",
    "    \n",
    "    \"\"\"\n",
    "    df - dataframe with daily data and a column where the day of the week was given as an integer \n",
    "    0 is Monday, 6 is Sunday\n",
    "    \"\"\"\n",
    "    \n",
    "    tmp = df[df['day_of_week'].apply(lambda x : x not in [0,1,2,3,4])]\n",
    "    tmp = preprocessing.resample(tmp,'1W')\n",
    "\n",
    "    tmp['intra_weekend_returns'] = (tmp['close'] - tmp['open'])/tmp['open']\n",
    "    \n",
    "    return tmp\n",
    "\n",
    "def calculate_weekly_price_vols(df: pd.DataFrame):\n",
    "    \"\"\"\n",
    "    df - pandas dataframe ohlcv with a returns column\n",
    "    \"\"\"\n",
    "    df = df.dropna()\n",
    "    df['day_of_week'] = df.index.dayofweek\n",
    "    tmp = df[df['day_of_week'].apply(lambda x : x in [0,1,2,3,4])]\n",
    "    c = tmp.groupby(pd.Grouper(freq = 'W'))['returns'].apply(lambda x : np.std(x))\n",
    "    return c \n",
    "\n",
    "# strategy - buy at the close of a particular weekday, sell over the weekend as soon as you make \n",
    "# more than the threshold return\n",
    "\n",
    "\n",
    "def buy_at_weekday_check_weekend(df: pd.DataFrame,\n",
    "                                 day_of_week: int,\n",
    "                                 threshold: float):\n",
    "    \"\"\"\n",
    "    df - daily price dataframe,\n",
    "    day_of_week - int code of day of the week has to be between 0 and 4 (incl)\n",
    "    threshold - float value which represents the minimum value over which we will sell\n",
    "    \"\"\"\n",
    "    \n",
    "    tmp = df[df['day_of_week'] == day_of_week]\n",
    "    tmp = preprocessing.resample(tmp,'1W')\n",
    "\n",
    "    df_1d_weekends = isolate_weekends(df)\n",
    "    \n",
    "    t = list(set(df_1d_weekends.index).intersection(set(tmp.index)))\n",
    "    t.sort()\n",
    "    \n",
    "    df_1d_weekends = df_1d_weekends.loc[t]\n",
    "    tmp = tmp.loc[t]\n",
    "    \n",
    "    diff  =  (df_1d_weekends['high'].values - tmp['close'].values)/(tmp['close'].values)\n",
    "    \n",
    "    success_rate = (diff > threshold).sum()/len(diff)\n",
    "    \n",
    "    return success_rate,diff\n",
    "     \n",
    "# Trying to figure out when this strategy fails by looking at the week that precedes an instance \n",
    "# when we can't make our 1 percent over the weekend. \n",
    "\n",
    "def what_happened_in_that_week(df: pd.DataFrame,s: str):\n",
    "    t1 = pd.to_datetime(s)\n",
    "    t0 = t1 - pd.Timedelta('6D')\n",
    "    \n",
    "    tmp = df.loc[t0:t1]\n",
    "    tmp.close.plot()\n",
    "    \n",
    "    #tmptmp = tmp[tmp.day_of_week.apply(lambda x : x in [0,1,2,3,4])]\n",
    "    #tmptmp.close.plot()\n",
    "    \n",
    "    f = (tmp.close[4] - tmp.close[0])/tmp.close[0]\n",
    "    \n",
    "    return f    "
   ]
  },
  {
   "cell_type": "code",
   "execution_count": 2,
   "id": "f1f0c7c0",
   "metadata": {},
   "outputs": [],
   "source": [
    "#df = pd.read_csv('../../data/data_new/raw/Binance/DOGE_USDT/DOGE_USDT.csv')"
   ]
  },
  {
   "cell_type": "code",
   "execution_count": 3,
   "id": "16ccf2bc",
   "metadata": {},
   "outputs": [],
   "source": [
    "#def correct_csv():\n",
    "#    root = '../../data/data_new/raw/Binance/'\n",
    "#    for f in tqdm(os.listdir(root)):\n",
    "#        if osp.isdir(osp.join(root,f)):\n",
    "#            folder_name = osp.join(root,f)\n",
    "#            path = folder_name + '/{}.csv'.format(f)\n",
    "#            df = pd.read_csv(path)\n",
    "#            df = df.drop('Unnamed: 0',axis = 1)\n",
    "#            df.to_csv(path,index = False)"
   ]
  },
  {
   "cell_type": "code",
   "execution_count": 4,
   "id": "7f9c5bc6",
   "metadata": {},
   "outputs": [],
   "source": [
    "#correct_csv()"
   ]
  },
  {
   "cell_type": "code",
   "execution_count": 3,
   "id": "fe19fbb7",
   "metadata": {},
   "outputs": [
    {
     "name": "stdout",
     "output_type": "stream",
     "text": [
      "Total NaN : \n",
      "\n",
      "timestamp    0\n",
      "open         0\n",
      "high         0\n",
      "low          0\n",
      "close        0\n",
      "volume       0\n",
      "returns      1\n",
      "dtype: int64\n",
      "\n"
     ]
    }
   ],
   "source": [
    "df = preprocessing.load_df('../../data/data_new/raw/Binance/BTC_USDT/BTC_USDT.csv')"
   ]
  },
  {
   "cell_type": "code",
   "execution_count": 6,
   "id": "83782128",
   "metadata": {},
   "outputs": [
    {
     "data": {
      "text/html": [
       "<div>\n",
       "<style scoped>\n",
       "    .dataframe tbody tr th:only-of-type {\n",
       "        vertical-align: middle;\n",
       "    }\n",
       "\n",
       "    .dataframe tbody tr th {\n",
       "        vertical-align: top;\n",
       "    }\n",
       "\n",
       "    .dataframe thead th {\n",
       "        text-align: right;\n",
       "    }\n",
       "</style>\n",
       "<table border=\"1\" class=\"dataframe\">\n",
       "  <thead>\n",
       "    <tr style=\"text-align: right;\">\n",
       "      <th></th>\n",
       "      <th>timestamp</th>\n",
       "      <th>open</th>\n",
       "      <th>high</th>\n",
       "      <th>low</th>\n",
       "      <th>close</th>\n",
       "      <th>volume</th>\n",
       "      <th>returns</th>\n",
       "    </tr>\n",
       "    <tr>\n",
       "      <th>date</th>\n",
       "      <th></th>\n",
       "      <th></th>\n",
       "      <th></th>\n",
       "      <th></th>\n",
       "      <th></th>\n",
       "      <th></th>\n",
       "      <th></th>\n",
       "    </tr>\n",
       "  </thead>\n",
       "  <tbody>\n",
       "    <tr>\n",
       "      <th>2018-02-10 00:00:00</th>\n",
       "      <td>1518220800000</td>\n",
       "      <td>8683.93</td>\n",
       "      <td>8683.93</td>\n",
       "      <td>8650.00</td>\n",
       "      <td>8650.00</td>\n",
       "      <td>39.390029</td>\n",
       "      <td>-0.003906</td>\n",
       "    </tr>\n",
       "    <tr>\n",
       "      <th>2018-02-10 00:01:00</th>\n",
       "      <td>1518220860000</td>\n",
       "      <td>8661.89</td>\n",
       "      <td>8661.90</td>\n",
       "      <td>8640.48</td>\n",
       "      <td>8641.44</td>\n",
       "      <td>19.946281</td>\n",
       "      <td>-0.000990</td>\n",
       "    </tr>\n",
       "    <tr>\n",
       "      <th>2018-02-10 00:02:00</th>\n",
       "      <td>1518220920000</td>\n",
       "      <td>8644.93</td>\n",
       "      <td>8652.00</td>\n",
       "      <td>8634.28</td>\n",
       "      <td>8645.03</td>\n",
       "      <td>35.284595</td>\n",
       "      <td>0.000415</td>\n",
       "    </tr>\n",
       "    <tr>\n",
       "      <th>2018-02-10 00:03:00</th>\n",
       "      <td>1518220980000</td>\n",
       "      <td>8645.09</td>\n",
       "      <td>8668.00</td>\n",
       "      <td>8637.73</td>\n",
       "      <td>8645.98</td>\n",
       "      <td>17.211845</td>\n",
       "      <td>0.000110</td>\n",
       "    </tr>\n",
       "    <tr>\n",
       "      <th>2018-02-10 00:04:00</th>\n",
       "      <td>1518221040000</td>\n",
       "      <td>8636.15</td>\n",
       "      <td>8645.92</td>\n",
       "      <td>8604.08</td>\n",
       "      <td>8605.00</td>\n",
       "      <td>19.959248</td>\n",
       "      <td>-0.004740</td>\n",
       "    </tr>\n",
       "    <tr>\n",
       "      <th>...</th>\n",
       "      <td>...</td>\n",
       "      <td>...</td>\n",
       "      <td>...</td>\n",
       "      <td>...</td>\n",
       "      <td>...</td>\n",
       "      <td>...</td>\n",
       "      <td>...</td>\n",
       "    </tr>\n",
       "    <tr>\n",
       "      <th>2018-02-10 23:55:00</th>\n",
       "      <td>1518306900000</td>\n",
       "      <td>8516.76</td>\n",
       "      <td>8530.00</td>\n",
       "      <td>8514.00</td>\n",
       "      <td>8525.00</td>\n",
       "      <td>13.516443</td>\n",
       "      <td>0.000969</td>\n",
       "    </tr>\n",
       "    <tr>\n",
       "      <th>2018-02-10 23:56:00</th>\n",
       "      <td>1518306960000</td>\n",
       "      <td>8519.94</td>\n",
       "      <td>8520.00</td>\n",
       "      <td>8514.00</td>\n",
       "      <td>8519.75</td>\n",
       "      <td>9.339584</td>\n",
       "      <td>-0.000616</td>\n",
       "    </tr>\n",
       "    <tr>\n",
       "      <th>2018-02-10 23:57:00</th>\n",
       "      <td>1518307020000</td>\n",
       "      <td>8519.00</td>\n",
       "      <td>8522.00</td>\n",
       "      <td>8514.00</td>\n",
       "      <td>8515.00</td>\n",
       "      <td>8.133941</td>\n",
       "      <td>-0.000558</td>\n",
       "    </tr>\n",
       "    <tr>\n",
       "      <th>2018-02-10 23:58:00</th>\n",
       "      <td>1518307080000</td>\n",
       "      <td>8515.00</td>\n",
       "      <td>8539.00</td>\n",
       "      <td>8514.01</td>\n",
       "      <td>8534.74</td>\n",
       "      <td>19.603740</td>\n",
       "      <td>0.002318</td>\n",
       "    </tr>\n",
       "    <tr>\n",
       "      <th>2018-02-10 23:59:00</th>\n",
       "      <td>1518307140000</td>\n",
       "      <td>8533.79</td>\n",
       "      <td>8543.24</td>\n",
       "      <td>8525.86</td>\n",
       "      <td>8533.98</td>\n",
       "      <td>16.269635</td>\n",
       "      <td>-0.000089</td>\n",
       "    </tr>\n",
       "  </tbody>\n",
       "</table>\n",
       "<p>1425 rows × 7 columns</p>\n",
       "</div>"
      ],
      "text/plain": [
       "                         timestamp     open     high      low    close  \\\n",
       "date                                                                     \n",
       "2018-02-10 00:00:00  1518220800000  8683.93  8683.93  8650.00  8650.00   \n",
       "2018-02-10 00:01:00  1518220860000  8661.89  8661.90  8640.48  8641.44   \n",
       "2018-02-10 00:02:00  1518220920000  8644.93  8652.00  8634.28  8645.03   \n",
       "2018-02-10 00:03:00  1518220980000  8645.09  8668.00  8637.73  8645.98   \n",
       "2018-02-10 00:04:00  1518221040000  8636.15  8645.92  8604.08  8605.00   \n",
       "...                            ...      ...      ...      ...      ...   \n",
       "2018-02-10 23:55:00  1518306900000  8516.76  8530.00  8514.00  8525.00   \n",
       "2018-02-10 23:56:00  1518306960000  8519.94  8520.00  8514.00  8519.75   \n",
       "2018-02-10 23:57:00  1518307020000  8519.00  8522.00  8514.00  8515.00   \n",
       "2018-02-10 23:58:00  1518307080000  8515.00  8539.00  8514.01  8534.74   \n",
       "2018-02-10 23:59:00  1518307140000  8533.79  8543.24  8525.86  8533.98   \n",
       "\n",
       "                        volume   returns  \n",
       "date                                      \n",
       "2018-02-10 00:00:00  39.390029 -0.003906  \n",
       "2018-02-10 00:01:00  19.946281 -0.000990  \n",
       "2018-02-10 00:02:00  35.284595  0.000415  \n",
       "2018-02-10 00:03:00  17.211845  0.000110  \n",
       "2018-02-10 00:04:00  19.959248 -0.004740  \n",
       "...                        ...       ...  \n",
       "2018-02-10 23:55:00  13.516443  0.000969  \n",
       "2018-02-10 23:56:00   9.339584 -0.000616  \n",
       "2018-02-10 23:57:00   8.133941 -0.000558  \n",
       "2018-02-10 23:58:00  19.603740  0.002318  \n",
       "2018-02-10 23:59:00  16.269635 -0.000089  \n",
       "\n",
       "[1425 rows x 7 columns]"
      ]
     },
     "execution_count": 6,
     "metadata": {},
     "output_type": "execute_result"
    }
   ],
   "source": [
    "df.loc['2018-02-10']"
   ]
  },
  {
   "cell_type": "code",
   "execution_count": 7,
   "id": "ee446288",
   "metadata": {},
   "outputs": [],
   "source": [
    "df_1d = preprocessing.resample(df,interval = '1D')"
   ]
  },
  {
   "cell_type": "code",
   "execution_count": 8,
   "id": "4f8ec0be",
   "metadata": {},
   "outputs": [
    {
     "data": {
      "text/plain": [
       "open        8683.930000\n",
       "high        9065.780000\n",
       "low         8120.000000\n",
       "close       8533.980000\n",
       "volume     49381.512653\n",
       "returns       -0.017266\n",
       "Name: 2018-02-10 00:00:00, dtype: float64"
      ]
     },
     "execution_count": 8,
     "metadata": {},
     "output_type": "execute_result"
    }
   ],
   "source": [
    "df_1d.iloc[0]"
   ]
  },
  {
   "cell_type": "code",
   "execution_count": 25,
   "id": "97fbae6f",
   "metadata": {},
   "outputs": [],
   "source": [
    "df_1d['dollar_volumes'] = (df_1d['volume']*(df_1d['close'] + df_1d['open'])/2)"
   ]
  },
  {
   "cell_type": "code",
   "execution_count": 26,
   "id": "6bc4f720",
   "metadata": {},
   "outputs": [],
   "source": [
    "df_1d['day_of_week'] = df_1d.index.dayofweek.tolist()"
   ]
  },
  {
   "cell_type": "code",
   "execution_count": 27,
   "id": "1ab63013",
   "metadata": {},
   "outputs": [
    {
     "data": {
      "text/plain": [
       "<AxesSubplot:xlabel='date'>"
      ]
     },
     "execution_count": 27,
     "metadata": {},
     "output_type": "execute_result"
    },
    {
     "data": {
      "image/png": "[encoded data removed]",
      "text/plain": [
       "<Figure size 432x288 with 1 Axes>"
      ]
     },
     "metadata": {
      "needs_background": "light"
     },
     "output_type": "display_data"
    }
   ],
   "source": [
    "# Volumes go crazy in bull markets\n",
    "\n",
    "df_1d['dollar_volumes'].plot()"
   ]
  },
  {
   "cell_type": "code",
   "execution_count": 28,
   "id": "5dd8a3ec",
   "metadata": {},
   "outputs": [
    {
     "data": {
      "text/plain": [
       "<AxesSubplot:xlabel='date'>"
      ]
     },
     "execution_count": 28,
     "metadata": {},
     "output_type": "execute_result"
    },
    {
     "data": {
      "image/png": "[encoded data removed]",
      "text/plain": [
       "<Figure size 432x288 with 1 Axes>"
      ]
     },
     "metadata": {
      "needs_background": "light"
     },
     "output_type": "display_data"
    }
   ],
   "source": [
    "# IF we focus only on weekends, we get the same dollar volume increase and then if we zoom in to the last 30 days \n",
    "# we get a spike.\n",
    "\n",
    "df_1d_only_weekends = df_1d[df_1d['day_of_week'].apply(lambda x: x in [5,6])]\n",
    "\n",
    "df_1d_only_weekends[-30:].dollar_volumes.plot()"
   ]
  },
  {
   "cell_type": "code",
   "execution_count": 13,
   "id": "10750b0c",
   "metadata": {},
   "outputs": [
    {
     "data": {
      "text/plain": [
       "<AxesSubplot:xlabel='day_of_week'>"
      ]
     },
     "execution_count": 13,
     "metadata": {},
     "output_type": "execute_result"
    },
    {
     "data": {
      "image/png": "[encoded data removed]",
      "text/plain": [
       "<Figure size 432x288 with 1 Axes>"
      ]
     },
     "metadata": {
      "needs_background": "light"
     },
     "output_type": "display_data"
    }
   ],
   "source": [
    "# Weekend dollar volumes fall of drastically !\n",
    "\n",
    "\n",
    "df_1d.groupby('day_of_week').mean(lambda x : x.mean()).dollar_volumes.plot()"
   ]
  },
  {
   "cell_type": "markdown",
   "id": "fa5cfe2b",
   "metadata": {},
   "source": [
    "Basic question :\n",
    "\n",
    "How do weekend volatilities change over time ?\n",
    "\n",
    "How does trading on the weekend resemble trading in the week ? "
   ]
  },
  {
   "cell_type": "code",
   "execution_count": 14,
   "id": "b6ea5f60",
   "metadata": {},
   "outputs": [
    {
     "data": {
      "text/html": [
       "<div>\n",
       "<style scoped>\n",
       "    .dataframe tbody tr th:only-of-type {\n",
       "        vertical-align: middle;\n",
       "    }\n",
       "\n",
       "    .dataframe tbody tr th {\n",
       "        vertical-align: top;\n",
       "    }\n",
       "\n",
       "    .dataframe thead th {\n",
       "        text-align: right;\n",
       "    }\n",
       "</style>\n",
       "<table border=\"1\" class=\"dataframe\">\n",
       "  <thead>\n",
       "    <tr style=\"text-align: right;\">\n",
       "      <th></th>\n",
       "      <th>open</th>\n",
       "      <th>high</th>\n",
       "      <th>low</th>\n",
       "      <th>close</th>\n",
       "      <th>volume</th>\n",
       "      <th>returns</th>\n",
       "      <th>dollar_volumes</th>\n",
       "      <th>day_of_week</th>\n",
       "    </tr>\n",
       "    <tr>\n",
       "      <th>date</th>\n",
       "      <th></th>\n",
       "      <th></th>\n",
       "      <th></th>\n",
       "      <th></th>\n",
       "      <th></th>\n",
       "      <th></th>\n",
       "      <th></th>\n",
       "      <th></th>\n",
       "    </tr>\n",
       "  </thead>\n",
       "  <tbody>\n",
       "    <tr>\n",
       "      <th>2018-02-12</th>\n",
       "      <td>8063.82</td>\n",
       "      <td>8989.00</td>\n",
       "      <td>8053.00</td>\n",
       "      <td>8903.00</td>\n",
       "      <td>41987.850490</td>\n",
       "      <td>0.104059</td>\n",
       "      <td>3.562002e+08</td>\n",
       "      <td>0</td>\n",
       "    </tr>\n",
       "    <tr>\n",
       "      <th>2018-02-13</th>\n",
       "      <td>8903.00</td>\n",
       "      <td>8950.00</td>\n",
       "      <td>8351.00</td>\n",
       "      <td>8539.90</td>\n",
       "      <td>35454.972956</td>\n",
       "      <td>-0.040784</td>\n",
       "      <td>3.092188e+08</td>\n",
       "      <td>1</td>\n",
       "    </tr>\n",
       "    <tr>\n",
       "      <th>2018-02-14</th>\n",
       "      <td>8535.17</td>\n",
       "      <td>9489.60</td>\n",
       "      <td>8533.00</td>\n",
       "      <td>9449.99</td>\n",
       "      <td>40811.952867</td>\n",
       "      <td>0.106569</td>\n",
       "      <td>3.670048e+08</td>\n",
       "      <td>2</td>\n",
       "    </tr>\n",
       "    <tr>\n",
       "      <th>2018-02-15</th>\n",
       "      <td>9449.98</td>\n",
       "      <td>10219.50</td>\n",
       "      <td>9301.50</td>\n",
       "      <td>10000.09</td>\n",
       "      <td>52427.596715</td>\n",
       "      <td>0.058212</td>\n",
       "      <td>5.098602e+08</td>\n",
       "      <td>3</td>\n",
       "    </tr>\n",
       "    <tr>\n",
       "      <th>2018-02-16</th>\n",
       "      <td>10000.89</td>\n",
       "      <td>10323.37</td>\n",
       "      <td>9666.00</td>\n",
       "      <td>10159.98</td>\n",
       "      <td>38161.205974</td>\n",
       "      <td>0.015989</td>\n",
       "      <td>3.846816e+08</td>\n",
       "      <td>4</td>\n",
       "    </tr>\n",
       "    <tr>\n",
       "      <th>2018-02-19</th>\n",
       "      <td>10375.01</td>\n",
       "      <td>11250.00</td>\n",
       "      <td>10270.33</td>\n",
       "      <td>11153.00</td>\n",
       "      <td>40831.417131</td>\n",
       "      <td>0.074115</td>\n",
       "      <td>4.395096e+08</td>\n",
       "      <td>0</td>\n",
       "    </tr>\n",
       "    <tr>\n",
       "      <th>2018-02-20</th>\n",
       "      <td>11147.11</td>\n",
       "      <td>11786.01</td>\n",
       "      <td>11100.59</td>\n",
       "      <td>11200.99</td>\n",
       "      <td>48153.354288</td>\n",
       "      <td>0.004303</td>\n",
       "      <td>5.380680e+08</td>\n",
       "      <td>1</td>\n",
       "    </tr>\n",
       "    <tr>\n",
       "      <th>2018-02-21</th>\n",
       "      <td>11195.07</td>\n",
       "      <td>11304.03</td>\n",
       "      <td>10200.00</td>\n",
       "      <td>10437.60</td>\n",
       "      <td>68113.818754</td>\n",
       "      <td>-0.068154</td>\n",
       "      <td>7.367419e+08</td>\n",
       "      <td>2</td>\n",
       "    </tr>\n",
       "    <tr>\n",
       "      <th>2018-02-22</th>\n",
       "      <td>10439.02</td>\n",
       "      <td>10933.44</td>\n",
       "      <td>9679.00</td>\n",
       "      <td>9811.04</td>\n",
       "      <td>67060.166483</td>\n",
       "      <td>-0.060029</td>\n",
       "      <td>6.789862e+08</td>\n",
       "      <td>3</td>\n",
       "    </tr>\n",
       "    <tr>\n",
       "      <th>2018-02-23</th>\n",
       "      <td>9815.55</td>\n",
       "      <td>10435.00</td>\n",
       "      <td>9570.19</td>\n",
       "      <td>10131.04</td>\n",
       "      <td>57202.702370</td>\n",
       "      <td>0.032616</td>\n",
       "      <td>5.704994e+08</td>\n",
       "      <td>4</td>\n",
       "    </tr>\n",
       "    <tr>\n",
       "      <th>2018-02-26</th>\n",
       "      <td>9590.00</td>\n",
       "      <td>10444.32</td>\n",
       "      <td>9350.00</td>\n",
       "      <td>10324.00</td>\n",
       "      <td>34878.292756</td>\n",
       "      <td>0.076538</td>\n",
       "      <td>3.472832e+08</td>\n",
       "      <td>0</td>\n",
       "    </tr>\n",
       "    <tr>\n",
       "      <th>2018-02-27</th>\n",
       "      <td>10321.00</td>\n",
       "      <td>10870.00</td>\n",
       "      <td>10121.00</td>\n",
       "      <td>10569.04</td>\n",
       "      <td>30705.385123</td>\n",
       "      <td>0.023735</td>\n",
       "      <td>3.207184e+08</td>\n",
       "      <td>1</td>\n",
       "    </tr>\n",
       "    <tr>\n",
       "      <th>2018-02-28</th>\n",
       "      <td>10584.33</td>\n",
       "      <td>11098.00</td>\n",
       "      <td>10300.00</td>\n",
       "      <td>10326.76</td>\n",
       "      <td>30800.983782</td>\n",
       "      <td>-0.022924</td>\n",
       "      <td>3.220411e+08</td>\n",
       "      <td>2</td>\n",
       "    </tr>\n",
       "    <tr>\n",
       "      <th>2018-03-01</th>\n",
       "      <td>10325.64</td>\n",
       "      <td>11060.41</td>\n",
       "      <td>10240.00</td>\n",
       "      <td>10920.00</td>\n",
       "      <td>25092.553930</td>\n",
       "      <td>0.057447</td>\n",
       "      <td>2.665537e+08</td>\n",
       "      <td>3</td>\n",
       "    </tr>\n",
       "    <tr>\n",
       "      <th>2018-03-02</th>\n",
       "      <td>10923.36</td>\n",
       "      <td>11200.00</td>\n",
       "      <td>10770.00</td>\n",
       "      <td>11039.00</td>\n",
       "      <td>23910.710090</td>\n",
       "      <td>0.010897</td>\n",
       "      <td>2.625678e+08</td>\n",
       "      <td>4</td>\n",
       "    </tr>\n",
       "  </tbody>\n",
       "</table>\n",
       "</div>"
      ],
      "text/plain": [
       "                open      high       low     close        volume   returns  \\\n",
       "date                                                                         \n",
       "2018-02-12   8063.82   8989.00   8053.00   8903.00  41987.850490  0.104059   \n",
       "2018-02-13   8903.00   8950.00   8351.00   8539.90  35454.972956 -0.040784   \n",
       "2018-02-14   8535.17   9489.60   8533.00   9449.99  40811.952867  0.106569   \n",
       "2018-02-15   9449.98  10219.50   9301.50  10000.09  52427.596715  0.058212   \n",
       "2018-02-16  10000.89  10323.37   9666.00  10159.98  38161.205974  0.015989   \n",
       "2018-02-19  10375.01  11250.00  10270.33  11153.00  40831.417131  0.074115   \n",
       "2018-02-20  11147.11  11786.01  11100.59  11200.99  48153.354288  0.004303   \n",
       "2018-02-21  11195.07  11304.03  10200.00  10437.60  68113.818754 -0.068154   \n",
       "2018-02-22  10439.02  10933.44   9679.00   9811.04  67060.166483 -0.060029   \n",
       "2018-02-23   9815.55  10435.00   9570.19  10131.04  57202.702370  0.032616   \n",
       "2018-02-26   9590.00  10444.32   9350.00  10324.00  34878.292756  0.076538   \n",
       "2018-02-27  10321.00  10870.00  10121.00  10569.04  30705.385123  0.023735   \n",
       "2018-02-28  10584.33  11098.00  10300.00  10326.76  30800.983782 -0.022924   \n",
       "2018-03-01  10325.64  11060.41  10240.00  10920.00  25092.553930  0.057447   \n",
       "2018-03-02  10923.36  11200.00  10770.00  11039.00  23910.710090  0.010897   \n",
       "\n",
       "            dollar_volumes  day_of_week  \n",
       "date                                     \n",
       "2018-02-12    3.562002e+08            0  \n",
       "2018-02-13    3.092188e+08            1  \n",
       "2018-02-14    3.670048e+08            2  \n",
       "2018-02-15    5.098602e+08            3  \n",
       "2018-02-16    3.846816e+08            4  \n",
       "2018-02-19    4.395096e+08            0  \n",
       "2018-02-20    5.380680e+08            1  \n",
       "2018-02-21    7.367419e+08            2  \n",
       "2018-02-22    6.789862e+08            3  \n",
       "2018-02-23    5.704994e+08            4  \n",
       "2018-02-26    3.472832e+08            0  \n",
       "2018-02-27    3.207184e+08            1  \n",
       "2018-02-28    3.220411e+08            2  \n",
       "2018-03-01    2.665537e+08            3  \n",
       "2018-03-02    2.625678e+08            4  "
      ]
     },
     "execution_count": 14,
     "metadata": {},
     "output_type": "execute_result"
    }
   ],
   "source": [
    "df_1d[df_1d['day_of_week'].apply(lambda x : x in [0,1,2,3,4])][:15]"
   ]
  },
  {
   "cell_type": "code",
   "execution_count": 16,
   "id": "3a36c941",
   "metadata": {},
   "outputs": [],
   "source": [
    "# weekday variations \n",
    "\n",
    "#tmp = df_1d[df_1d['day_of_week'].apply(lambda x : x in [0,1,2,3,4])]\n",
    "#tmp = preprocessing.resample(tmp,'1W')\n",
    "#\n",
    "#tmp['intra_week_returns'] = (tmp['close'] - tmp['open'])/tmp['open']\n",
    "\n",
    "\n",
    "# weekend variations\n",
    "\n",
    "#tmp1 = df_1d[df_1d['day_of_week'].apply(lambda x : x not in [0,1,2,3,4])]\n",
    "#tmp1 = preprocessing.resample(tmp1,'1W')\n",
    "#\n",
    "#tmp1['intra_week_returns'] = (tmp1['close'] - tmp1['open'])/tmp1['open']"
   ]
  },
  {
   "cell_type": "code",
   "execution_count": 17,
   "id": "466a29e8",
   "metadata": {},
   "outputs": [],
   "source": [
    "df_1d_weekdays = isolate_weekdays(df_1d)\n",
    "\n",
    "df_1d_weekends = isolate_weekends(df_1d)"
   ]
  },
  {
   "cell_type": "code",
   "execution_count": 18,
   "id": "14f289a2",
   "metadata": {},
   "outputs": [
    {
     "data": {
      "text/html": [
       "<div>\n",
       "<style scoped>\n",
       "    .dataframe tbody tr th:only-of-type {\n",
       "        vertical-align: middle;\n",
       "    }\n",
       "\n",
       "    .dataframe tbody tr th {\n",
       "        vertical-align: top;\n",
       "    }\n",
       "\n",
       "    .dataframe thead th {\n",
       "        text-align: right;\n",
       "    }\n",
       "</style>\n",
       "<table border=\"1\" class=\"dataframe\">\n",
       "  <thead>\n",
       "    <tr style=\"text-align: right;\">\n",
       "      <th></th>\n",
       "      <th>open</th>\n",
       "      <th>high</th>\n",
       "      <th>low</th>\n",
       "      <th>close</th>\n",
       "      <th>volume</th>\n",
       "      <th>dollar_volumes</th>\n",
       "      <th>returns</th>\n",
       "      <th>intra_weekend_returns</th>\n",
       "    </tr>\n",
       "    <tr>\n",
       "      <th>date</th>\n",
       "      <th></th>\n",
       "      <th></th>\n",
       "      <th></th>\n",
       "      <th></th>\n",
       "      <th></th>\n",
       "      <th></th>\n",
       "      <th></th>\n",
       "      <th></th>\n",
       "    </tr>\n",
       "  </thead>\n",
       "  <tbody>\n",
       "    <tr>\n",
       "      <th>2018-02-18</th>\n",
       "      <td>10156.07</td>\n",
       "      <td>11274.00</td>\n",
       "      <td>10050.00</td>\n",
       "      <td>10383.43</td>\n",
       "      <td>103019.489135</td>\n",
       "      <td>1.098731e+09</td>\n",
       "      <td>0.287647</td>\n",
       "      <td>0.022387</td>\n",
       "    </tr>\n",
       "    <tr>\n",
       "      <th>2018-02-25</th>\n",
       "      <td>10131.04</td>\n",
       "      <td>10496.97</td>\n",
       "      <td>9274.80</td>\n",
       "      <td>9590.00</td>\n",
       "      <td>69261.673885</td>\n",
       "      <td>6.788998e+08</td>\n",
       "      <td>-0.076413</td>\n",
       "      <td>-0.053404</td>\n",
       "    </tr>\n",
       "    <tr>\n",
       "      <th>2018-03-04</th>\n",
       "      <td>11038.99</td>\n",
       "      <td>11565.00</td>\n",
       "      <td>11015.01</td>\n",
       "      <td>11515.00</td>\n",
       "      <td>38583.071933</td>\n",
       "      <td>4.382429e+08</td>\n",
       "      <td>0.200730</td>\n",
       "      <td>0.043121</td>\n",
       "    </tr>\n",
       "    <tr>\n",
       "      <th>2018-03-11</th>\n",
       "      <td>9230.00</td>\n",
       "      <td>9740.00</td>\n",
       "      <td>8450.00</td>\n",
       "      <td>9533.57</td>\n",
       "      <td>81505.986243</td>\n",
       "      <td>7.402909e+08</td>\n",
       "      <td>-0.172074</td>\n",
       "      <td>0.032889</td>\n",
       "    </tr>\n",
       "    <tr>\n",
       "      <th>2018-03-18</th>\n",
       "      <td>8260.00</td>\n",
       "      <td>8348.62</td>\n",
       "      <td>7322.00</td>\n",
       "      <td>8189.99</td>\n",
       "      <td>92598.438040</td>\n",
       "      <td>7.426078e+08</td>\n",
       "      <td>-0.140931</td>\n",
       "      <td>-0.008476</td>\n",
       "    </tr>\n",
       "    <tr>\n",
       "      <th>...</th>\n",
       "      <td>...</td>\n",
       "      <td>...</td>\n",
       "      <td>...</td>\n",
       "      <td>...</td>\n",
       "      <td>...</td>\n",
       "      <td>...</td>\n",
       "      <td>...</td>\n",
       "      <td>...</td>\n",
       "    </tr>\n",
       "    <tr>\n",
       "      <th>2022-12-25</th>\n",
       "      <td>16778.52</td>\n",
       "      <td>16869.99</td>\n",
       "      <td>16721.00</td>\n",
       "      <td>16832.11</td>\n",
       "      <td>225665.362980</td>\n",
       "      <td>3.796167e+09</td>\n",
       "      <td>0.005610</td>\n",
       "      <td>0.003194</td>\n",
       "    </tr>\n",
       "    <tr>\n",
       "      <th>2023-01-01</th>\n",
       "      <td>16607.48</td>\n",
       "      <td>16644.09</td>\n",
       "      <td>16470.00</td>\n",
       "      <td>16616.75</td>\n",
       "      <td>211415.842380</td>\n",
       "      <td>3.504624e+09</td>\n",
       "      <td>-0.012795</td>\n",
       "      <td>0.000558</td>\n",
       "    </tr>\n",
       "    <tr>\n",
       "      <th>2023-01-08</th>\n",
       "      <td>16950.31</td>\n",
       "      <td>17176.99</td>\n",
       "      <td>16908.00</td>\n",
       "      <td>17127.83</td>\n",
       "      <td>239682.465750</td>\n",
       "      <td>4.073898e+09</td>\n",
       "      <td>0.030757</td>\n",
       "      <td>0.010473</td>\n",
       "    </tr>\n",
       "    <tr>\n",
       "      <th>2023-01-15</th>\n",
       "      <td>19930.01</td>\n",
       "      <td>21258.00</td>\n",
       "      <td>19888.05</td>\n",
       "      <td>20871.50</td>\n",
       "      <td>572455.975000</td>\n",
       "      <td>1.178627e+10</td>\n",
       "      <td>0.218572</td>\n",
       "      <td>0.047240</td>\n",
       "    </tr>\n",
       "    <tr>\n",
       "      <th>2023-01-22</th>\n",
       "      <td>22666.00</td>\n",
       "      <td>23371.80</td>\n",
       "      <td>22292.37</td>\n",
       "      <td>22707.88</td>\n",
       "      <td>600023.237180</td>\n",
       "      <td>1.364068e+10</td>\n",
       "      <td>0.087985</td>\n",
       "      <td>0.001848</td>\n",
       "    </tr>\n",
       "  </tbody>\n",
       "</table>\n",
       "<p>258 rows × 8 columns</p>\n",
       "</div>"
      ],
      "text/plain": [
       "                open      high       low     close         volume  \\\n",
       "date                                                                \n",
       "2018-02-18  10156.07  11274.00  10050.00  10383.43  103019.489135   \n",
       "2018-02-25  10131.04  10496.97   9274.80   9590.00   69261.673885   \n",
       "2018-03-04  11038.99  11565.00  11015.01  11515.00   38583.071933   \n",
       "2018-03-11   9230.00   9740.00   8450.00   9533.57   81505.986243   \n",
       "2018-03-18   8260.00   8348.62   7322.00   8189.99   92598.438040   \n",
       "...              ...       ...       ...       ...            ...   \n",
       "2022-12-25  16778.52  16869.99  16721.00  16832.11  225665.362980   \n",
       "2023-01-01  16607.48  16644.09  16470.00  16616.75  211415.842380   \n",
       "2023-01-08  16950.31  17176.99  16908.00  17127.83  239682.465750   \n",
       "2023-01-15  19930.01  21258.00  19888.05  20871.50  572455.975000   \n",
       "2023-01-22  22666.00  23371.80  22292.37  22707.88  600023.237180   \n",
       "\n",
       "            dollar_volumes   returns  intra_weekend_returns  \n",
       "date                                                         \n",
       "2018-02-18    1.098731e+09  0.287647               0.022387  \n",
       "2018-02-25    6.788998e+08 -0.076413              -0.053404  \n",
       "2018-03-04    4.382429e+08  0.200730               0.043121  \n",
       "2018-03-11    7.402909e+08 -0.172074               0.032889  \n",
       "2018-03-18    7.426078e+08 -0.140931              -0.008476  \n",
       "...                    ...       ...                    ...  \n",
       "2022-12-25    3.796167e+09  0.005610               0.003194  \n",
       "2023-01-01    3.504624e+09 -0.012795               0.000558  \n",
       "2023-01-08    4.073898e+09  0.030757               0.010473  \n",
       "2023-01-15    1.178627e+10  0.218572               0.047240  \n",
       "2023-01-22    1.364068e+10  0.087985               0.001848  \n",
       "\n",
       "[258 rows x 8 columns]"
      ]
     },
     "execution_count": 18,
     "metadata": {},
     "output_type": "execute_result"
    }
   ],
   "source": [
    "df_1d_weekends"
   ]
  },
  {
   "cell_type": "code",
   "execution_count": 19,
   "id": "2563e394",
   "metadata": {},
   "outputs": [],
   "source": [
    "X = df_1d_weekdays[:-1].intra_weekday_returns\n",
    "\n",
    "Y = df_1d_weekends[1:].intra_weekend_returns"
   ]
  },
  {
   "cell_type": "code",
   "execution_count": 20,
   "id": "f9878cce",
   "metadata": {},
   "outputs": [
    {
     "data": {
      "text/plain": [
       "[<matplotlib.lines.Line2D at 0x7f8c2fe0bf10>]"
      ]
     },
     "execution_count": 20,
     "metadata": {},
     "output_type": "execute_result"
    },
    {
     "data": {
      "image/png": "[encoded data removed]",
      "text/plain": [
       "<Figure size 432x288 with 1 Axes>"
      ]
     },
     "metadata": {
      "needs_background": "light"
     },
     "output_type": "display_data"
    }
   ],
   "source": [
    "plt.plot((1 + X).cumprod())"
   ]
  },
  {
   "cell_type": "code",
   "execution_count": 21,
   "id": "c0fbd924",
   "metadata": {},
   "outputs": [
    {
     "data": {
      "text/plain": [
       "[<matplotlib.lines.Line2D at 0x7f8c2fd15f70>]"
      ]
     },
     "execution_count": 21,
     "metadata": {},
     "output_type": "execute_result"
    },
    {
     "data": {
      "image/png": "[encoded data removed]",
      "text/plain": [
       "<Figure size 432x288 with 1 Axes>"
      ]
     },
     "metadata": {
      "needs_background": "light"
     },
     "output_type": "display_data"
    }
   ],
   "source": [
    "plt.plot((1 + Y).cumprod())"
   ]
  },
  {
   "cell_type": "code",
   "execution_count": 22,
   "id": "75dc557f",
   "metadata": {},
   "outputs": [
    {
     "data": {
      "text/plain": [
       "array([[1.        , 0.05914747],\n",
       "       [0.05914747, 1.        ]])"
      ]
     },
     "execution_count": 22,
     "metadata": {},
     "output_type": "execute_result"
    }
   ],
   "source": [
    "# very low correlation between what is happening in the week and what happens over the weekend\n",
    "\n",
    "np.corrcoef(X,Y)"
   ]
  },
  {
   "cell_type": "code",
   "execution_count": 23,
   "id": "77a4f69c",
   "metadata": {},
   "outputs": [],
   "source": []
  },
  {
   "cell_type": "code",
   "execution_count": 24,
   "id": "6231139d",
   "metadata": {},
   "outputs": [
    {
     "name": "stderr",
     "output_type": "stream",
     "text": [
      "/tmp/ipykernel_3576/3306260560.py:3: SettingWithCopyWarning: \n",
      "A value is trying to be set on a copy of a slice from a DataFrame.\n",
      "Try using .loc[row_indexer,col_indexer] = value instead\n",
      "\n",
      "See the caveats in the documentation: https://pandas.pydata.org/pandas-docs/stable/user_guide/indexing.html#returning-a-view-versus-a-copy\n",
      "  df['day_of_week'] = df.index.dayofweek\n"
     ]
    }
   ],
   "source": [
    "# calculating weekly price volatility\n",
    "\n",
    "c = calculate_weekly_price_vols(df)"
   ]
  },
  {
   "cell_type": "code",
   "execution_count": 68,
   "id": "bf821364",
   "metadata": {},
   "outputs": [],
   "source": [
    "# creating a filter where we focus only on those weeks where the activity was moderate\n",
    "\n",
    "z = (c > np.percentile(c,30)) & (c < np.percentile(c,70))"
   ]
  },
  {
   "cell_type": "code",
   "execution_count": 27,
   "id": "62b87913",
   "metadata": {},
   "outputs": [
    {
     "data": {
      "text/plain": [
       "array([[1.        , 0.07469266],\n",
       "       [0.07469266, 1.        ]])"
      ]
     },
     "execution_count": 27,
     "metadata": {},
     "output_type": "execute_result"
    }
   ],
   "source": [
    "np.corrcoef(X[z[2:]],Y[z[2:]]) #small negative corr"
   ]
  },
  {
   "cell_type": "code",
   "execution_count": 28,
   "id": "857c8dee",
   "metadata": {},
   "outputs": [
    {
     "data": {
      "text/plain": [
       "<AxesSubplot:xlabel='date'>"
      ]
     },
     "execution_count": 28,
     "metadata": {},
     "output_type": "execute_result"
    },
    {
     "data": {
      "image/png": "[encoded data removed]",
      "text/plain": [
       "<Figure size 432x288 with 1 Axes>"
      ]
     },
     "metadata": {
      "needs_background": "light"
     },
     "output_type": "display_data"
    }
   ],
   "source": [
    "(1 + X[z[2:]]).cumprod().plot()"
   ]
  },
  {
   "cell_type": "code",
   "execution_count": 29,
   "id": "0266a88b",
   "metadata": {},
   "outputs": [
    {
     "data": {
      "text/plain": [
       "<AxesSubplot:xlabel='date'>"
      ]
     },
     "execution_count": 29,
     "metadata": {},
     "output_type": "execute_result"
    },
    {
     "data": {
      "image/png": "[encoded data removed]",
      "text/plain": [
       "<Figure size 432x288 with 1 Axes>"
      ]
     },
     "metadata": {
      "needs_background": "light"
     },
     "output_type": "display_data"
    }
   ],
   "source": [
    "(1 + Y[z[2:]]).cumprod().plot()"
   ]
  },
  {
   "cell_type": "code",
   "execution_count": 30,
   "id": "5d3195ad",
   "metadata": {},
   "outputs": [],
   "source": [
    "z = (c > np.percentile(c,80)) "
   ]
  },
  {
   "cell_type": "code",
   "execution_count": 31,
   "id": "21fa456f",
   "metadata": {},
   "outputs": [
    {
     "data": {
      "text/plain": [
       "array([[ 1.        , -0.02859819],\n",
       "       [-0.02859819,  1.        ]])"
      ]
     },
     "execution_count": 31,
     "metadata": {},
     "output_type": "execute_result"
    }
   ],
   "source": [
    "np.corrcoef(X[z[2:]],Y[z[2:]]) # This seems pretty amazing ! "
   ]
  },
  {
   "cell_type": "code",
   "execution_count": 32,
   "id": "c91159e3",
   "metadata": {},
   "outputs": [],
   "source": [
    "# Maybe we need to understand intra week returns data better"
   ]
  },
  {
   "cell_type": "code",
   "execution_count": 33,
   "id": "0bd6cb5a",
   "metadata": {},
   "outputs": [
    {
     "data": {
      "text/plain": [
       "date\n",
       "2018-02-15    10000.09\n",
       "2018-02-22     9811.04\n",
       "2018-03-01    10920.00\n",
       "2018-03-08     9271.64\n",
       "2018-03-15     8240.98\n",
       "                ...   \n",
       "2022-12-22    16821.43\n",
       "2022-12-29    16633.47\n",
       "2023-01-05    16831.85\n",
       "2023-01-12    18846.62\n",
       "2023-01-19    21071.59\n",
       "Freq: 7D, Name: close, Length: 258, dtype: float64"
      ]
     },
     "execution_count": 33,
     "metadata": {},
     "output_type": "execute_result"
    }
   ],
   "source": [
    "df_1d[df_1d['day_of_week'] == 3]['close']"
   ]
  },
  {
   "cell_type": "code",
   "execution_count": 34,
   "id": "7e14c95b",
   "metadata": {},
   "outputs": [],
   "source": [
    "df_1d_weekend = df_1d[df_1d['day_of_week'].apply(lambda x : x in [5,6])]"
   ]
  },
  {
   "cell_type": "code",
   "execution_count": 35,
   "id": "9b364b11",
   "metadata": {},
   "outputs": [
    {
     "data": {
      "text/plain": [
       "date\n",
       "2018-02-18    11274.00\n",
       "2018-02-25    10496.97\n",
       "2018-03-04    11565.00\n",
       "2018-03-11     9740.00\n",
       "2018-03-18     8348.62\n",
       "                ...   \n",
       "2022-12-25    16869.99\n",
       "2023-01-01    16644.09\n",
       "2023-01-08    17176.99\n",
       "2023-01-15    21258.00\n",
       "2023-01-22    23371.80\n",
       "Freq: W-SUN, Name: high, Length: 258, dtype: float64"
      ]
     },
     "execution_count": 35,
     "metadata": {},
     "output_type": "execute_result"
    }
   ],
   "source": [
    "tmp1['high']"
   ]
  },
  {
   "cell_type": "code",
   "execution_count": null,
   "id": "97656b63",
   "metadata": {},
   "outputs": [],
   "source": []
  },
  {
   "cell_type": "code",
   "execution_count": 36,
   "id": "ceaf8e61",
   "metadata": {},
   "outputs": [
    {
     "data": {
      "text/plain": [
       "258"
      ]
     },
     "execution_count": 36,
     "metadata": {},
     "output_type": "execute_result"
    }
   ],
   "source": [
    "(df_1d[df_1d['day_of_week'] == 4]['close'].values < tmp1['high'].values).sum()"
   ]
  },
  {
   "cell_type": "code",
   "execution_count": 37,
   "id": "01f6aa3b",
   "metadata": {},
   "outputs": [
    {
     "data": {
      "text/plain": [
       "0.7674418604651163"
      ]
     },
     "execution_count": 37,
     "metadata": {},
     "output_type": "execute_result"
    }
   ],
   "source": [
    "198/258"
   ]
  },
  {
   "cell_type": "code",
   "execution_count": 38,
   "id": "8f9cba81",
   "metadata": {},
   "outputs": [],
   "source": [
    "diff  =  (tmp1['high'].values - df_1d[df_1d['day_of_week'] == 4]['close'].values)/(df_1d[df_1d['day_of_week'] == 4]['close'].values)\n"
   ]
  },
  {
   "cell_type": "code",
   "execution_count": 39,
   "id": "8fd117b2",
   "metadata": {},
   "outputs": [
    {
     "data": {
      "text/plain": [
       "0.011509725160422623"
      ]
     },
     "execution_count": 39,
     "metadata": {},
     "output_type": "execute_result"
    }
   ],
   "source": [
    "np.percentile(diff,25)"
   ]
  },
  {
   "cell_type": "code",
   "execution_count": 40,
   "id": "e83b9b02",
   "metadata": {},
   "outputs": [
    {
     "data": {
      "image/png": "[encoded data removed]",
      "text/plain": [
       "<Figure size 432x288 with 1 Axes>"
      ]
     },
     "metadata": {
      "needs_background": "light"
     },
     "output_type": "display_data"
    }
   ],
   "source": [
    "plt.hist(diff,bins = 70)\n",
    "plt.xlabel\n",
    "plt.show()"
   ]
  },
  {
   "cell_type": "code",
   "execution_count": 41,
   "id": "92df5070",
   "metadata": {},
   "outputs": [
    {
     "data": {
      "text/plain": [
       "0.7984496124031008"
      ]
     },
     "execution_count": 41,
     "metadata": {},
     "output_type": "execute_result"
    }
   ],
   "source": [
    "(diff > 0.01).sum()/258"
   ]
  },
  {
   "cell_type": "code",
   "execution_count": null,
   "id": "1beddaec",
   "metadata": {},
   "outputs": [],
   "source": []
  },
  {
   "cell_type": "code",
   "execution_count": 42,
   "id": "a1b3d50a",
   "metadata": {},
   "outputs": [
    {
     "data": {
      "text/plain": [
       "date\n",
       "2018-02-16    10159.98\n",
       "2018-02-23    10131.04\n",
       "2018-03-02    11039.00\n",
       "2018-03-09     9227.00\n",
       "2018-03-16     8260.00\n",
       "                ...   \n",
       "2022-12-23    16778.50\n",
       "2022-12-30    16607.48\n",
       "2023-01-06    16950.65\n",
       "2023-01-13    19930.01\n",
       "2023-01-20    22667.21\n",
       "Freq: 7D, Name: close, Length: 258, dtype: float64"
      ]
     },
     "execution_count": 42,
     "metadata": {},
     "output_type": "execute_result"
    }
   ],
   "source": [
    "df_1d[df_1d['day_of_week'] == 4]['close']"
   ]
  },
  {
   "cell_type": "code",
   "execution_count": 46,
   "id": "f26bf481",
   "metadata": {},
   "outputs": [
    {
     "data": {
      "text/html": [
       "<div>\n",
       "<style scoped>\n",
       "    .dataframe tbody tr th:only-of-type {\n",
       "        vertical-align: middle;\n",
       "    }\n",
       "\n",
       "    .dataframe tbody tr th {\n",
       "        vertical-align: top;\n",
       "    }\n",
       "\n",
       "    .dataframe thead th {\n",
       "        text-align: right;\n",
       "    }\n",
       "</style>\n",
       "<table border=\"1\" class=\"dataframe\">\n",
       "  <thead>\n",
       "    <tr style=\"text-align: right;\">\n",
       "      <th></th>\n",
       "      <th>timestamp</th>\n",
       "      <th>open</th>\n",
       "      <th>high</th>\n",
       "      <th>low</th>\n",
       "      <th>close</th>\n",
       "      <th>volume</th>\n",
       "      <th>returns</th>\n",
       "    </tr>\n",
       "    <tr>\n",
       "      <th>date</th>\n",
       "      <th></th>\n",
       "      <th></th>\n",
       "      <th></th>\n",
       "      <th></th>\n",
       "      <th></th>\n",
       "      <th></th>\n",
       "      <th></th>\n",
       "    </tr>\n",
       "  </thead>\n",
       "  <tbody>\n",
       "    <tr>\n",
       "      <th>2023-01-06 00:00:00</th>\n",
       "      <td>1672963200000</td>\n",
       "      <td>16831.85</td>\n",
       "      <td>16833.89</td>\n",
       "      <td>16830.44</td>\n",
       "      <td>16830.47</td>\n",
       "      <td>114.02537</td>\n",
       "      <td>-0.000082</td>\n",
       "    </tr>\n",
       "    <tr>\n",
       "      <th>2023-01-06 00:01:00</th>\n",
       "      <td>1672963260000</td>\n",
       "      <td>16830.83</td>\n",
       "      <td>16834.82</td>\n",
       "      <td>16828.55</td>\n",
       "      <td>16832.91</td>\n",
       "      <td>140.08173</td>\n",
       "      <td>0.000145</td>\n",
       "    </tr>\n",
       "    <tr>\n",
       "      <th>2023-01-06 00:02:00</th>\n",
       "      <td>1672963320000</td>\n",
       "      <td>16833.35</td>\n",
       "      <td>16833.56</td>\n",
       "      <td>16828.55</td>\n",
       "      <td>16829.52</td>\n",
       "      <td>143.23319</td>\n",
       "      <td>-0.000201</td>\n",
       "    </tr>\n",
       "    <tr>\n",
       "      <th>2023-01-06 00:03:00</th>\n",
       "      <td>1672963380000</td>\n",
       "      <td>16829.52</td>\n",
       "      <td>16832.14</td>\n",
       "      <td>16827.04</td>\n",
       "      <td>16832.04</td>\n",
       "      <td>126.99689</td>\n",
       "      <td>0.000150</td>\n",
       "    </tr>\n",
       "    <tr>\n",
       "      <th>2023-01-06 00:04:00</th>\n",
       "      <td>1672963440000</td>\n",
       "      <td>16832.03</td>\n",
       "      <td>16832.07</td>\n",
       "      <td>16827.08</td>\n",
       "      <td>16828.06</td>\n",
       "      <td>60.13812</td>\n",
       "      <td>-0.000236</td>\n",
       "    </tr>\n",
       "    <tr>\n",
       "      <th>...</th>\n",
       "      <td>...</td>\n",
       "      <td>...</td>\n",
       "      <td>...</td>\n",
       "      <td>...</td>\n",
       "      <td>...</td>\n",
       "      <td>...</td>\n",
       "      <td>...</td>\n",
       "    </tr>\n",
       "    <tr>\n",
       "      <th>2023-01-06 23:55:00</th>\n",
       "      <td>1673049300000</td>\n",
       "      <td>16951.79</td>\n",
       "      <td>16955.60</td>\n",
       "      <td>16951.16</td>\n",
       "      <td>16954.20</td>\n",
       "      <td>69.70818</td>\n",
       "      <td>0.000129</td>\n",
       "    </tr>\n",
       "    <tr>\n",
       "      <th>2023-01-06 23:56:00</th>\n",
       "      <td>1673049360000</td>\n",
       "      <td>16954.20</td>\n",
       "      <td>16955.29</td>\n",
       "      <td>16950.61</td>\n",
       "      <td>16951.54</td>\n",
       "      <td>91.12506</td>\n",
       "      <td>-0.000157</td>\n",
       "    </tr>\n",
       "    <tr>\n",
       "      <th>2023-01-06 23:57:00</th>\n",
       "      <td>1673049420000</td>\n",
       "      <td>16951.54</td>\n",
       "      <td>16952.31</td>\n",
       "      <td>16950.02</td>\n",
       "      <td>16950.89</td>\n",
       "      <td>40.59416</td>\n",
       "      <td>-0.000038</td>\n",
       "    </tr>\n",
       "    <tr>\n",
       "      <th>2023-01-06 23:58:00</th>\n",
       "      <td>1673049480000</td>\n",
       "      <td>16950.89</td>\n",
       "      <td>16951.76</td>\n",
       "      <td>16950.16</td>\n",
       "      <td>16950.43</td>\n",
       "      <td>33.20060</td>\n",
       "      <td>-0.000027</td>\n",
       "    </tr>\n",
       "    <tr>\n",
       "      <th>2023-01-06 23:59:00</th>\n",
       "      <td>1673049540000</td>\n",
       "      <td>16950.80</td>\n",
       "      <td>16952.15</td>\n",
       "      <td>16950.19</td>\n",
       "      <td>16950.65</td>\n",
       "      <td>36.78894</td>\n",
       "      <td>0.000013</td>\n",
       "    </tr>\n",
       "  </tbody>\n",
       "</table>\n",
       "<p>1440 rows × 7 columns</p>\n",
       "</div>"
      ],
      "text/plain": [
       "                         timestamp      open      high       low     close  \\\n",
       "date                                                                         \n",
       "2023-01-06 00:00:00  1672963200000  16831.85  16833.89  16830.44  16830.47   \n",
       "2023-01-06 00:01:00  1672963260000  16830.83  16834.82  16828.55  16832.91   \n",
       "2023-01-06 00:02:00  1672963320000  16833.35  16833.56  16828.55  16829.52   \n",
       "2023-01-06 00:03:00  1672963380000  16829.52  16832.14  16827.04  16832.04   \n",
       "2023-01-06 00:04:00  1672963440000  16832.03  16832.07  16827.08  16828.06   \n",
       "...                            ...       ...       ...       ...       ...   \n",
       "2023-01-06 23:55:00  1673049300000  16951.79  16955.60  16951.16  16954.20   \n",
       "2023-01-06 23:56:00  1673049360000  16954.20  16955.29  16950.61  16951.54   \n",
       "2023-01-06 23:57:00  1673049420000  16951.54  16952.31  16950.02  16950.89   \n",
       "2023-01-06 23:58:00  1673049480000  16950.89  16951.76  16950.16  16950.43   \n",
       "2023-01-06 23:59:00  1673049540000  16950.80  16952.15  16950.19  16950.65   \n",
       "\n",
       "                        volume   returns  \n",
       "date                                      \n",
       "2023-01-06 00:00:00  114.02537 -0.000082  \n",
       "2023-01-06 00:01:00  140.08173  0.000145  \n",
       "2023-01-06 00:02:00  143.23319 -0.000201  \n",
       "2023-01-06 00:03:00  126.99689  0.000150  \n",
       "2023-01-06 00:04:00   60.13812 -0.000236  \n",
       "...                        ...       ...  \n",
       "2023-01-06 23:55:00   69.70818  0.000129  \n",
       "2023-01-06 23:56:00   91.12506 -0.000157  \n",
       "2023-01-06 23:57:00   40.59416 -0.000038  \n",
       "2023-01-06 23:58:00   33.20060 -0.000027  \n",
       "2023-01-06 23:59:00   36.78894  0.000013  \n",
       "\n",
       "[1440 rows x 7 columns]"
      ]
     },
     "execution_count": 46,
     "metadata": {},
     "output_type": "execute_result"
    }
   ],
   "source": []
  },
  {
   "cell_type": "code",
   "execution_count": 82,
   "id": "45816d2a",
   "metadata": {},
   "outputs": [],
   "source": [
    "df_1d_weekdays = isolate_weekdays(df_1d)\n",
    "\n",
    "df_1d_weekends = isolate_weekends(df_1d)"
   ]
  },
  {
   "cell_type": "code",
   "execution_count": 105,
   "id": "ca812b68",
   "metadata": {},
   "outputs": [],
   "source": [
    "t = list(set(df_1d_weekends.index).intersection(set(df_1d_weekdays.index)))\n",
    "t.sort()"
   ]
  },
  {
   "cell_type": "code",
   "execution_count": 108,
   "id": "9a41f456",
   "metadata": {},
   "outputs": [],
   "source": [
    "#df_1d_weekends.loc[t]"
   ]
  },
  {
   "cell_type": "code",
   "execution_count": 110,
   "id": "57c8077e",
   "metadata": {},
   "outputs": [],
   "source": [
    "#df_1d_weekdays.loc[t]"
   ]
  },
  {
   "cell_type": "code",
   "execution_count": 111,
   "id": "5107bfb3",
   "metadata": {},
   "outputs": [
    {
     "data": {
      "text/plain": [
       "date\n",
       "2018-02-18    11274.00\n",
       "2018-02-25    10496.97\n",
       "2018-03-04    11565.00\n",
       "2018-03-11     9740.00\n",
       "2018-03-18     8348.62\n",
       "                ...   \n",
       "2022-12-25    16869.99\n",
       "2023-01-01    16644.09\n",
       "2023-01-08    17176.99\n",
       "2023-01-15    21258.00\n",
       "2023-01-22    23371.80\n",
       "Freq: W-SUN, Name: high, Length: 258, dtype: float64"
      ]
     },
     "execution_count": 111,
     "metadata": {},
     "output_type": "execute_result"
    }
   ],
   "source": [
    "df_1d_weekends['high']"
   ]
  },
  {
   "cell_type": "code",
   "execution_count": 117,
   "id": "3fe86a60",
   "metadata": {},
   "outputs": [
    {
     "data": {
      "text/html": [
       "<div>\n",
       "<style scoped>\n",
       "    .dataframe tbody tr th:only-of-type {\n",
       "        vertical-align: middle;\n",
       "    }\n",
       "\n",
       "    .dataframe tbody tr th {\n",
       "        vertical-align: top;\n",
       "    }\n",
       "\n",
       "    .dataframe thead th {\n",
       "        text-align: right;\n",
       "    }\n",
       "</style>\n",
       "<table border=\"1\" class=\"dataframe\">\n",
       "  <thead>\n",
       "    <tr style=\"text-align: right;\">\n",
       "      <th></th>\n",
       "      <th>open</th>\n",
       "      <th>high</th>\n",
       "      <th>low</th>\n",
       "      <th>close</th>\n",
       "      <th>volume</th>\n",
       "      <th>returns</th>\n",
       "      <th>dollar_volumes</th>\n",
       "      <th>day_of_week</th>\n",
       "    </tr>\n",
       "    <tr>\n",
       "      <th>date</th>\n",
       "      <th></th>\n",
       "      <th></th>\n",
       "      <th></th>\n",
       "      <th></th>\n",
       "      <th></th>\n",
       "      <th></th>\n",
       "      <th></th>\n",
       "      <th></th>\n",
       "    </tr>\n",
       "  </thead>\n",
       "  <tbody>\n",
       "    <tr>\n",
       "      <th>2018-02-16</th>\n",
       "      <td>10000.89</td>\n",
       "      <td>10323.37</td>\n",
       "      <td>9666.00</td>\n",
       "      <td>10159.98</td>\n",
       "      <td>38161.205974</td>\n",
       "      <td>0.015989</td>\n",
       "      <td>3.846816e+08</td>\n",
       "      <td>4</td>\n",
       "    </tr>\n",
       "    <tr>\n",
       "      <th>2018-02-23</th>\n",
       "      <td>9815.55</td>\n",
       "      <td>10435.00</td>\n",
       "      <td>9570.19</td>\n",
       "      <td>10131.04</td>\n",
       "      <td>57202.702370</td>\n",
       "      <td>0.032616</td>\n",
       "      <td>5.704994e+08</td>\n",
       "      <td>4</td>\n",
       "    </tr>\n",
       "    <tr>\n",
       "      <th>2018-03-02</th>\n",
       "      <td>10923.36</td>\n",
       "      <td>11200.00</td>\n",
       "      <td>10770.00</td>\n",
       "      <td>11039.00</td>\n",
       "      <td>23910.710090</td>\n",
       "      <td>0.010897</td>\n",
       "      <td>2.625678e+08</td>\n",
       "      <td>4</td>\n",
       "    </tr>\n",
       "    <tr>\n",
       "      <th>2018-03-09</th>\n",
       "      <td>9267.07</td>\n",
       "      <td>9410.00</td>\n",
       "      <td>8329.00</td>\n",
       "      <td>9227.00</td>\n",
       "      <td>64112.291407</td>\n",
       "      <td>-0.004815</td>\n",
       "      <td>5.928486e+08</td>\n",
       "      <td>4</td>\n",
       "    </tr>\n",
       "    <tr>\n",
       "      <th>2018-03-16</th>\n",
       "      <td>8240.98</td>\n",
       "      <td>8611.64</td>\n",
       "      <td>7900.00</td>\n",
       "      <td>8260.00</td>\n",
       "      <td>38815.409893</td>\n",
       "      <td>0.002308</td>\n",
       "      <td>3.202462e+08</td>\n",
       "      <td>4</td>\n",
       "    </tr>\n",
       "    <tr>\n",
       "      <th>...</th>\n",
       "      <td>...</td>\n",
       "      <td>...</td>\n",
       "      <td>...</td>\n",
       "      <td>...</td>\n",
       "      <td>...</td>\n",
       "      <td>...</td>\n",
       "      <td>...</td>\n",
       "      <td>...</td>\n",
       "    </tr>\n",
       "    <tr>\n",
       "      <th>2022-12-23</th>\n",
       "      <td>16821.90</td>\n",
       "      <td>16955.14</td>\n",
       "      <td>16731.13</td>\n",
       "      <td>16778.50</td>\n",
       "      <td>161612.009470</td>\n",
       "      <td>-0.002552</td>\n",
       "      <td>2.715114e+09</td>\n",
       "      <td>4</td>\n",
       "    </tr>\n",
       "    <tr>\n",
       "      <th>2022-12-30</th>\n",
       "      <td>16633.47</td>\n",
       "      <td>16677.35</td>\n",
       "      <td>16333.00</td>\n",
       "      <td>16607.48</td>\n",
       "      <td>164916.311740</td>\n",
       "      <td>-0.001563</td>\n",
       "      <td>2.740987e+09</td>\n",
       "      <td>4</td>\n",
       "    </tr>\n",
       "    <tr>\n",
       "      <th>2023-01-06</th>\n",
       "      <td>16831.85</td>\n",
       "      <td>17041.00</td>\n",
       "      <td>16679.00</td>\n",
       "      <td>16950.65</td>\n",
       "      <td>207401.284150</td>\n",
       "      <td>0.007058</td>\n",
       "      <td>3.503267e+09</td>\n",
       "      <td>4</td>\n",
       "    </tr>\n",
       "    <tr>\n",
       "      <th>2023-01-13</th>\n",
       "      <td>18846.62</td>\n",
       "      <td>20000.00</td>\n",
       "      <td>18714.12</td>\n",
       "      <td>19930.01</td>\n",
       "      <td>368615.878230</td>\n",
       "      <td>0.057485</td>\n",
       "      <td>7.146841e+09</td>\n",
       "      <td>4</td>\n",
       "    </tr>\n",
       "    <tr>\n",
       "      <th>2023-01-20</th>\n",
       "      <td>21071.59</td>\n",
       "      <td>22755.93</td>\n",
       "      <td>20861.28</td>\n",
       "      <td>22667.21</td>\n",
       "      <td>338079.136590</td>\n",
       "      <td>0.075724</td>\n",
       "      <td>7.393588e+09</td>\n",
       "      <td>4</td>\n",
       "    </tr>\n",
       "  </tbody>\n",
       "</table>\n",
       "<p>258 rows × 8 columns</p>\n",
       "</div>"
      ],
      "text/plain": [
       "                open      high       low     close         volume   returns  \\\n",
       "date                                                                          \n",
       "2018-02-16  10000.89  10323.37   9666.00  10159.98   38161.205974  0.015989   \n",
       "2018-02-23   9815.55  10435.00   9570.19  10131.04   57202.702370  0.032616   \n",
       "2018-03-02  10923.36  11200.00  10770.00  11039.00   23910.710090  0.010897   \n",
       "2018-03-09   9267.07   9410.00   8329.00   9227.00   64112.291407 -0.004815   \n",
       "2018-03-16   8240.98   8611.64   7900.00   8260.00   38815.409893  0.002308   \n",
       "...              ...       ...       ...       ...            ...       ...   \n",
       "2022-12-23  16821.90  16955.14  16731.13  16778.50  161612.009470 -0.002552   \n",
       "2022-12-30  16633.47  16677.35  16333.00  16607.48  164916.311740 -0.001563   \n",
       "2023-01-06  16831.85  17041.00  16679.00  16950.65  207401.284150  0.007058   \n",
       "2023-01-13  18846.62  20000.00  18714.12  19930.01  368615.878230  0.057485   \n",
       "2023-01-20  21071.59  22755.93  20861.28  22667.21  338079.136590  0.075724   \n",
       "\n",
       "            dollar_volumes  day_of_week  \n",
       "date                                     \n",
       "2018-02-16    3.846816e+08            4  \n",
       "2018-02-23    5.704994e+08            4  \n",
       "2018-03-02    2.625678e+08            4  \n",
       "2018-03-09    5.928486e+08            4  \n",
       "2018-03-16    3.202462e+08            4  \n",
       "...                    ...          ...  \n",
       "2022-12-23    2.715114e+09            4  \n",
       "2022-12-30    2.740987e+09            4  \n",
       "2023-01-06    3.503267e+09            4  \n",
       "2023-01-13    7.146841e+09            4  \n",
       "2023-01-20    7.393588e+09            4  \n",
       "\n",
       "[258 rows x 8 columns]"
      ]
     },
     "execution_count": 117,
     "metadata": {},
     "output_type": "execute_result"
    }
   ],
   "source": [
    "df_1d[df_1d['day_of_week'] == 4]"
   ]
  },
  {
   "cell_type": "code",
   "execution_count": 116,
   "id": "dac4bc35",
   "metadata": {},
   "outputs": [
    {
     "data": {
      "text/html": [
       "<div>\n",
       "<style scoped>\n",
       "    .dataframe tbody tr th:only-of-type {\n",
       "        vertical-align: middle;\n",
       "    }\n",
       "\n",
       "    .dataframe tbody tr th {\n",
       "        vertical-align: top;\n",
       "    }\n",
       "\n",
       "    .dataframe thead th {\n",
       "        text-align: right;\n",
       "    }\n",
       "</style>\n",
       "<table border=\"1\" class=\"dataframe\">\n",
       "  <thead>\n",
       "    <tr style=\"text-align: right;\">\n",
       "      <th></th>\n",
       "      <th>open</th>\n",
       "      <th>high</th>\n",
       "      <th>low</th>\n",
       "      <th>close</th>\n",
       "      <th>volume</th>\n",
       "      <th>dollar_volumes</th>\n",
       "      <th>returns</th>\n",
       "    </tr>\n",
       "    <tr>\n",
       "      <th>date</th>\n",
       "      <th></th>\n",
       "      <th></th>\n",
       "      <th></th>\n",
       "      <th></th>\n",
       "      <th></th>\n",
       "      <th></th>\n",
       "      <th></th>\n",
       "    </tr>\n",
       "  </thead>\n",
       "  <tbody>\n",
       "    <tr>\n",
       "      <th>2018-02-25</th>\n",
       "      <td>9815.55</td>\n",
       "      <td>10435.00</td>\n",
       "      <td>9570.19</td>\n",
       "      <td>10131.04</td>\n",
       "      <td>57202.702370</td>\n",
       "      <td>5.704994e+08</td>\n",
       "      <td>-0.002848</td>\n",
       "    </tr>\n",
       "    <tr>\n",
       "      <th>2018-03-04</th>\n",
       "      <td>10923.36</td>\n",
       "      <td>11200.00</td>\n",
       "      <td>10770.00</td>\n",
       "      <td>11039.00</td>\n",
       "      <td>23910.710090</td>\n",
       "      <td>2.625678e+08</td>\n",
       "      <td>0.089622</td>\n",
       "    </tr>\n",
       "    <tr>\n",
       "      <th>2018-03-11</th>\n",
       "      <td>9267.07</td>\n",
       "      <td>9410.00</td>\n",
       "      <td>8329.00</td>\n",
       "      <td>9227.00</td>\n",
       "      <td>64112.291407</td>\n",
       "      <td>5.928486e+08</td>\n",
       "      <td>-0.164145</td>\n",
       "    </tr>\n",
       "    <tr>\n",
       "      <th>2018-03-18</th>\n",
       "      <td>8240.98</td>\n",
       "      <td>8611.64</td>\n",
       "      <td>7900.00</td>\n",
       "      <td>8260.00</td>\n",
       "      <td>38815.409893</td>\n",
       "      <td>3.202462e+08</td>\n",
       "      <td>-0.104801</td>\n",
       "    </tr>\n",
       "    <tr>\n",
       "      <th>2018-03-25</th>\n",
       "      <td>8720.00</td>\n",
       "      <td>8909.00</td>\n",
       "      <td>8269.00</td>\n",
       "      <td>8898.03</td>\n",
       "      <td>39991.007666</td>\n",
       "      <td>3.522814e+08</td>\n",
       "      <td>0.077243</td>\n",
       "    </tr>\n",
       "    <tr>\n",
       "      <th>...</th>\n",
       "      <td>...</td>\n",
       "      <td>...</td>\n",
       "      <td>...</td>\n",
       "      <td>...</td>\n",
       "      <td>...</td>\n",
       "      <td>...</td>\n",
       "      <td>...</td>\n",
       "    </tr>\n",
       "    <tr>\n",
       "      <th>2022-12-25</th>\n",
       "      <td>16821.90</td>\n",
       "      <td>16955.14</td>\n",
       "      <td>16731.13</td>\n",
       "      <td>16778.50</td>\n",
       "      <td>161612.009470</td>\n",
       "      <td>2.715114e+09</td>\n",
       "      <td>0.008801</td>\n",
       "    </tr>\n",
       "    <tr>\n",
       "      <th>2023-01-01</th>\n",
       "      <td>16633.47</td>\n",
       "      <td>16677.35</td>\n",
       "      <td>16333.00</td>\n",
       "      <td>16607.48</td>\n",
       "      <td>164916.311740</td>\n",
       "      <td>2.740987e+09</td>\n",
       "      <td>-0.010193</td>\n",
       "    </tr>\n",
       "    <tr>\n",
       "      <th>2023-01-08</th>\n",
       "      <td>16831.85</td>\n",
       "      <td>17041.00</td>\n",
       "      <td>16679.00</td>\n",
       "      <td>16950.65</td>\n",
       "      <td>207401.284150</td>\n",
       "      <td>3.503267e+09</td>\n",
       "      <td>0.020664</td>\n",
       "    </tr>\n",
       "    <tr>\n",
       "      <th>2023-01-15</th>\n",
       "      <td>18846.62</td>\n",
       "      <td>20000.00</td>\n",
       "      <td>18714.12</td>\n",
       "      <td>19930.01</td>\n",
       "      <td>368615.878230</td>\n",
       "      <td>7.146841e+09</td>\n",
       "      <td>0.175767</td>\n",
       "    </tr>\n",
       "    <tr>\n",
       "      <th>2023-01-22</th>\n",
       "      <td>21071.59</td>\n",
       "      <td>22755.93</td>\n",
       "      <td>20861.28</td>\n",
       "      <td>22667.21</td>\n",
       "      <td>338079.136590</td>\n",
       "      <td>7.393588e+09</td>\n",
       "      <td>0.137341</td>\n",
       "    </tr>\n",
       "  </tbody>\n",
       "</table>\n",
       "<p>257 rows × 7 columns</p>\n",
       "</div>"
      ],
      "text/plain": [
       "                open      high       low     close         volume  \\\n",
       "date                                                                \n",
       "2018-02-25   9815.55  10435.00   9570.19  10131.04   57202.702370   \n",
       "2018-03-04  10923.36  11200.00  10770.00  11039.00   23910.710090   \n",
       "2018-03-11   9267.07   9410.00   8329.00   9227.00   64112.291407   \n",
       "2018-03-18   8240.98   8611.64   7900.00   8260.00   38815.409893   \n",
       "2018-03-25   8720.00   8909.00   8269.00   8898.03   39991.007666   \n",
       "...              ...       ...       ...       ...            ...   \n",
       "2022-12-25  16821.90  16955.14  16731.13  16778.50  161612.009470   \n",
       "2023-01-01  16633.47  16677.35  16333.00  16607.48  164916.311740   \n",
       "2023-01-08  16831.85  17041.00  16679.00  16950.65  207401.284150   \n",
       "2023-01-15  18846.62  20000.00  18714.12  19930.01  368615.878230   \n",
       "2023-01-22  21071.59  22755.93  20861.28  22667.21  338079.136590   \n",
       "\n",
       "            dollar_volumes   returns  \n",
       "date                                  \n",
       "2018-02-25    5.704994e+08 -0.002848  \n",
       "2018-03-04    2.625678e+08  0.089622  \n",
       "2018-03-11    5.928486e+08 -0.164145  \n",
       "2018-03-18    3.202462e+08 -0.104801  \n",
       "2018-03-25    3.522814e+08  0.077243  \n",
       "...                    ...       ...  \n",
       "2022-12-25    2.715114e+09  0.008801  \n",
       "2023-01-01    2.740987e+09 -0.010193  \n",
       "2023-01-08    3.503267e+09  0.020664  \n",
       "2023-01-15    7.146841e+09  0.175767  \n",
       "2023-01-22    7.393588e+09  0.137341  \n",
       "\n",
       "[257 rows x 7 columns]"
      ]
     },
     "execution_count": 116,
     "metadata": {},
     "output_type": "execute_result"
    }
   ],
   "source": [
    "preprocessing.resample(df_1d[df_1d['day_of_week'] == 4],'1W')\n"
   ]
  },
  {
   "cell_type": "code",
   "execution_count": 152,
   "id": "126ddbb3",
   "metadata": {},
   "outputs": [],
   "source": []
  },
  {
   "cell_type": "code",
   "execution_count": 135,
   "id": "fd44f531",
   "metadata": {},
   "outputs": [
    {
     "name": "stdout",
     "output_type": "stream",
     "text": [
      "0 0.5836575875486382\n",
      "1 0.5953307392996109\n",
      "2 0.6070038910505836\n",
      "3 0.6575875486381323\n",
      "4 0.7976653696498055\n"
     ]
    }
   ],
   "source": [
    "for k in range(5):\n",
    "    s,d= buy_at_weekday_check_weekend(df_1d,k,0.01)\n",
    "    print(k,s)"
   ]
  },
  {
   "cell_type": "code",
   "execution_count": 148,
   "id": "7d06b998",
   "metadata": {},
   "outputs": [],
   "source": [
    "bad_dates = [i for i in range(len(d)) if d[i] < 0.01]"
   ]
  },
  {
   "cell_type": "code",
   "execution_count": 153,
   "id": "9fc8d1b1",
   "metadata": {},
   "outputs": [],
   "source": [
    "day_of_week = 4\n",
    "\n",
    "tmp = df_1d[df_1d['day_of_week'] == day_of_week]\n",
    "tmp = preprocessing.resample(tmp,'1W')\n",
    "\n",
    "df_1d_weekends = isolate_weekends(df_1d)\n",
    "\n",
    "t = list(set(df_1d_weekends.index).intersection(set(tmp.index)))\n",
    "t.sort()\n",
    "\n",
    "df_1d_weekends = df_1d_weekends.loc[t]\n",
    "tmp = tmp.loc[t]"
   ]
  },
  {
   "cell_type": "code",
   "execution_count": 194,
   "id": "57778d09",
   "metadata": {},
   "outputs": [],
   "source": [
    "idx = (tmp.iloc[bad_dates].index)"
   ]
  },
  {
   "cell_type": "code",
   "execution_count": 201,
   "id": "c6061921",
   "metadata": {},
   "outputs": [],
   "source": []
  },
  {
   "cell_type": "code",
   "execution_count": 214,
   "id": "953e5f37",
   "metadata": {},
   "outputs": [
    {
     "name": "stdout",
     "output_type": "stream",
     "text": [
      "2021-12-26 00:00:00\n"
     ]
    },
    {
     "data": {
      "text/plain": [
       "0.08325503430094446"
      ]
     },
     "execution_count": 214,
     "metadata": {},
     "output_type": "execute_result"
    },
    {
     "data": {
      "image/png": "[encoded data removed]",
      "text/plain": [
       "<Figure size 432x288 with 1 Axes>"
      ]
     },
     "metadata": {
      "needs_background": "light"
     },
     "output_type": "display_data"
    }
   ],
   "source": [
    "c = 35\n",
    "\n",
    "print(idx[c])\n",
    "\n",
    "what_happened_in_that_week(df_1d,idx[c])"
   ]
  },
  {
   "cell_type": "markdown",
   "id": "5d3368fe",
   "metadata": {},
   "source": [
    "Things to be aware of : \n",
    "\n",
    "1. big decreases in the week \n",
    "2. close to an all time low\n",
    "3. big increase in the week \n",
    "4. how close to an ATH\n"
   ]
  },
  {
   "cell_type": "markdown",
   "id": "867665c3",
   "metadata": {},
   "source": [
    "Next step is to predict weekend lows using weekly data. \n",
    "\n",
    "features : long term trends, variation in the week, drawdowns in the week, big increases in the week, weekly volume data, how close to ATH, how close to ATL (percent terms)   "
   ]
  },
  {
   "cell_type": "code",
   "execution_count": 85,
   "id": "140a70a7",
   "metadata": {},
   "outputs": [],
   "source": [
    "df['day_of_week'] = df.index.dayofweek"
   ]
  },
  {
   "cell_type": "code",
   "execution_count": 86,
   "id": "350828d6",
   "metadata": {},
   "outputs": [],
   "source": [
    "tmp1 = df[df['day_of_week'] == 4]\n",
    "\n",
    "\n",
    "#tmp1['time'] = tmp1[(tmp1['day_of_week'] == 4)].index.time"
   ]
  },
  {
   "cell_type": "code",
   "execution_count": 87,
   "id": "2cff5d46",
   "metadata": {},
   "outputs": [
    {
     "data": {
      "text/html": [
       "<div>\n",
       "<style scoped>\n",
       "    .dataframe tbody tr th:only-of-type {\n",
       "        vertical-align: middle;\n",
       "    }\n",
       "\n",
       "    .dataframe tbody tr th {\n",
       "        vertical-align: top;\n",
       "    }\n",
       "\n",
       "    .dataframe thead th {\n",
       "        text-align: right;\n",
       "    }\n",
       "</style>\n",
       "<table border=\"1\" class=\"dataframe\">\n",
       "  <thead>\n",
       "    <tr style=\"text-align: right;\">\n",
       "      <th></th>\n",
       "      <th>timestamp</th>\n",
       "      <th>open</th>\n",
       "      <th>high</th>\n",
       "      <th>low</th>\n",
       "      <th>close</th>\n",
       "      <th>volume</th>\n",
       "      <th>returns</th>\n",
       "      <th>day_of_week</th>\n",
       "    </tr>\n",
       "    <tr>\n",
       "      <th>date</th>\n",
       "      <th></th>\n",
       "      <th></th>\n",
       "      <th></th>\n",
       "      <th></th>\n",
       "      <th></th>\n",
       "      <th></th>\n",
       "      <th></th>\n",
       "      <th></th>\n",
       "    </tr>\n",
       "  </thead>\n",
       "  <tbody>\n",
       "    <tr>\n",
       "      <th>2018-02-09 23:59:00</th>\n",
       "      <td>1518220740000</td>\n",
       "      <td>8690.45</td>\n",
       "      <td>8701.30</td>\n",
       "      <td>8683.92</td>\n",
       "      <td>8683.92</td>\n",
       "      <td>15.297334</td>\n",
       "      <td>-0.000736</td>\n",
       "      <td>4</td>\n",
       "    </tr>\n",
       "    <tr>\n",
       "      <th>2018-02-16 23:59:00</th>\n",
       "      <td>1518825540000</td>\n",
       "      <td>10156.03</td>\n",
       "      <td>10160.01</td>\n",
       "      <td>10146.00</td>\n",
       "      <td>10159.98</td>\n",
       "      <td>17.938177</td>\n",
       "      <td>0.000389</td>\n",
       "      <td>4</td>\n",
       "    </tr>\n",
       "    <tr>\n",
       "      <th>2018-02-23 23:59:00</th>\n",
       "      <td>1519430340000</td>\n",
       "      <td>10156.38</td>\n",
       "      <td>10159.99</td>\n",
       "      <td>10131.04</td>\n",
       "      <td>10131.04</td>\n",
       "      <td>11.209416</td>\n",
       "      <td>-0.001870</td>\n",
       "      <td>4</td>\n",
       "    </tr>\n",
       "    <tr>\n",
       "      <th>2018-03-02 23:59:00</th>\n",
       "      <td>1520035140000</td>\n",
       "      <td>11025.87</td>\n",
       "      <td>11039.00</td>\n",
       "      <td>11023.00</td>\n",
       "      <td>11039.00</td>\n",
       "      <td>5.768759</td>\n",
       "      <td>0.001191</td>\n",
       "      <td>4</td>\n",
       "    </tr>\n",
       "    <tr>\n",
       "      <th>2018-03-09 23:59:00</th>\n",
       "      <td>1520639940000</td>\n",
       "      <td>9225.00</td>\n",
       "      <td>9232.00</td>\n",
       "      <td>9224.00</td>\n",
       "      <td>9227.00</td>\n",
       "      <td>15.827283</td>\n",
       "      <td>0.000217</td>\n",
       "      <td>4</td>\n",
       "    </tr>\n",
       "    <tr>\n",
       "      <th>...</th>\n",
       "      <td>...</td>\n",
       "      <td>...</td>\n",
       "      <td>...</td>\n",
       "      <td>...</td>\n",
       "      <td>...</td>\n",
       "      <td>...</td>\n",
       "      <td>...</td>\n",
       "      <td>...</td>\n",
       "    </tr>\n",
       "    <tr>\n",
       "      <th>2022-12-23 23:59:00</th>\n",
       "      <td>1671839940000</td>\n",
       "      <td>16778.77</td>\n",
       "      <td>16780.74</td>\n",
       "      <td>16777.81</td>\n",
       "      <td>16778.50</td>\n",
       "      <td>39.838660</td>\n",
       "      <td>-0.000029</td>\n",
       "      <td>4</td>\n",
       "    </tr>\n",
       "    <tr>\n",
       "      <th>2022-12-30 23:59:00</th>\n",
       "      <td>1672444740000</td>\n",
       "      <td>16607.88</td>\n",
       "      <td>16609.84</td>\n",
       "      <td>16607.23</td>\n",
       "      <td>16607.48</td>\n",
       "      <td>40.139110</td>\n",
       "      <td>-0.000024</td>\n",
       "      <td>4</td>\n",
       "    </tr>\n",
       "    <tr>\n",
       "      <th>2023-01-06 23:59:00</th>\n",
       "      <td>1673049540000</td>\n",
       "      <td>16950.80</td>\n",
       "      <td>16952.15</td>\n",
       "      <td>16950.19</td>\n",
       "      <td>16950.65</td>\n",
       "      <td>36.788940</td>\n",
       "      <td>0.000013</td>\n",
       "      <td>4</td>\n",
       "    </tr>\n",
       "    <tr>\n",
       "      <th>2023-01-13 23:59:00</th>\n",
       "      <td>1673654340000</td>\n",
       "      <td>19931.78</td>\n",
       "      <td>19942.20</td>\n",
       "      <td>19920.00</td>\n",
       "      <td>19930.01</td>\n",
       "      <td>179.223510</td>\n",
       "      <td>-0.000155</td>\n",
       "      <td>4</td>\n",
       "    </tr>\n",
       "    <tr>\n",
       "      <th>2023-01-20 23:59:00</th>\n",
       "      <td>1674259140000</td>\n",
       "      <td>22689.64</td>\n",
       "      <td>22697.99</td>\n",
       "      <td>22662.60</td>\n",
       "      <td>22667.21</td>\n",
       "      <td>183.603590</td>\n",
       "      <td>-0.000989</td>\n",
       "      <td>4</td>\n",
       "    </tr>\n",
       "  </tbody>\n",
       "</table>\n",
       "<p>259 rows × 8 columns</p>\n",
       "</div>"
      ],
      "text/plain": [
       "                         timestamp      open      high       low     close  \\\n",
       "date                                                                         \n",
       "2018-02-09 23:59:00  1518220740000   8690.45   8701.30   8683.92   8683.92   \n",
       "2018-02-16 23:59:00  1518825540000  10156.03  10160.01  10146.00  10159.98   \n",
       "2018-02-23 23:59:00  1519430340000  10156.38  10159.99  10131.04  10131.04   \n",
       "2018-03-02 23:59:00  1520035140000  11025.87  11039.00  11023.00  11039.00   \n",
       "2018-03-09 23:59:00  1520639940000   9225.00   9232.00   9224.00   9227.00   \n",
       "...                            ...       ...       ...       ...       ...   \n",
       "2022-12-23 23:59:00  1671839940000  16778.77  16780.74  16777.81  16778.50   \n",
       "2022-12-30 23:59:00  1672444740000  16607.88  16609.84  16607.23  16607.48   \n",
       "2023-01-06 23:59:00  1673049540000  16950.80  16952.15  16950.19  16950.65   \n",
       "2023-01-13 23:59:00  1673654340000  19931.78  19942.20  19920.00  19930.01   \n",
       "2023-01-20 23:59:00  1674259140000  22689.64  22697.99  22662.60  22667.21   \n",
       "\n",
       "                         volume   returns  day_of_week  \n",
       "date                                                    \n",
       "2018-02-09 23:59:00   15.297334 -0.000736            4  \n",
       "2018-02-16 23:59:00   17.938177  0.000389            4  \n",
       "2018-02-23 23:59:00   11.209416 -0.001870            4  \n",
       "2018-03-02 23:59:00    5.768759  0.001191            4  \n",
       "2018-03-09 23:59:00   15.827283  0.000217            4  \n",
       "...                         ...       ...          ...  \n",
       "2022-12-23 23:59:00   39.838660 -0.000029            4  \n",
       "2022-12-30 23:59:00   40.139110 -0.000024            4  \n",
       "2023-01-06 23:59:00   36.788940  0.000013            4  \n",
       "2023-01-13 23:59:00  179.223510 -0.000155            4  \n",
       "2023-01-20 23:59:00  183.603590 -0.000989            4  \n",
       "\n",
       "[259 rows x 8 columns]"
      ]
     },
     "execution_count": 87,
     "metadata": {},
     "output_type": "execute_result"
    }
   ],
   "source": [
    "tmp1[(tmp1.index.hour == 23) & (tmp1.index.minute == 59)]"
   ]
  },
  {
   "cell_type": "code",
   "execution_count": 88,
   "id": "b598fb7b",
   "metadata": {},
   "outputs": [
    {
     "data": {
      "text/html": [
       "<div>\n",
       "<style scoped>\n",
       "    .dataframe tbody tr th:only-of-type {\n",
       "        vertical-align: middle;\n",
       "    }\n",
       "\n",
       "    .dataframe tbody tr th {\n",
       "        vertical-align: top;\n",
       "    }\n",
       "\n",
       "    .dataframe thead th {\n",
       "        text-align: right;\n",
       "    }\n",
       "</style>\n",
       "<table border=\"1\" class=\"dataframe\">\n",
       "  <thead>\n",
       "    <tr style=\"text-align: right;\">\n",
       "      <th></th>\n",
       "      <th>timestamp</th>\n",
       "      <th>open</th>\n",
       "      <th>high</th>\n",
       "      <th>low</th>\n",
       "      <th>close</th>\n",
       "      <th>volume</th>\n",
       "      <th>returns</th>\n",
       "      <th>day_of_week</th>\n",
       "    </tr>\n",
       "    <tr>\n",
       "      <th>date</th>\n",
       "      <th></th>\n",
       "      <th></th>\n",
       "      <th></th>\n",
       "      <th></th>\n",
       "      <th></th>\n",
       "      <th></th>\n",
       "      <th></th>\n",
       "      <th></th>\n",
       "    </tr>\n",
       "  </thead>\n",
       "  <tbody>\n",
       "    <tr>\n",
       "      <th>2018-02-10 00:00:00</th>\n",
       "      <td>1518220800000</td>\n",
       "      <td>8683.93</td>\n",
       "      <td>8683.93</td>\n",
       "      <td>8650.00</td>\n",
       "      <td>8650.00</td>\n",
       "      <td>39.390029</td>\n",
       "      <td>-0.003906</td>\n",
       "      <td>5</td>\n",
       "    </tr>\n",
       "    <tr>\n",
       "      <th>2018-02-10 00:01:00</th>\n",
       "      <td>1518220860000</td>\n",
       "      <td>8661.89</td>\n",
       "      <td>8661.90</td>\n",
       "      <td>8640.48</td>\n",
       "      <td>8641.44</td>\n",
       "      <td>19.946281</td>\n",
       "      <td>-0.000990</td>\n",
       "      <td>5</td>\n",
       "    </tr>\n",
       "    <tr>\n",
       "      <th>2018-02-10 00:02:00</th>\n",
       "      <td>1518220920000</td>\n",
       "      <td>8644.93</td>\n",
       "      <td>8652.00</td>\n",
       "      <td>8634.28</td>\n",
       "      <td>8645.03</td>\n",
       "      <td>35.284595</td>\n",
       "      <td>0.000415</td>\n",
       "      <td>5</td>\n",
       "    </tr>\n",
       "    <tr>\n",
       "      <th>2018-02-10 00:03:00</th>\n",
       "      <td>1518220980000</td>\n",
       "      <td>8645.09</td>\n",
       "      <td>8668.00</td>\n",
       "      <td>8637.73</td>\n",
       "      <td>8645.98</td>\n",
       "      <td>17.211845</td>\n",
       "      <td>0.000110</td>\n",
       "      <td>5</td>\n",
       "    </tr>\n",
       "    <tr>\n",
       "      <th>2018-02-10 00:04:00</th>\n",
       "      <td>1518221040000</td>\n",
       "      <td>8636.15</td>\n",
       "      <td>8645.92</td>\n",
       "      <td>8604.08</td>\n",
       "      <td>8605.00</td>\n",
       "      <td>19.959248</td>\n",
       "      <td>-0.004740</td>\n",
       "      <td>5</td>\n",
       "    </tr>\n",
       "    <tr>\n",
       "      <th>...</th>\n",
       "      <td>...</td>\n",
       "      <td>...</td>\n",
       "      <td>...</td>\n",
       "      <td>...</td>\n",
       "      <td>...</td>\n",
       "      <td>...</td>\n",
       "      <td>...</td>\n",
       "      <td>...</td>\n",
       "    </tr>\n",
       "    <tr>\n",
       "      <th>2023-01-22 23:55:00</th>\n",
       "      <td>1674431700000</td>\n",
       "      <td>22730.65</td>\n",
       "      <td>22734.05</td>\n",
       "      <td>22723.13</td>\n",
       "      <td>22727.20</td>\n",
       "      <td>69.752750</td>\n",
       "      <td>-0.000152</td>\n",
       "      <td>6</td>\n",
       "    </tr>\n",
       "    <tr>\n",
       "      <th>2023-01-22 23:56:00</th>\n",
       "      <td>1674431760000</td>\n",
       "      <td>22727.18</td>\n",
       "      <td>22733.38</td>\n",
       "      <td>22711.58</td>\n",
       "      <td>22714.15</td>\n",
       "      <td>87.304610</td>\n",
       "      <td>-0.000574</td>\n",
       "      <td>6</td>\n",
       "    </tr>\n",
       "    <tr>\n",
       "      <th>2023-01-22 23:57:00</th>\n",
       "      <td>1674431820000</td>\n",
       "      <td>22714.06</td>\n",
       "      <td>22715.18</td>\n",
       "      <td>22698.65</td>\n",
       "      <td>22707.04</td>\n",
       "      <td>82.070630</td>\n",
       "      <td>-0.000313</td>\n",
       "      <td>6</td>\n",
       "    </tr>\n",
       "    <tr>\n",
       "      <th>2023-01-22 23:58:00</th>\n",
       "      <td>1674431880000</td>\n",
       "      <td>22707.86</td>\n",
       "      <td>22724.28</td>\n",
       "      <td>22705.90</td>\n",
       "      <td>22719.54</td>\n",
       "      <td>108.494800</td>\n",
       "      <td>0.000550</td>\n",
       "      <td>6</td>\n",
       "    </tr>\n",
       "    <tr>\n",
       "      <th>2023-01-22 23:59:00</th>\n",
       "      <td>1674431940000</td>\n",
       "      <td>22717.90</td>\n",
       "      <td>22719.55</td>\n",
       "      <td>22702.47</td>\n",
       "      <td>22707.88</td>\n",
       "      <td>116.029770</td>\n",
       "      <td>-0.000513</td>\n",
       "      <td>6</td>\n",
       "    </tr>\n",
       "  </tbody>\n",
       "</table>\n",
       "<p>745077 rows × 8 columns</p>\n",
       "</div>"
      ],
      "text/plain": [
       "                         timestamp      open      high       low     close  \\\n",
       "date                                                                         \n",
       "2018-02-10 00:00:00  1518220800000   8683.93   8683.93   8650.00   8650.00   \n",
       "2018-02-10 00:01:00  1518220860000   8661.89   8661.90   8640.48   8641.44   \n",
       "2018-02-10 00:02:00  1518220920000   8644.93   8652.00   8634.28   8645.03   \n",
       "2018-02-10 00:03:00  1518220980000   8645.09   8668.00   8637.73   8645.98   \n",
       "2018-02-10 00:04:00  1518221040000   8636.15   8645.92   8604.08   8605.00   \n",
       "...                            ...       ...       ...       ...       ...   \n",
       "2023-01-22 23:55:00  1674431700000  22730.65  22734.05  22723.13  22727.20   \n",
       "2023-01-22 23:56:00  1674431760000  22727.18  22733.38  22711.58  22714.15   \n",
       "2023-01-22 23:57:00  1674431820000  22714.06  22715.18  22698.65  22707.04   \n",
       "2023-01-22 23:58:00  1674431880000  22707.86  22724.28  22705.90  22719.54   \n",
       "2023-01-22 23:59:00  1674431940000  22717.90  22719.55  22702.47  22707.88   \n",
       "\n",
       "                         volume   returns  day_of_week  \n",
       "date                                                    \n",
       "2018-02-10 00:00:00   39.390029 -0.003906            5  \n",
       "2018-02-10 00:01:00   19.946281 -0.000990            5  \n",
       "2018-02-10 00:02:00   35.284595  0.000415            5  \n",
       "2018-02-10 00:03:00   17.211845  0.000110            5  \n",
       "2018-02-10 00:04:00   19.959248 -0.004740            5  \n",
       "...                         ...       ...          ...  \n",
       "2023-01-22 23:55:00   69.752750 -0.000152            6  \n",
       "2023-01-22 23:56:00   87.304610 -0.000574            6  \n",
       "2023-01-22 23:57:00   82.070630 -0.000313            6  \n",
       "2023-01-22 23:58:00  108.494800  0.000550            6  \n",
       "2023-01-22 23:59:00  116.029770 -0.000513            6  \n",
       "\n",
       "[745077 rows x 8 columns]"
      ]
     },
     "execution_count": 88,
     "metadata": {},
     "output_type": "execute_result"
    }
   ],
   "source": [
    "df[df['day_of_week'].apply(lambda x : x in [5,6])]"
   ]
  },
  {
   "cell_type": "code",
   "execution_count": 99,
   "id": "ed4eac5a",
   "metadata": {},
   "outputs": [],
   "source": [
    "s = (-df_1d_weekends['open'] + df_1d_weekends['low'])/(df_1d_weekends['open'])"
   ]
  },
  {
   "cell_type": "code",
   "execution_count": 102,
   "id": "dcb8bd2e",
   "metadata": {},
   "outputs": [
    {
     "data": {
      "text/plain": [
       "<AxesSubplot:>"
      ]
     },
     "execution_count": 102,
     "metadata": {},
     "output_type": "execute_result"
    },
    {
     "data": {
      "image/png": "[encoded data removed]",
      "text/plain": [
       "<Figure size 432x288 with 1 Axes>"
      ]
     },
     "metadata": {
      "needs_background": "light"
     },
     "output_type": "display_data"
    }
   ],
   "source": []
  },
  {
   "cell_type": "code",
   "execution_count": null,
   "id": "89c26498",
   "metadata": {},
   "outputs": [],
   "source": []
  },
  {
   "cell_type": "code",
   "execution_count": null,
   "id": "18b9823c",
   "metadata": {},
   "outputs": [],
   "source": []
  }
 ],
 "metadata": {
  "kernelspec": {
   "display_name": "Python 3 (ipykernel)",
   "language": "python",
   "name": "python3"
  },
  "language_info": {
   "codemirror_mode": {
    "name": "ipython",
    "version": 3
   },
   "file_extension": ".py",
   "mimetype": "text/x-python",
   "name": "python",
   "nbconvert_exporter": "python",
   "pygments_lexer": "ipython3",
   "version": "3.9.7"
  }
 },
 "nbformat": 4,
 "nbformat_minor": 5
}
