{
 "cells": [
  {
   "cell_type": "code",
   "execution_count": 3,
   "metadata": {},
   "outputs": [],
   "source": [
    "import pandas as pd\n",
    "import numpy as np \n",
    "import os\n",
    "import sys\n",
    "import matplotlib.pyplot as plt\n",
    "import datetime\n",
    "from tqdm.notebook import tqdm\n",
    "import plotly.express as px\n",
    "import plotly.graph_objects as go\n",
    "import statistics \n",
    "from statistics import mode \n",
    "import math"
   ]
  },
  {
   "cell_type": "markdown",
   "metadata": {},
   "source": [
    "Goal : Given an asset A and time intervals - t1 and t2, we study the following effect. \n",
    "\n",
    "Suppose the returns of asset A resampled over t1 is above a certain threshold which we call the pump threshold. We then ask what effect that might have over the interval - t2 starting from the end of interval t1. "
   ]
  },
  {
   "cell_type": "markdown",
   "metadata": {},
   "source": [
    "### Loading df"
   ]
  },
  {
   "cell_type": "code",
   "execution_count": 4,
   "metadata": {},
   "outputs": [],
   "source": [
    "def load_df(path):\n",
    "    df = pd.read_csv(path)\n",
    "    df.columns = ['timestamp','open','high','low','close','volume']\n",
    "    df['date'] = pd.to_datetime(df['timestamp'], unit = 'ms')\n",
    "    df = df.set_index(pd.DatetimeIndex(df['date']))\n",
    "    df = df.drop(['date'],axis = 1)        \n",
    "    df['returns'] = df['open'].pct_change()\n",
    "    print('Total NaN : ' + \"\\n\")\n",
    "    print(df.isna().sum())\n",
    "    return(df)"
   ]
  },
  {
   "cell_type": "markdown",
   "metadata": {},
   "source": [
    "### Checking for missing values"
   ]
  },
  {
   "cell_type": "code",
   "execution_count": 5,
   "metadata": {},
   "outputs": [],
   "source": [
    "def check_for_missing_timestamps(df):\n",
    "    m = len(df)\n",
    "    X = df['timestamp'].values\n",
    "    count = 0\n",
    "    missing_indices = []\n",
    "    \n",
    "    \n",
    "    l_temp = [X[i]-X[i-1] for i in range(1,len(X))]\n",
    "    interval_length = mode(l_temp)    # We assume that we more or less have all the data. \n",
    "    \n",
    "    \n",
    "    for i in range(1,m):\n",
    "        if X[i]-X[i-1] != interval_length:\n",
    "            count += 1\n",
    "            error = np.timedelta64(X[i]-X[i-1],'ms')\n",
    "            missing_indices.append((i,error))\n",
    "    \n",
    "    t = (np.array(missing_indices).sum())\n",
    "    t = t.astype('int')\n",
    "    t = t/60000 \n",
    "    \n",
    "    print('Number of instances for which we have intervals of missing data is {}.'.format(count))\n",
    "    print('')\n",
    "    print('Total amount of missing time in dataframe is {} minutes'.format(t))\n",
    "    \n",
    "    return(count,missing_indices)     "
   ]
  },
  {
   "cell_type": "code",
   "execution_count": 6,
   "metadata": {},
   "outputs": [],
   "source": [
    "def resample(df,interval):\n",
    "    \"\"\"\n",
    "    Input : df -- dataframe OHLCV with pandas datetime as index.\n",
    "            interval -- string eg. 1T,1H,1D,1m \n",
    "    \n",
    "    Output : df resampled. \n",
    "    \n",
    "    In the resample code, T -- minute eg 5T will resample for 5 min intervals,\n",
    "    H -- hours, D -- days, m -- months.\n",
    "    \"\"\"\n",
    "    \n",
    "    ohlc_dict = {\n",
    "        'open':'first',\n",
    "        'high':'max',\n",
    "        'low':'min',\n",
    "        'close':'last',\n",
    "        'volume':'sum'\n",
    "        }\n",
    "    \n",
    "    df = df.resample(interval).agg(ohlc_dict)\n",
    "    \n",
    "    df['returns'] = df['open'].pct_change()\n",
    "    \n",
    "    df = df.dropna(axis = 0)\n",
    "    \n",
    "    return(df)"
   ]
  },
  {
   "cell_type": "code",
   "execution_count": 7,
   "metadata": {},
   "outputs": [],
   "source": [
    "def plot_daily_price_volume(df):\n",
    "    df_1d = resample(df,'1D')\n",
    "\n",
    "    area_chart = px.area(df_1d.close, title = 'Daily price')\n",
    "    \n",
    "    area_chart.update_xaxes(title_text = 'Date')\n",
    "    area_chart.update_yaxes(title_text = 'close price', tickprefix = '$')\n",
    "    area_chart.update_layout(showlegend = False)\n",
    "    area_chart.show()\n",
    "    \n",
    "    area_chart = px.area(df_1d.volume, title = 'Daily volume')\n",
    "\n",
    "    area_chart.update_xaxes(title_text = 'Date')\n",
    "    area_chart.update_yaxes(title_text = 'volume')\n",
    "    area_chart.update_layout(showlegend = False)\n",
    "    area_chart.show()"
   ]
  },
  {
   "cell_type": "code",
   "execution_count": 8,
   "metadata": {},
   "outputs": [],
   "source": [
    "def check_for_pump_action(df,pump_thresh):\n",
    "    \"\"\"\n",
    "    input - \n",
    "        df : dataframe with a column for returns data.\n",
    "        pump_thresh : pump threshold\n",
    "        \n",
    "    output -\n",
    "        singular_indices : indices where the returns data is above \n",
    "                       the threshold\n",
    "    \"\"\"\n",
    "    a = np.percentile(df['returns'],pump_thresh)\n",
    "    \n",
    "    m = len(df)\n",
    "    singular_indices = []\n",
    "    for i in range(m):\n",
    "        if df['returns'][i] >= a:\n",
    "            singular_indices.append(i)\n",
    "    singular_date_indices = df.index[singular_indices]        \n",
    "    return(singular_indices,singular_date_indices)"
   ]
  },
  {
   "cell_type": "code",
   "execution_count": 9,
   "metadata": {},
   "outputs": [],
   "source": [
    "path = '../Binance/crypto_pumps/data/raw/Binance/BTC_USDT.csv'"
   ]
  },
  {
   "cell_type": "code",
   "execution_count": 10,
   "metadata": {},
   "outputs": [
    {
     "name": "stdout",
     "output_type": "stream",
     "text": [
      "Total NaN : \n",
      "\n",
      "timestamp    0\n",
      "open         0\n",
      "high         0\n",
      "low          0\n",
      "close        0\n",
      "volume       0\n",
      "returns      1\n",
      "dtype: int64\n"
     ]
    }
   ],
   "source": [
    "btcusd = load_df(path)"
   ]
  },
  {
   "cell_type": "code",
   "execution_count": 11,
   "metadata": {},
   "outputs": [],
   "source": [
    "btcusd = btcusd.dropna(axis = 0)"
   ]
  },
  {
   "cell_type": "code",
   "execution_count": 12,
   "metadata": {},
   "outputs": [
    {
     "name": "stdout",
     "output_type": "stream",
     "text": [
      "Number of instances for which we have intervals of missing data is 22.\n",
      "\n",
      "Total amount of missing time in dataframe is 5160.963466666667 minutes\n"
     ]
    },
    {
     "data": {
      "text/plain": [
       "(22,\n",
       " [(1199, numpy.timedelta64(945211,'ms')),\n",
       "  (2505, numpy.timedelta64(2100000,'ms')),\n",
       "  (196750, numpy.timedelta64(36060000,'ms')),\n",
       "  (198250, numpy.timedelta64(6360000,'ms')),\n",
       "  (207468, numpy.timedelta64(27480000,'ms')),\n",
       "  (361428, numpy.timedelta64(12660000,'ms')),\n",
       "  (398418, numpy.timedelta64(25260000,'ms')),\n",
       "  (567918, numpy.timedelta64(21660000,'ms')),\n",
       "  (659778, numpy.timedelta64(36060000,'ms')),\n",
       "  (693392, numpy.timedelta64(3720000,'ms')),\n",
       "  (791537, numpy.timedelta64(28860000,'ms')),\n",
       "  (920657, numpy.timedelta64(8460000,'ms')),\n",
       "  (920727, numpy.timedelta64(240000,'ms')),\n",
       "  (937794, numpy.timedelta64(7260000,'ms')),\n",
       "  (1047114, numpy.timedelta64(3660000,'ms')),\n",
       "  (1062030, numpy.timedelta64(21300000,'ms')),\n",
       "  (1081702, numpy.timedelta64(7740000,'ms')),\n",
       "  (1156012, numpy.timedelta64(9060000,'ms')),\n",
       "  (1248022, numpy.timedelta64(12660000,'ms')),\n",
       "  (1471252, numpy.timedelta64(3660000,'ms')),\n",
       "  (1501922, numpy.timedelta64(13860000,'ms')),\n",
       "  (1506722, numpy.timedelta64(3660000,'ms'))])"
      ]
     },
     "execution_count": 12,
     "metadata": {},
     "output_type": "execute_result"
    }
   ],
   "source": [
    "check_for_missing_timestamps(btcusd)"
   ]
  },
  {
   "cell_type": "code",
   "execution_count": 13,
   "metadata": {},
   "outputs": [],
   "source": [
    "btcusd_5t = resample(btcusd,'5T')"
   ]
  },
  {
   "cell_type": "code",
   "execution_count": 14,
   "metadata": {},
   "outputs": [],
   "source": [
    "singular_indices, singular_date_indices = check_for_pump_action(btcusd_5t,95)"
   ]
  },
  {
   "cell_type": "code",
   "execution_count": 15,
   "metadata": {},
   "outputs": [
    {
     "data": {
      "text/plain": [
       "open       8350.000000\n",
       "high       8369.990000\n",
       "low        8250.000000\n",
       "close      8277.000000\n",
       "volume      259.052820\n",
       "returns       0.005539\n",
       "Name: 2018-02-09 10:05:00, dtype: float64"
      ]
     },
     "execution_count": 15,
     "metadata": {},
     "output_type": "execute_result"
    }
   ],
   "source": [
    "btcusd_5t.loc[singular_date_indices[0],:]"
   ]
  },
  {
   "cell_type": "code",
   "execution_count": 16,
   "metadata": {},
   "outputs": [
    {
     "data": {
      "text/html": [
       "<div>\n",
       "<style scoped>\n",
       "    .dataframe tbody tr th:only-of-type {\n",
       "        vertical-align: middle;\n",
       "    }\n",
       "\n",
       "    .dataframe tbody tr th {\n",
       "        vertical-align: top;\n",
       "    }\n",
       "\n",
       "    .dataframe thead th {\n",
       "        text-align: right;\n",
       "    }\n",
       "</style>\n",
       "<table border=\"1\" class=\"dataframe\">\n",
       "  <thead>\n",
       "    <tr style=\"text-align: right;\">\n",
       "      <th></th>\n",
       "      <th>open</th>\n",
       "      <th>high</th>\n",
       "      <th>low</th>\n",
       "      <th>close</th>\n",
       "      <th>volume</th>\n",
       "      <th>returns</th>\n",
       "    </tr>\n",
       "    <tr>\n",
       "      <th>date</th>\n",
       "      <th></th>\n",
       "      <th></th>\n",
       "      <th></th>\n",
       "      <th></th>\n",
       "      <th></th>\n",
       "      <th></th>\n",
       "    </tr>\n",
       "  </thead>\n",
       "  <tbody>\n",
       "    <tr>\n",
       "      <th>2018-02-09 10:05:00</th>\n",
       "      <td>8350.00</td>\n",
       "      <td>8369.99</td>\n",
       "      <td>8250.00</td>\n",
       "      <td>8277.00</td>\n",
       "      <td>259.052820</td>\n",
       "      <td>0.005539</td>\n",
       "    </tr>\n",
       "    <tr>\n",
       "      <th>2018-02-09 10:40:00</th>\n",
       "      <td>8298.96</td>\n",
       "      <td>8310.00</td>\n",
       "      <td>8263.93</td>\n",
       "      <td>8269.00</td>\n",
       "      <td>77.434147</td>\n",
       "      <td>0.010834</td>\n",
       "    </tr>\n",
       "    <tr>\n",
       "      <th>2018-02-09 11:20:00</th>\n",
       "      <td>8312.00</td>\n",
       "      <td>8339.00</td>\n",
       "      <td>8278.69</td>\n",
       "      <td>8323.98</td>\n",
       "      <td>136.046677</td>\n",
       "      <td>0.004735</td>\n",
       "    </tr>\n",
       "    <tr>\n",
       "      <th>2018-02-09 11:35:00</th>\n",
       "      <td>8329.89</td>\n",
       "      <td>8345.00</td>\n",
       "      <td>8305.96</td>\n",
       "      <td>8340.67</td>\n",
       "      <td>93.668587</td>\n",
       "      <td>0.004703</td>\n",
       "    </tr>\n",
       "    <tr>\n",
       "      <th>2018-02-09 12:30:00</th>\n",
       "      <td>8231.04</td>\n",
       "      <td>8286.06</td>\n",
       "      <td>8231.02</td>\n",
       "      <td>8264.00</td>\n",
       "      <td>94.743231</td>\n",
       "      <td>0.003542</td>\n",
       "    </tr>\n",
       "    <tr>\n",
       "      <th>...</th>\n",
       "      <td>...</td>\n",
       "      <td>...</td>\n",
       "      <td>...</td>\n",
       "      <td>...</td>\n",
       "      <td>...</td>\n",
       "      <td>...</td>\n",
       "    </tr>\n",
       "    <tr>\n",
       "      <th>2021-02-08 06:15:00</th>\n",
       "      <td>38994.91</td>\n",
       "      <td>39101.19</td>\n",
       "      <td>38973.29</td>\n",
       "      <td>39070.75</td>\n",
       "      <td>439.207772</td>\n",
       "      <td>0.005268</td>\n",
       "    </tr>\n",
       "    <tr>\n",
       "      <th>2021-02-08 07:30:00</th>\n",
       "      <td>39118.64</td>\n",
       "      <td>39380.89</td>\n",
       "      <td>39113.32</td>\n",
       "      <td>39362.40</td>\n",
       "      <td>472.592240</td>\n",
       "      <td>0.003078</td>\n",
       "    </tr>\n",
       "    <tr>\n",
       "      <th>2021-02-08 07:35:00</th>\n",
       "      <td>39362.40</td>\n",
       "      <td>39391.78</td>\n",
       "      <td>39306.26</td>\n",
       "      <td>39349.99</td>\n",
       "      <td>295.290775</td>\n",
       "      <td>0.006231</td>\n",
       "    </tr>\n",
       "    <tr>\n",
       "      <th>2021-02-08 09:05:00</th>\n",
       "      <td>39308.53</td>\n",
       "      <td>39314.61</td>\n",
       "      <td>39207.12</td>\n",
       "      <td>39288.68</td>\n",
       "      <td>168.908695</td>\n",
       "      <td>0.003399</td>\n",
       "    </tr>\n",
       "    <tr>\n",
       "      <th>2021-02-08 10:10:00</th>\n",
       "      <td>39038.00</td>\n",
       "      <td>39043.09</td>\n",
       "      <td>38924.21</td>\n",
       "      <td>39000.16</td>\n",
       "      <td>199.313324</td>\n",
       "      <td>0.003862</td>\n",
       "    </tr>\n",
       "  </tbody>\n",
       "</table>\n",
       "<p>15721 rows × 6 columns</p>\n",
       "</div>"
      ],
      "text/plain": [
       "                         open      high       low     close      volume  \\\n",
       "date                                                                      \n",
       "2018-02-09 10:05:00   8350.00   8369.99   8250.00   8277.00  259.052820   \n",
       "2018-02-09 10:40:00   8298.96   8310.00   8263.93   8269.00   77.434147   \n",
       "2018-02-09 11:20:00   8312.00   8339.00   8278.69   8323.98  136.046677   \n",
       "2018-02-09 11:35:00   8329.89   8345.00   8305.96   8340.67   93.668587   \n",
       "2018-02-09 12:30:00   8231.04   8286.06   8231.02   8264.00   94.743231   \n",
       "...                       ...       ...       ...       ...         ...   \n",
       "2021-02-08 06:15:00  38994.91  39101.19  38973.29  39070.75  439.207772   \n",
       "2021-02-08 07:30:00  39118.64  39380.89  39113.32  39362.40  472.592240   \n",
       "2021-02-08 07:35:00  39362.40  39391.78  39306.26  39349.99  295.290775   \n",
       "2021-02-08 09:05:00  39308.53  39314.61  39207.12  39288.68  168.908695   \n",
       "2021-02-08 10:10:00  39038.00  39043.09  38924.21  39000.16  199.313324   \n",
       "\n",
       "                      returns  \n",
       "date                           \n",
       "2018-02-09 10:05:00  0.005539  \n",
       "2018-02-09 10:40:00  0.010834  \n",
       "2018-02-09 11:20:00  0.004735  \n",
       "2018-02-09 11:35:00  0.004703  \n",
       "2018-02-09 12:30:00  0.003542  \n",
       "...                       ...  \n",
       "2021-02-08 06:15:00  0.005268  \n",
       "2021-02-08 07:30:00  0.003078  \n",
       "2021-02-08 07:35:00  0.006231  \n",
       "2021-02-08 09:05:00  0.003399  \n",
       "2021-02-08 10:10:00  0.003862  \n",
       "\n",
       "[15721 rows x 6 columns]"
      ]
     },
     "execution_count": 16,
     "metadata": {},
     "output_type": "execute_result"
    }
   ],
   "source": [
    "btcusd_5t.iloc[singular_indices]"
   ]
  },
  {
   "cell_type": "code",
   "execution_count": 17,
   "metadata": {},
   "outputs": [
    {
     "data": {
      "text/plain": [
       "0.003070447191504953"
      ]
     },
     "execution_count": 17,
     "metadata": {},
     "output_type": "execute_result"
    }
   ],
   "source": [
    "np.percentile(btcusd_5t['returns'],95)"
   ]
  },
  {
   "cell_type": "code",
   "execution_count": 18,
   "metadata": {},
   "outputs": [],
   "source": [
    "## mapping datetime indices back and forth\n",
    "\n",
    "m1 = len(btcusd_5t)\n",
    "m2 = len(btcusd)\n",
    "\n",
    "#for i in df1:\n",
    "    "
   ]
  },
  {
   "cell_type": "code",
   "execution_count": 19,
   "metadata": {},
   "outputs": [],
   "source": [
    "y = btcusd.index[4]"
   ]
  },
  {
   "cell_type": "code",
   "execution_count": 20,
   "metadata": {},
   "outputs": [],
   "source": [
    "x = btcusd_5t.index[0]"
   ]
  },
  {
   "cell_type": "code",
   "execution_count": 21,
   "metadata": {},
   "outputs": [
    {
     "data": {
      "text/plain": [
       "Timedelta('-1 days +23:59:45.211000')"
      ]
     },
     "execution_count": 21,
     "metadata": {},
     "output_type": "execute_result"
    }
   ],
   "source": [
    "x - y"
   ]
  },
  {
   "cell_type": "code",
   "execution_count": 22,
   "metadata": {},
   "outputs": [
    {
     "data": {
      "text/plain": [
       "False"
      ]
     },
     "execution_count": 22,
     "metadata": {},
     "output_type": "execute_result"
    }
   ],
   "source": [
    "(x-y) < pd.Timedelta(1,unit = \"m\") and (x-y) > pd.Timedelta(0,unit = \"m\")"
   ]
  },
  {
   "cell_type": "code",
   "execution_count": 23,
   "metadata": {},
   "outputs": [],
   "source": [
    "btcusd_2d = resample(btcusd,'2D')"
   ]
  },
  {
   "cell_type": "code",
   "execution_count": 24,
   "metadata": {},
   "outputs": [],
   "source": [
    "y = btcusd.index[2265]\n",
    "\n",
    "x = btcusd_2d.index[0]"
   ]
  },
  {
   "cell_type": "code",
   "execution_count": 25,
   "metadata": {},
   "outputs": [
    {
     "data": {
      "text/plain": [
       "Timedelta('-1 days +23:59:00')"
      ]
     },
     "execution_count": 25,
     "metadata": {},
     "output_type": "execute_result"
    }
   ],
   "source": [
    "x - y"
   ]
  },
  {
   "cell_type": "code",
   "execution_count": 26,
   "metadata": {},
   "outputs": [
    {
     "data": {
      "text/plain": [
       "False"
      ]
     },
     "execution_count": 26,
     "metadata": {},
     "output_type": "execute_result"
    }
   ],
   "source": [
    "x > y"
   ]
  },
  {
   "cell_type": "code",
   "execution_count": 27,
   "metadata": {},
   "outputs": [
    {
     "data": {
      "text/plain": [
       "False"
      ]
     },
     "execution_count": 27,
     "metadata": {},
     "output_type": "execute_result"
    }
   ],
   "source": [
    "(x-y) < pd.Timedelta(1,unit = \"m\") and (x-y) >= pd.Timedelta(0,unit = \"m\")"
   ]
  },
  {
   "cell_type": "code",
   "execution_count": 28,
   "metadata": {},
   "outputs": [
    {
     "data": {
      "text/plain": [
       "Timestamp('2018-02-11 00:01:00')"
      ]
     },
     "execution_count": 28,
     "metadata": {},
     "output_type": "execute_result"
    }
   ],
   "source": [
    "y"
   ]
  },
  {
   "cell_type": "code",
   "execution_count": 29,
   "metadata": {},
   "outputs": [
    {
     "data": {
      "text/plain": [
       "Timestamp('2018-02-11 00:00:00', freq='2D')"
      ]
     },
     "execution_count": 29,
     "metadata": {},
     "output_type": "execute_result"
    }
   ],
   "source": [
    "x"
   ]
  },
  {
   "cell_type": "code",
   "execution_count": 30,
   "metadata": {},
   "outputs": [],
   "source": [
    "## Assume len(df1) is less than len(df2) i.e. df1 is finer than df2\n",
    "\n",
    "def index_mapping(df1,df2):\n",
    "    m1 = len(df1)\n",
    "    m2 = len(df2)\n",
    "    \n",
    "    i = 0\n",
    "    j = 0\n",
    "    current = df2.index[j]\n",
    "    \n",
    "    index_mapping_before = {}\n",
    "    index_mapping_after = {}\n",
    "    \n",
    "    while i < m1:\n",
    "        if df1.index[i] <= current:\n",
    "            i += 1\n",
    "        \n",
    "        if df1.index[i] > current:\n",
    "            index_mapping_before[current] = df1.index[i-1]\n",
    "            index_mapping_after[current] = df1.index[i]\n",
    "            i += 1\n",
    "            j += 1\n",
    "            if j >= m2:\n",
    "                break\n",
    "            else: \n",
    "                current = df2.index[j]\n",
    "                \n",
    "    return(index_mapping_before,index_mapping_after)"
   ]
  },
  {
   "cell_type": "code",
   "execution_count": 31,
   "metadata": {},
   "outputs": [],
   "source": [
    "p,q = index_mapping(btcusd,btcusd_5t)"
   ]
  },
  {
   "cell_type": "code",
   "execution_count": 32,
   "metadata": {},
   "outputs": [],
   "source": [
    "def get_dict_datetime_index(df):\n",
    "    l = list(df.index)\n",
    "    d = {}\n",
    "    for i,a in enumerate(l):\n",
    "        d[a] = i\n",
    "    return(d)    "
   ]
  },
  {
   "cell_type": "code",
   "execution_count": 102,
   "metadata": {},
   "outputs": [],
   "source": [
    "def get_follow_up(df1,df2,singular_indices,singular_date_indices,follow_up_measure):\n",
    "    \n",
    "    index_mapping_before, index_mapping_after = index_mapping(df1,df2)\n",
    "    mode2 = mode([df2.index[i]- df2.index[i-1] for i in range(1,100)])\n",
    "    \n",
    "    singular_indices_with_holes_after = []\n",
    "    \n",
    "    tranches = []\n",
    "    \n",
    "    d1 = get_dict_datetime_index(df1)\n",
    "    d2 = get_dict_datetime_index(df2)\n",
    "    \n",
    "    for a in tqdm(singular_date_indices):\n",
    "        a_ind = d2[a]\n",
    "        if a_ind + 1 <= len(df2)-1:\n",
    "            if df2.index[a_ind + 1] - a != mode2:\n",
    "                singular_indices_with_holes_after.append(a)\n",
    "            else:\n",
    "                index_df = index_mapping_after[a]\n",
    "                \n",
    "                tranch = []            \n",
    "                tmp = d1[index_df]\n",
    "                i = tmp\n",
    "                \n",
    "                while df1.index[i] - index_df < follow_up_measure:\n",
    "                    tranch.append(df1.index[i])\n",
    "                    i += 1\n",
    "                #print(len(tranch))    \n",
    "                tranches.append(tranch)    \n",
    "                \n",
    "        else:\n",
    "            singular_indices_with_holes_after.append[a]\n",
    "    \n",
    "    return(tranches,singular_indices_with_holes_after)\n"
   ]
  },
  {
   "cell_type": "code",
   "execution_count": 103,
   "metadata": {},
   "outputs": [],
   "source": [
    "follow_up_measure = pd.Timedelta(3,unit = \"m\")"
   ]
  },
  {
   "cell_type": "code",
   "execution_count": 104,
   "metadata": {},
   "outputs": [
    {
     "data": {
      "application/vnd.jupyter.widget-view+json": {
       "model_id": "e6903de3183b4cfd89697039995df54e",
       "version_major": 2,
       "version_minor": 0
      },
      "text/plain": [
       "HBox(children=(FloatProgress(value=0.0, max=15721.0), HTML(value='')))"
      ]
     },
     "metadata": {},
     "output_type": "display_data"
    },
    {
     "name": "stdout",
     "output_type": "stream",
     "text": [
      "\n"
     ]
    }
   ],
   "source": [
    "tranches,_ = get_follow_up(btcusd,btcusd_5t,singular_indices,singular_date_indices,follow_up_measure)"
   ]
  },
  {
   "cell_type": "code",
   "execution_count": 105,
   "metadata": {},
   "outputs": [],
   "source": [
    "def tranch_quality_check(tranches):\n",
    "    mode1 = mode([len(x) for x in tranches])\n",
    "    count = 0\n",
    "    for x in tranches:\n",
    "        if len(x) != mode1:\n",
    "            count += 1\n",
    "    return(count)"
   ]
  },
  {
   "cell_type": "code",
   "execution_count": 106,
   "metadata": {},
   "outputs": [
    {
     "data": {
      "text/plain": [
       "0"
      ]
     },
     "execution_count": 106,
     "metadata": {},
     "output_type": "execute_result"
    }
   ],
   "source": [
    "tranch_quality_check(tranches)"
   ]
  },
  {
   "cell_type": "code",
   "execution_count": 122,
   "metadata": {},
   "outputs": [],
   "source": [
    "def aggregate_df(df,d):\n",
    "    d['date'].append(df.index[0])\n",
    "    d['open'].append(df['open'][0])\n",
    "    d['high'].append(max(df['high']))\n",
    "    d['low'].append(min(df['low']))\n",
    "    d['close'].append(df['close'][-1])\n",
    "    d['volume'].append(sum(df['volume']))\n",
    "    d['intra_interval_returns'].append(100*(df['close'][-1] - df['open'][0])/df['open'][0])\n",
    "    return(d)"
   ]
  },
  {
   "cell_type": "code",
   "execution_count": 124,
   "metadata": {},
   "outputs": [],
   "source": [
    "def create_follow_up_df(df,tranches):\n",
    "    d = {}\n",
    "    for x in ['date','open','high','low','close','volume','intra_interval_returns']:\n",
    "        d[x] = []\n",
    "        \n",
    "    for t in tranches:\n",
    "        e = df.loc[t]\n",
    "        d = aggregate_df(e,d) \n",
    "    \n",
    "    follow_up_df = pd.DataFrame(d)\n",
    "    follow_up_df = follow_up_df.set_index('date')\n",
    "    \n",
    "    return(follow_up_df)"
   ]
  },
  {
   "cell_type": "code",
   "execution_count": 130,
   "metadata": {},
   "outputs": [
    {
     "data": {
      "text/plain": [
       "0.45760447808663574"
      ]
     },
     "execution_count": 130,
     "metadata": {},
     "output_type": "execute_result"
    }
   ],
   "source": [
    "# probability that strategy would be successful (this honestly makes no sense since we are \n",
    "# after the fact information.)\n",
    "\n",
    "len(follow_up_df[follow_up_df['intra_interval_returns'] > 0])/len(follow_up_df)"
   ]
  },
  {
   "cell_type": "code",
   "execution_count": 125,
   "metadata": {},
   "outputs": [],
   "source": [
    "follow_up_df = create_follow_up_df(btcusd,tranches)"
   ]
  },
  {
   "cell_type": "code",
   "execution_count": 128,
   "metadata": {},
   "outputs": [
    {
     "data": {
      "text/plain": [
       "0.45760447808663574"
      ]
     },
     "execution_count": 128,
     "metadata": {},
     "output_type": "execute_result"
    }
   ],
   "source": [
    "len(follow_up_df[follow_up_df['intra_interval_returns'] > 0])/len(follow_up_df)"
   ]
  },
  {
   "cell_type": "code",
   "execution_count": null,
   "metadata": {},
   "outputs": [],
   "source": []
  },
  {
   "cell_type": "code",
   "execution_count": 46,
   "metadata": {},
   "outputs": [
    {
     "ename": "RecursionError",
     "evalue": "maximum recursion depth exceeded in comparison",
     "output_type": "error",
     "traceback": [
      "\u001b[0;31m---------------------------------------------------------------------------\u001b[0m",
      "\u001b[0;31mRecursionError\u001b[0m                            Traceback (most recent call last)",
      "\u001b[0;32m<ipython-input-46-ce0d3c0c05d9>\u001b[0m in \u001b[0;36m<module>\u001b[0;34m\u001b[0m\n\u001b[1;32m      5\u001b[0m         \u001b[0;34m'close'\u001b[0m\u001b[0;34m:\u001b[0m\u001b[0;34m'last'\u001b[0m\u001b[0;34m,\u001b[0m\u001b[0;34m\u001b[0m\u001b[0;34m\u001b[0m\u001b[0m\n\u001b[1;32m      6\u001b[0m         \u001b[0;34m'volume'\u001b[0m\u001b[0;34m:\u001b[0m\u001b[0;34m'sum'\u001b[0m\u001b[0;34m\u001b[0m\u001b[0;34m\u001b[0m\u001b[0m\n\u001b[0;32m----> 7\u001b[0;31m         }, axis = 0)\n\u001b[0m",
      "\u001b[0;32m/usr/local/lib64/python3.6/site-packages/pandas/core/frame.py\u001b[0m in \u001b[0;36mapply\u001b[0;34m(self, func, axis, raw, result_type, args, **kwds)\u001b[0m\n\u001b[1;32m   6876\u001b[0m             \u001b[0mkwds\u001b[0m\u001b[0;34m=\u001b[0m\u001b[0mkwds\u001b[0m\u001b[0;34m,\u001b[0m\u001b[0;34m\u001b[0m\u001b[0;34m\u001b[0m\u001b[0m\n\u001b[1;32m   6877\u001b[0m         )\n\u001b[0;32m-> 6878\u001b[0;31m         \u001b[0;32mreturn\u001b[0m \u001b[0mop\u001b[0m\u001b[0;34m.\u001b[0m\u001b[0mget_result\u001b[0m\u001b[0;34m(\u001b[0m\u001b[0;34m)\u001b[0m\u001b[0;34m\u001b[0m\u001b[0;34m\u001b[0m\u001b[0m\n\u001b[0m\u001b[1;32m   6879\u001b[0m \u001b[0;34m\u001b[0m\u001b[0m\n\u001b[1;32m   6880\u001b[0m     \u001b[0;32mdef\u001b[0m \u001b[0mapplymap\u001b[0m\u001b[0;34m(\u001b[0m\u001b[0mself\u001b[0m\u001b[0;34m,\u001b[0m \u001b[0mfunc\u001b[0m\u001b[0;34m)\u001b[0m \u001b[0;34m->\u001b[0m \u001b[0;34m\"DataFrame\"\u001b[0m\u001b[0;34m:\u001b[0m\u001b[0;34m\u001b[0m\u001b[0;34m\u001b[0m\u001b[0m\n",
      "\u001b[0;32m/usr/local/lib64/python3.6/site-packages/pandas/core/apply.py\u001b[0m in \u001b[0;36mget_result\u001b[0;34m(self)\u001b[0m\n\u001b[1;32m    147\u001b[0m         \u001b[0;31m# dispatch to agg\u001b[0m\u001b[0;34m\u001b[0m\u001b[0;34m\u001b[0m\u001b[0;34m\u001b[0m\u001b[0m\n\u001b[1;32m    148\u001b[0m         \u001b[0;32mif\u001b[0m \u001b[0mis_list_like\u001b[0m\u001b[0;34m(\u001b[0m\u001b[0mself\u001b[0m\u001b[0;34m.\u001b[0m\u001b[0mf\u001b[0m\u001b[0;34m)\u001b[0m \u001b[0;32mor\u001b[0m \u001b[0mis_dict_like\u001b[0m\u001b[0;34m(\u001b[0m\u001b[0mself\u001b[0m\u001b[0;34m.\u001b[0m\u001b[0mf\u001b[0m\u001b[0;34m)\u001b[0m\u001b[0;34m:\u001b[0m\u001b[0;34m\u001b[0m\u001b[0;34m\u001b[0m\u001b[0m\n\u001b[0;32m--> 149\u001b[0;31m             \u001b[0;32mreturn\u001b[0m \u001b[0mself\u001b[0m\u001b[0;34m.\u001b[0m\u001b[0mobj\u001b[0m\u001b[0;34m.\u001b[0m\u001b[0maggregate\u001b[0m\u001b[0;34m(\u001b[0m\u001b[0mself\u001b[0m\u001b[0;34m.\u001b[0m\u001b[0mf\u001b[0m\u001b[0;34m,\u001b[0m \u001b[0maxis\u001b[0m\u001b[0;34m=\u001b[0m\u001b[0mself\u001b[0m\u001b[0;34m.\u001b[0m\u001b[0maxis\u001b[0m\u001b[0;34m,\u001b[0m \u001b[0;34m*\u001b[0m\u001b[0mself\u001b[0m\u001b[0;34m.\u001b[0m\u001b[0margs\u001b[0m\u001b[0;34m,\u001b[0m \u001b[0;34m**\u001b[0m\u001b[0mself\u001b[0m\u001b[0;34m.\u001b[0m\u001b[0mkwds\u001b[0m\u001b[0;34m)\u001b[0m\u001b[0;34m\u001b[0m\u001b[0;34m\u001b[0m\u001b[0m\n\u001b[0m\u001b[1;32m    150\u001b[0m \u001b[0;34m\u001b[0m\u001b[0m\n\u001b[1;32m    151\u001b[0m         \u001b[0;31m# all empty\u001b[0m\u001b[0;34m\u001b[0m\u001b[0;34m\u001b[0m\u001b[0;34m\u001b[0m\u001b[0m\n",
      "\u001b[0;32m/usr/local/lib64/python3.6/site-packages/pandas/core/frame.py\u001b[0m in \u001b[0;36maggregate\u001b[0;34m(self, func, axis, *args, **kwargs)\u001b[0m\n\u001b[1;32m   6708\u001b[0m             \u001b[0;32mpass\u001b[0m\u001b[0;34m\u001b[0m\u001b[0;34m\u001b[0m\u001b[0m\n\u001b[1;32m   6709\u001b[0m         \u001b[0;32mif\u001b[0m \u001b[0mresult\u001b[0m \u001b[0;32mis\u001b[0m \u001b[0;32mNone\u001b[0m\u001b[0;34m:\u001b[0m\u001b[0;34m\u001b[0m\u001b[0;34m\u001b[0m\u001b[0m\n\u001b[0;32m-> 6710\u001b[0;31m             \u001b[0;32mreturn\u001b[0m \u001b[0mself\u001b[0m\u001b[0;34m.\u001b[0m\u001b[0mapply\u001b[0m\u001b[0;34m(\u001b[0m\u001b[0mfunc\u001b[0m\u001b[0;34m,\u001b[0m \u001b[0maxis\u001b[0m\u001b[0;34m=\u001b[0m\u001b[0maxis\u001b[0m\u001b[0;34m,\u001b[0m \u001b[0margs\u001b[0m\u001b[0;34m=\u001b[0m\u001b[0margs\u001b[0m\u001b[0;34m,\u001b[0m \u001b[0;34m**\u001b[0m\u001b[0mkwargs\u001b[0m\u001b[0;34m)\u001b[0m\u001b[0;34m\u001b[0m\u001b[0;34m\u001b[0m\u001b[0m\n\u001b[0m\u001b[1;32m   6711\u001b[0m         \u001b[0;32mreturn\u001b[0m \u001b[0mresult\u001b[0m\u001b[0;34m\u001b[0m\u001b[0;34m\u001b[0m\u001b[0m\n\u001b[1;32m   6712\u001b[0m \u001b[0;34m\u001b[0m\u001b[0m\n",
      "... last 3 frames repeated, from the frame below ...\n",
      "\u001b[0;32m/usr/local/lib64/python3.6/site-packages/pandas/core/frame.py\u001b[0m in \u001b[0;36mapply\u001b[0;34m(self, func, axis, raw, result_type, args, **kwds)\u001b[0m\n\u001b[1;32m   6876\u001b[0m             \u001b[0mkwds\u001b[0m\u001b[0;34m=\u001b[0m\u001b[0mkwds\u001b[0m\u001b[0;34m,\u001b[0m\u001b[0;34m\u001b[0m\u001b[0;34m\u001b[0m\u001b[0m\n\u001b[1;32m   6877\u001b[0m         )\n\u001b[0;32m-> 6878\u001b[0;31m         \u001b[0;32mreturn\u001b[0m \u001b[0mop\u001b[0m\u001b[0;34m.\u001b[0m\u001b[0mget_result\u001b[0m\u001b[0;34m(\u001b[0m\u001b[0;34m)\u001b[0m\u001b[0;34m\u001b[0m\u001b[0;34m\u001b[0m\u001b[0m\n\u001b[0m\u001b[1;32m   6879\u001b[0m \u001b[0;34m\u001b[0m\u001b[0m\n\u001b[1;32m   6880\u001b[0m     \u001b[0;32mdef\u001b[0m \u001b[0mapplymap\u001b[0m\u001b[0;34m(\u001b[0m\u001b[0mself\u001b[0m\u001b[0;34m,\u001b[0m \u001b[0mfunc\u001b[0m\u001b[0;34m)\u001b[0m \u001b[0;34m->\u001b[0m \u001b[0;34m\"DataFrame\"\u001b[0m\u001b[0;34m:\u001b[0m\u001b[0;34m\u001b[0m\u001b[0;34m\u001b[0m\u001b[0m\n",
      "\u001b[0;31mRecursionError\u001b[0m: maximum recursion depth exceeded in comparison"
     ]
    }
   ],
   "source": [
    "btcusd.loc[tranches[0]].apply({\n",
    "        'open':'first',\n",
    "        'high':'max',\n",
    "        'low':'min',\n",
    "        'close':'last',\n",
    "        'volume':'sum'\n",
    "        }, axis = 0)"
   ]
  },
  {
   "cell_type": "code",
   "execution_count": null,
   "metadata": {},
   "outputs": [],
   "source": []
  },
  {
   "cell_type": "code",
   "execution_count": null,
   "metadata": {},
   "outputs": [],
   "source": []
  },
  {
   "cell_type": "code",
   "execution_count": 38,
   "metadata": {},
   "outputs": [
    {
     "data": {
      "text/plain": [
       "pandas.core.indexes.datetimes.DatetimeIndex"
      ]
     },
     "execution_count": 38,
     "metadata": {},
     "output_type": "execute_result"
    }
   ],
   "source": [
    "type(btcusd.index)"
   ]
  },
  {
   "cell_type": "code",
   "execution_count": 39,
   "metadata": {},
   "outputs": [
    {
     "data": {
      "text/html": [
       "<div>\n",
       "<style scoped>\n",
       "    .dataframe tbody tr th:only-of-type {\n",
       "        vertical-align: middle;\n",
       "    }\n",
       "\n",
       "    .dataframe tbody tr th {\n",
       "        vertical-align: top;\n",
       "    }\n",
       "\n",
       "    .dataframe thead th {\n",
       "        text-align: right;\n",
       "    }\n",
       "</style>\n",
       "<table border=\"1\" class=\"dataframe\">\n",
       "  <thead>\n",
       "    <tr style=\"text-align: right;\">\n",
       "      <th></th>\n",
       "      <th>open</th>\n",
       "      <th>high</th>\n",
       "      <th>low</th>\n",
       "      <th>close</th>\n",
       "      <th>volume</th>\n",
       "      <th>returns</th>\n",
       "    </tr>\n",
       "    <tr>\n",
       "      <th>date</th>\n",
       "      <th></th>\n",
       "      <th></th>\n",
       "      <th></th>\n",
       "      <th></th>\n",
       "      <th></th>\n",
       "      <th></th>\n",
       "    </tr>\n",
       "  </thead>\n",
       "  <tbody>\n",
       "    <tr>\n",
       "      <th>2018-02-09 10:05:00</th>\n",
       "      <td>8350.00</td>\n",
       "      <td>8369.99</td>\n",
       "      <td>8250.00</td>\n",
       "      <td>8277.00</td>\n",
       "      <td>259.052820</td>\n",
       "      <td>0.005539</td>\n",
       "    </tr>\n",
       "    <tr>\n",
       "      <th>2018-02-09 10:10:00</th>\n",
       "      <td>8251.01</td>\n",
       "      <td>8270.00</td>\n",
       "      <td>8215.78</td>\n",
       "      <td>8250.00</td>\n",
       "      <td>160.095502</td>\n",
       "      <td>-0.011855</td>\n",
       "    </tr>\n",
       "    <tr>\n",
       "      <th>2018-02-09 10:15:00</th>\n",
       "      <td>8235.05</td>\n",
       "      <td>8262.00</td>\n",
       "      <td>8235.05</td>\n",
       "      <td>8259.87</td>\n",
       "      <td>114.112909</td>\n",
       "      <td>-0.001934</td>\n",
       "    </tr>\n",
       "    <tr>\n",
       "      <th>2018-02-09 10:20:00</th>\n",
       "      <td>8259.92</td>\n",
       "      <td>8263.00</td>\n",
       "      <td>8200.00</td>\n",
       "      <td>8214.50</td>\n",
       "      <td>172.633071</td>\n",
       "      <td>0.003020</td>\n",
       "    </tr>\n",
       "    <tr>\n",
       "      <th>2018-02-09 10:25:00</th>\n",
       "      <td>8211.09</td>\n",
       "      <td>8214.50</td>\n",
       "      <td>8166.00</td>\n",
       "      <td>8200.29</td>\n",
       "      <td>156.147257</td>\n",
       "      <td>-0.005912</td>\n",
       "    </tr>\n",
       "    <tr>\n",
       "      <th>...</th>\n",
       "      <td>...</td>\n",
       "      <td>...</td>\n",
       "      <td>...</td>\n",
       "      <td>...</td>\n",
       "      <td>...</td>\n",
       "      <td>...</td>\n",
       "    </tr>\n",
       "    <tr>\n",
       "      <th>2021-02-08 11:35:00</th>\n",
       "      <td>39381.73</td>\n",
       "      <td>39441.10</td>\n",
       "      <td>39333.71</td>\n",
       "      <td>39400.06</td>\n",
       "      <td>181.066286</td>\n",
       "      <td>-0.000210</td>\n",
       "    </tr>\n",
       "    <tr>\n",
       "      <th>2021-02-08 11:40:00</th>\n",
       "      <td>39400.06</td>\n",
       "      <td>39430.48</td>\n",
       "      <td>39350.00</td>\n",
       "      <td>39408.29</td>\n",
       "      <td>169.593536</td>\n",
       "      <td>0.000465</td>\n",
       "    </tr>\n",
       "    <tr>\n",
       "      <th>2021-02-08 11:45:00</th>\n",
       "      <td>39405.48</td>\n",
       "      <td>39447.00</td>\n",
       "      <td>39353.01</td>\n",
       "      <td>39356.60</td>\n",
       "      <td>273.071159</td>\n",
       "      <td>0.000138</td>\n",
       "    </tr>\n",
       "    <tr>\n",
       "      <th>2021-02-08 11:50:00</th>\n",
       "      <td>39356.59</td>\n",
       "      <td>39397.00</td>\n",
       "      <td>39330.38</td>\n",
       "      <td>39390.84</td>\n",
       "      <td>178.846879</td>\n",
       "      <td>-0.001241</td>\n",
       "    </tr>\n",
       "    <tr>\n",
       "      <th>2021-02-08 11:55:00</th>\n",
       "      <td>39390.84</td>\n",
       "      <td>39428.74</td>\n",
       "      <td>39370.00</td>\n",
       "      <td>39414.58</td>\n",
       "      <td>127.969647</td>\n",
       "      <td>0.000870</td>\n",
       "    </tr>\n",
       "  </tbody>\n",
       "</table>\n",
       "<p>314415 rows × 6 columns</p>\n",
       "</div>"
      ],
      "text/plain": [
       "                         open      high       low     close      volume  \\\n",
       "date                                                                      \n",
       "2018-02-09 10:05:00   8350.00   8369.99   8250.00   8277.00  259.052820   \n",
       "2018-02-09 10:10:00   8251.01   8270.00   8215.78   8250.00  160.095502   \n",
       "2018-02-09 10:15:00   8235.05   8262.00   8235.05   8259.87  114.112909   \n",
       "2018-02-09 10:20:00   8259.92   8263.00   8200.00   8214.50  172.633071   \n",
       "2018-02-09 10:25:00   8211.09   8214.50   8166.00   8200.29  156.147257   \n",
       "...                       ...       ...       ...       ...         ...   \n",
       "2021-02-08 11:35:00  39381.73  39441.10  39333.71  39400.06  181.066286   \n",
       "2021-02-08 11:40:00  39400.06  39430.48  39350.00  39408.29  169.593536   \n",
       "2021-02-08 11:45:00  39405.48  39447.00  39353.01  39356.60  273.071159   \n",
       "2021-02-08 11:50:00  39356.59  39397.00  39330.38  39390.84  178.846879   \n",
       "2021-02-08 11:55:00  39390.84  39428.74  39370.00  39414.58  127.969647   \n",
       "\n",
       "                      returns  \n",
       "date                           \n",
       "2018-02-09 10:05:00  0.005539  \n",
       "2018-02-09 10:10:00 -0.011855  \n",
       "2018-02-09 10:15:00 -0.001934  \n",
       "2018-02-09 10:20:00  0.003020  \n",
       "2018-02-09 10:25:00 -0.005912  \n",
       "...                       ...  \n",
       "2021-02-08 11:35:00 -0.000210  \n",
       "2021-02-08 11:40:00  0.000465  \n",
       "2021-02-08 11:45:00  0.000138  \n",
       "2021-02-08 11:50:00 -0.001241  \n",
       "2021-02-08 11:55:00  0.000870  \n",
       "\n",
       "[314415 rows x 6 columns]"
      ]
     },
     "execution_count": 39,
     "metadata": {},
     "output_type": "execute_result"
    }
   ],
   "source": [
    "btcusd_5t"
   ]
  },
  {
   "cell_type": "code",
   "execution_count": 40,
   "metadata": {},
   "outputs": [
    {
     "data": {
      "text/html": [
       "<div>\n",
       "<style scoped>\n",
       "    .dataframe tbody tr th:only-of-type {\n",
       "        vertical-align: middle;\n",
       "    }\n",
       "\n",
       "    .dataframe tbody tr th {\n",
       "        vertical-align: top;\n",
       "    }\n",
       "\n",
       "    .dataframe thead th {\n",
       "        text-align: right;\n",
       "    }\n",
       "</style>\n",
       "<table border=\"1\" class=\"dataframe\">\n",
       "  <thead>\n",
       "    <tr style=\"text-align: right;\">\n",
       "      <th></th>\n",
       "      <th>timestamp</th>\n",
       "      <th>open</th>\n",
       "      <th>high</th>\n",
       "      <th>low</th>\n",
       "      <th>close</th>\n",
       "      <th>volume</th>\n",
       "      <th>returns</th>\n",
       "    </tr>\n",
       "    <tr>\n",
       "      <th>date</th>\n",
       "      <th></th>\n",
       "      <th></th>\n",
       "      <th></th>\n",
       "      <th></th>\n",
       "      <th></th>\n",
       "      <th></th>\n",
       "      <th></th>\n",
       "    </tr>\n",
       "  </thead>\n",
       "  <tbody>\n",
       "    <tr>\n",
       "      <th>2018-02-09 10:01:14.789</th>\n",
       "      <td>1518170474789</td>\n",
       "      <td>8304.00</td>\n",
       "      <td>8369.00</td>\n",
       "      <td>8304.0</td>\n",
       "      <td>8350.00</td>\n",
       "      <td>131.872916</td>\n",
       "      <td>0.008935</td>\n",
       "    </tr>\n",
       "    <tr>\n",
       "      <th>2018-02-09 10:02:14.789</th>\n",
       "      <td>1518170534789</td>\n",
       "      <td>8346.50</td>\n",
       "      <td>8380.00</td>\n",
       "      <td>8330.0</td>\n",
       "      <td>8380.00</td>\n",
       "      <td>84.544616</td>\n",
       "      <td>0.005118</td>\n",
       "    </tr>\n",
       "    <tr>\n",
       "      <th>2018-02-09 10:03:14.789</th>\n",
       "      <td>1518170594789</td>\n",
       "      <td>8379.00</td>\n",
       "      <td>8390.00</td>\n",
       "      <td>8348.0</td>\n",
       "      <td>8360.02</td>\n",
       "      <td>112.940304</td>\n",
       "      <td>0.003894</td>\n",
       "    </tr>\n",
       "    <tr>\n",
       "      <th>2018-02-09 10:04:14.789</th>\n",
       "      <td>1518170654789</td>\n",
       "      <td>8350.04</td>\n",
       "      <td>8389.00</td>\n",
       "      <td>8348.0</td>\n",
       "      <td>8348.13</td>\n",
       "      <td>88.138218</td>\n",
       "      <td>-0.003456</td>\n",
       "    </tr>\n",
       "    <tr>\n",
       "      <th>2018-02-09 10:05:14.789</th>\n",
       "      <td>1518170714789</td>\n",
       "      <td>8350.00</td>\n",
       "      <td>8369.99</td>\n",
       "      <td>8300.0</td>\n",
       "      <td>8338.43</td>\n",
       "      <td>74.700930</td>\n",
       "      <td>-0.000005</td>\n",
       "    </tr>\n",
       "    <tr>\n",
       "      <th>2018-02-09 10:06:14.789</th>\n",
       "      <td>1518170774789</td>\n",
       "      <td>8320.02</td>\n",
       "      <td>8338.43</td>\n",
       "      <td>8320.0</td>\n",
       "      <td>8320.00</td>\n",
       "      <td>59.960108</td>\n",
       "      <td>-0.003590</td>\n",
       "    </tr>\n",
       "    <tr>\n",
       "      <th>2018-02-09 10:07:14.789</th>\n",
       "      <td>1518170834789</td>\n",
       "      <td>8320.00</td>\n",
       "      <td>8339.96</td>\n",
       "      <td>8250.0</td>\n",
       "      <td>8272.50</td>\n",
       "      <td>81.124785</td>\n",
       "      <td>-0.000002</td>\n",
       "    </tr>\n",
       "    <tr>\n",
       "      <th>2018-02-09 10:08:14.789</th>\n",
       "      <td>1518170894789</td>\n",
       "      <td>8289.94</td>\n",
       "      <td>8295.00</td>\n",
       "      <td>8250.0</td>\n",
       "      <td>8283.23</td>\n",
       "      <td>21.937305</td>\n",
       "      <td>-0.003613</td>\n",
       "    </tr>\n",
       "    <tr>\n",
       "      <th>2018-02-09 10:09:14.789</th>\n",
       "      <td>1518170954789</td>\n",
       "      <td>8266.02</td>\n",
       "      <td>8278.63</td>\n",
       "      <td>8250.0</td>\n",
       "      <td>8277.00</td>\n",
       "      <td>21.329692</td>\n",
       "      <td>-0.002885</td>\n",
       "    </tr>\n",
       "    <tr>\n",
       "      <th>2018-02-09 10:10:14.789</th>\n",
       "      <td>1518171014789</td>\n",
       "      <td>8251.01</td>\n",
       "      <td>8270.00</td>\n",
       "      <td>8250.0</td>\n",
       "      <td>8251.18</td>\n",
       "      <td>38.903133</td>\n",
       "      <td>-0.001816</td>\n",
       "    </tr>\n",
       "  </tbody>\n",
       "</table>\n",
       "</div>"
      ],
      "text/plain": [
       "                             timestamp     open     high     low    close  \\\n",
       "date                                                                        \n",
       "2018-02-09 10:01:14.789  1518170474789  8304.00  8369.00  8304.0  8350.00   \n",
       "2018-02-09 10:02:14.789  1518170534789  8346.50  8380.00  8330.0  8380.00   \n",
       "2018-02-09 10:03:14.789  1518170594789  8379.00  8390.00  8348.0  8360.02   \n",
       "2018-02-09 10:04:14.789  1518170654789  8350.04  8389.00  8348.0  8348.13   \n",
       "2018-02-09 10:05:14.789  1518170714789  8350.00  8369.99  8300.0  8338.43   \n",
       "2018-02-09 10:06:14.789  1518170774789  8320.02  8338.43  8320.0  8320.00   \n",
       "2018-02-09 10:07:14.789  1518170834789  8320.00  8339.96  8250.0  8272.50   \n",
       "2018-02-09 10:08:14.789  1518170894789  8289.94  8295.00  8250.0  8283.23   \n",
       "2018-02-09 10:09:14.789  1518170954789  8266.02  8278.63  8250.0  8277.00   \n",
       "2018-02-09 10:10:14.789  1518171014789  8251.01  8270.00  8250.0  8251.18   \n",
       "\n",
       "                             volume   returns  \n",
       "date                                           \n",
       "2018-02-09 10:01:14.789  131.872916  0.008935  \n",
       "2018-02-09 10:02:14.789   84.544616  0.005118  \n",
       "2018-02-09 10:03:14.789  112.940304  0.003894  \n",
       "2018-02-09 10:04:14.789   88.138218 -0.003456  \n",
       "2018-02-09 10:05:14.789   74.700930 -0.000005  \n",
       "2018-02-09 10:06:14.789   59.960108 -0.003590  \n",
       "2018-02-09 10:07:14.789   81.124785 -0.000002  \n",
       "2018-02-09 10:08:14.789   21.937305 -0.003613  \n",
       "2018-02-09 10:09:14.789   21.329692 -0.002885  \n",
       "2018-02-09 10:10:14.789   38.903133 -0.001816  "
      ]
     },
     "execution_count": 40,
     "metadata": {},
     "output_type": "execute_result"
    }
   ],
   "source": [
    "btcusd[:10]"
   ]
  },
  {
   "cell_type": "code",
   "execution_count": 41,
   "metadata": {},
   "outputs": [],
   "source": [
    "a = singular_date_indices[0]"
   ]
  },
  {
   "cell_type": "code",
   "execution_count": 42,
   "metadata": {},
   "outputs": [
    {
     "data": {
      "text/plain": [
       "0"
      ]
     },
     "execution_count": 42,
     "metadata": {},
     "output_type": "execute_result"
    }
   ],
   "source": [
    "list(btcusd_5t.index).index(a)"
   ]
  },
  {
   "cell_type": "code",
   "execution_count": null,
   "metadata": {},
   "outputs": [],
   "source": []
  },
  {
   "cell_type": "code",
   "execution_count": 43,
   "metadata": {},
   "outputs": [
    {
     "data": {
      "text/plain": [
       "DatetimeIndex(['2018-02-09 10:05:00', '2018-02-09 10:40:00',\n",
       "               '2018-02-09 11:20:00', '2018-02-09 11:35:00',\n",
       "               '2018-02-09 12:30:00', '2018-02-09 12:35:00',\n",
       "               '2018-02-09 13:10:00', '2018-02-09 13:35:00',\n",
       "               '2018-02-09 14:10:00', '2018-02-09 14:35:00',\n",
       "               ...\n",
       "               '2021-02-08 02:10:00', '2021-02-08 04:05:00',\n",
       "               '2021-02-08 04:10:00', '2021-02-08 05:25:00',\n",
       "               '2021-02-08 05:45:00', '2021-02-08 06:15:00',\n",
       "               '2021-02-08 07:30:00', '2021-02-08 07:35:00',\n",
       "               '2021-02-08 09:05:00', '2021-02-08 10:10:00'],\n",
       "              dtype='datetime64[ns]', name='date', length=15721, freq=None)"
      ]
     },
     "execution_count": 43,
     "metadata": {},
     "output_type": "execute_result"
    }
   ],
   "source": [
    "singular_date_indices"
   ]
  },
  {
   "cell_type": "code",
   "execution_count": 44,
   "metadata": {},
   "outputs": [
    {
     "data": {
      "text/plain": [
       "Timedelta('0 days 00:01:00')"
      ]
     },
     "execution_count": 44,
     "metadata": {},
     "output_type": "execute_result"
    }
   ],
   "source": [
    "mode([btcusd.index[i]-btcusd.index[i-1] for i in range(1,10000)])"
   ]
  },
  {
   "cell_type": "code",
   "execution_count": null,
   "metadata": {},
   "outputs": [],
   "source": []
  }
 ],
 "metadata": {
  "kernelspec": {
   "display_name": "Python 3",
   "language": "python",
   "name": "python3"
  },
  "language_info": {
   "codemirror_mode": {
    "name": "ipython",
    "version": 3
   },
   "file_extension": ".py",
   "mimetype": "text/x-python",
   "name": "python",
   "nbconvert_exporter": "python",
   "pygments_lexer": "ipython3",
   "version": "3.6.8"
  }
 },
 "nbformat": 4,
 "nbformat_minor": 4
}
