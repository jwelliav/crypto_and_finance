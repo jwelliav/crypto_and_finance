{
 "cells": [
  {
   "cell_type": "code",
   "execution_count": 2,
   "id": "f2610f56",
   "metadata": {},
   "outputs": [],
   "source": [
    "import os"
   ]
  },
  {
   "cell_type": "code",
   "execution_count": 8,
   "id": "d8b535a5",
   "metadata": {},
   "outputs": [
    {
     "data": {
      "text/plain": [
       "['development_includes_notebooks',\n",
       " '.ipynb_checkpoints',\n",
       " 'models',\n",
       " 'untitled.txt',\n",
       " 'scripts',\n",
       " '.git',\n",
       " 'papers']"
      ]
     },
     "execution_count": 8,
     "metadata": {},
     "output_type": "execute_result"
    }
   ],
   "source": [
    "os.listdir('../../')"
   ]
  },
  {
   "cell_type": "code",
   "execution_count": 10,
   "id": "ce2350b3",
   "metadata": {},
   "outputs": [],
   "source": [
    "l = []\n",
    "for root, subdirs, files in os.walk('../../'):\n",
    "    l += [os.path.join(root,f) for f in files]"
   ]
  },
  {
   "cell_type": "code",
   "execution_count": 12,
   "id": "7d34c586",
   "metadata": {},
   "outputs": [],
   "source": [
    "l_chkpoints = [x for x in l if x.endswith(\"checkpoint.ipynb\")]"
   ]
  },
  {
   "cell_type": "code",
   "execution_count": 14,
   "id": "b6896a95",
   "metadata": {},
   "outputs": [],
   "source": [
    "for x in l_chkpoints:\n",
    "    os.remove(x)"
   ]
  },
  {
   "cell_type": "code",
   "execution_count": null,
   "id": "d1410561",
   "metadata": {},
   "outputs": [],
   "source": [
    "git filter-branch --index-filter 'git rm -r --cached --ignore-unmatch development_includes_notebooks/model_development/models_old/lstm/grid_results_avax' HEAD\n",
    "\n"
   ]
  }
 ],
 "metadata": {
  "kernelspec": {
   "display_name": "Python 3 (ipykernel)",
   "language": "python",
   "name": "python3"
  },
  "language_info": {
   "codemirror_mode": {
    "name": "ipython",
    "version": 3
   },
   "file_extension": ".py",
   "mimetype": "text/x-python",
   "name": "python",
   "nbconvert_exporter": "python",
   "pygments_lexer": "ipython3",
   "version": "3.9.7"
  }
 },
 "nbformat": 4,
 "nbformat_minor": 5
}
