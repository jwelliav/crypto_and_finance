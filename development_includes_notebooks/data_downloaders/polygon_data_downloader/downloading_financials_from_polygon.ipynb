{
 "cells": [
  {
   "cell_type": "code",
   "execution_count": 1,
   "id": "dfb5b86e",
   "metadata": {},
   "outputs": [],
   "source": [
    "from polygon import RESTClient\n",
    "from local_settings import polygon as settings\n",
    "from tqdm.notebook import tqdm\n",
    "from joblib import Parallel,delayed"
   ]
  },
  {
   "cell_type": "code",
   "execution_count": 2,
   "id": "15686048",
   "metadata": {},
   "outputs": [],
   "source": [
    "client = RESTClient(settings['api_key'])"
   ]
  },
  {
   "cell_type": "code",
   "execution_count": 3,
   "id": "0354e624",
   "metadata": {},
   "outputs": [],
   "source": [
    "import pickle\n",
    "\n",
    "def save(l,filename):\n",
    "    with open(filename, 'wb') as f:\n",
    "         pickle.dump(l, f)\n",
    "            \n",
    "            \n",
    "def load(filename):\n",
    "    with open(filename, 'rb') as g:\n",
    "         l = pickle.load(g)\n",
    "    return l"
   ]
  },
  {
   "cell_type": "code",
   "execution_count": 4,
   "id": "e04b1923",
   "metadata": {},
   "outputs": [],
   "source": [
    "def get_financials_as_dict(t):\n",
    "    financials  = client.get_ticker_details(t.ticker).__dict__\n",
    "    return financials"
   ]
  },
  {
   "cell_type": "code",
   "execution_count": 5,
   "id": "4370abf9",
   "metadata": {},
   "outputs": [],
   "source": [
    "tickers = load('tickers')"
   ]
  },
  {
   "cell_type": "code",
   "execution_count": 7,
   "id": "b876d297",
   "metadata": {},
   "outputs": [],
   "source": [
    "t = tickers[0]\n",
    "\n",
    "financials  = client.get_ticker_details(t.ticker)\n",
    "\n",
    "d = {}\n",
    "\n",
    "for k in financials.__dict__.keys():\n",
    "    d[k] = []"
   ]
  },
  {
   "cell_type": "code",
   "execution_count": 8,
   "id": "9937d331",
   "metadata": {},
   "outputs": [],
   "source": [
    "#d = load('financials_dict_2')"
   ]
  },
  {
   "cell_type": "code",
   "execution_count": 9,
   "id": "97ffbfdf",
   "metadata": {},
   "outputs": [],
   "source": [
    "#len(set(d['ticker']))"
   ]
  },
  {
   "cell_type": "code",
   "execution_count": 13,
   "id": "ec873422",
   "metadata": {},
   "outputs": [
    {
     "data": {
      "text/plain": [
       "'ABNAD'"
      ]
     },
     "execution_count": 13,
     "metadata": {},
     "output_type": "execute_result"
    }
   ],
   "source": [
    "tickers[129].ticker"
   ]
  },
  {
   "cell_type": "code",
   "execution_count": 14,
   "id": "8aacefe6",
   "metadata": {},
   "outputs": [
    {
     "ename": "BadResponse",
     "evalue": "{\"status\":\"NOT_FOUND\",\"request_id\":\"857ecc15227395d9e81d66b08604bb6e\",\"message\":\"Ticker not found.\"}",
     "output_type": "error",
     "traceback": [
      "\u001b[0;31m---------------------------------------------------------------------------\u001b[0m",
      "\u001b[0;31mBadResponse\u001b[0m                               Traceback (most recent call last)",
      "Input \u001b[0;32mIn [14]\u001b[0m, in \u001b[0;36m<cell line: 1>\u001b[0;34m()\u001b[0m\n\u001b[0;32m----> 1\u001b[0m \u001b[43mclient\u001b[49m\u001b[38;5;241;43m.\u001b[39;49m\u001b[43mget_ticker_details\u001b[49m\u001b[43m(\u001b[49m\u001b[43mt\u001b[49m\u001b[38;5;241;43m.\u001b[39;49m\u001b[43mticker\u001b[49m\u001b[43m)\u001b[49m\u001b[38;5;241m.\u001b[39m\u001b[38;5;18m__dict__\u001b[39m\n",
      "File \u001b[0;32m~/anaconda3/envs/crypto_1/lib/python3.9/site-packages/polygon/rest/reference.py:144\u001b[0m, in \u001b[0;36mTickersClient.get_ticker_details\u001b[0;34m(self, ticker, date, params, raw, options)\u001b[0m\n\u001b[1;32m    133\u001b[0m \u001b[38;5;124;03m\"\"\"\u001b[39;00m\n\u001b[1;32m    134\u001b[0m \u001b[38;5;124;03mGet a single ticker supported by Polygon.io. This response will have detailed information about the ticker and the company behind it.\u001b[39;00m\n\u001b[1;32m    135\u001b[0m \n\u001b[0;32m   (...)\u001b[0m\n\u001b[1;32m    140\u001b[0m \u001b[38;5;124;03m:return: Ticker Details V3\u001b[39;00m\n\u001b[1;32m    141\u001b[0m \u001b[38;5;124;03m\"\"\"\u001b[39;00m\n\u001b[1;32m    142\u001b[0m url \u001b[38;5;241m=\u001b[39m \u001b[38;5;124mf\u001b[39m\u001b[38;5;124m\"\u001b[39m\u001b[38;5;124m/v3/reference/tickers/\u001b[39m\u001b[38;5;132;01m{\u001b[39;00mticker\u001b[38;5;132;01m}\u001b[39;00m\u001b[38;5;124m\"\u001b[39m\n\u001b[0;32m--> 144\u001b[0m \u001b[38;5;28;01mreturn\u001b[39;00m \u001b[38;5;28;43mself\u001b[39;49m\u001b[38;5;241;43m.\u001b[39;49m\u001b[43m_get\u001b[49m\u001b[43m(\u001b[49m\n\u001b[1;32m    145\u001b[0m \u001b[43m    \u001b[49m\u001b[43mpath\u001b[49m\u001b[38;5;241;43m=\u001b[39;49m\u001b[43murl\u001b[49m\u001b[43m,\u001b[49m\n\u001b[1;32m    146\u001b[0m \u001b[43m    \u001b[49m\u001b[43mparams\u001b[49m\u001b[38;5;241;43m=\u001b[39;49m\u001b[38;5;28;43mself\u001b[39;49m\u001b[38;5;241;43m.\u001b[39;49m\u001b[43m_get_params\u001b[49m\u001b[43m(\u001b[49m\u001b[38;5;28;43mself\u001b[39;49m\u001b[38;5;241;43m.\u001b[39;49m\u001b[43mget_ticker_details\u001b[49m\u001b[43m,\u001b[49m\u001b[43m \u001b[49m\u001b[38;5;28;43mlocals\u001b[39;49m\u001b[43m(\u001b[49m\u001b[43m)\u001b[49m\u001b[43m)\u001b[49m\u001b[43m,\u001b[49m\n\u001b[1;32m    147\u001b[0m \u001b[43m    \u001b[49m\u001b[43mdeserializer\u001b[49m\u001b[38;5;241;43m=\u001b[39;49m\u001b[43mTickerDetails\u001b[49m\u001b[38;5;241;43m.\u001b[39;49m\u001b[43mfrom_dict\u001b[49m\u001b[43m,\u001b[49m\n\u001b[1;32m    148\u001b[0m \u001b[43m    \u001b[49m\u001b[43mraw\u001b[49m\u001b[38;5;241;43m=\u001b[39;49m\u001b[43mraw\u001b[49m\u001b[43m,\u001b[49m\n\u001b[1;32m    149\u001b[0m \u001b[43m    \u001b[49m\u001b[43mresult_key\u001b[49m\u001b[38;5;241;43m=\u001b[39;49m\u001b[38;5;124;43m\"\u001b[39;49m\u001b[38;5;124;43mresults\u001b[39;49m\u001b[38;5;124;43m\"\u001b[39;49m\u001b[43m,\u001b[49m\n\u001b[1;32m    150\u001b[0m \u001b[43m    \u001b[49m\u001b[43moptions\u001b[49m\u001b[38;5;241;43m=\u001b[39;49m\u001b[43moptions\u001b[49m\u001b[43m,\u001b[49m\n\u001b[1;32m    151\u001b[0m \u001b[43m\u001b[49m\u001b[43m)\u001b[49m\n",
      "File \u001b[0;32m~/anaconda3/envs/crypto_1/lib/python3.9/site-packages/polygon/rest/base.py:88\u001b[0m, in \u001b[0;36mBaseClient._get\u001b[0;34m(self, path, params, result_key, deserializer, raw, options)\u001b[0m\n\u001b[1;32m     79\u001b[0m resp \u001b[38;5;241m=\u001b[39m \u001b[38;5;28mself\u001b[39m\u001b[38;5;241m.\u001b[39mclient\u001b[38;5;241m.\u001b[39mrequest(\n\u001b[1;32m     80\u001b[0m     \u001b[38;5;124m\"\u001b[39m\u001b[38;5;124mGET\u001b[39m\u001b[38;5;124m\"\u001b[39m,\n\u001b[1;32m     81\u001b[0m     \u001b[38;5;28mself\u001b[39m\u001b[38;5;241m.\u001b[39mBASE \u001b[38;5;241m+\u001b[39m path,\n\u001b[0;32m   (...)\u001b[0m\n\u001b[1;32m     84\u001b[0m     headers\u001b[38;5;241m=\u001b[39m\u001b[38;5;28mself\u001b[39m\u001b[38;5;241m.\u001b[39m_concat_headers(option\u001b[38;5;241m.\u001b[39mheaders),\n\u001b[1;32m     85\u001b[0m )\n\u001b[1;32m     87\u001b[0m \u001b[38;5;28;01mif\u001b[39;00m resp\u001b[38;5;241m.\u001b[39mstatus \u001b[38;5;241m!=\u001b[39m \u001b[38;5;241m200\u001b[39m:\n\u001b[0;32m---> 88\u001b[0m     \u001b[38;5;28;01mraise\u001b[39;00m BadResponse(resp\u001b[38;5;241m.\u001b[39mdata\u001b[38;5;241m.\u001b[39mdecode(\u001b[38;5;124m\"\u001b[39m\u001b[38;5;124mutf-8\u001b[39m\u001b[38;5;124m\"\u001b[39m))\n\u001b[1;32m     90\u001b[0m \u001b[38;5;28;01mif\u001b[39;00m raw:\n\u001b[1;32m     91\u001b[0m     \u001b[38;5;28;01mreturn\u001b[39;00m resp\n",
      "\u001b[0;31mBadResponse\u001b[0m: {\"status\":\"NOT_FOUND\",\"request_id\":\"857ecc15227395d9e81d66b08604bb6e\",\"message\":\"Ticker not found.\"}"
     ]
    }
   ],
   "source": [
    "client.get_ticker_details(t.ticker).__dict__"
   ]
  },
  {
   "cell_type": "code",
   "execution_count": 15,
   "id": "a1419243",
   "metadata": {},
   "outputs": [
    {
     "data": {
      "application/vnd.jupyter.widget-view+json": {
       "model_id": "a8522bf83afe4420a83fbdde08bffc6f",
       "version_major": 2,
       "version_minor": 0
      },
      "text/plain": [
       "  0%|          | 0/41576 [00:00<?, ?it/s]"
      ]
     },
     "metadata": {},
     "output_type": "display_data"
    },
    {
     "name": "stdout",
     "output_type": "stream",
     "text": [
      "0\n",
      "1\n",
      "2\n",
      "500\n",
      "1000\n",
      "3\n",
      "1500\n",
      "2000\n",
      "2500\n",
      "4\n",
      "3000\n",
      "5\n",
      "6\n",
      "3500\n",
      "7\n",
      "4000\n",
      "4500\n",
      "5000\n",
      "5500\n",
      "8\n",
      "6000\n",
      "9\n",
      "6500\n",
      "10\n",
      "7000\n",
      "11\n",
      "12\n",
      "13\n",
      "14\n",
      "7500\n",
      "15\n",
      "8000\n",
      "16\n",
      "8500\n",
      "17\n",
      "9000\n",
      "18\n",
      "9500\n",
      "19\n",
      "20\n",
      "10000\n",
      "10500\n",
      "11000\n",
      "21\n",
      "11500\n",
      "22\n",
      "12000\n",
      "23\n",
      "24\n",
      "12500\n",
      "13000\n",
      "25\n",
      "13500\n",
      "14000\n",
      "14500\n",
      "15000\n",
      "15500\n",
      "16000\n",
      "16500\n",
      "17000\n",
      "17500\n",
      "18000\n",
      "18500\n",
      "19000\n",
      "19500\n",
      "20000\n",
      "20500\n",
      "21000\n",
      "21500\n",
      "22000\n",
      "22500\n",
      "23000\n",
      "23500\n",
      "24000\n",
      "24500\n",
      "25000\n",
      "26\n",
      "27\n",
      "25500\n",
      "28\n",
      "29\n",
      "30\n",
      "26000\n",
      "31\n",
      "32\n",
      "33\n",
      "34\n",
      "35\n",
      "26500\n",
      "36\n",
      "27000\n",
      "27500\n",
      "37\n",
      "38\n",
      "39\n",
      "28000\n",
      "40\n",
      "41\n",
      "42\n",
      "43\n",
      "44\n",
      "45\n",
      "46\n",
      "28500\n",
      "29000\n",
      "47\n",
      "48\n",
      "49\n",
      "50\n",
      "29500\n",
      "51\n",
      "52\n",
      "30000\n",
      "53\n",
      "54\n",
      "55\n",
      "56\n",
      "57\n",
      "58\n",
      "30500\n",
      "59\n",
      "60\n",
      "31000\n",
      "61\n",
      "62\n",
      "63\n",
      "31500\n",
      "64\n",
      "65\n",
      "66\n",
      "32000\n",
      "32500\n",
      "67\n",
      "33000\n",
      "33500\n",
      "68\n",
      "69\n",
      "70\n",
      "34000\n",
      "71\n",
      "72\n",
      "34500\n",
      "35000\n",
      "35500\n",
      "36000\n",
      "73\n",
      "36500\n",
      "74\n",
      "75\n",
      "76\n",
      "77\n",
      "78\n",
      "37000\n",
      "79\n",
      "80\n",
      "81\n",
      "82\n",
      "37500\n",
      "38000\n",
      "83\n",
      "38500\n",
      "84\n",
      "39000\n",
      "39500\n",
      "85\n",
      "86\n",
      "87\n",
      "40000\n",
      "40500\n",
      "41000\n",
      "88\n",
      "89\n",
      "41500\n"
     ]
    }
   ],
   "source": [
    "s = 0\n",
    "bads = []\n",
    "\n",
    "for t in tqdm(tickers):\n",
    "    if s%500 == 0:\n",
    "        save(d,'financials_dict_latest')\n",
    "        print(s)\n",
    "    s += 1\n",
    "    try:\n",
    "        tmp = client.get_ticker_details(t.ticker).__dict__\n",
    "        for k in d.keys():\n",
    "            d[k].append(tmp[k])\n",
    "    \n",
    "    except:\n",
    "        bads.append(t.ticker)\n",
    "        print(len(bads))"
   ]
  },
  {
   "cell_type": "code",
   "execution_count": null,
   "id": "847186a9",
   "metadata": {},
   "outputs": [],
   "source": []
  },
  {
   "cell_type": "code",
   "execution_count": null,
   "id": "0d661fa4",
   "metadata": {},
   "outputs": [],
   "source": []
  }
 ],
 "metadata": {
  "kernelspec": {
   "display_name": "Python 3 (ipykernel)",
   "language": "python",
   "name": "python3"
  },
  "language_info": {
   "codemirror_mode": {
    "name": "ipython",
    "version": 3
   },
   "file_extension": ".py",
   "mimetype": "text/x-python",
   "name": "python",
   "nbconvert_exporter": "python",
   "pygments_lexer": "ipython3",
   "version": "3.9.7"
  }
 },
 "nbformat": 4,
 "nbformat_minor": 5
}
