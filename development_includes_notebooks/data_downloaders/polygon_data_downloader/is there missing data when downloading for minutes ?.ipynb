{
 "cells": [
  {
   "cell_type": "code",
   "execution_count": 1,
   "id": "d1025bf5",
   "metadata": {},
   "outputs": [],
   "source": [
    "apikey = \"wBkWOy90budzobSlu_fSbwiTrf9JVb20\""
   ]
  },
  {
   "cell_type": "code",
   "execution_count": 13,
   "id": "9875f849",
   "metadata": {},
   "outputs": [],
   "source": [
    "from polygon import RESTClient\n",
    "from local_settings import polygon as settings\n",
    "from tqdm.notebook import tqdm\n",
    "from joblib import Parallel,delayed\n",
    "from polygon import RESTClient\n",
    "import pandas as pd\n",
    "import numpy as np"
   ]
  },
  {
   "cell_type": "code",
   "execution_count": 5,
   "id": "02f76f64",
   "metadata": {},
   "outputs": [],
   "source": [
    "client = RESTClient(apikey)"
   ]
  },
  {
   "cell_type": "code",
   "execution_count": 6,
   "id": "9c084028",
   "metadata": {},
   "outputs": [],
   "source": [
    "import pickle\n",
    "\n",
    "def save(l,filename):\n",
    "    with open(filename, 'wb') as f:\n",
    "         pickle.dump(l, f)\n",
    "            \n",
    "            \n",
    "def load(filename):\n",
    "    with open(filename, 'rb') as g:\n",
    "         l = pickle.load(g)\n",
    "    return l"
   ]
  },
  {
   "cell_type": "code",
   "execution_count": 62,
   "id": "1406a7ca",
   "metadata": {},
   "outputs": [],
   "source": [
    "aggs = client.get_aggs(\n",
    "    \"AAPL\",\n",
    "    1,\n",
    "    \"minute\",\n",
    "    1675036800000,\n",
    "    1679270400000,\n",
    "    limit = 50000\n",
    ")"
   ]
  },
  {
   "cell_type": "code",
   "execution_count": 38,
   "id": "54b069e4",
   "metadata": {},
   "outputs": [
    {
     "data": {
      "text/plain": [
       "Timestamp('2023-01-30 09:00:00')"
      ]
     },
     "execution_count": 38,
     "metadata": {},
     "output_type": "execute_result"
    }
   ],
   "source": [
    "pd.Timestamp(aggs[0].timestamp,unit = 'ms')"
   ]
  },
  {
   "cell_type": "code",
   "execution_count": 50,
   "id": "8c76149f",
   "metadata": {},
   "outputs": [],
   "source": [
    "l = []\n",
    "\n",
    "for x in aggs:\n",
    "    tmp = pd.Timestamp(x.timestamp,unit = 'ms')\n",
    "    a = tmp.month\n",
    "    b = tmp.day\n",
    "    l.append((a,b))"
   ]
  },
  {
   "cell_type": "code",
   "execution_count": 51,
   "id": "41933361",
   "metadata": {},
   "outputs": [
    {
     "data": {
      "text/plain": [
       "{(1, 30), (1, 31), (2, 1), (2, 2), (2, 3), (2, 4), (2, 6)}"
      ]
     },
     "execution_count": 51,
     "metadata": {},
     "output_type": "execute_result"
    }
   ],
   "source": [
    "set(l)"
   ]
  },
  {
   "cell_type": "code",
   "execution_count": 63,
   "id": "eb14a73e",
   "metadata": {},
   "outputs": [
    {
     "data": {
      "text/plain": [
       "26715"
      ]
     },
     "execution_count": 63,
     "metadata": {},
     "output_type": "execute_result"
    }
   ],
   "source": [
    "len(aggs)"
   ]
  },
  {
   "cell_type": "code",
   "execution_count": 21,
   "id": "ca625a1b",
   "metadata": {},
   "outputs": [
    {
     "data": {
      "text/plain": [
       "Agg(open=144.03, high=144.04, low=144.01, close=144.01, volume=1671, vwap=144.0353, timestamp=1675069320000, transactions=52, otc=None)"
      ]
     },
     "execution_count": 21,
     "metadata": {},
     "output_type": "execute_result"
    }
   ],
   "source": [
    "aggs[2]"
   ]
  },
  {
   "cell_type": "code",
   "execution_count": 14,
   "id": "3fb4f715",
   "metadata": {},
   "outputs": [
    {
     "data": {
      "text/plain": [
       "Timestamp('2023-01-30 00:00:00')"
      ]
     },
     "execution_count": 14,
     "metadata": {},
     "output_type": "execute_result"
    }
   ],
   "source": [
    "pd.Timestamp(1675036800000,unit = 'ms')"
   ]
  },
  {
   "cell_type": "code",
   "execution_count": 44,
   "id": "f795b0e2",
   "metadata": {},
   "outputs": [
    {
     "data": {
      "text/plain": [
       "Timestamp('2020-10-29 22:50:00')"
      ]
     },
     "execution_count": 44,
     "metadata": {},
     "output_type": "execute_result"
    }
   ],
   "source": [
    "pd.Timestamp(1604011800000, unit = 'ms')"
   ]
  },
  {
   "cell_type": "code",
   "execution_count": 53,
   "id": "77e599f5",
   "metadata": {},
   "outputs": [
    {
     "data": {
      "text/plain": [
       "3.4722222222222223"
      ]
     },
     "execution_count": 53,
     "metadata": {},
     "output_type": "execute_result"
    }
   ],
   "source": [
    "5000/(60*24)"
   ]
  },
  {
   "cell_type": "code",
   "execution_count": 55,
   "id": "3638ae79",
   "metadata": {},
   "outputs": [
    {
     "data": {
      "text/plain": [
       "(2, 2)     917\n",
       "(2, 3)     902\n",
       "(2, 1)     812\n",
       "(1, 31)    789\n",
       "(2, 6)     776\n",
       "(1, 30)    762\n",
       "(2, 4)      42\n",
       "dtype: int64"
      ]
     },
     "execution_count": 55,
     "metadata": {},
     "output_type": "execute_result"
    }
   ],
   "source": [
    "pd.Series(l).value_counts()"
   ]
  },
  {
   "cell_type": "code",
   "execution_count": 56,
   "id": "ccadafec",
   "metadata": {},
   "outputs": [
    {
     "data": {
      "text/plain": [
       "0.6368055555555555"
      ]
     },
     "execution_count": 56,
     "metadata": {},
     "output_type": "execute_result"
    }
   ],
   "source": [
    "917/(24*60)"
   ]
  },
  {
   "cell_type": "code",
   "execution_count": 61,
   "id": "8e523fec",
   "metadata": {},
   "outputs": [
    {
     "ename": "AttributeError",
     "evalue": "'Agg' object has no attribute 'exchange'",
     "output_type": "error",
     "traceback": [
      "\u001b[0;31m---------------------------------------------------------------------------\u001b[0m",
      "\u001b[0;31mAttributeError\u001b[0m                            Traceback (most recent call last)",
      "Input \u001b[0;32mIn [61]\u001b[0m, in \u001b[0;36m<cell line: 1>\u001b[0;34m()\u001b[0m\n\u001b[0;32m----> 1\u001b[0m \u001b[43maggs\u001b[49m\u001b[43m[\u001b[49m\u001b[38;5;241;43m5\u001b[39;49m\u001b[43m]\u001b[49m\u001b[38;5;241;43m.\u001b[39;49m\u001b[43mexchange\u001b[49m\n",
      "\u001b[0;31mAttributeError\u001b[0m: 'Agg' object has no attribute 'exchange'"
     ]
    }
   ],
   "source": [
    "aggs[5].exchange"
   ]
  },
  {
   "cell_type": "code",
   "execution_count": 75,
   "id": "1d4d4998",
   "metadata": {},
   "outputs": [],
   "source": [
    "file1 = open(\"sp500\",\"r\")"
   ]
  },
  {
   "cell_type": "code",
   "execution_count": 76,
   "id": "961a8b88",
   "metadata": {},
   "outputs": [],
   "source": [
    "r = file1.readlines()"
   ]
  },
  {
   "cell_type": "code",
   "execution_count": 91,
   "id": "95ac2f87",
   "metadata": {},
   "outputs": [],
   "source": [
    "sp500_tickers = [x.split(',')[0] for x in r[1:]]"
   ]
  },
  {
   "cell_type": "code",
   "execution_count": 94,
   "id": "f1138c05",
   "metadata": {},
   "outputs": [],
   "source": [
    "#save(sp500_tickers,'sp500tickers')"
   ]
  },
  {
   "cell_type": "code",
   "execution_count": null,
   "id": "a5be3fa8",
   "metadata": {},
   "outputs": [],
   "source": []
  },
  {
   "cell_type": "code",
   "execution_count": null,
   "id": "d4c3cbd2",
   "metadata": {},
   "outputs": [],
   "source": []
  }
 ],
 "metadata": {
  "kernelspec": {
   "display_name": "Python 3 (ipykernel)",
   "language": "python",
   "name": "python3"
  },
  "language_info": {
   "codemirror_mode": {
    "name": "ipython",
    "version": 3
   },
   "file_extension": ".py",
   "mimetype": "text/x-python",
   "name": "python",
   "nbconvert_exporter": "python",
   "pygments_lexer": "ipython3",
   "version": "3.9.7"
  }
 },
 "nbformat": 4,
 "nbformat_minor": 5
}
