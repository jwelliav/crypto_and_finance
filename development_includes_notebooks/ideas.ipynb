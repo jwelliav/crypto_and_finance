{
 "cells": [
  {
   "cell_type": "markdown",
   "id": "6c450413",
   "metadata": {},
   "source": [
    "Some general things I can try over the next few months : \n",
    "\n",
    "1. Understand Soros's book and try to see if this can be modelled in a conclusive way. \n",
    "\n",
    "2. Crypto survey. \n",
    "a) Collect large amount of data and analyze.\n",
    "b) Isolate when these markets move. \n",
    "c) Understand how correlated different assets are. \n",
    "d) See how to look at on-chain data\n",
    "e) DeFI inflows - on chain activity.\n",
    "f) Building thesis - Avalanche, BTC, ETH....\n",
    "g) Study how trading / volume patterns change over the course of the week/month. \n",
    "\n",
    "3. Look at climate change and see if there is a way to identify climate deviations in the market. \n"
   ]
  },
  {
   "cell_type": "markdown",
   "id": "67d9447a",
   "metadata": {},
   "source": [
    "After reading Quantitative portfolio management : \n",
    "    \n",
    "1. Risk factors for BTC, ETH and other coins - Macro economic, fundamental, statistical \n",
    "2. Download finance data and look at trailing correlations. "
   ]
  },
  {
   "cell_type": "code",
   "execution_count": null,
   "id": "af66124b",
   "metadata": {},
   "outputs": [],
   "source": []
  },
  {
   "cell_type": "code",
   "execution_count": null,
   "id": "bd9fea65",
   "metadata": {},
   "outputs": [],
   "source": []
  },
  {
   "cell_type": "code",
   "execution_count": null,
   "id": "9ee4eff4",
   "metadata": {},
   "outputs": [],
   "source": []
  },
  {
   "cell_type": "code",
   "execution_count": null,
   "id": "f69a8cbc",
   "metadata": {},
   "outputs": [],
   "source": []
  },
  {
   "cell_type": "markdown",
   "id": "d8e4e562",
   "metadata": {},
   "source": [
    "    "
   ]
  }
 ],
 "metadata": {
  "kernelspec": {
   "display_name": "Python 3 (ipykernel)",
   "language": "python",
   "name": "python3"
  },
  "language_info": {
   "codemirror_mode": {
    "name": "ipython",
    "version": 3
   },
   "file_extension": ".py",
   "mimetype": "text/x-python",
   "name": "python",
   "nbconvert_exporter": "python",
   "pygments_lexer": "ipython3",
   "version": "3.9.7"
  }
 },
 "nbformat": 4,
 "nbformat_minor": 5
}
